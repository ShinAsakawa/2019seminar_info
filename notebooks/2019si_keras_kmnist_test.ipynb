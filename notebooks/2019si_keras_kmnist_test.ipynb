{
  "nbformat": 4,
  "nbformat_minor": 0,
  "metadata": {
    "colab": {
      "name": "2019si_keras_kmnist_test.ipynb",
      "version": "0.3.2",
      "provenance": [],
      "private_outputs": true,
      "collapsed_sections": [],
      "include_colab_link": true
    },
    "kernelspec": {
      "name": "python3",
      "display_name": "Python 3"
    }
  },
  "cells": [
    {
      "cell_type": "markdown",
      "metadata": {
        "id": "view-in-github",
        "colab_type": "text"
      },
      "source": [
        "<a href=\"https://colab.research.google.com/github/ShinAsakawa/2019seminar_info/blob/master/notebooks/2019si_keras_kmnist_test.ipynb\" target=\"_parent\"><img src=\"https://colab.research.google.com/assets/colab-badge.svg\" alt=\"Open In Colab\"/></a>"
      ]
    },
    {
      "metadata": {
        "id": "4AJAz86qmPGy",
        "colab_type": "text"
      },
      "cell_type": "markdown",
      "source": [
        "<center>\n",
        "<h1>[Python で 超実習ディープラーニング](https://www.seminar-info.jp/entry/seminars/view/1/4174)</h1>\n",
        "<h3><strong>実践！ 強化学習・画像認識・自然言語処理・ロボティクス</strong></h3>\n",
        "</center>\n",
        "\n",
        "<center>\n",
        "![](https://www.seminar-info.jp/entry/img/logo_ov.jpg)\n",
        "</center>\n",
        "\n",
        "<div align='right'>\n",
        "<a href='mailto:asakawa@ieee.org'>Shin Aasakawa</a>, all rights reserved.<br>\n",
        "Date: 15/Mar/2019<br>\n",
        " MIT license\n",
        "</div>\n",
        "\n",
        "---\n",
        "\n",
        "## 畳込みニューラルネットワークによる日本語古典籍くずし字 kminst の認識実習\n",
        "\n",
        "- kmnist とは日本語のくずし字データセットです。\n",
        "[論文](https://arxiv.org/abs/1812.01718) や [プロジェクトページ](http://codh.rois.ac.jp/kmnist/)\n",
        "の提供している画像認識のためのデータセットです。\n",
        "\n",
        "| File            | Examples | Download (MNIST format)    | Download (NumPy format)      |\n",
        "|-----------------|--------------------|----------------------------|------------------------------|\n",
        "| Training images | 60,000             | [train-images-idx3-ubyte.gz](http://codh.rois.ac.jp/kmnist/dataset/kmnist/train-images-idx3-ubyte.gz) (18MB) | [kmnist-train-imgs.npz](http://codh.rois.ac.jp/kmnist/dataset/kmnist/kmnist-train-imgs.npz) (18MB)   |\n",
        "| Training labels | 60,000             | [train-labels-idx1-ubyte.gz](http://codh.rois.ac.jp/kmnist/dataset/kmnist/train-labels-idx1-ubyte.gz) (30KB) | [kmnist-train-labels.npz](http://codh.rois.ac.jp/kmnist/dataset/kmnist/kmnist-train-labels.npz) (30KB)  |\n",
        "| Testing images  | 10,000             | [t10k-images-idx3-ubyte.gz](http://codh.rois.ac.jp/kmnist/dataset/kmnist/t10k-images-idx3-ubyte.gz) (3MB) | [kmnist-test-imgs.npz](http://codh.rois.ac.jp/kmnist/dataset/kmnist/kmnist-test-imgs.npz) (3MB)   |\n",
        "| Testing labels  | 10,000             | [t10k-labels-idx1-ubyte.gz](http://codh.rois.ac.jp/kmnist/dataset/kmnist/t10k-labels-idx1-ubyte.gz) (5KB)  | [kmnist-test-labels.npz](http://codh.rois.ac.jp/kmnist/dataset/kmnist/kmnist-test-labels.npz) (5KB) |\n",
        "\n",
        "実際のデータを以下に示します\n",
        "\n",
        "<center>\n",
        "![](http://codh.rois.ac.jp/img/kmnist.png)\n",
        "</center>\n",
        "\n",
        "- 一枚の画像が縦横 28 画素。訓練画像が 60,000枚，テスト画像が 10,000 枚あります。\n"
      ]
    },
    {
      "metadata": {
        "id": "6QAjoOuF9fwK",
        "colab_type": "text"
      },
      "cell_type": "markdown",
      "source": [
        "## kmnist データセットのダウンロード"
      ]
    },
    {
      "metadata": {
        "id": "DGkGAwfOgsGy",
        "colab_type": "code",
        "colab": {}
      },
      "cell_type": "code",
      "source": [
        "# 早速ダウンロードしてみましょう\n",
        "import requests\n",
        "\n",
        "kmnist_urllist = ['http://codh.rois.ac.jp/kmnist/dataset/kmnist/kmnist-train-imgs.npz',\n",
        "                'http://codh.rois.ac.jp/kmnist/dataset/kmnist/kmnist-train-labels.npz',\n",
        "                'http://codh.rois.ac.jp/kmnist/dataset/kmnist/kmnist-test-imgs.npz',\n",
        "                'http://codh.rois.ac.jp/kmnist/dataset/kmnist/kmnist-test-labels.npz']\n",
        "\n",
        "for url in kmnist_urllist:\n",
        "  path = url.split('/')[-1]\n",
        "  r = requests.get(url)\n",
        "  with open(path, 'wb') as f:\n",
        "    total_length = int(r.headers.get('content-length'))\n",
        "    print('Downloading {0} - {1} bytes'.format(path, (total_length)))\n",
        "    f.write(r.content)"
      ],
      "execution_count": 0,
      "outputs": []
    },
    {
      "metadata": {
        "id": "djsPhAUIh9O0",
        "colab_type": "code",
        "colab": {}
      },
      "cell_type": "code",
      "source": [
        "# 4 つの .npz ファイルが存在すればダウンロード成功です\n",
        "!ls -l *.npz"
      ],
      "execution_count": 0,
      "outputs": []
    },
    {
      "metadata": {
        "id": "uznDwPI6iLod",
        "colab_type": "code",
        "colab": {}
      },
      "cell_type": "code",
      "source": [
        "# ダウロードしてきたファイルを numpy のデータとして読み込みます\n",
        "import numpy as np\n",
        "\n",
        "# Load the data\n",
        "x_test  = np.load('kmnist-test-imgs.npz')['arr_0']\n",
        "y_test  = np.load('kmnist-test-labels.npz')['arr_0']\n",
        "x_train = np.load('kmnist-train-imgs.npz')['arr_0']\n",
        "y_train = np.load('kmnist-train-labels.npz')['arr_0']"
      ],
      "execution_count": 0,
      "outputs": []
    },
    {
      "metadata": {
        "id": "1oaWuioSwNkK",
        "colab_type": "code",
        "colab": {}
      },
      "cell_type": "code",
      "source": [
        "# データサイズを確認してみましょう\n",
        "for data in [x_test, y_test, x_train, y_train]:\n",
        "  print(data.shape)"
      ],
      "execution_count": 0,
      "outputs": []
    },
    {
      "metadata": {
        "id": "T7AzPmc79o3l",
        "colab_type": "text"
      },
      "cell_type": "markdown",
      "source": [
        "## データの確認"
      ]
    },
    {
      "metadata": {
        "id": "X9VhrKjnlTUQ",
        "colab_type": "code",
        "colab": {}
      },
      "cell_type": "code",
      "source": [
        "# kminst は 10 文字を識別する問題であるため人間にわかりやすいように正解データと対応する\n",
        "# 文字のデータベースを作っておきます\n",
        "\n",
        "labels = 'おきすつなはまやれを'\n",
        "labels_dict = {i:c for i, c in enumerate(labels)}\n",
        "print(labels_dict)"
      ],
      "execution_count": 0,
      "outputs": []
    },
    {
      "metadata": {
        "id": "E-f7Hr6s-CKI",
        "colab_type": "text"
      },
      "cell_type": "markdown",
      "source": [
        "### 任意のデータを表示してみましょう\n",
        "\n",
        "下のセルの最終行の `n=数字` の部分に好みの数字を入れてデータを表示してみましょう\n",
        "\n",
        "何度か数字を入れ替えて試してみましょう"
      ]
    },
    {
      "metadata": {
        "id": "XCFfHZGykrnJ",
        "colab_type": "code",
        "colab": {}
      },
      "cell_type": "code",
      "source": [
        "import matplotlib.pyplot as plt\n",
        "\n",
        "def show(n=0, data=x_train):\n",
        "  if n > len(data):\n",
        "    raise Exception('n は 0 から {0} 以下の整数でなければなりません {1}'.format(n, len(data)))\n",
        "  x = x_train[n]\n",
        "  label = y_train[n]\n",
        "  print('下の画像の正解は「{}」です'.format(labels_dict[label]))\n",
        "  plt.figure(figsize=(1, 1))\n",
        "  plt.axis('off')\n",
        "  plt.imshow(x,cmap='gray')\n",
        "  \n",
        "show(n=8)"
      ],
      "execution_count": 0,
      "outputs": []
    },
    {
      "metadata": {
        "id": "C0dUUeGhnBRG",
        "colab_type": "code",
        "colab": {}
      },
      "cell_type": "code",
      "source": [
        "# 複数のデータを一度に表示してみましょう。下の数字を入れ替えて試してみてください。\n",
        "# それぞれの意味は\n",
        "# start: データを表示する最初の番号\n",
        "# w: 一行あたりの文字数\n",
        "# h: 一列あたりの文字数\n",
        "start = 20000\n",
        "w = 10\n",
        "h = 4\n",
        "idx = 103\n",
        "canvas = np.zeros((28*h, w*28))\n",
        "for i in range(h):\n",
        "    for j in range(w):\n",
        "        canvas[i*28:(i+1)*28, j*28:(j+1)*28] = x_train[idx+start].reshape((28, 28))\n",
        "        idx += 1\n",
        "plt.figure(figsize=(w, h))\n",
        "plt.axis('off')\n",
        "plt.imshow(canvas, cmap='gray')\n",
        "#plt.title('MNIST handwritten digits')\n",
        "plt.show()\n",
        "\n",
        "for i in range(h):\n",
        "  for j in range(w):\n",
        "    print(labels_dict[y_train[start + j + i * w]], end=' ')\n",
        "  print()"
      ],
      "execution_count": 0,
      "outputs": []
    },
    {
      "metadata": {
        "id": "_1rjYr3HqUSu",
        "colab_type": "text"
      },
      "cell_type": "markdown",
      "source": [
        "## 簡単な2層のニューラルネットワークを作ってみましょう\n",
        "\n",
        "### まず keras などを輸入 `import` して準備します"
      ]
    },
    {
      "metadata": {
        "id": "1AY4-blwkXAM",
        "colab_type": "code",
        "colab": {}
      },
      "cell_type": "code",
      "source": [
        "import os\n",
        "import matplotlib.pyplot as plt\n",
        "import numpy as np\n",
        "import random\n",
        "\n",
        "import keras\n",
        "from keras.models import Sequential\n",
        "from keras.layers import Dense, Dropout\n",
        "from keras.layers import Conv2D, MaxPooling2D, Flatten\n",
        "\n",
        "from keras.layers import Activation"
      ],
      "execution_count": 0,
      "outputs": []
    },
    {
      "metadata": {
        "id": "Vtk6T9a1ka0G",
        "colab_type": "code",
        "colab": {}
      },
      "cell_type": "code",
      "source": [
        "model = Sequential()\n",
        "model.add(Dense(100, activation='sigmoid', input_dim=784)) # = 28 x 28 \n",
        "model.add(Dense(100, activation='sigmoid'))\n",
        "model.add(Dense(10, activation='softmax'))\n",
        "model.summary()"
      ],
      "execution_count": 0,
      "outputs": []
    },
    {
      "metadata": {
        "id": "-FrRe4JskwhS",
        "colab_type": "code",
        "colab": {}
      },
      "cell_type": "code",
      "source": [
        "num_classes = 10\n",
        "\n",
        "# kmnist データを変形します。\n",
        "# 訓練データは 60000行 784列 である必要があります\n",
        "# テストデータは 10000行 784列です\n",
        "x_train = x_train.reshape(60000, 28*28)\n",
        "x_test = x_test.reshape(10000, 28*28)\n",
        "\n",
        "# 64 ビットにはしません。なぜなら GPU での計算は 32 ビットに限定されるからです\n",
        "x_train = x_train.astype('float32')\n",
        "x_test = x_test.astype('float32')\n",
        "\n",
        "# データの最大値で割って 0 から 1 までにしておきます\n",
        "x_train /= 255\n",
        "x_test /= 255\n",
        "\n",
        "# keras で扱えるように正解ラベルをクラスベクトルに変換します\n",
        "# この場合 ワンホットベクトルにすることを意味します\n",
        "y_train = keras.utils.to_categorical(y_train, num_classes)\n",
        "y_test = keras.utils.to_categorical(y_test, num_classes)\n",
        "\n",
        "print('%d train samples, %d test samples'%(x_train.shape[0], x_test.shape[0]))\n",
        "print(\"training data shape: \", x_train.shape, y_train.shape)\n",
        "print(\"test data shape: \", x_test.shape, y_test.shape)"
      ],
      "execution_count": 0,
      "outputs": []
    },
    {
      "metadata": {
        "id": "IEBnDEK7lE9J",
        "colab_type": "code",
        "colab": {}
      },
      "cell_type": "code",
      "source": [
        "# 損失関数 `loss`, 最適化手法 `optimizer`, 損失関数の計算手法を指定して\n",
        "# 分析の設定を行います\n",
        "model.compile(loss='categorical_crossentropy',\n",
        "              optimizer='sgd',\n",
        "              metrics=['accuracy'])"
      ],
      "execution_count": 0,
      "outputs": []
    },
    {
      "metadata": {
        "id": "lW3nwELLCYCF",
        "colab_type": "code",
        "colab": {}
      },
      "cell_type": "code",
      "source": [
        "# 実際の訓練には入力データ，教師データ，ミニバッチのサイズ，エポック数，評価データを指定して\n",
        "# 訓練を実施してみましょう\n",
        "model.fit(x_train, y_train,\n",
        "          batch_size=128,\n",
        "          epochs=30,\n",
        "          validation_data=(x_test, y_test))"
      ],
      "execution_count": 0,
      "outputs": []
    },
    {
      "metadata": {
        "id": "0F6fMeEHqHrf",
        "colab_type": "text"
      },
      "cell_type": "markdown",
      "source": [
        "## 訓練結果を表示してみます"
      ]
    },
    {
      "metadata": {
        "id": "1A6ppMpdleJJ",
        "colab_type": "code",
        "colab": {}
      },
      "cell_type": "code",
      "source": [
        "score = model.evaluate(x_test, y_test, verbose=0)\n",
        "print('Test loss:', score[0])\n",
        "print('Test accuracy:', score[1])"
      ],
      "execution_count": 0,
      "outputs": []
    },
    {
      "metadata": {
        "id": "1ikVNhPjmIbE",
        "colab_type": "text"
      },
      "cell_type": "markdown",
      "source": [
        "# 層を深くしてみます"
      ]
    },
    {
      "metadata": {
        "id": "QphuGK5rHPkr",
        "colab_type": "code",
        "colab": {}
      },
      "cell_type": "code",
      "source": [
        "from keras import backend as K\n",
        "\n",
        "# input image dimensions\n",
        "img_rows, img_cols = 28, 28\n",
        "\n",
        "if K.image_data_format() == 'channels_first':\n",
        "    x_train = x_train.reshape(x_train.shape[0], 1, img_rows, img_cols)\n",
        "    x_test = x_test.reshape(x_test.shape[0], 1, img_rows, img_cols)\n",
        "    input_shape = (1, img_rows, img_cols)\n",
        "else:\n",
        "    x_train = x_train.reshape(x_train.shape[0], img_rows, img_cols, 1)\n",
        "    x_test = x_test.reshape(x_test.shape[0], img_rows, img_cols, 1)\n",
        "    input_shape = (img_rows, img_cols, 1)"
      ],
      "execution_count": 0,
      "outputs": []
    },
    {
      "metadata": {
        "id": "8fwA2YOCIJy6",
        "colab_type": "code",
        "colab": {}
      },
      "cell_type": "code",
      "source": [
        "#x_train = x_train.reshape(60000, 28*28)\n",
        "#x_test = x_test.reshape(10000, 28*28)\n",
        "print(x_train.shape)"
      ],
      "execution_count": 0,
      "outputs": []
    },
    {
      "metadata": {
        "id": "IiVudWI_l65B",
        "colab_type": "code",
        "colab": {}
      },
      "cell_type": "code",
      "source": [
        "model = Sequential()\n",
        "model.add(Conv2D(64, (3, 3), padding='same', input_shape=(28,28,1)))\n",
        "model.add(Activation('relu'))\n",
        "model.add(MaxPooling2D(pool_size=(2, 2)))\n",
        "model.add(Conv2D(32, (3, 3), padding='same'))\n",
        "model.add(Activation('relu'))\n",
        "model.add(MaxPooling2D(pool_size=(2, 2)))\n",
        "model.add(Flatten())\n",
        "model.add(Dense(100))\n",
        "model.add(Activation('relu'))\n",
        "model.add(Dense(num_classes))\n",
        "model.add(Activation('softmax'))\n",
        "model.summary()"
      ],
      "execution_count": 0,
      "outputs": []
    },
    {
      "metadata": {
        "id": "lWdsqaBdpyz4",
        "colab_type": "code",
        "colab": {}
      },
      "cell_type": "code",
      "source": [
        "print('%d train samples, %d test samples'%(x_train.shape[0], x_test.shape[0]))\n",
        "print(\"training data shape: \", x_train.shape, y_train.shape)\n",
        "print(\"test data shape: \", x_test.shape, y_test.shape)"
      ],
      "execution_count": 0,
      "outputs": []
    },
    {
      "metadata": {
        "id": "vGYMHV0op8uK",
        "colab_type": "code",
        "colab": {}
      },
      "cell_type": "code",
      "source": [
        "model.compile(loss='categorical_crossentropy',\n",
        "              optimizer='sgd',\n",
        "              metrics=['accuracy'])\n",
        "\n",
        "model.fit(x_train, y_train,\n",
        "          batch_size=128,\n",
        "          epochs=10,\n",
        "          validation_data=(x_test, y_test))"
      ],
      "execution_count": 0,
      "outputs": []
    },
    {
      "metadata": {
        "id": "qxnHeXL1qbTI",
        "colab_type": "text"
      },
      "cell_type": "markdown",
      "source": [
        "## 結果を表示してみます"
      ]
    },
    {
      "metadata": {
        "id": "E5LMO2sVp_zc",
        "colab_type": "code",
        "colab": {}
      },
      "cell_type": "code",
      "source": [
        "score = model.evaluate(x_test, y_test, verbose=0)\n",
        "print('Test loss:', score[0])\n",
        "print('Test accuracy:', score[1])"
      ],
      "execution_count": 0,
      "outputs": []
    },
    {
      "metadata": {
        "id": "lmD82W2XBBpz",
        "colab_type": "code",
        "colab": {}
      },
      "cell_type": "code",
      "source": [
        ""
      ],
      "execution_count": 0,
      "outputs": []
    }
  ]
}