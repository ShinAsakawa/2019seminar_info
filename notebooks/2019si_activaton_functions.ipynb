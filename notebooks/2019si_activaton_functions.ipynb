{
  "nbformat": 4,
  "nbformat_minor": 0,
  "metadata": {
    "colab": {
      "name": "2019si_activaton_functions.ipynb",
      "version": "0.3.2",
      "provenance": [],
      "private_outputs": true,
      "collapsed_sections": [],
      "include_colab_link": true
    },
    "kernelspec": {
      "name": "python3",
      "display_name": "Python 3"
    }
  },
  "cells": [
    {
      "cell_type": "markdown",
      "metadata": {
        "id": "view-in-github",
        "colab_type": "text"
      },
      "source": [
        "<a href=\"https://colab.research.google.com/github/ShinAsakawa/2019seminar_info/blob/master/notebooks/2019si_activaton_functions.ipynb\" target=\"_parent\"><img src=\"https://colab.research.google.com/assets/colab-badge.svg\" alt=\"Open In Colab\"/></a>"
      ]
    },
    {
      "metadata": {
        "id": "MRbRgeWlpnVG",
        "colab_type": "text"
      },
      "cell_type": "markdown",
      "source": [
        "<center>\n",
        "<h1>[Python で 超実習ディープラーニング](https://www.seminar-info.jp/entry/seminars/view/1/4174)</h1>\n",
        "<h3><strong>実践！ 強化学習・画像認識・自然言語処理・ロボティクス</strong></h3>\n",
        "</center>\n",
        "\n",
        "<center>\n",
        "![](https://www.seminar-info.jp/entry/img/logo_ov.jpg)\n",
        "</center>\n",
        "\n",
        "<div align='right'>\n",
        "<a href='mailto:asakawa@ieee.org'>Shin Aasakawa</a>, all rights reserved.<br>\n",
        "Date: 15/Mar/2019<br>\n",
        " MIT license\n",
        "</div>"
      ]
    },
    {
      "metadata": {
        "id": "HAKBgu4xu4Pw",
        "colab_type": "code",
        "colab": {}
      },
      "cell_type": "code",
      "source": [
        "import numpy as np\n",
        "import matplotlib.pyplot as plt\n",
        "%matplotlib inline\n",
        "\n",
        "## [Original](https://github.com/alrojo/tensorflow-tutorial/blob/master/lab1_FFN/lab1_FFN.ipynb)\n",
        "\n",
        "# PLOT OF DIFFERENT OUTPUT USNITS\n",
        "x = np.linspace(-6, 6, 100)\n",
        "relu = lambda x: np.maximum(0, x)\n",
        "leaky_relu = lambda x: np.maximum(0, x) + 0.1*np.minimum(0, x) \n",
        "elu = lambda x: (x > 0)*x + (1 - (x > 0))*(np.exp(x) - 1) \n",
        "sigmoid = lambda x: (1+np.exp(-x))**(-1)\n",
        "def softmax(w, t = 1.0):\n",
        "    e = np.exp(w)\n",
        "    dist = e / np.sum(e)\n",
        "    return dist\n",
        "x_softmax = softmax(x)\n",
        "\n",
        "plt.figure(figsize=(6,6))\n",
        "plt.plot(x, relu(x), label='ReLU', lw=2)\n",
        "plt.plot(x, leaky_relu(x), label='Leaky ReLU',lw=2)\n",
        "plt.plot(x, elu(x), label='Elu', lw=2)\n",
        "plt.plot(x, sigmoid(x), label='Sigmoid',lw=2)\n",
        "plt.plot(x, np.tanh(x), label='tanh', lw=2)  # added by Asakawa\n",
        "plt.legend(loc=2, fontsize=16)\n",
        "plt.title('Non-linearities', fontsize=20)\n",
        "plt.ylim([-2, 5])\n",
        "plt.xlim([-6, 6])\n",
        "\n",
        "# softmax\n",
        "# assert that all class probablities sum to one\n",
        "print(np.sum(x_softmax))\n",
        "assert abs(1.0 - x_softmax.sum()) < 1e-8\n"
      ],
      "execution_count": 0,
      "outputs": []
    },
    {
      "metadata": {
        "id": "J4L47MM5u9Xb",
        "colab_type": "code",
        "colab": {}
      },
      "cell_type": "code",
      "source": [
        ""
      ],
      "execution_count": 0,
      "outputs": []
    }
  ]
}