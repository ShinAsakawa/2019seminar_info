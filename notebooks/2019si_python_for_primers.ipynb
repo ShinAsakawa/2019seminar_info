{
  "nbformat": 4,
  "nbformat_minor": 0,
  "metadata": {
    "colab": {
      "name": "2019si_python_for_primers.ipynb",
      "version": "0.3.2",
      "provenance": [],
      "private_outputs": true,
      "collapsed_sections": [],
      "include_colab_link": true
    },
    "kernelspec": {
      "name": "python3",
      "display_name": "Python 3"
    },
    "accelerator": "GPU"
  },
  "cells": [
    {
      "cell_type": "markdown",
      "metadata": {
        "id": "view-in-github",
        "colab_type": "text"
      },
      "source": [
        "<a href=\"https://colab.research.google.com/github/ShinAsakawa/2019seminar_info/blob/master/notebooks/2019si_python_for_primers.ipynb\" target=\"_parent\"><img src=\"https://colab.research.google.com/assets/colab-badge.svg\" alt=\"Open In Colab\"/></a>"
      ]
    },
    {
      "metadata": {
        "id": "SQHbuPOjLGpC",
        "colab_type": "text"
      },
      "cell_type": "markdown",
      "source": [
        "<center>\n",
        "<h1>[Python で 超実習ディープラーニング](https://www.seminar-info.jp/entry/seminars/view/1/4174)</h1>\n",
        "<h3><strong>実践！ 強化学習・画像認識・自然言語処理・ロボティクス</strong></h3>\n",
        "</center>\n",
        "\n",
        "<center>\n",
        "![](https://www.seminar-info.jp/entry/img/logo_ov.jpg)\n",
        "</center>\n",
        "\n",
        "<div align='right'>\n",
        "<a href='mailto:asakawa@ieee.org'>Shin Aasakawa</a>, all rights reserved.<br>\n",
        "Date: 15/Mar/2019<br>\n",
        " MIT license\n",
        "</div>\n",
        "---\n",
        "\n",
        "## Python の初歩\n",
        "\n"
      ]
    },
    {
      "metadata": {
        "id": "fpxpHRvdQ2Sd",
        "colab_type": "code",
        "colab": {}
      },
      "cell_type": "code",
      "source": [
        "# -*- coding:utf8 -*-\n",
        "from __future__ import print_function"
      ],
      "execution_count": 0,
      "outputs": []
    },
    {
      "metadata": {
        "id": "71-iaWlYLMiA",
        "colab_type": "text"
      },
      "cell_type": "markdown",
      "source": [
        "Python は高級言語であり動的マルチパラダイムのプログラミング言語である。\n",
        "Python のコードは強力なアイデアを数行で表現できる擬似言語に喩えられる。\n",
        "例えば古典的なクイックソートアルゴリズムは Python では以下のようになる:\n"
      ]
    },
    {
      "metadata": {
        "id": "cAqTyERmKoxy",
        "colab_type": "code",
        "colab": {}
      },
      "cell_type": "code",
      "source": [
        "def quicksort(arr):\n",
        "    if len(arr) <= 1:\n",
        "        return arr\n",
        "    pivot = arr[int(len(arr) / 2)]\n",
        "    left = [x for x in arr if x < pivot]\n",
        "    middle = [x for x in arr if x == pivot]\n",
        "    right = [x for x in arr if x > pivot]\n",
        "    return quicksort(left) + middle + quicksort(right)\n",
        "\n",
        "print(quicksort([3,6,8,10,1,2,1])) # 印字( \"[1, 1, 2, 3, 6, 8, 10]\")        "
      ],
      "execution_count": 0,
      "outputs": []
    },
    {
      "metadata": {
        "id": "zjZfoRiSLVw4",
        "colab_type": "text"
      },
      "cell_type": "markdown",
      "source": [
        "## Python のバージョン\n",
        "\n",
        "現在 Python は 2 種類のバージョンがサポートされている。2.7 系 と 3 系 である。\n",
        "Python 3.0 以来，前方互換性が廃棄されて 2.7 系 と 3 系では互いに交換可能でない。\n",
        "本稿全コード 2.7 で動作する。\n",
        "\n",
        "Python のバージョンを調べるにはコマンドラインから `python –version` とするとチェックできる。\n",
        "\n",
        "---\n",
        "\n",
        "## 基本データ型\n",
        "\n",
        "他の多くの言語と同じくPythonには`整数型`, `浮動小数点型`,\n",
        "`ブール(真偽)型`, `文字列型`という基本データ型がある。\n",
        "これらのデータ型は他のプログラミング言語と類似している。\n",
        "\n",
        "### 数値\n",
        "整数型と浮動小数点型は他言語と同様に動作する。\n",
        "\n"
      ]
    },
    {
      "metadata": {
        "id": "wwvtndhSBjuA",
        "colab_type": "code",
        "colab": {}
      },
      "cell_type": "code",
      "source": [
        "x = 3\n",
        "print(type(x)) # 印字 \"<type 'int'>\"\n",
        "print(x)       # 印字\"3\"\n",
        "print(x + 1)   # 加算; 印字 \"4\"\n",
        "print(x - 1)   # 減算; 印字 \"2\"\n",
        "print(x * 2)   # 乗算; 印字 \"6\"\n",
        "print(x ** 2)  # 指数; 印字 \"9\"\n",
        "x += 1\n",
        "print(x)       # 印字 \"4\"\n",
        "x *= (2)\n",
        "print(x)       # 印字 \"8\"\n",
        "y = 2.5\n",
        "print(type(y)) # 印字 \"<type 'float'>\"\n",
        "print(y, y + 1, y * 2, y ** 2) # 印字 \"2.5 3.5 5.0 6.25\"\n"
      ],
      "execution_count": 0,
      "outputs": []
    },
    {
      "metadata": {
        "id": "HawSLoqBLm9X",
        "colab_type": "text"
      },
      "cell_type": "markdown",
      "source": [
        "他言語と異なりPythonには増分`x++`，減分`x–`を行う単項演算子は ない。\n",
        "\n",
        "Pythonには倍精度整数，複素数型も標準実装されている。詳細は\n",
        "<https://docs.python.org/2/library/stdtypes.html#numeric-types-int-float-long-complex>に掲載されている。\n",
        "\n",
        "ブール型(真偽型):  Pythonは2値論理演算用の記号([`&&`]\n",
        "    [`||`], など)が用意されている。\n"
      ]
    },
    {
      "metadata": {
        "id": "JT4cwFuUBmbi",
        "colab_type": "code",
        "colab": {}
      },
      "cell_type": "code",
      "source": [
        "t = True\n",
        "f = False\n",
        "print(type(t)) # 印字 \"<type 'bool'>\"\n",
        "print(t and f) # 論理積 AND; 印字 \"False\"\n",
        "print(t or f)  # 論理和 OR; 印字 \"True\"\n",
        "print(not t)   # 論理否定 NOT; 印字 \"False\"\n",
        "print(t != f)  # 排他的論理和 XOR; 印字 \"True\" "
      ],
      "execution_count": 0,
      "outputs": []
    },
    {
      "metadata": {
        "id": "-352MV8jLr99",
        "colab_type": "text"
      },
      "cell_type": "markdown",
      "source": [
        "### 文字列\n",
        " Pythonは文字列の扱いに優れる\n"
      ]
    },
    {
      "metadata": {
        "id": "qsrcR5YvEj8Q",
        "colab_type": "code",
        "colab": {}
      },
      "cell_type": "code",
      "source": [
        "hello = 'hello'              # 文字列リテラルはシングルクォート\n",
        "world = \"world\"              # あるいはダブルクォート。両方可能\n",
        "print(hello)                 # 印字 \"hello\"\n",
        "print(len(hello))            # 文字列長の印字; 印字 \"5\"\n",
        "hw = hello + ' ' + world     # 文字列連結\n",
        "print(hw)                    # 印字 \"hello world\"\n",
        "hw12 = '%s %s %d' % (hello, world, 12)  # sprintf 形式のフォーマット\n",
        "print(hw12)                  # 印字 \"hello world 12\""
      ],
      "execution_count": 0,
      "outputs": []
    },
    {
      "metadata": {
        "id": "pNBjE9VALutE",
        "colab_type": "text"
      },
      "cell_type": "markdown",
      "source": [
        "文字列オブジェクトは有益なメソッド群である。"
      ]
    },
    {
      "metadata": {
        "id": "7cgzvyhNBp8R",
        "colab_type": "code",
        "colab": {}
      },
      "cell_type": "code",
      "source": [
        "s = \"hello\"\n",
        "print(s.capitalize())      # 文字列の語頭の大文字化; 印字 \"Hello\"\n",
        "print(s.upper())           # 文字列の大文字化; 印字 \"HELLO\"\n",
        "print(s.rjust(7))          # 文字列の右寄せ, 空白で埋まる; 印字 \"  hello\"\n",
        "print(s.center(7))         # 文字列のセンタリング，空白で埋める; 印字 \" hello \"\n",
        "print(s.replace('l', '(ell)'))  # 部分文字列の置換; 印字 \"he(ell)(ell)o\"\n",
        "print('  world '.strip())  # 空白の除去; 印字 \"world\""
      ],
      "execution_count": 0,
      "outputs": []
    },
    {
      "metadata": {
        "id": "Y9aNSlfiL0Vj",
        "colab_type": "text"
      },
      "cell_type": "markdown",
      "source": [
        "全文字列メソッドは <https://docs.python.org/2/library/stdtypes.html#string-methods> に記載されている。\n",
        "\n",
        "### コンテナ\n",
        "\n",
        "Python にはリスト，辞書，集合，タプルというコンテナが標準実装されている。\n",
        "\n",
        "### リスト\n",
        "\n",
        "リストは配列のPython実装であるが，サイズ可変，かつ，異なる要素を持つことが\n",
        "できる。"
      ]
    },
    {
      "metadata": {
        "id": "5PJNB9hoBxej",
        "colab_type": "code",
        "colab": {}
      },
      "cell_type": "code",
      "source": [
        "xs = [3, 1, 2]      # リストの作成\n",
        "print(xs, xs[2])    # 印字 \"[3, 1, 2] 2\"\n",
        "print(xs[-1])       # 負の指定子はリスト末端からの計数; 印字 \"2\"\n",
        "xs[2] = 'foo'       # リストには異なる要素を含むことができる\n",
        "print(xs)           # 印字 \"[3, 1, 'foo']\"\n",
        "xs.append('bar')    # リスト末に新要素を追加\n",
        "print(xs)           # 印字\n",
        "x = xs.pop()        # リストの最終要素取り除きその値を返す\n",
        "print(x, xs)        # 印字 \"bar [3, 1, 'foo']\"\n"
      ],
      "execution_count": 0,
      "outputs": []
    },
    {
      "metadata": {
        "id": "UfGwH-26MIL5",
        "colab_type": "text"
      },
      "cell_type": "markdown",
      "source": [
        "上と同様に血みどろの全リストの詳細が <https://docs.python.org/2/tutorial/datastructures.html#more-on-lists> に記載されている。\n",
        "\n",
        "### スライス:\n",
        "\n",
        "Python には一旦リストにアクセスすれば，その下位リストへ簡便にアクセスする記法がある。これをスライスと呼ぶ。"
      ]
    },
    {
      "metadata": {
        "id": "W_ihSU2-B24g",
        "colab_type": "code",
        "colab": {}
      },
      "cell_type": "code",
      "source": [
        "nums = list(range(5)) # range は組み込み関数で整数からなるリストを生成する\n",
        "print(nums)           # 印字 \"[0, 1, 2, 3, 4]\"\n",
        "print(nums[2:4])      # 2番目の要素から4番目未満のスライス; 印字 \"[2, 3]\"\n",
        "print(nums[2:])       # 2番目から最後までのスライス; 印字 \"[2, 3, 4]\"\n",
        "print(nums[:2])       # 先頭要素から指定子2までの要素をスライス; 印字 \"[0, 1]\"\n",
        "print(nums[:])        # リスト全体のスライスを得る; 印字 \"[0, 1, 2, 3, 4]\"\n",
        "print(nums[:-1])      # スライス指定子には負値もとることができる; 印字 \"[0, 1, 2, 3]\"\n",
        "nums[2:4] = [8, 9]    # スライスして新しい値を割り当てる\n",
        "print(nums)           # 印字 \"[0, 1, 8, 8, 4]\""
      ],
      "execution_count": 0,
      "outputs": []
    },
    {
      "metadata": {
        "id": "cYLMtQI-MPOL",
        "colab_type": "text"
      },
      "cell_type": "markdown",
      "source": [
        "NumPyの配列の項においてスライシングについて再び触れることとする。\n",
        "\n",
        "### ループ: \n",
        "\n",
        "以下のようにリストの要素を繰り返すことができる。\n"
      ]
    },
    {
      "metadata": {
        "id": "KTH1BMC2B8YP",
        "colab_type": "code",
        "colab": {}
      },
      "cell_type": "code",
      "source": [
        "animals = ['cat', 'dog', 'monkey']\n",
        "for animal in animals:\n",
        "    print(animal)\n",
        "    # 各行に印字 \"cat\", \"dog\", \"monkey\""
      ],
      "execution_count": 0,
      "outputs": []
    },
    {
      "metadata": {
        "id": "toxASNDuMTIJ",
        "colab_type": "text"
      },
      "cell_type": "markdown",
      "source": [
        "あるループ内で各要素のインデックスを参照したければ，繰り返し内部で組み込み\n",
        "関数[`enumerate`]を使えば良い。"
      ]
    },
    {
      "metadata": {
        "id": "RtXTOiWtCBk3",
        "colab_type": "code",
        "colab": {}
      },
      "cell_type": "code",
      "source": [
        "animals = ['cat', 'dog', 'monkey']\n",
        "for idx, animal in enumerate(animals):\n",
        "    print('#%d: %s' % (idx + 1, animal))\n",
        "    # 印字行毎に \"#1: cat\", \"#2: dog\", \"#3: monkey\""
      ],
      "execution_count": 0,
      "outputs": []
    },
    {
      "metadata": {
        "id": "agAPbZ1UMWeC",
        "colab_type": "text"
      },
      "cell_type": "markdown",
      "source": [
        "### リスト内包表記: \n",
        "プログラミングにおいてはある型のデータを別の型へ変換した\n",
        "い場合が多い。自乗を計算するコードを以下に示す:"
      ]
    },
    {
      "metadata": {
        "id": "9U_-O5xXCRP0",
        "colab_type": "code",
        "colab": {}
      },
      "cell_type": "code",
      "source": [
        "nums = [0, 1, 2, 3, 4]\n",
        "squares = []\n",
        "for x in nums:\n",
        "    squares.append(x ** 2)\n",
        "print(squares)   # 印字 [0, 1, 4, 9, 16]"
      ],
      "execution_count": 0,
      "outputs": []
    },
    {
      "metadata": {
        "id": "ODHH7ci-MafK",
        "colab_type": "text"
      },
      "cell_type": "markdown",
      "source": [
        "**リスト内包表記** を使えばより簡単なコードが書ける:"
      ]
    },
    {
      "metadata": {
        "id": "ojtoprSpCUDY",
        "colab_type": "code",
        "colab": {}
      },
      "cell_type": "code",
      "source": [
        "nums = [0, 1, 2, 3, 4]\n",
        "squares = [x ** 2 for x in nums]\n",
        "print(squares)   # 印字 [0, 1, 4, 9, 16]"
      ],
      "execution_count": 0,
      "outputs": []
    },
    {
      "metadata": {
        "id": "GSVPX7NgMeYo",
        "colab_type": "text"
      },
      "cell_type": "markdown",
      "source": [
        "### 辞書:\n",
        "\n",
        "Java の Map や Javascript のオブジェクトと同様，辞書とは，キー値とペア値を 集めたものである。"
      ]
    },
    {
      "metadata": {
        "id": "SYQ9x-1gCeLo",
        "colab_type": "code",
        "colab": {}
      },
      "cell_type": "code",
      "source": [
        "d = {'cat': 'cute', 'dog': 'furry'}  # データから辞書を作成\n",
        "print(d['cat'])           # 辞書の項目から内容を表示; 印字 \"cute\"\n",
        "print('cat' in d)         # 辞書内を検索しキーの存在を返す; 印字 \"True\"\n",
        "d['fish'] = 'wet'         # 新項目を追加\n",
        "print(d['fish'])          # 印字 \"wet\"\n",
        "# print(d['monkey'])      # 辞書 d からキー'monkey'を検索。存在しないとキーエラー\n",
        "print(d.get('monkey', 'N/A'))  # 辞書の検索デフォルト値付き; 印字 \"N/A\"\n",
        "print(d.get('fish', 'N/A'))    # 辞書の検索デフォルト値付き; 印字 \"wet\"\n",
        "del(d['fish'])                 # 辞書内の項目を削除\n",
        "print(d.get('fish', 'N/A'))    # \"fish\" は辞書にないので \"N/A\""
      ],
      "execution_count": 0,
      "outputs": []
    },
    {
      "metadata": {
        "id": "bZGJ36vLMinB",
        "colab_type": "text"
      },
      "cell_type": "markdown",
      "source": [
        "辞書についてもウェブ上に文書が掲載されている。\n",
        "\n",
        "### ループ:\n",
        "辞書のキーを繰り返す簡便法がループである:\n"
      ]
    },
    {
      "metadata": {
        "id": "uhdJi7aCCkC3",
        "colab_type": "code",
        "colab": {}
      },
      "cell_type": "code",
      "source": [
        "d = {'person': 2, 'cat': 4, 'spider': 8}\n",
        "for animal in d:\n",
        "    legs = d[animal]\n",
        "    print('A %s has %d legs' % (animal, legs))\n",
        "    # 印字 \"A person has 2 legs\", \"A spider has 8 legs\", \"A cat has 4 legs\""
      ],
      "execution_count": 0,
      "outputs": []
    },
    {
      "metadata": {
        "id": "D70VtujUMl3-",
        "colab_type": "text"
      },
      "cell_type": "markdown",
      "source": [
        "辞書の各項目に対応する値を取り出すには `iteritems` メソッドを用いる:\n"
      ]
    },
    {
      "metadata": {
        "id": "qGUK-j0OCoED",
        "colab_type": "code",
        "colab": {}
      },
      "cell_type": "code",
      "source": [
        "d = {'person': 2, 'cat': 4, 'spider': 8}\n",
        "for animal, legs in d.items():\n",
        "    print('A %s has %d legs' % (animal, legs))\n",
        "    # 印字 \"A person has 2 legs\", \"A spider has 8 legs\", \"A cat has 4 legs\""
      ],
      "execution_count": 0,
      "outputs": []
    },
    {
      "metadata": {
        "id": "STecXQjmMtkQ",
        "colab_type": "text"
      },
      "cell_type": "markdown",
      "source": [
        "### 辞書内包表記:\n",
        "\n",
        "リスト内包表記と同様，辞書内包表記にも簡便な方法が存在する。以下の例のとおり:\n"
      ]
    },
    {
      "metadata": {
        "id": "AwpFtarPCrMZ",
        "colab_type": "code",
        "colab": {}
      },
      "cell_type": "code",
      "source": [
        "nums = [0, 1, 2, 3, 4]\n",
        "even_num_to_square = {x: x ** 2 for x in nums if x % 2 == 0}\n",
        "print(even_num_to_square)  # 印字 \"{0: 0, 2: 4, 4: 16}\""
      ],
      "execution_count": 0,
      "outputs": []
    },
    {
      "metadata": {
        "id": "sMzo1_RVCxJR",
        "colab_type": "code",
        "colab": {}
      },
      "cell_type": "code",
      "source": [
        "nums = [0, 1, 2, 3, 4]\n",
        "even_num_to_square = {x: x ** 2 for x in nums if x % 2 == 0}\n",
        "print(even_num_to_square)  # 印字 \"{0: 0, 2: 4, 4: 16}\""
      ],
      "execution_count": 0,
      "outputs": []
    },
    {
      "metadata": {
        "id": "NyjS30laMz9Y",
        "colab_type": "text"
      },
      "cell_type": "markdown",
      "source": [
        "### 集合:\n",
        "\n",
        "集合とは異なる要素を持つ順番を持たないデータの集まりである。以下の例を参照:\n"
      ]
    },
    {
      "metadata": {
        "id": "DvR2-JLlFWKJ",
        "colab_type": "code",
        "colab": {}
      },
      "cell_type": "code",
      "source": [
        "animals = {'cat', 'dog'}\n",
        "print('cat' in animals)   # 集合内の要素の存在の有無のチェック; 印字 \"True\"\n",
        "print('fish' in animals)  # 印字 \"False\"\n",
        "animals.add('fish')       # 集合に要素を追加\n",
        "print('fish' in animals)  # 印字 \"True\"\n",
        "print(len(animals))       # 集合の要素数を返す; 印字 \"3\"\n",
        "animals.add('cat')        # 集合に既存の要素を加えても何も起きない\n",
        "print(len(animals))       # 印字 \"3\"\n",
        "animals.remove('cat')     # 集合から要素を削除\n",
        "print(len(animals))       # 印字 \"2\""
      ],
      "execution_count": 0,
      "outputs": []
    },
    {
      "metadata": {
        "id": "Y8DmJO68NAVG",
        "colab_type": "text"
      },
      "cell_type": "markdown",
      "source": [
        "今までと同じく，集合の全てについて記述した文書が上梓されている。\n",
        "\n",
        "### 繰り返し: "
      ]
    },
    {
      "metadata": {
        "id": "3IkdRldvFYuI",
        "colab_type": "code",
        "colab": {}
      },
      "cell_type": "code",
      "source": [
        "animals = {'cat', 'dog', 'fish'}\n",
        "for idx, animal in enumerate(animals):\n",
        "    print('#%d: %s' % (idx + 1, animal))\n",
        "    # 印字 \"#1: fish\", \"#2: dog\", \"#3: cat\""
      ],
      "execution_count": 0,
      "outputs": []
    },
    {
      "metadata": {
        "id": "JXf1lo5LNFeg",
        "colab_type": "text"
      },
      "cell_type": "markdown",
      "source": [
        "### 集合内包表記: \n",
        "\n",
        "リストや辞書と同様，集合内包にも簡易記法が存在する:"
      ]
    },
    {
      "metadata": {
        "id": "w8ykZKzmFbHo",
        "colab_type": "code",
        "colab": {}
      },
      "cell_type": "code",
      "source": [
        "from math import sqrt\n",
        "nums = {int(sqrt(x)) for x in range(30)}\n",
        "print(nums)  # 印字 \"set([0, 1, 2, 3, 4, 5])\""
      ],
      "execution_count": 0,
      "outputs": []
    },
    {
      "metadata": {
        "id": "Az5DYd8MNJyR",
        "colab_type": "text"
      },
      "cell_type": "markdown",
      "source": [
        "### タプル:\n",
        "\n",
        "タプルとは値の順序の変更が不能な順序付きリストである。タプルはリストに類似\n",
        "しているが，辞書のキーとして集合を要素として持つことが可能である。リストに\n",
        "はこの特徴は無い。簡単な例を示す:"
      ]
    },
    {
      "metadata": {
        "id": "fuJSk0rDFemR",
        "colab_type": "code",
        "colab": {}
      },
      "cell_type": "code",
      "source": [
        "d = {(x, x + 1): x for x in range(10)} # タプルキーを持つ辞書の生成\n",
        "t = (5, 6)        # タプルの生成\n",
        "print(type(t))    # 印字 \"<type 'tuple'>\"\n",
        "print(d[t])       # 印字 \"5\"\n",
        "print(d[(1, 2)])  # 印字 \"1\""
      ],
      "execution_count": 0,
      "outputs": []
    },
    {
      "metadata": {
        "id": "mSm9R9MyNNAD",
        "colab_type": "text"
      },
      "cell_type": "markdown",
      "source": [
        "<https://docs.python.org/2/tutorial/datastructures.html#tuples-and-sequences>\n",
        "には更に詳しい情報が記載されている。\n",
        "\n",
        "## 関数\n",
        "\n",
        "Python の関数はキーワード `def` を用いて定義される。以下の例:\n"
      ]
    },
    {
      "metadata": {
        "id": "mKI2WTemFjVR",
        "colab_type": "code",
        "colab": {}
      },
      "cell_type": "code",
      "source": [
        "def sign(x):\n",
        "    if x > 0:\n",
        "        return 'positive'\n",
        "    elif x < 0:\n",
        "        return 'negative'\n",
        "    else:\n",
        "        return 'zero'\n",
        "\n",
        "for x in [-1, 0, 1]:\n",
        "    print(sign(x))\n",
        "# 印字 \"negative\", \"zero\", \"positive\""
      ],
      "execution_count": 0,
      "outputs": []
    },
    {
      "metadata": {
        "id": "puHsjQonNRmI",
        "colab_type": "text"
      },
      "cell_type": "markdown",
      "source": [
        "関数は以下のようにオプションキーワード付きで定義可能である:\n"
      ]
    },
    {
      "metadata": {
        "id": "6X_9CXkxFlk0",
        "colab_type": "code",
        "colab": {}
      },
      "cell_type": "code",
      "source": [
        "def hello(name, loud=False):\n",
        "    if loud:\n",
        "        print('HELLO, %s' % name.upper())\n",
        "    else:\n",
        "        print( 'Hello, %s!' % name)\n",
        "\n",
        "hello('Bob')              # 印字 \"Hello, Bob\"\n",
        "hello('Fred', loud=True)  # 印字 \"HELLO, FRED!\""
      ],
      "execution_count": 0,
      "outputs": []
    },
    {
      "metadata": {
        "id": "uwa2zvheNUop",
        "colab_type": "text"
      },
      "cell_type": "markdown",
      "source": [
        "Python のクラス情報は <https://docs.python.org/2/tutorial/controlflow.html#defining-functions>を参照のこと\n",
        "\n",
        "## クラス\n",
        "\n",
        "Pythonにおけるクラス定義の記法は直截的である。\n"
      ]
    },
    {
      "metadata": {
        "id": "mla6Z_APFnsS",
        "colab_type": "code",
        "colab": {}
      },
      "cell_type": "code",
      "source": [
        "class Greeter:\n",
        "\n",
        "    # Constructor\n",
        "    def __init__(self, name):\n",
        "        self.name = name  # インスタンスの生成\n",
        "\n",
        "    # Instance method\n",
        "    def greet(self, loud=False):\n",
        "        if loud:\n",
        "            print('HELLO, %s!' % self.name.upper())\n",
        "        else:\n",
        "            print('Hello, %s' % self.name)\n",
        "\n",
        "g = Greeter('Fred')  # Greeter クラスのインスタンスを生成\n",
        "g.greet()            # インスタンスメソッドの呼び出し; 印字 \"Hello, Fred\"\n",
        "g.greet(loud=True)   # インスタンスメソッドの呼び出し; 印字 \"HELLO, FRED!\""
      ],
      "execution_count": 0,
      "outputs": []
    },
    {
      "metadata": {
        "id": "07oU5j8YNYnP",
        "colab_type": "text"
      },
      "cell_type": "markdown",
      "source": [
        "クラスについての詳細は以下である\n",
        "<https://docs.python.org/2/tutorial/classes.html>\n",
        "\n",
        "## NumPy\n",
        "\n",
        "NumPyはPythonにおける科学技術計算の核となるライブラリである。高性能多次元配列オブジェクトと配列処理用ツールから構成されている。MATLAB\n",
        "が既知ならば，本チュートリアルからNumPyを始めるのが良いだろう。\n",
        "\n",
        "### 配列\n",
        "\n",
        "NumPyの配列は値の格子状配置である。全要素の値は同じデータ型であり，非負整数のタプルで指定可能である。\n",
        "\n",
        "Pythonにおける配列は入れ子になったリストであり，カギカッコを用いる。\n"
      ]
    },
    {
      "metadata": {
        "id": "0_YV8xCpFqfm",
        "colab_type": "code",
        "colab": {}
      },
      "cell_type": "code",
      "source": [
        "import numpy as np\n",
        "\n",
        "a = np.array([1, 2, 3])           # 次元数 1 の配列の作成\n",
        "print(type(a))                     # 印字 \"<type 'numpy.ndarray'>\"\n",
        "print(a.shape)                    # 印字 \"(3,)\"\n",
        "print(a[0], a[1], a[2])           # 印字 \"1 2 3\"\n",
        "a[0] = 5                          # 配列の要素を一つ変更\n",
        "print(a)                          # 印字 \"[5, 2, 3]\"\n",
        "\n",
        "b = np.array([[1,2,3],[4,5,6]])   # 次元数が 2 の配列の作成\n",
        "print(b.shape)                     # 印字 \"(2, 3)\"\n",
        "print(b[0, 0], b[0, 1], b[1, 0])   # 印字 \"1 2 4\""
      ],
      "execution_count": 0,
      "outputs": []
    },
    {
      "metadata": {
        "id": "wMOBa_s7Ndde",
        "colab_type": "text"
      },
      "cell_type": "markdown",
      "source": [
        "NumPy には配列を生成する関数が用意されている:"
      ]
    },
    {
      "metadata": {
        "id": "CvA0FCVLFtpB",
        "colab_type": "code",
        "colab": {}
      },
      "cell_type": "code",
      "source": [
        "import numpy as np\n",
        "\n",
        "a = np.zeros((2,2))   # 全要素がゼロの配列の作成\n",
        "print(a)              # 印字 \"[[ 0.  0.]\n",
        "                      #        [ 0.  0.]]\"\n",
        "\n",
        "b = np.ones((1,2))    # 全要素がゼロの配列の作成\n",
        "print(b)              # 印字 \"[[ 1.  1.]]\"\n",
        "\n",
        "c = np.full((2,2), 7) # 定数行列を作成\n",
        "print(c)              # 印字 \"[[ 7.  7.]\n",
        "                      #        [ 7.  7.]]\"\n",
        "\n",
        "d = np.eye(2)         # 2x2 の単位行列の作成\n",
        "print(d)              # 印字 \"[[ 1.  0.]\n",
        "                      #        [ 0.  1.]]\"\n",
        "\n",
        "e = np.random.random((2,2)) # 乱数で初期化した配列の作成\n",
        "print(e)                    # 印字例 \"[[ 0.91940167  0.08143941]\n",
        "                            #          [ 0.68744134  0.87236687]]\""
      ],
      "execution_count": 0,
      "outputs": []
    },
    {
      "metadata": {
        "id": "3onjI-PQNgwR",
        "colab_type": "text"
      },
      "cell_type": "markdown",
      "source": [
        "配列を作成する他の方法は<http://docs.scipy.org/doc/numpy/user/basics.creation.html#arrays-creation>で読むことができる。\n",
        "\n",
        "## 配列指定\n",
        "\n",
        "NumPy には指定子を配列化する方法が複数存在する。\n",
        "\n",
        "## スライス: \n",
        "\n",
        "Pythonにおけるリストと同様，NumPyの配列にはスライス\n",
        "が適用可能である。配列の各次元毎にスライスを指定可能である。\n",
        "\n"
      ]
    },
    {
      "metadata": {
        "id": "rFiInWbbFwsT",
        "colab_type": "code",
        "colab": {}
      },
      "cell_type": "code",
      "source": [
        "import numpy as np\n",
        "\n",
        "# 3行4列で階数が2の行列の作成\n",
        "# [[ 1  2  3  4]\n",
        "#  [ 5  6  7  8]\n",
        "#  [ 9 10 11 12]]\n",
        "a = np.array([[1,2,3,4], [5,6,7,8], [9,10,11,12]])\n",
        "\n",
        "# 下位行列のスライスし，上2行の1列目2列目を用いて2行2列の行列を作成\n",
        "# [[2 3]\n",
        "#  [6 7]]\n",
        "b = a[:2, 1:3]\n",
        "\n",
        "# スライスは元行列への参照なので，スライスへの変更は元データに影響を及ぼす\n",
        "print(a[0,1])   # 印字 \"2\"\n",
        "b[0, 0] = 77    # b[0, 0] は a[0, 1] と等価\n",
        "print(a[0,1])   # 印字 \"77\""
      ],
      "execution_count": 0,
      "outputs": []
    },
    {
      "metadata": {
        "id": "ZNieJ1EtN0pW",
        "colab_type": "text"
      },
      "cell_type": "markdown",
      "source": [
        "配列を作成する他の方法は<http://docs.scipy.org/doc/numpy/user/basics.creation.html#arrays-creation>で読むことができる。\n",
        "\n",
        "### 配列指定\n",
        "\n",
        "NumPy には指定子を配列化する方法が複数存在する。\n",
        "\n",
        "### スライス: \n",
        "\n",
        "Pythonにおけるリストと同様，NumPyの配列にはスライス\n",
        "が適用可能である。配列の各次元毎にスライスを指定可能である。"
      ]
    },
    {
      "metadata": {
        "id": "NK8TRWrMFzvz",
        "colab_type": "code",
        "colab": {}
      },
      "cell_type": "code",
      "source": [
        "import numpy as np\n",
        "\n",
        "# 3行4列の2次の行列を作成\n",
        "# [[ 1  2  3  5]\n",
        "#  [ 4  6  7  8]\n",
        "#  [ 9 10 11 12]]\n",
        "a = np.array([[1,2,3,4], [5,6,7,8], [9,10,11,12]])\n",
        "\n",
        "# 行列の中央行へのアクセス2種類\n",
        "# スライスと整数の混在は階数の低下をもたらす\n",
        "# 一方，スライスのみを使用した場合には原行列の次元低減は発生しない\n",
        "row_r1 = a[1, :]    # 行列 a の 2 行目の全列表示\n",
        "row_r2 = a[1:2, :]  # 行列 a の 2 行目の全列表示\n",
        "print(row_r1, row_r1.shape)  # 印字 \"[5 6 7 8] (4,)\"\n",
        "print(row_r2, row_r2.shape)  # 印字 \"[[5 6 7 8]] (1, 4)\"\n",
        "\n",
        "# 行列に対する列への操作も同様\n",
        "col_r1 = a[:, 1]\n",
        "col_r2 = a[:, 1:2]\n",
        "print(col_r1, col_r1.shape)  # 印字 \"[ 2  6 10] (3,)\"\n",
        "print(col_r2, col_r2.shape)  # 印字 \"[[ 2]\n",
        "                             #        [ 6]\n",
        "                             #        [10]] (3, 1)\""
      ],
      "execution_count": 0,
      "outputs": []
    },
    {
      "metadata": {
        "id": "iZ7u5pn4Nl4A",
        "colab_type": "text"
      },
      "cell_type": "markdown",
      "source": [
        "## 整数型配列指定子: \n",
        "NumPyの配列に対してスライスを実行すると，結果は元行列の下位配列となる。\n",
        "これに対して，整数型変数からなる配列に対してスライスを実行すれば，\n",
        "新たな配列が構成される。以下のとおり:\n"
      ]
    },
    {
      "metadata": {
        "id": "W5r4F1rUF23g",
        "colab_type": "code",
        "colab": {}
      },
      "cell_type": "code",
      "source": [
        "import numpy as np\n",
        "\n",
        "a = np.array([[1,2], [3, 4], [5, 6]])\n",
        "\n",
        "# 整数型配列の例 戻り値の配列の shape は (3,)\n",
        "print(a[[0, 1, 2], [0, 1, 0]])  # 印字 \"[1 4 5]\"\n",
        "\n",
        "# 上例は整数型配列を指定子とした場合と等しい:\n",
        "print(np.array([a[0, 0], a[1, 1], a[2, 0]]))  # 印字 \"[1 4 5]\"\n",
        "\n",
        "# 整数型配列を指定子として用いると元配列と同じ要素を再利用できる\n",
        "print(a[[0, 0], [1, 1]])  # 印字 \"[2 2]\"\n",
        "\n",
        "# 先の整数型の配列指定子に等しい\n",
        "print(np.array([a[0, 1], a[0, 1]])) # 印字 \"[2 2]\"\n",
        "print(np.array([a[0, 1], a[0, 1]]))  # 印字 \"[2 2]\""
      ],
      "execution_count": 0,
      "outputs": []
    },
    {
      "metadata": {
        "id": "sGPyQoqZOU1q",
        "colab_type": "text"
      },
      "cell_type": "markdown",
      "source": [
        "### ブーリアン配列指定子: \n",
        "ール(2値)型配列指定子は配列の任意の要素を取り\n",
        "出すことが可能である。この指定子により配列から任意の条件を満たす要素からな\n",
        "る配列を作成することが可能である。"
      ]
    },
    {
      "metadata": {
        "id": "iFt2fkeGF58B",
        "colab_type": "code",
        "colab": {}
      },
      "cell_type": "code",
      "source": [
        "import numpy as np\n",
        "\n",
        "a = np.array([[1,2], [3, 4], [5, 6]])\n",
        "bool_idx = (a > 2)  # 2　より大きい配列の要素を探す\n",
        "                    # これにより numpy の配列と等しい shape でブール型の\n",
        "                    # 配列を返す。bool_idx は a の各要素が 2 より大きい\n",
        "                    # か否かを示す\n",
        "print(bool_idx)     # 印字 \"[[False False]\n",
        "                    #        [ True  True]\n",
        "                    #        [ True  True]]\"\n",
        "\n",
        "# ブール型配列指定子を用いて階数1の行列を作ることができる\n",
        "# bool_idx の True に対応する要素で構成される行列である\n",
        "print(a[bool_idx])  # 印字 \"[3 4 5 6]\"\n",
        "\n",
        "# 上例を簡潔に表記可能である\n",
        "print(a[a > 2])     # 印字 \"[3 4 5 6]\""
      ],
      "execution_count": 0,
      "outputs": []
    },
    {
      "metadata": {
        "id": "cvXTK2t6OYvs",
        "colab_type": "text"
      },
      "cell_type": "markdown",
      "source": [
        "本稿の簡潔性ゆえNumPyの配列指定子の詳細については多くを記載していない。\n",
        "詳細は文献を参照のこと。\n",
        "\n",
        "## データ型\n",
        "\n",
        "NumPy の配列は同じ型の要素からなるグリッドである。\n",
        "配列作成には一連のデータ型を利用可能である。\n",
        "NumPyは配列のデータ型が何であるかを類推しようとする。\n",
        "以下のようにオプション引数により明示的に配列のデータ型を指定することも可能である:\n"
      ]
    },
    {
      "metadata": {
        "id": "TDnZ2zKyF-44",
        "colab_type": "code",
        "colab": {}
      },
      "cell_type": "code",
      "source": [
        "import numpy as np\n",
        "\n",
        "x = np.array([1,2])        # numpy にデータ型を選択させる\n",
        "print(x.dtype)             # 印字 \"int64\"\n",
        "\n",
        "x = np.array([1.0, 2.0])   # numpy にデータ型を選択させる\n",
        "print(x.dtype)             # 印字 \"float64\"\n",
        "\n",
        "x = np.array([1, 2], dtype=np.int64)  # データ型の強制指定\n",
        "print(x.dtype)             # 印字 \"int64\""
      ],
      "execution_count": 0,
      "outputs": []
    },
    {
      "metadata": {
        "id": "Bn5O3EEyOh2R",
        "colab_type": "text"
      },
      "cell_type": "markdown",
      "source": [
        "NumPy の全データ型については<http://docs.scipy.org/doc/numpy/reference/arrays.dtypes.html>を参照のこと。\n",
        "\n",
        "## 数学的配列\n",
        "\n",
        "基本的数学関数の操作は配列の要素毎の演算である。\n",
        "NumPy モジュールの関数として演算子を上書き可能である．"
      ]
    },
    {
      "metadata": {
        "id": "OWhByC6nGBsq",
        "colab_type": "code",
        "colab": {}
      },
      "cell_type": "code",
      "source": [
        "import numpy as np\n",
        "\n",
        "x = np.array([[1,2],[3,4]], dtype=np.float64)\n",
        "y = np.array([[5,6],[7,8]], dtype=np.float64)\n",
        "\n",
        "# 対応する要素の和，両例とも同じ結果を得る\n",
        "# [[ 6.0  8.0]\n",
        "#  [10.0 12.0]]\n",
        "print(x + y)\n",
        "print(np.add(x, y))\n",
        "\n",
        "# 対応する要素の差，両例とも同じ結果を得る\n",
        "# [[-4.0 -4.0]\n",
        "#  [-4.0 -4.0]]\n",
        "print(x - y)\n",
        "print(np.subtract(x, y))\n",
        "\n",
        "# 対応する要素の積，両例とも同じ結果を得る\n",
        "# [[ 5.0 12.0]\n",
        "#  [21.0 32.0]]\n",
        "print(x * y)\n",
        "print(np.multiply(x, y))\n",
        "\n",
        "# 対応する要素の徐，両例とも同じ結果を得る\n",
        "# [[ 0.2         0.33333333]\n",
        "#  [ 0.42857143  0.5       ]]\n",
        "print(x / y)\n",
        "print(np.divide(x, y))\n",
        "\n",
        "# 各要素の平方根\n",
        "# [[ 1.          1.41421356]\n",
        "#  [ 1.73205081  2.        ]]\n",
        "print(np.sqrt(x))"
      ],
      "execution_count": 0,
      "outputs": []
    },
    {
      "metadata": {
        "id": "Ua6hcQbpOmU-",
        "colab_type": "text"
      },
      "cell_type": "markdown",
      "source": [
        "MATLAB と異なり，[`*`]\n",
        "は要素毎の積であり，行列の積ではない。\n",
        "ベクトルの内積，ベクトルと行列の積，行列の積には[`dot`]を用いる。\n",
        "[`dot`]は NumPy モジュールと配列オブジェクトのメソッドインスタンスに\n",
        "適用可能である。\n"
      ]
    },
    {
      "metadata": {
        "id": "FHNr-GlLGO3F",
        "colab_type": "code",
        "colab": {}
      },
      "cell_type": "code",
      "source": [
        "import numpy as np\n",
        "\n",
        "x = np.array([[1,2],[3,4]])\n",
        "y = np.array([[5,6],[7,8]])\n",
        "\n",
        "v = np.array([9,10])\n",
        "w = np.array([11, 12])\n",
        "\n",
        "# ベクトルの内積両者とも同じく 219 を得る\n",
        "print(v.dot(w))\n",
        "print(np.dot(v, w))\n",
        "\n",
        "# 行列とベクトルの積。両者とも同じく [29 67] を得る\n",
        "print(x.dot(v))\n",
        "print(np.dot(x, v))\n",
        "\n",
        "# 行列と行列の積。両者とも同じく以下の行列を得る\n",
        "# [[19 22]\n",
        "#  [43 50]]\n",
        "print(x.dot(y))\n",
        "print(np.dot(x, y))"
      ],
      "execution_count": 0,
      "outputs": []
    },
    {
      "metadata": {
        "id": "6HJgiETJOrjG",
        "colab_type": "text"
      },
      "cell_type": "markdown",
      "source": [
        "NumPy は行列操作遂行に有役な関数を数多く提供している。[`sum`]\n",
        "など"
      ]
    },
    {
      "metadata": {
        "id": "-JYq_BdMGRls",
        "colab_type": "code",
        "colab": {}
      },
      "cell_type": "code",
      "source": [
        "import numpy as np\n",
        "\n",
        "x = np.array([[1,2],[3,4]])\n",
        "\n",
        "print(np.sum(x))          # 総和を計算 10と印字\n",
        "print(np.sum(x, axis=0))  # 各列の総和を計算: \"[4 6]\" と印字\n",
        "print(np.sum(x, axis=1))  # 各行の総和を計算: \"[3 7]\" と印字"
      ],
      "execution_count": 0,
      "outputs": []
    },
    {
      "metadata": {
        "id": "D8a2jmZ-OvI2",
        "colab_type": "text"
      },
      "cell_type": "markdown",
      "source": [
        "NumPyの全数学関数リストは\n",
        "<http://docs.scipy.org/doc/numpy/reference/routines.math.html>から入手可\n",
        "能である。\n",
        "\n",
        "配列を用いた数学関数の計算だけでなく，配列の reshae\n",
        "や他のデータ操作が多数必\n",
        "要となる。単純な例は行列の転置である。行列の転置には配列オブジェクトの\n",
        "[`T`] を使えばよい。\n"
      ]
    },
    {
      "metadata": {
        "id": "OMBqr6lbGUTO",
        "colab_type": "code",
        "colab": {}
      },
      "cell_type": "code",
      "source": [
        "import numpy as np\n",
        "\n",
        "x = np.array([[1,2], [3,4]])\n",
        "print(x)    # 印字 \"[[1 2]\n",
        "            #        [3 4]]\"\n",
        "print(x.T)  # 印字 \"[[1 3]\n",
        "            #        [2 4]]\"\n",
        "\n",
        "# 階数1の行列を転置してもなにも変わらないことに注意\n",
        "v = np.array([1,2,3])\n",
        "print(v)    # 印字 \"[1 2 3]\"\n",
        "print(v.T)  # 印字 \"[1 2 3]\""
      ],
      "execution_count": 0,
      "outputs": []
    },
    {
      "metadata": {
        "id": "sFN-qpxyO5mc",
        "colab_type": "text"
      },
      "cell_type": "markdown",
      "source": [
        "NumPy は配列操作関数が多い。<http://docs.scipy.org/doc/numpy/reference/routines.array-manipulation.html>を参照されたい。\n",
        "\n",
        "### ブロードキャスト\n",
        "\n",
        "ブロードキャストは算術的操作を行う際、NumPyが異なる shape\n",
        "の配列に強力な処 理機構を行うことを可能にする。\n",
        "\n",
        "行列の各行に対して定数ベクトルを加える場合を以下に示す:"
      ]
    },
    {
      "metadata": {
        "id": "dj1F3M3dGXP9",
        "colab_type": "code",
        "colab": {}
      },
      "cell_type": "code",
      "source": [
        "import numpy as np\n",
        "\n",
        "# 行列 x の各行に対してベクトル v を加え結果を y に格納\n",
        "x = np.array([[1,2,3], [4,5,6], [7,8,9], [10, 11, 12]])\n",
        "v = np.array([1, 0, 1])\n",
        "y = np.empty_like(x)   # x と同じ shape を持つ空行列を生成\n",
        "\n",
        "# 明示的繰り返しを用いて行列 x の各行にベクトル v の要素を加算\n",
        "for i in range(4):\n",
        "    y[i, :] = x[i, :] + v\n",
        "\n",
        "# y は以下のようになる\n",
        "# [[ 2  2  4]\n",
        "#  [ 5  5  7]\n",
        "#  [ 8  8 10]\n",
        "#  [11 11 13]]\n",
        "print(y)"
      ],
      "execution_count": 0,
      "outputs": []
    },
    {
      "metadata": {
        "id": "r1a9HWG6O-It",
        "colab_type": "text"
      },
      "cell_type": "markdown",
      "source": [
        "行列 `x` が巨大な場合Pythonの明示的なループは遅い。行列`x`の各行\n",
        "にベクトル `v` を加えることはスタック領域に積まれた`v`のコピーと行\n",
        "列 `vv` の和を構成することに等しい。以下の例のようになる。"
      ]
    },
    {
      "metadata": {
        "id": "UK_J-NGBGaWJ",
        "colab_type": "code",
        "colab": {}
      },
      "cell_type": "code",
      "source": [
        "import numpy as np\n",
        "\n",
        "# 行列 x の各要素にベクトル v を加える\n",
        "# 行列 y に結果を格納\n",
        "x = np.array([[1,2,3], [4,5,6], [7,8,9], [10, 11, 12]])\n",
        "v = np.array([1, 0, 1])\n",
        "vv = np.tile(v, (4, 1))  # v から4つのスタックを作成\n",
        "print(vv)                # 印字 \"[[1 0 1]\n",
        "                         #        [1 0 1]\n",
        "                         #        [1 0 1]\n",
        "                         #        [1 0 1]]\"\n",
        "y = x + vv # x と vv の各要素を加える\n",
        "print(y)   # 印字 \"[[ 2  2  4\n",
        "           #        [ 5  5  7]\n",
        "           #        [ 8  8 10]\n",
        "           #        [11 11 13]]\""
      ],
      "execution_count": 0,
      "outputs": []
    },
    {
      "metadata": {
        "id": "oS8b0zYZPFj4",
        "colab_type": "text"
      },
      "cell_type": "markdown",
      "source": [
        "NumPy のブロードキャストは`y`の多重コピーを作成することなく計算を\n",
        "実行する。ブロードキャストを用いたバージョンを以下に示す:"
      ]
    },
    {
      "metadata": {
        "id": "3VS3_5Q9GduE",
        "colab_type": "code",
        "colab": {}
      },
      "cell_type": "code",
      "source": [
        "import numpy as np\n",
        "\n",
        "# 行列 x の各行にベクトル v を加える\n",
        "# 結果を行列 y に格納する\n",
        "x = np.array([[1,2,3], [4,5,6], [7,8,9], [10, 11, 12]])\n",
        "v = np.array([1, 0, 1])\n",
        "y = x + v  # ブロードキャストを使って x の各行に v を加える\n",
        "print(y)   # 印字 \"[[ 2  2  4]\n",
        "           #        [ 5  5  7]\n",
        "           #        [ 8  8 10]\n",
        "           #        [11 11 13]]\""
      ],
      "execution_count": 0,
      "outputs": []
    },
    {
      "metadata": {
        "id": "VRk_rzLtPUAr",
        "colab_type": "text"
      },
      "cell_type": "markdown",
      "source": [
        "`y = x + v`の行は，`x`は`(4,3)`の次数を持ち，`v`は\n",
        "`(3,)`の次数を持つことがブロードキャストにより`y = x + v`が計算され\n",
        "る。もし`v`が次数`(4,3)`であるように作用する。各行は`v`の\n",
        "コピーであり各要素の和が計算される。\n",
        "\n",
        "2つの行列をブロードキャストする場合以下の規則に従う:\n",
        "\n",
        "1.  もし二つの行列が同じ次数でなければ低次数の行列を拡張して等しくする。\n",
        "2.  二つの行列が，特定の次元のみ一致している場合，片方の配列の次元が1であっても、他の次元も同じサイズの次元にする。\n",
        "3.  二つの配列全ての次元に互換性があれば両者ともブロードキャストされる。\n",
        "4.  ブロードキャスト後，各配列は両入力配列の次数が等しいとして振る舞う。\n",
        "5.  一方の配列のサイズが1であり他方の配列サイズが1より大きい場合，最初の\n",
        "    配列は次元を繰り返し複写して動作する\n",
        "\n",
        "上記の意味が不明なら，\n",
        "<http://docs.scipy.org/doc/numpy/user/basics.broadcasting.html> \n",
        "の <http://wiki.scipy.org/EricsBroadcastingDoc> 説明を読まれたい。\n",
        "\n",
        "ブロードキャストをサポートする関数はユニバーサル関数として知られる。\n",
        "ユニバーサル関数のリストは <http://docs.scipy.org/doc/numpy/reference/ufuncs.html#available-ufuncs> を参照のこと。\n",
        "\n",
        "ブロードキャストの例を示す:"
      ]
    },
    {
      "metadata": {
        "id": "Oz5YdVwYGpdg",
        "colab_type": "code",
        "colab": {}
      },
      "cell_type": "code",
      "source": [
        "import numpy as np\n",
        "\n",
        "# ベクトルの外積を計算\n",
        "v = np.array([1,2,3])  # v の次数 (3,)\n",
        "w = np.array([4,5])    # w の次数 (2,)\n",
        "# 外積を計算するため v の次数を列へと変形する\n",
        "# 次数 (3, 1) のベクトル; w に対してブロードキャストする\n",
        "# 外積の計算結果である次数 (3, 2) の行列を得る\n",
        "# [[ 4  5]\n",
        "#  [ 8 10]\n",
        "#  [12 15]]\n",
        "print(np.reshape(v, (3, 1)) * w)\n",
        "\n",
        "# 行列の各行にベクトルを加算する\n",
        "x = np.array([[1,2,3], [4,5,6]])\n",
        "# x は次数 (2,3) であり v は (3,) である。v はブロードキャストされて (2,3) となり\n",
        "# x has shape (2, 3) and v has shape (3,) so they broadcast to (2, 3),\n",
        "# 以下の行列を得る:\n",
        "# [[2 4 6]\n",
        "#  [5 7 9]]\n",
        "print(x + v)\n",
        "\n",
        "# 行列の各列にベクトルを加える\n",
        "# x の次数は (2, 3) であり，w の次数は (2,) である。 x を転置すれば\n",
        "# 次数は (3, 2) となり w はブロードキャストされ次数は (3, 2) となる。\n",
        "# 結果は転置され次数 (2, 3) の行列となり以下の行列を得る:\n",
        "# [[ 5  6  7]\n",
        "#  [ 9 10 11]]\n",
        "print((x.T + w).T)\n",
        "# 別解としては次数 (2, 1) の行ベクトルに対して次数を変換し，\n",
        "# その結果をブロードキャストして直接外積を計算する\n",
        "print(x + np.reshape(w, (2, 1)))\n",
        "\n",
        "# 行列の定数倍:\n",
        "# 行列 x の次数は (2, 3). Numpy はスカラを次数 () の配列として扱う:\n",
        "# スカラはブロードキャストされ次数 (2, 3) の行列となり以下の結果を得る\n",
        "# [[ 2  4  6]\n",
        "#  [ 8 10 12]]\n",
        "print(x * 2)"
      ],
      "execution_count": 0,
      "outputs": []
    },
    {
      "metadata": {
        "id": "4KF2_j5dPa5Y",
        "colab_type": "text"
      },
      "cell_type": "markdown",
      "source": [
        "ブロードキャストによりコードは簡潔になり，高速化する。\n",
        "可能な限りブロードキャストを使うよう努めるべきである。\n",
        "\n",
        "## NumPy の文書\n",
        "\n",
        "ここでは NumPy に関して概説したが完全な記述には程遠い。NumPy \n",
        "のリファレンス <http://docs.scipy.org/doc/numpy/reference/> \n",
        "には詳細が記されている。\n",
        "\n",
        "## SciPy\n",
        "\n",
        "NumPy は高性能な多次元配列を提供し，配列操作の基本道具を提供している。\n",
        "SciPy は(<http://docs.scipy.org/doc/scipy/reference/>)\n",
        "NumPy で定義された配列と科学技術に有益な関数数多く用意している。\n",
        "\n",
        "SciPy を理解するには<http://docs.scipy.org/doc/scipy/reference/index.html>\n",
        "を観ることである。ここではSciPy の有益点いくつかに焦点をあてる。\n",
        "\n",
        "### 画像操作\n",
        "\n",
        "SciPy は画像操作の基本関数を提供する。\n",
        "例えば，ディスクから画像を読み込んで NumPy の配列に代入し，\n",
        "NumPy の配列を画像としてディスクに書き込み，\n",
        "画像のサイズを変更する関数などである。\n",
        "ここでは，これらの関数例を供覧する"
      ]
    },
    {
      "metadata": {
        "id": "Hx5NGn-tR6C1",
        "colab_type": "text"
      },
      "cell_type": "markdown",
      "source": [
        "  <font color=\"green\" size=\"+1\"><b>浅川 注:</b>以下のコードは google colab で画像を表示させるためですが，適当なが像を用意する必要があります。下ではローカルPCから `cat.jpg` というファイル名の画像ファイルをアップロードすることを仮定します。</br>\n",
        "下のセルを実行すると画像をアップロードするように求められます。\n",
        "指示に従ってアップロードしてください\n",
        "  </font>\n"
      ]
    },
    {
      "metadata": {
        "id": "-_kbFS_AHI_w",
        "colab_type": "code",
        "colab": {}
      },
      "cell_type": "code",
      "source": [
        "from google.colab import files\n",
        "uploaded = files.upload()"
      ],
      "execution_count": 0,
      "outputs": []
    },
    {
      "metadata": {
        "id": "PPiOmHUAIXLZ",
        "colab_type": "code",
        "colab": {}
      },
      "cell_type": "code",
      "source": [
        "!mkdir assets\n",
        "!mv cat.jpg assets"
      ],
      "execution_count": 0,
      "outputs": []
    },
    {
      "metadata": {
        "id": "2ZPSG5Svb9TV",
        "colab_type": "code",
        "colab": {}
      },
      "cell_type": "code",
      "source": [
        "import matplotlib.pyplot as plt\n",
        "from imageio import imread\n",
        "plt.imshow(imread('assets/cat.jpg'), cmap='gray')"
      ],
      "execution_count": 0,
      "outputs": []
    },
    {
      "metadata": {
        "id": "FiqBOaMKGtI5",
        "colab_type": "code",
        "colab": {}
      },
      "cell_type": "code",
      "source": [
        "#from scipy.misc import imread, imsave, imresize\n",
        "from imageio import imread, imsave\n",
        "from skimage.transform import resize\n",
        "\n",
        "# JPEG 画像を NumPy 配列に読み込む\n",
        "img = imread('assets/cat.jpg')\n",
        "print(img.dtype, img.shape)  # 印字 \"uint8 (400, 248, 3)\"\n",
        "\n",
        "# 各色チャンネルを異なるスカラ定数により色合いを変える。\n",
        "# 画像は (400, 248, 3) の次数である。\n",
        "# 次数 (3,) の配列 [1, 0.95, 0.9] を掛ける;\n",
        "# numpy のブロードキャストは赤チャンネルは変更せず，\n",
        "# 緑と青とをそれぞれ 0.95 倍，0.9 倍する\n",
        "img_tinted = img * [1, 0.95, 0.9]\n",
        "\n",
        "# 色合いを変更した画像を縦横 300 画素の画像に変換する\n",
        "#img_tinted = imresize(img_tinted, (300, 300))\n",
        "img_tinted = resize(img_tinted, (300, 300))\n",
        "\n",
        "# 変更した画像をディスクに書き出す\n",
        "\n",
        "imsave('assets/cat_tinted.jpg', img_tinted)"
      ],
      "execution_count": 0,
      "outputs": []
    },
    {
      "metadata": {
        "id": "cGquZbUoG1ra",
        "colab_type": "code",
        "colab": {}
      },
      "cell_type": "code",
      "source": [
        "import numpy as np\n",
        "from scipy.spatial.distance import pdist, squareform\n",
        "\n",
        "# 2次の行からなる以下の配列を定義する:\n",
        "# [[0 1]\n",
        "#  [1 0]\n",
        "#  [2 0]]\n",
        "x = np.array([[0, 1], [1, 0], [2, 0]])\n",
        "print(x)\n",
        "\n",
        "# x の全ての行のユークリッド距離の計算\n",
        "# d[i, j] は x[i, :] と x[j, :] との距離であり以下の行列となる\n",
        "# [[ 0.          1.41421356  2.23606798]\n",
        "#  [ 1.41421356  0.          1.        ]\n",
        "#  [ 2.23606798  1.          0.        ]]\n",
        "d = squareform(pdist(x, 'euclidean'))\n",
        "print(d)"
      ],
      "execution_count": 0,
      "outputs": []
    },
    {
      "metadata": {
        "id": "22laFuaNKTvU",
        "colab_type": "code",
        "colab": {}
      },
      "cell_type": "code",
      "source": [
        "import numpy as np\n",
        "import matplotlib.pyplot as plt\n",
        "\n",
        "# x, y 座標に正弦波を描く\n",
        "x = np.arange(0, 3 * np.pi, 0.1)\n",
        "y = np.sin(x)\n",
        "\n",
        "# matplotlib の plot 関数で描画\n",
        "plt.plot(x, y)\n",
        "plt.show()  # 画面に表示するために plt.show() を使う"
      ],
      "execution_count": 0,
      "outputs": []
    },
    {
      "metadata": {
        "id": "NgBAyV44Q4A4",
        "colab_type": "text"
      },
      "cell_type": "markdown",
      "source": [
        "上記のコードを実行することで以下の画像を得る。"
      ]
    },
    {
      "metadata": {
        "id": "MRHzcFLCKY_i",
        "colab_type": "code",
        "colab": {}
      },
      "cell_type": "code",
      "source": [
        "import numpy as np\n",
        "import matplotlib.pyplot as plt\n",
        "\n",
        "# x, y 座標上に正弦波と余弦波の曲線をプロットする\n",
        "x = np.arange(0, 3 * np.pi, 0.1)\n",
        "y_sin = np.sin(x)\n",
        "y_cos = np.cos(x)\n",
        "\n",
        "# matplotlib の plot を用いる\n",
        "plt.plot(x, y_sin)\n",
        "plt.plot(x, y_cos)\n",
        "plt.xlabel('x axis label')\n",
        "plt.ylabel('y axis label')\n",
        "plt.title('Sine and Cosine')\n",
        "plt.legend(['Sine', 'Cosine'])\n",
        "plt.show()"
      ],
      "execution_count": 0,
      "outputs": []
    },
    {
      "metadata": {
        "id": "0Po-9bjcQnpi",
        "colab_type": "text"
      },
      "cell_type": "markdown",
      "source": [
        "\n",
        "[`plot`]関数の詳細は <http://matplotlib.org/api/pyplot_api.html#matplotlib.pyplot.plot> から読むことができる。\n",
        "\n",
        "### サブプロット\n",
        "\n",
        "[`subplot`]関数を用れば同一図に別のプロットを入れることが可能である。\n",
        "以下に例を示す:"
      ]
    },
    {
      "metadata": {
        "id": "P7kKJuSdKcXK",
        "colab_type": "code",
        "colab": {}
      },
      "cell_type": "code",
      "source": [
        "import numpy as np\n",
        "import matplotlib.pyplot as plt\n",
        "\n",
        "# x, y 座標上で正弦波と余弦波をプロット\n",
        "x = np.arange(0, 3 * np.pi, 0.1)\n",
        "y_sin = np.sin(x)\n",
        "y_cos = np.cos(x)\n",
        "\n",
        "# 高さ2、幅1のサブプロット用格子を設定\n",
        "# 最初のサブプロットをアクティブにする\n",
        "plt.subplot(2, 1, 1)\n",
        "\n",
        "# 最初のプロットを作成\n",
        "plt.plot(x, y_sin)\n",
        "plt.title('Sine')\n",
        "\n",
        "# 2番目のサブプロットをアクティブにし，プロットを作成\n",
        "plt.subplot(2, 1, 2)\n",
        "plt.plot(x, y_cos)\n",
        "plt.title('Cosine')\n",
        "\n",
        "# 図の画面表示\n",
        "plt.show()"
      ],
      "execution_count": 0,
      "outputs": []
    },
    {
      "metadata": {
        "id": "AYi5-6wQQcUU",
        "colab_type": "text"
      },
      "cell_type": "markdown",
      "source": [
        "[`subplot`]関数の詳細は<http://matplotlib.org/api/pyplot_api.html#matplotlib.pyplot.subplot>から読むことができる。\n",
        "\n",
        "## 画像\n",
        "\n",
        "[`imshow`]関数を使て画像を表示することが可能である:"
      ]
    },
    {
      "metadata": {
        "id": "0TAgAH0LKfkZ",
        "colab_type": "code",
        "colab": {}
      },
      "cell_type": "code",
      "source": [
        "import numpy as np\n",
        "#from scipy.misc import imread, imresize\n",
        "from imageio import imread\n",
        "import matplotlib.pyplot as plt\n",
        "\n",
        "img = imread('assets/cat.jpg')\n",
        "img_tinted = img * [1, 0.95, 0.9] /255\n",
        "\n",
        "# 原画像の表示\n",
        "plt.subplot(1, 2, 1)\n",
        "plt.imshow(img)\n",
        "\n",
        "# 色合いを変えた画像の表示\n",
        "plt.subplot(1, 2, 2)\n",
        "plt.imshow(img_tinted)\n",
        "plt.show()"
      ],
      "execution_count": 0,
      "outputs": []
    },
    {
      "metadata": {
        "id": "RYXkCyatU0_H",
        "colab_type": "code",
        "colab": {}
      },
      "cell_type": "code",
      "source": [
        ""
      ],
      "execution_count": 0,
      "outputs": []
    }
  ]
}