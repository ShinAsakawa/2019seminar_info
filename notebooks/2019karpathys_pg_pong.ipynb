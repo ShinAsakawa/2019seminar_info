{
  "nbformat": 4,
  "nbformat_minor": 0,
  "metadata": {
    "colab": {
      "name": "2019karpathys-pg-pong.ipynb",
      "version": "0.3.2",
      "provenance": [],
      "collapsed_sections": [],
      "include_colab_link": true
    },
    "kernelspec": {
      "display_name": "Python 3",
      "language": "python",
      "name": "python3"
    }
  },
  "cells": [
    {
      "cell_type": "markdown",
      "metadata": {
        "id": "view-in-github",
        "colab_type": "text"
      },
      "source": [
        "<a href=\"https://colab.research.google.com/github/ShinAsakawa/2019seminar_info/blob/master/notebooks/2019karpathys_pg_pong.ipynb\" target=\"_parent\"><img src=\"https://colab.research.google.com/assets/colab-badge.svg\" alt=\"Open In Colab\"/></a>"
      ]
    },
    {
      "metadata": {
        "id": "0p-cTJdob6oV",
        "colab_type": "text"
      },
      "cell_type": "markdown",
      "source": [
        "# Deep Reinforcement Learning: Pong from Pixels\n",
        "\n",
        "## 方策勾配法 (Policy gradient) を用いた強化学習エージェントの学習 (OpenAI gym)\n",
        "\n",
        "- [Original `pg-pong.py`](https://gist.github.com/karpathy/a4166c7fe253700972fcbc77e4ea32c5)\n",
        "- このファイルは Andrej Karpathy の [ブログ記事](http://karpathy.github.io/2016/05/31/rl/) にあった `pg-pong.py` を Python3 で動くように修正し，かつ colaboratory で実行できるよう修正したものです。優れたブログ記事を書いた Karpathy に敬意を評します。\n",
        "\n",
        "---\n",
        "\n",
        "<center>\n",
        "<img src=\"http://karpathy.github.io/assets/rl/preview.jpeg\" style=\"width:39%;\"><br>\n",
        "<strong>市井の強化学習。左からアタリのゲームをするディープ Q ネット，アルファ碁，バークレイロボットによるレゴ積み木，四足歩行の物理シミュレーション Karpathy のブログより</strong>\n",
        "</center>\n",
        "    \n",
        "ちなみに Karpathy はこのブログの中で，最近の進歩は次の 4 点が大きいと書いています。\n",
        "\n",
        "1. 計算  (the obvious one: Moore’s Law, GPUs, ASICs),\n",
        "1. データ (in a nice form, not just out there somewhere on the internet - e.g. ImageNet),\n",
        "1. アルゴリズム (research and ideas, e.g. backprop, CNN, LSTM), and\n",
        "1. インフラ (software under you - Linux, TCP/IP, Git, ROS, PR2, AWS, AMT, TensorFlow, etc.).\n",
        "---\n",
        "\n",
        "<center>\n",
        "    <img src=\"http://karpathy.github.io/assets/rl/policy.png\" style=\"width:39%\"><br>\n",
        "    <strong>2層のポリシーネットワーク</strong>\n",
        "</center>\n",
        "\n",
        "---\n",
        "\n",
        "次の2つの図は通常の教師ありニューラルネットワークと強化学習との違いを表しています。\n",
        "\n",
        "<center>\n",
        "    <img src=\"http://karpathy.github.io/assets/rl/sl.png\" style=\"width:74%\"><br>\n",
        "    <strong>通常のニューラルネットワーク</strong>\n",
        "</center>\n",
        "\n",
        "<center>\n",
        "    <img src=\"http://karpathy.github.io/assets/rl/rl.png\" style=\"width:74%\"><br>\n",
        "    <strong>強化学習</strong>\n",
        "</center>\n",
        "\n",
        "\n",
        "\\begin{align}\n",
        "\\nabla_{\\theta} E_x[f(x)] &= \\nabla_{\\theta} \\sum_x p(x) f(x) & \\text{definition of expectation} \\\\\n",
        "& = \\sum_x \\nabla_{\\theta} p(x) f(x) & \\text{swap sum and gradient} \\\\\n",
        "& = \\sum_x p(x) \\frac{\\nabla_{\\theta} p(x)}{p(x)} f(x) & \\text{both multiply and divide by } p(x) \\\\\n",
        "& = \\sum_x p(x) \\nabla_{\\theta} \\log p(x) f(x) & \\text{use the fact that } \\nabla_{\\theta} \\log(z) = \\frac{1}{z} \\nabla_{\\theta} z \\\\\n",
        "& = E_x[f(x) \\nabla_{\\theta} \\log p(x) ] & \\text{definition of expectation}\n",
        "\\end{align}\n"
      ]
    },
    {
      "metadata": {
        "id": "237aSWxRb6oW",
        "colab_type": "code",
        "colab": {},
        "outputId": "15ab6d80-6162-44f7-dd38-03ec024d7969"
      },
      "cell_type": "code",
      "source": [
        "\"\"\" Trains an agent with (stochastic) Policy Gradients on Pong. Uses OpenAI Gym. \"\"\"\n",
        "from __future__ import print_function\n",
        "from six.moves import xrange\n",
        "from six.moves import cPickle"
      ],
      "execution_count": 0,
      "outputs": [
        {
          "output_type": "execute_result",
          "data": {
            "text/plain": [
              "' Trains an agent with (stochastic) Policy Gradients on Pong. Uses OpenAI Gym. '"
            ]
          },
          "metadata": {
            "tags": []
          },
          "execution_count": 1
        }
      ]
    },
    {
      "metadata": {
        "id": "nmpnbmk1b6od",
        "colab_type": "code",
        "colab": {}
      },
      "cell_type": "code",
      "source": [
        "import numpy as np\n",
        "#import cPickle as pickle\n",
        "import pickle\n",
        "import gym"
      ],
      "execution_count": 0,
      "outputs": []
    },
    {
      "metadata": {
        "id": "OBDGXWGIb6of",
        "colab_type": "code",
        "colab": {}
      },
      "cell_type": "code",
      "source": [
        "# hyperparameters\n",
        "H = 200 # number of hidden layer neurons\n",
        "batch_size = 10 # every how many episodes to do a param update?\n",
        "learning_rate = 1e-4\n",
        "gamma = 0.99 # discount factor for reward\n",
        "decay_rate = 0.99 # decay factor for RMSProp leaky sum of grad^2\n",
        "resume = False # resume from previous checkpoint?\n",
        "render = False"
      ],
      "execution_count": 0,
      "outputs": []
    },
    {
      "metadata": {
        "id": "0Yls6Fr3b6oi",
        "colab_type": "code",
        "colab": {}
      },
      "cell_type": "code",
      "source": [
        "# model initialization\n",
        "D = 80 * 80 # input dimensionality: 80x80 grid\n",
        "if resume:\n",
        "    model = pickle.load(open('save.p', 'rb'))\n",
        "else:\n",
        "    model = {}\n",
        "    model['W1'] = np.random.randn(H,D) / np.sqrt(D) # \"Xavier\" initialization\n",
        "    model['W2'] = np.random.randn(H) / np.sqrt(H)"
      ],
      "execution_count": 0,
      "outputs": []
    },
    {
      "metadata": {
        "id": "PNVOhSmzb6ok",
        "colab_type": "code",
        "colab": {}
      },
      "cell_type": "code",
      "source": [
        "#update buffers that add up gradients over a batch\n",
        "#grad_buffer = { k : np.zeros_like(v) for k,v in model.iteritems() } \n",
        "grad_buffer = {k:np.zeros_like(v) for k,v in model.items()}     # python 3 対応のため書き換え\n",
        "\n",
        "#rmsprop memory\n",
        "#rmsprop_cache = { k : np.zeros_like(v) for k,v in model.iteritems() }\n",
        "rmsprop_cache = {k:np.zeros_like(v) for k,v in model.items()}"
      ],
      "execution_count": 0,
      "outputs": []
    },
    {
      "metadata": {
        "id": "bsLQxvZVb6on",
        "colab_type": "code",
        "colab": {}
      },
      "cell_type": "code",
      "source": [
        "def sigmoid(x):\n",
        "    return 1.0 / (1.0 + np.exp(-x)) # sigmoid \"squashing\" function to interval [0,1]\n",
        "\n",
        "def prepro(I):\n",
        "    \"\"\" prepro 210x160x3 uint8 frame into 6400 (80x80) 1D float vector \"\"\"\n",
        "    I = I[35:195] # crop\n",
        "    I = I[::2,::2,0] # downsample by factor of 2\n",
        "    I[I == 144] = 0 # erase background (background type 1)\n",
        "    I[I == 109] = 0 # erase background (background type 2)\n",
        "    I[I != 0] = 1 # everything else (paddles, ball) just set to 1\n",
        "    return I.astype(np.float).ravel()"
      ],
      "execution_count": 0,
      "outputs": []
    },
    {
      "metadata": {
        "id": "Kcu9Z-Eib6op",
        "colab_type": "code",
        "colab": {}
      },
      "cell_type": "code",
      "source": [
        "def discount_rewards(r):\n",
        "    \"\"\" take 1D float array of rewards and compute discounted reward \"\"\"\n",
        "    discounted_r = np.zeros_like(r)\n",
        "    running_add = 0\n",
        "    for t in reversed(xrange(0, r.size)):\n",
        "        if r[t] != 0: running_add = 0 # reset the sum, since this was a game boundary (pong specific!)\n",
        "        running_add = running_add * gamma + r[t]\n",
        "        discounted_r[t] = running_add\n",
        "    return discounted_r"
      ],
      "execution_count": 0,
      "outputs": []
    },
    {
      "metadata": {
        "id": "kyswO1-1b6os",
        "colab_type": "code",
        "colab": {}
      },
      "cell_type": "code",
      "source": [
        "def policy_forward(x):\n",
        "    h = np.dot(model['W1'], x)\n",
        "    h[h<0] = 0 # ReLU nonlinearity\n",
        "    logp = np.dot(model['W2'], h)\n",
        "    p = sigmoid(logp)\n",
        "    return p, h # return probability of taking action 2, and hidden state"
      ],
      "execution_count": 0,
      "outputs": []
    },
    {
      "metadata": {
        "id": "6Auyj8-mb6ou",
        "colab_type": "code",
        "colab": {}
      },
      "cell_type": "code",
      "source": [
        "def policy_backward(eph, epdlogp):\n",
        "    \"\"\" backward pass. (eph is array of intermediate hidden states) \"\"\"\n",
        "    dW2 = np.dot(eph.T, epdlogp).ravel()\n",
        "    dh = np.outer(epdlogp, model['W2'])\n",
        "    dh[eph <= 0] = 0 # backpro prelu\n",
        "    dW1 = np.dot(dh.T, epx)\n",
        "    return {'W1':dW1, 'W2':dW2}"
      ],
      "execution_count": 0,
      "outputs": []
    },
    {
      "metadata": {
        "id": "D-sC9jofb6ox",
        "colab_type": "code",
        "colab": {}
      },
      "cell_type": "code",
      "source": [
        "env = gym.make(\"Pong-v0\")\n",
        "observation = env.reset()\n",
        "prev_x = None # used in computing the difference frame\n",
        "xs,hs,dlogps,drs = [],[],[],[]\n",
        "running_reward = None\n",
        "reward_sum = 0\n",
        "episode_number = 0"
      ],
      "execution_count": 0,
      "outputs": []
    },
    {
      "metadata": {
        "id": "MtBph2A2b6oz",
        "colab_type": "text"
      },
      "cell_type": "markdown",
      "source": [
        "---\n",
        "\n",
        "<font size=\"+2\" color=\"red\">注:以下を実行すると無限ループです。適当なところで止めてください</font>\n"
      ]
    },
    {
      "metadata": {
        "scrolled": false,
        "id": "FA41xKp6b6o0",
        "colab_type": "code",
        "colab": {},
        "outputId": "43cc5b55-f8db-4c5d-d02d-081bf8b5ccb6"
      },
      "cell_type": "code",
      "source": [
        "while True:\n",
        "    if render: \n",
        "        env.render()\n",
        "\n",
        "    # preprocess the observation, set input to network to be difference image\n",
        "    cur_x = prepro(observation)\n",
        "    x = cur_x - prev_x if prev_x is not None else np.zeros(D)\n",
        "    prev_x = cur_x\n",
        "\n",
        "    # forward the policy network and sample an action from the returned probability\n",
        "    aprob, h = policy_forward(x)\n",
        "    action = 2 if np.random.uniform() < aprob else 3 # roll the dice!\n",
        "\n",
        "    # record various intermediates (needed later for backprop)\n",
        "    xs.append(x) # observation\n",
        "    hs.append(h) # hidden state\n",
        "    y = 1 if action == 2 else 0 # a \"fake label\"\n",
        "    dlogps.append(y - aprob) \n",
        "    # grad that encourages the action that was taken to be taken\n",
        "    #(see http://cs231n.github.io/neural-networks-2/#losses if confused)\n",
        "\n",
        "    # step the environment and get new measurements\n",
        "    observation, reward, done, info = env.step(action)\n",
        "    reward_sum += reward\n",
        "\n",
        "    drs.append(reward) # record reward (has to be done after we call step() \n",
        "                       #  to get reward for previous action)\n",
        "\n",
        "    if done: # an episode finished\n",
        "        episode_number += 1\n",
        "\n",
        "        # stack together all inputs, hidden states, action gradients, and rewards for this episode\n",
        "        epx = np.vstack(xs)\n",
        "        eph = np.vstack(hs)\n",
        "        epdlogp = np.vstack(dlogps)\n",
        "        epr = np.vstack(drs)\n",
        "        xs,hs,dlogps,drs = [],[],[],[] # reset array memory\n",
        "\n",
        "        # compute the discounted reward backwards through time\n",
        "        discounted_epr = discount_rewards(epr)\n",
        "        # standardize the rewards to be unit normal (helps control the gradient estimator variance)\n",
        "        discounted_epr -= np.mean(discounted_epr)\n",
        "        discounted_epr /= np.std(discounted_epr)\n",
        "\n",
        "        epdlogp *= discounted_epr # modulate the gradient with advantage (PG magic happens right here.)\n",
        "        grad = policy_backward(eph, epdlogp)\n",
        "        for k in model: grad_buffer[k] += grad[k] # accumulate grad over batch\n",
        "\n",
        "        # perform rmsprop parameter update every batch_size episodes\n",
        "        if episode_number % batch_size == 0:\n",
        "            for k,v in model.items():\n",
        "                g = grad_buffer[k] # gradient\n",
        "                rmsprop_cache[k] = decay_rate * rmsprop_cache[k] + (1 - decay_rate) * g**2\n",
        "                model[k] += learning_rate * g / (np.sqrt(rmsprop_cache[k]) + 1e-5)\n",
        "                grad_buffer[k] = np.zeros_like(v) # reset batch gradient buffer\n",
        "\n",
        "        # boring book-keeping\n",
        "        running_reward = reward_sum if running_reward is None else running_reward * 0.99 + reward_sum * 0.01\n",
        "        print('resetting env. episode reward total was %f. running mean: %f' % (reward_sum, running_reward))\n",
        "        if episode_number % 100 == 0: pickle.dump(model, open('save.p', 'wb'))\n",
        "        reward_sum = 0\n",
        "        observation = env.reset() # reset env\n",
        "        prev_x = None\n",
        "\n",
        "    if reward != 0: # Pong has either +1 or -1 reward exactly when game ends.\n",
        "        print('ep %d: game finished, reward: %f' % (episode_number, reward), end='')\n",
        "        print('') if reward == -1 else ' !!!!!!!!'"
      ],
      "execution_count": 0,
      "outputs": [
        {
          "output_type": "stream",
          "text": [
            "ep 0: game finished, reward: -1.000000\n",
            "ep 0: game finished, reward: -1.000000\n",
            "ep 0: game finished, reward: -1.000000\n",
            "ep 0: game finished, reward: -1.000000\n",
            "ep 0: game finished, reward: -1.000000\n",
            "ep 0: game finished, reward: -1.000000\n",
            "ep 0: game finished, reward: -1.000000\n",
            "ep 0: game finished, reward: -1.000000\n",
            "ep 0: game finished, reward: -1.000000\n",
            "ep 0: game finished, reward: -1.000000\n",
            "ep 0: game finished, reward: -1.000000\n",
            "ep 0: game finished, reward: -1.000000\n",
            "ep 0: game finished, reward: -1.000000\n",
            "ep 0: game finished, reward: -1.000000\n",
            "ep 0: game finished, reward: -1.000000\n",
            "ep 0: game finished, reward: -1.000000\n",
            "ep 0: game finished, reward: -1.000000\n",
            "ep 0: game finished, reward: -1.000000\n",
            "ep 0: game finished, reward: -1.000000\n",
            "ep 0: game finished, reward: -1.000000\n",
            "resetting env. episode reward total was -21.000000. running mean: -21.000000\n",
            "ep 1: game finished, reward: -1.000000\n",
            "ep 1: game finished, reward: -1.000000\n",
            "ep 1: game finished, reward: -1.000000\n",
            "ep 1: game finished, reward: -1.000000\n",
            "ep 1: game finished, reward: 1.000000"
          ],
          "name": "stdout"
        },
        {
          "output_type": "execute_result",
          "data": {
            "text/plain": [
              "' !!!!!!!!'"
            ]
          },
          "metadata": {
            "tags": []
          },
          "execution_count": 11
        },
        {
          "output_type": "stream",
          "text": [
            "ep 1: game finished, reward: -1.000000\n",
            "ep 1: game finished, reward: -1.000000\n",
            "ep 1: game finished, reward: -1.000000\n",
            "ep 1: game finished, reward: -1.000000\n",
            "ep 1: game finished, reward: -1.000000\n",
            "ep 1: game finished, reward: -1.000000\n",
            "ep 1: game finished, reward: -1.000000\n",
            "ep 1: game finished, reward: -1.000000\n",
            "ep 1: game finished, reward: -1.000000\n",
            "ep 1: game finished, reward: -1.000000\n",
            "ep 1: game finished, reward: -1.000000\n",
            "ep 1: game finished, reward: -1.000000\n",
            "ep 1: game finished, reward: -1.000000\n",
            "ep 1: game finished, reward: -1.000000\n",
            "ep 1: game finished, reward: -1.000000\n",
            "ep 1: game finished, reward: -1.000000\n",
            "ep 1: game finished, reward: -1.000000\n",
            "resetting env. episode reward total was -20.000000. running mean: -20.990000\n",
            "ep 2: game finished, reward: -1.000000\n",
            "ep 2: game finished, reward: -1.000000\n",
            "ep 2: game finished, reward: -1.000000\n",
            "ep 2: game finished, reward: -1.000000\n",
            "ep 2: game finished, reward: -1.000000\n",
            "ep 2: game finished, reward: -1.000000\n",
            "ep 2: game finished, reward: -1.000000\n",
            "ep 2: game finished, reward: -1.000000\n",
            "ep 2: game finished, reward: -1.000000\n",
            "ep 2: game finished, reward: -1.000000\n",
            "ep 2: game finished, reward: -1.000000\n",
            "ep 2: game finished, reward: -1.000000\n",
            "ep 2: game finished, reward: -1.000000\n",
            "ep 2: game finished, reward: -1.000000\n",
            "ep 2: game finished, reward: 1.000000"
          ],
          "name": "stdout"
        },
        {
          "output_type": "execute_result",
          "data": {
            "text/plain": [
              "' !!!!!!!!'"
            ]
          },
          "metadata": {
            "tags": []
          },
          "execution_count": 11
        },
        {
          "output_type": "stream",
          "text": [
            "ep 2: game finished, reward: -1.000000\n",
            "ep 2: game finished, reward: -1.000000\n",
            "ep 2: game finished, reward: -1.000000\n",
            "ep 2: game finished, reward: -1.000000\n",
            "ep 2: game finished, reward: -1.000000\n",
            "ep 2: game finished, reward: -1.000000\n",
            "ep 2: game finished, reward: -1.000000\n",
            "resetting env. episode reward total was -20.000000. running mean: -20.980100\n",
            "ep 3: game finished, reward: -1.000000\n",
            "ep 3: game finished, reward: -1.000000\n",
            "ep 3: game finished, reward: -1.000000\n",
            "ep 3: game finished, reward: -1.000000\n",
            "ep 3: game finished, reward: -1.000000\n",
            "ep 3: game finished, reward: -1.000000\n",
            "ep 3: game finished, reward: -1.000000\n",
            "ep 3: game finished, reward: -1.000000\n",
            "ep 3: game finished, reward: -1.000000\n",
            "ep 3: game finished, reward: -1.000000\n",
            "ep 3: game finished, reward: -1.000000\n",
            "ep 3: game finished, reward: -1.000000\n",
            "ep 3: game finished, reward: -1.000000\n",
            "ep 3: game finished, reward: -1.000000\n",
            "ep 3: game finished, reward: -1.000000\n",
            "ep 3: game finished, reward: -1.000000\n",
            "ep 3: game finished, reward: -1.000000\n",
            "ep 3: game finished, reward: -1.000000\n",
            "ep 3: game finished, reward: -1.000000\n",
            "ep 3: game finished, reward: -1.000000\n",
            "ep 3: game finished, reward: -1.000000\n",
            "resetting env. episode reward total was -21.000000. running mean: -20.980299\n",
            "ep 4: game finished, reward: -1.000000\n",
            "ep 4: game finished, reward: -1.000000\n",
            "ep 4: game finished, reward: -1.000000\n",
            "ep 4: game finished, reward: -1.000000\n",
            "ep 4: game finished, reward: -1.000000\n",
            "ep 4: game finished, reward: -1.000000\n",
            "ep 4: game finished, reward: -1.000000\n",
            "ep 4: game finished, reward: -1.000000\n",
            "ep 4: game finished, reward: -1.000000\n",
            "ep 4: game finished, reward: -1.000000\n",
            "ep 4: game finished, reward: -1.000000\n",
            "ep 4: game finished, reward: -1.000000\n",
            "ep 4: game finished, reward: -1.000000\n",
            "ep 4: game finished, reward: -1.000000\n",
            "ep 4: game finished, reward: -1.000000\n",
            "ep 4: game finished, reward: -1.000000\n",
            "ep 4: game finished, reward: -1.000000\n",
            "ep 4: game finished, reward: -1.000000\n",
            "ep 4: game finished, reward: -1.000000\n",
            "ep 4: game finished, reward: -1.000000\n",
            "ep 4: game finished, reward: -1.000000\n",
            "resetting env. episode reward total was -21.000000. running mean: -20.980496\n",
            "ep 5: game finished, reward: -1.000000\n",
            "ep 5: game finished, reward: -1.000000\n",
            "ep 5: game finished, reward: -1.000000\n",
            "ep 5: game finished, reward: -1.000000\n",
            "ep 5: game finished, reward: -1.000000\n",
            "ep 5: game finished, reward: -1.000000\n",
            "ep 5: game finished, reward: -1.000000\n",
            "ep 5: game finished, reward: -1.000000\n",
            "ep 5: game finished, reward: -1.000000\n",
            "ep 5: game finished, reward: -1.000000\n",
            "ep 5: game finished, reward: -1.000000\n",
            "ep 5: game finished, reward: -1.000000\n",
            "ep 5: game finished, reward: -1.000000\n",
            "ep 5: game finished, reward: -1.000000\n",
            "ep 5: game finished, reward: -1.000000\n",
            "ep 5: game finished, reward: -1.000000\n",
            "ep 5: game finished, reward: -1.000000\n",
            "ep 5: game finished, reward: -1.000000\n",
            "ep 5: game finished, reward: -1.000000\n",
            "ep 5: game finished, reward: -1.000000\n",
            "ep 5: game finished, reward: -1.000000\n",
            "resetting env. episode reward total was -21.000000. running mean: -20.980691\n",
            "ep 6: game finished, reward: -1.000000\n",
            "ep 6: game finished, reward: -1.000000\n",
            "ep 6: game finished, reward: -1.000000\n",
            "ep 6: game finished, reward: -1.000000\n",
            "ep 6: game finished, reward: -1.000000\n",
            "ep 6: game finished, reward: -1.000000\n",
            "ep 6: game finished, reward: -1.000000\n",
            "ep 6: game finished, reward: -1.000000\n",
            "ep 6: game finished, reward: -1.000000\n",
            "ep 6: game finished, reward: -1.000000\n",
            "ep 6: game finished, reward: -1.000000\n",
            "ep 6: game finished, reward: -1.000000\n",
            "ep 6: game finished, reward: -1.000000\n",
            "ep 6: game finished, reward: -1.000000\n",
            "ep 6: game finished, reward: -1.000000\n",
            "ep 6: game finished, reward: -1.000000\n",
            "ep 6: game finished, reward: -1.000000\n",
            "ep 6: game finished, reward: -1.000000\n",
            "ep 6: game finished, reward: -1.000000\n",
            "ep 6: game finished, reward: -1.000000\n",
            "ep 6: game finished, reward: -1.000000\n",
            "resetting env. episode reward total was -21.000000. running mean: -20.980884\n",
            "ep 7: game finished, reward: -1.000000\n",
            "ep 7: game finished, reward: -1.000000\n",
            "ep 7: game finished, reward: -1.000000\n",
            "ep 7: game finished, reward: -1.000000\n",
            "ep 7: game finished, reward: -1.000000\n",
            "ep 7: game finished, reward: -1.000000\n",
            "ep 7: game finished, reward: -1.000000\n",
            "ep 7: game finished, reward: -1.000000\n",
            "ep 7: game finished, reward: -1.000000\n",
            "ep 7: game finished, reward: -1.000000\n",
            "ep 7: game finished, reward: -1.000000\n",
            "ep 7: game finished, reward: -1.000000\n",
            "ep 7: game finished, reward: -1.000000\n",
            "ep 7: game finished, reward: -1.000000\n",
            "ep 7: game finished, reward: -1.000000\n",
            "ep 7: game finished, reward: -1.000000\n",
            "ep 7: game finished, reward: -1.000000\n",
            "ep 7: game finished, reward: -1.000000\n",
            "ep 7: game finished, reward: -1.000000\n",
            "ep 7: game finished, reward: -1.000000\n",
            "ep 7: game finished, reward: -1.000000\n",
            "resetting env. episode reward total was -21.000000. running mean: -20.981075\n",
            "ep 8: game finished, reward: -1.000000\n",
            "ep 8: game finished, reward: -1.000000\n",
            "ep 8: game finished, reward: -1.000000\n",
            "ep 8: game finished, reward: -1.000000\n",
            "ep 8: game finished, reward: -1.000000\n",
            "ep 8: game finished, reward: -1.000000\n",
            "ep 8: game finished, reward: -1.000000\n",
            "ep 8: game finished, reward: -1.000000\n",
            "ep 8: game finished, reward: 1.000000"
          ],
          "name": "stdout"
        },
        {
          "output_type": "execute_result",
          "data": {
            "text/plain": [
              "' !!!!!!!!'"
            ]
          },
          "metadata": {
            "tags": []
          },
          "execution_count": 11
        },
        {
          "output_type": "stream",
          "text": [
            "ep 8: game finished, reward: -1.000000\n",
            "ep 8: game finished, reward: -1.000000\n",
            "ep 8: game finished, reward: -1.000000\n",
            "ep 8: game finished, reward: -1.000000\n",
            "ep 8: game finished, reward: -1.000000\n",
            "ep 8: game finished, reward: -1.000000\n",
            "ep 8: game finished, reward: -1.000000\n",
            "ep 8: game finished, reward: -1.000000\n",
            "ep 8: game finished, reward: -1.000000\n",
            "ep 8: game finished, reward: -1.000000\n",
            "ep 8: game finished, reward: -1.000000\n",
            "ep 8: game finished, reward: -1.000000\n",
            "ep 8: game finished, reward: -1.000000\n",
            "resetting env. episode reward total was -20.000000. running mean: -20.971265\n",
            "ep 9: game finished, reward: -1.000000\n",
            "ep 9: game finished, reward: -1.000000\n",
            "ep 9: game finished, reward: -1.000000\n",
            "ep 9: game finished, reward: -1.000000\n",
            "ep 9: game finished, reward: -1.000000\n",
            "ep 9: game finished, reward: -1.000000\n",
            "ep 9: game finished, reward: -1.000000\n",
            "ep 9: game finished, reward: -1.000000\n",
            "ep 9: game finished, reward: -1.000000\n",
            "ep 9: game finished, reward: -1.000000\n",
            "ep 9: game finished, reward: -1.000000\n",
            "ep 9: game finished, reward: -1.000000\n",
            "ep 9: game finished, reward: -1.000000\n",
            "ep 9: game finished, reward: -1.000000\n",
            "ep 9: game finished, reward: -1.000000\n",
            "ep 9: game finished, reward: -1.000000\n",
            "ep 9: game finished, reward: -1.000000\n",
            "ep 9: game finished, reward: -1.000000\n",
            "ep 9: game finished, reward: -1.000000\n",
            "ep 9: game finished, reward: -1.000000\n",
            "ep 9: game finished, reward: -1.000000\n",
            "resetting env. episode reward total was -21.000000. running mean: -20.971552\n",
            "ep 10: game finished, reward: -1.000000\n",
            "ep 10: game finished, reward: -1.000000\n",
            "ep 10: game finished, reward: -1.000000\n",
            "ep 10: game finished, reward: -1.000000\n",
            "ep 10: game finished, reward: -1.000000\n",
            "ep 10: game finished, reward: -1.000000\n",
            "ep 10: game finished, reward: -1.000000\n",
            "ep 10: game finished, reward: -1.000000\n",
            "ep 10: game finished, reward: -1.000000\n",
            "ep 10: game finished, reward: -1.000000\n",
            "ep 10: game finished, reward: -1.000000\n",
            "ep 10: game finished, reward: -1.000000\n",
            "ep 10: game finished, reward: 1.000000"
          ],
          "name": "stdout"
        },
        {
          "output_type": "execute_result",
          "data": {
            "text/plain": [
              "' !!!!!!!!'"
            ]
          },
          "metadata": {
            "tags": []
          },
          "execution_count": 11
        },
        {
          "output_type": "stream",
          "text": [
            "ep 10: game finished, reward: -1.000000\n",
            "ep 10: game finished, reward: -1.000000\n",
            "ep 10: game finished, reward: 1.000000"
          ],
          "name": "stdout"
        },
        {
          "output_type": "execute_result",
          "data": {
            "text/plain": [
              "' !!!!!!!!'"
            ]
          },
          "metadata": {
            "tags": []
          },
          "execution_count": 11
        },
        {
          "output_type": "stream",
          "text": [
            "ep 10: game finished, reward: -1.000000\n",
            "ep 10: game finished, reward: -1.000000\n",
            "ep 10: game finished, reward: -1.000000\n",
            "ep 10: game finished, reward: -1.000000\n",
            "ep 10: game finished, reward: -1.000000\n",
            "ep 10: game finished, reward: -1.000000\n",
            "ep 10: game finished, reward: -1.000000\n",
            "resetting env. episode reward total was -19.000000. running mean: -20.951836\n",
            "ep 11: game finished, reward: -1.000000\n",
            "ep 11: game finished, reward: -1.000000\n",
            "ep 11: game finished, reward: -1.000000\n",
            "ep 11: game finished, reward: -1.000000\n",
            "ep 11: game finished, reward: -1.000000\n",
            "ep 11: game finished, reward: -1.000000\n",
            "ep 11: game finished, reward: -1.000000\n",
            "ep 11: game finished, reward: -1.000000\n",
            "ep 11: game finished, reward: -1.000000\n",
            "ep 11: game finished, reward: -1.000000\n",
            "ep 11: game finished, reward: -1.000000\n",
            "ep 11: game finished, reward: -1.000000\n",
            "ep 11: game finished, reward: -1.000000\n",
            "ep 11: game finished, reward: -1.000000\n",
            "ep 11: game finished, reward: -1.000000\n",
            "ep 11: game finished, reward: -1.000000\n",
            "ep 11: game finished, reward: -1.000000\n",
            "ep 11: game finished, reward: -1.000000\n",
            "ep 11: game finished, reward: -1.000000\n",
            "ep 11: game finished, reward: -1.000000\n",
            "ep 11: game finished, reward: -1.000000\n",
            "resetting env. episode reward total was -21.000000. running mean: -20.952318\n",
            "ep 12: game finished, reward: -1.000000\n",
            "ep 12: game finished, reward: -1.000000\n",
            "ep 12: game finished, reward: -1.000000\n",
            "ep 12: game finished, reward: -1.000000\n",
            "ep 12: game finished, reward: -1.000000\n",
            "ep 12: game finished, reward: -1.000000\n",
            "ep 12: game finished, reward: -1.000000\n",
            "ep 12: game finished, reward: -1.000000\n",
            "ep 12: game finished, reward: -1.000000\n",
            "ep 12: game finished, reward: -1.000000\n",
            "ep 12: game finished, reward: -1.000000\n",
            "ep 12: game finished, reward: -1.000000\n",
            "ep 12: game finished, reward: -1.000000\n",
            "ep 12: game finished, reward: -1.000000\n",
            "ep 12: game finished, reward: -1.000000\n",
            "ep 12: game finished, reward: -1.000000\n",
            "ep 12: game finished, reward: -1.000000\n",
            "ep 12: game finished, reward: -1.000000\n",
            "ep 12: game finished, reward: -1.000000\n",
            "ep 12: game finished, reward: -1.000000\n",
            "ep 12: game finished, reward: -1.000000\n",
            "resetting env. episode reward total was -21.000000. running mean: -20.952795\n",
            "ep 13: game finished, reward: -1.000000\n",
            "ep 13: game finished, reward: -1.000000\n",
            "ep 13: game finished, reward: -1.000000\n",
            "ep 13: game finished, reward: -1.000000\n",
            "ep 13: game finished, reward: -1.000000\n",
            "ep 13: game finished, reward: -1.000000\n",
            "ep 13: game finished, reward: -1.000000\n",
            "ep 13: game finished, reward: -1.000000\n",
            "ep 13: game finished, reward: -1.000000\n",
            "ep 13: game finished, reward: -1.000000\n",
            "ep 13: game finished, reward: -1.000000\n",
            "ep 13: game finished, reward: -1.000000\n",
            "ep 13: game finished, reward: -1.000000\n",
            "ep 13: game finished, reward: -1.000000\n",
            "ep 13: game finished, reward: -1.000000\n",
            "ep 13: game finished, reward: -1.000000\n",
            "ep 13: game finished, reward: -1.000000\n",
            "ep 13: game finished, reward: -1.000000\n",
            "ep 13: game finished, reward: -1.000000\n",
            "ep 13: game finished, reward: -1.000000\n",
            "ep 13: game finished, reward: -1.000000\n",
            "resetting env. episode reward total was -21.000000. running mean: -20.953267\n",
            "ep 14: game finished, reward: -1.000000\n",
            "ep 14: game finished, reward: -1.000000\n",
            "ep 14: game finished, reward: -1.000000\n",
            "ep 14: game finished, reward: -1.000000\n",
            "ep 14: game finished, reward: -1.000000\n",
            "ep 14: game finished, reward: -1.000000\n",
            "ep 14: game finished, reward: -1.000000\n",
            "ep 14: game finished, reward: -1.000000\n",
            "ep 14: game finished, reward: -1.000000\n",
            "ep 14: game finished, reward: -1.000000\n",
            "ep 14: game finished, reward: -1.000000\n",
            "ep 14: game finished, reward: -1.000000\n",
            "ep 14: game finished, reward: -1.000000\n",
            "ep 14: game finished, reward: -1.000000\n",
            "ep 14: game finished, reward: -1.000000\n",
            "ep 14: game finished, reward: -1.000000\n",
            "ep 14: game finished, reward: -1.000000\n",
            "ep 14: game finished, reward: -1.000000\n",
            "ep 14: game finished, reward: -1.000000\n",
            "ep 14: game finished, reward: -1.000000\n",
            "ep 14: game finished, reward: -1.000000\n",
            "resetting env. episode reward total was -21.000000. running mean: -20.953734\n",
            "ep 15: game finished, reward: -1.000000\n",
            "ep 15: game finished, reward: -1.000000\n",
            "ep 15: game finished, reward: -1.000000\n",
            "ep 15: game finished, reward: -1.000000\n",
            "ep 15: game finished, reward: -1.000000\n",
            "ep 15: game finished, reward: -1.000000\n",
            "ep 15: game finished, reward: -1.000000\n",
            "ep 15: game finished, reward: -1.000000\n",
            "ep 15: game finished, reward: -1.000000\n",
            "ep 15: game finished, reward: -1.000000\n",
            "ep 15: game finished, reward: -1.000000\n",
            "ep 15: game finished, reward: -1.000000\n",
            "ep 15: game finished, reward: -1.000000\n",
            "ep 15: game finished, reward: -1.000000\n",
            "ep 15: game finished, reward: -1.000000\n",
            "ep 15: game finished, reward: -1.000000\n",
            "ep 15: game finished, reward: -1.000000\n",
            "ep 15: game finished, reward: -1.000000\n",
            "ep 15: game finished, reward: -1.000000\n",
            "ep 15: game finished, reward: -1.000000\n",
            "ep 15: game finished, reward: -1.000000\n",
            "resetting env. episode reward total was -21.000000. running mean: -20.954197\n",
            "ep 16: game finished, reward: -1.000000\n",
            "ep 16: game finished, reward: -1.000000\n",
            "ep 16: game finished, reward: -1.000000\n",
            "ep 16: game finished, reward: -1.000000\n",
            "ep 16: game finished, reward: -1.000000\n",
            "ep 16: game finished, reward: -1.000000\n",
            "ep 16: game finished, reward: -1.000000\n",
            "ep 16: game finished, reward: -1.000000\n",
            "ep 16: game finished, reward: -1.000000\n",
            "ep 16: game finished, reward: -1.000000\n",
            "ep 16: game finished, reward: -1.000000\n",
            "ep 16: game finished, reward: -1.000000\n",
            "ep 16: game finished, reward: -1.000000\n",
            "ep 16: game finished, reward: -1.000000\n",
            "ep 16: game finished, reward: -1.000000\n",
            "ep 16: game finished, reward: -1.000000\n",
            "ep 16: game finished, reward: -1.000000\n",
            "ep 16: game finished, reward: -1.000000\n",
            "ep 16: game finished, reward: -1.000000\n",
            "ep 16: game finished, reward: -1.000000\n",
            "ep 16: game finished, reward: -1.000000\n",
            "resetting env. episode reward total was -21.000000. running mean: -20.954655\n",
            "ep 17: game finished, reward: -1.000000\n",
            "ep 17: game finished, reward: -1.000000\n",
            "ep 17: game finished, reward: -1.000000\n",
            "ep 17: game finished, reward: -1.000000\n",
            "ep 17: game finished, reward: -1.000000\n",
            "ep 17: game finished, reward: -1.000000\n",
            "ep 17: game finished, reward: -1.000000\n",
            "ep 17: game finished, reward: -1.000000\n",
            "ep 17: game finished, reward: -1.000000\n",
            "ep 17: game finished, reward: -1.000000\n",
            "ep 17: game finished, reward: -1.000000\n",
            "ep 17: game finished, reward: 1.000000"
          ],
          "name": "stdout"
        },
        {
          "output_type": "execute_result",
          "data": {
            "text/plain": [
              "' !!!!!!!!'"
            ]
          },
          "metadata": {
            "tags": []
          },
          "execution_count": 11
        },
        {
          "output_type": "stream",
          "text": [
            "ep 17: game finished, reward: -1.000000\n",
            "ep 17: game finished, reward: -1.000000\n",
            "ep 17: game finished, reward: -1.000000\n",
            "ep 17: game finished, reward: -1.000000\n",
            "ep 17: game finished, reward: -1.000000\n",
            "ep 17: game finished, reward: -1.000000\n",
            "ep 17: game finished, reward: -1.000000\n",
            "ep 17: game finished, reward: -1.000000\n",
            "ep 17: game finished, reward: -1.000000\n",
            "ep 17: game finished, reward: -1.000000\n",
            "ep 17: game finished, reward: 1.000000"
          ],
          "name": "stdout"
        },
        {
          "output_type": "execute_result",
          "data": {
            "text/plain": [
              "' !!!!!!!!'"
            ]
          },
          "metadata": {
            "tags": []
          },
          "execution_count": 11
        },
        {
          "output_type": "stream",
          "text": [
            "resetting env. episode reward total was -19.000000. running mean: -20.935108\n",
            "ep 18: game finished, reward: -1.000000\n",
            "ep 18: game finished, reward: -1.000000\n",
            "ep 18: game finished, reward: -1.000000\n",
            "ep 18: game finished, reward: -1.000000\n",
            "ep 18: game finished, reward: -1.000000\n",
            "ep 18: game finished, reward: -1.000000\n",
            "ep 18: game finished, reward: -1.000000\n",
            "ep 18: game finished, reward: -1.000000\n",
            "ep 18: game finished, reward: -1.000000\n",
            "ep 18: game finished, reward: -1.000000\n",
            "ep 18: game finished, reward: -1.000000\n",
            "ep 18: game finished, reward: -1.000000\n",
            "ep 18: game finished, reward: -1.000000\n",
            "ep 18: game finished, reward: -1.000000\n",
            "ep 18: game finished, reward: -1.000000\n",
            "ep 18: game finished, reward: -1.000000\n",
            "ep 18: game finished, reward: -1.000000\n",
            "ep 18: game finished, reward: -1.000000\n",
            "ep 18: game finished, reward: -1.000000\n",
            "ep 18: game finished, reward: -1.000000\n",
            "ep 18: game finished, reward: -1.000000\n",
            "resetting env. episode reward total was -21.000000. running mean: -20.935757\n",
            "ep 19: game finished, reward: -1.000000\n",
            "ep 19: game finished, reward: -1.000000\n",
            "ep 19: game finished, reward: -1.000000\n",
            "ep 19: game finished, reward: 1.000000"
          ],
          "name": "stdout"
        },
        {
          "output_type": "execute_result",
          "data": {
            "text/plain": [
              "' !!!!!!!!'"
            ]
          },
          "metadata": {
            "tags": []
          },
          "execution_count": 11
        },
        {
          "output_type": "stream",
          "text": [
            "ep 19: game finished, reward: -1.000000\n",
            "ep 19: game finished, reward: -1.000000\n",
            "ep 19: game finished, reward: -1.000000\n",
            "ep 19: game finished, reward: -1.000000\n",
            "ep 19: game finished, reward: -1.000000\n",
            "ep 19: game finished, reward: -1.000000\n",
            "ep 19: game finished, reward: -1.000000\n",
            "ep 19: game finished, reward: 1.000000"
          ],
          "name": "stdout"
        },
        {
          "output_type": "execute_result",
          "data": {
            "text/plain": [
              "' !!!!!!!!'"
            ]
          },
          "metadata": {
            "tags": []
          },
          "execution_count": 11
        },
        {
          "output_type": "stream",
          "text": [
            "ep 19: game finished, reward: -1.000000\n",
            "ep 19: game finished, reward: -1.000000\n",
            "ep 19: game finished, reward: -1.000000\n",
            "ep 19: game finished, reward: -1.000000\n",
            "ep 19: game finished, reward: -1.000000\n",
            "ep 19: game finished, reward: -1.000000\n",
            "ep 19: game finished, reward: -1.000000\n",
            "ep 19: game finished, reward: -1.000000\n",
            "ep 19: game finished, reward: -1.000000\n",
            "ep 19: game finished, reward: -1.000000\n",
            "ep 19: game finished, reward: -1.000000\n",
            "resetting env. episode reward total was -19.000000. running mean: -20.916400\n",
            "ep 20: game finished, reward: -1.000000\n",
            "ep 20: game finished, reward: -1.000000\n",
            "ep 20: game finished, reward: -1.000000\n",
            "ep 20: game finished, reward: -1.000000\n",
            "ep 20: game finished, reward: -1.000000\n",
            "ep 20: game finished, reward: -1.000000\n",
            "ep 20: game finished, reward: -1.000000\n",
            "ep 20: game finished, reward: -1.000000\n",
            "ep 20: game finished, reward: -1.000000\n",
            "ep 20: game finished, reward: 1.000000"
          ],
          "name": "stdout"
        },
        {
          "output_type": "execute_result",
          "data": {
            "text/plain": [
              "' !!!!!!!!'"
            ]
          },
          "metadata": {
            "tags": []
          },
          "execution_count": 11
        },
        {
          "output_type": "stream",
          "text": [
            "ep 20: game finished, reward: -1.000000\n",
            "ep 20: game finished, reward: -1.000000\n",
            "ep 20: game finished, reward: -1.000000\n",
            "ep 20: game finished, reward: -1.000000\n",
            "ep 20: game finished, reward: -1.000000\n",
            "ep 20: game finished, reward: -1.000000\n",
            "ep 20: game finished, reward: -1.000000\n",
            "ep 20: game finished, reward: -1.000000\n",
            "ep 20: game finished, reward: -1.000000\n",
            "ep 20: game finished, reward: -1.000000\n",
            "ep 20: game finished, reward: -1.000000\n",
            "ep 20: game finished, reward: -1.000000\n",
            "resetting env. episode reward total was -20.000000. running mean: -20.907236\n",
            "ep 21: game finished, reward: -1.000000\n",
            "ep 21: game finished, reward: -1.000000\n",
            "ep 21: game finished, reward: -1.000000\n",
            "ep 21: game finished, reward: -1.000000\n",
            "ep 21: game finished, reward: -1.000000\n",
            "ep 21: game finished, reward: -1.000000\n",
            "ep 21: game finished, reward: -1.000000\n",
            "ep 21: game finished, reward: -1.000000\n",
            "ep 21: game finished, reward: 1.000000"
          ],
          "name": "stdout"
        },
        {
          "output_type": "execute_result",
          "data": {
            "text/plain": [
              "' !!!!!!!!'"
            ]
          },
          "metadata": {
            "tags": []
          },
          "execution_count": 11
        },
        {
          "output_type": "stream",
          "text": [
            "ep 21: game finished, reward: -1.000000\n",
            "ep 21: game finished, reward: -1.000000\n",
            "ep 21: game finished, reward: -1.000000\n",
            "ep 21: game finished, reward: -1.000000\n",
            "ep 21: game finished, reward: -1.000000\n",
            "ep 21: game finished, reward: -1.000000\n",
            "ep 21: game finished, reward: -1.000000\n",
            "ep 21: game finished, reward: -1.000000\n",
            "ep 21: game finished, reward: -1.000000\n",
            "ep 21: game finished, reward: -1.000000\n",
            "ep 21: game finished, reward: -1.000000\n",
            "ep 21: game finished, reward: -1.000000\n",
            "ep 21: game finished, reward: -1.000000\n",
            "resetting env. episode reward total was -20.000000. running mean: -20.898163\n",
            "ep 22: game finished, reward: -1.000000\n",
            "ep 22: game finished, reward: -1.000000\n",
            "ep 22: game finished, reward: -1.000000\n",
            "ep 22: game finished, reward: -1.000000\n",
            "ep 22: game finished, reward: -1.000000\n",
            "ep 22: game finished, reward: -1.000000\n",
            "ep 22: game finished, reward: -1.000000\n",
            "ep 22: game finished, reward: -1.000000\n",
            "ep 22: game finished, reward: -1.000000\n",
            "ep 22: game finished, reward: -1.000000\n",
            "ep 22: game finished, reward: -1.000000\n",
            "ep 22: game finished, reward: -1.000000\n",
            "ep 22: game finished, reward: -1.000000\n",
            "ep 22: game finished, reward: -1.000000\n",
            "ep 22: game finished, reward: -1.000000\n",
            "ep 22: game finished, reward: -1.000000\n",
            "ep 22: game finished, reward: -1.000000\n",
            "ep 22: game finished, reward: -1.000000\n",
            "ep 22: game finished, reward: -1.000000\n",
            "ep 22: game finished, reward: -1.000000\n",
            "ep 22: game finished, reward: -1.000000\n",
            "resetting env. episode reward total was -21.000000. running mean: -20.899182\n",
            "ep 23: game finished, reward: -1.000000\n",
            "ep 23: game finished, reward: -1.000000\n",
            "ep 23: game finished, reward: -1.000000\n",
            "ep 23: game finished, reward: -1.000000\n",
            "ep 23: game finished, reward: -1.000000\n",
            "ep 23: game finished, reward: -1.000000\n",
            "ep 23: game finished, reward: -1.000000\n",
            "ep 23: game finished, reward: -1.000000\n",
            "ep 23: game finished, reward: -1.000000\n",
            "ep 23: game finished, reward: -1.000000\n",
            "ep 23: game finished, reward: -1.000000\n",
            "ep 23: game finished, reward: -1.000000\n",
            "ep 23: game finished, reward: -1.000000\n",
            "ep 23: game finished, reward: -1.000000\n",
            "ep 23: game finished, reward: -1.000000\n",
            "ep 23: game finished, reward: -1.000000\n",
            "ep 23: game finished, reward: -1.000000\n",
            "ep 23: game finished, reward: -1.000000\n",
            "ep 23: game finished, reward: -1.000000\n",
            "ep 23: game finished, reward: -1.000000\n",
            "ep 23: game finished, reward: -1.000000\n",
            "resetting env. episode reward total was -21.000000. running mean: -20.900190\n",
            "ep 24: game finished, reward: -1.000000\n",
            "ep 24: game finished, reward: -1.000000\n",
            "ep 24: game finished, reward: -1.000000\n",
            "ep 24: game finished, reward: -1.000000\n",
            "ep 24: game finished, reward: -1.000000\n",
            "ep 24: game finished, reward: -1.000000\n",
            "ep 24: game finished, reward: -1.000000\n",
            "ep 24: game finished, reward: -1.000000\n",
            "ep 24: game finished, reward: -1.000000\n",
            "ep 24: game finished, reward: -1.000000\n",
            "ep 24: game finished, reward: -1.000000\n",
            "ep 24: game finished, reward: -1.000000\n",
            "ep 24: game finished, reward: -1.000000\n",
            "ep 24: game finished, reward: -1.000000\n",
            "ep 24: game finished, reward: -1.000000\n",
            "ep 24: game finished, reward: -1.000000\n",
            "ep 24: game finished, reward: -1.000000\n",
            "ep 24: game finished, reward: -1.000000\n",
            "ep 24: game finished, reward: -1.000000\n",
            "ep 24: game finished, reward: -1.000000\n",
            "ep 24: game finished, reward: -1.000000\n",
            "resetting env. episode reward total was -21.000000. running mean: -20.901188\n",
            "ep 25: game finished, reward: -1.000000\n",
            "ep 25: game finished, reward: -1.000000\n",
            "ep 25: game finished, reward: -1.000000\n",
            "ep 25: game finished, reward: 1.000000"
          ],
          "name": "stdout"
        },
        {
          "output_type": "execute_result",
          "data": {
            "text/plain": [
              "' !!!!!!!!'"
            ]
          },
          "metadata": {
            "tags": []
          },
          "execution_count": 11
        },
        {
          "output_type": "stream",
          "text": [
            "ep 25: game finished, reward: -1.000000\n",
            "ep 25: game finished, reward: -1.000000\n",
            "ep 25: game finished, reward: -1.000000\n",
            "ep 25: game finished, reward: -1.000000\n",
            "ep 25: game finished, reward: -1.000000\n",
            "ep 25: game finished, reward: -1.000000\n",
            "ep 25: game finished, reward: -1.000000\n",
            "ep 25: game finished, reward: -1.000000\n",
            "ep 25: game finished, reward: -1.000000\n",
            "ep 25: game finished, reward: -1.000000\n",
            "ep 25: game finished, reward: -1.000000\n",
            "ep 25: game finished, reward: -1.000000\n",
            "ep 25: game finished, reward: -1.000000\n",
            "ep 25: game finished, reward: -1.000000\n",
            "ep 25: game finished, reward: -1.000000\n",
            "ep 25: game finished, reward: -1.000000\n",
            "ep 25: game finished, reward: -1.000000\n",
            "ep 25: game finished, reward: -1.000000\n",
            "resetting env. episode reward total was -20.000000. running mean: -20.892176\n",
            "ep 26: game finished, reward: -1.000000\n",
            "ep 26: game finished, reward: -1.000000\n",
            "ep 26: game finished, reward: -1.000000\n",
            "ep 26: game finished, reward: -1.000000\n",
            "ep 26: game finished, reward: -1.000000\n",
            "ep 26: game finished, reward: -1.000000\n",
            "ep 26: game finished, reward: -1.000000\n",
            "ep 26: game finished, reward: -1.000000\n",
            "ep 26: game finished, reward: -1.000000\n",
            "ep 26: game finished, reward: -1.000000\n",
            "ep 26: game finished, reward: -1.000000\n",
            "ep 26: game finished, reward: -1.000000\n",
            "ep 26: game finished, reward: -1.000000\n",
            "ep 26: game finished, reward: -1.000000\n",
            "ep 26: game finished, reward: -1.000000\n",
            "ep 26: game finished, reward: -1.000000\n",
            "ep 26: game finished, reward: -1.000000\n",
            "ep 26: game finished, reward: -1.000000\n",
            "ep 26: game finished, reward: -1.000000\n",
            "ep 26: game finished, reward: -1.000000\n",
            "ep 26: game finished, reward: -1.000000\n",
            "resetting env. episode reward total was -21.000000. running mean: -20.893254\n",
            "ep 27: game finished, reward: -1.000000\n",
            "ep 27: game finished, reward: 1.000000"
          ],
          "name": "stdout"
        },
        {
          "output_type": "execute_result",
          "data": {
            "text/plain": [
              "' !!!!!!!!'"
            ]
          },
          "metadata": {
            "tags": []
          },
          "execution_count": 11
        },
        {
          "output_type": "stream",
          "text": [
            "ep 27: game finished, reward: -1.000000\n",
            "ep 27: game finished, reward: -1.000000\n",
            "ep 27: game finished, reward: -1.000000\n",
            "ep 27: game finished, reward: -1.000000\n",
            "ep 27: game finished, reward: -1.000000\n",
            "ep 27: game finished, reward: -1.000000\n",
            "ep 27: game finished, reward: -1.000000\n",
            "ep 27: game finished, reward: -1.000000\n",
            "ep 27: game finished, reward: -1.000000\n",
            "ep 27: game finished, reward: -1.000000\n",
            "ep 27: game finished, reward: -1.000000\n",
            "ep 27: game finished, reward: -1.000000\n",
            "ep 27: game finished, reward: -1.000000\n",
            "ep 27: game finished, reward: -1.000000\n",
            "ep 27: game finished, reward: -1.000000\n",
            "ep 27: game finished, reward: -1.000000\n",
            "ep 27: game finished, reward: -1.000000\n",
            "ep 27: game finished, reward: -1.000000\n",
            "ep 27: game finished, reward: -1.000000\n",
            "ep 27: game finished, reward: -1.000000\n",
            "resetting env. episode reward total was -20.000000. running mean: -20.884322\n",
            "ep 28: game finished, reward: -1.000000\n",
            "ep 28: game finished, reward: -1.000000\n",
            "ep 28: game finished, reward: -1.000000\n",
            "ep 28: game finished, reward: -1.000000\n",
            "ep 28: game finished, reward: 1.000000"
          ],
          "name": "stdout"
        },
        {
          "output_type": "execute_result",
          "data": {
            "text/plain": [
              "' !!!!!!!!'"
            ]
          },
          "metadata": {
            "tags": []
          },
          "execution_count": 11
        },
        {
          "output_type": "stream",
          "text": [
            "ep 28: game finished, reward: -1.000000\n",
            "ep 28: game finished, reward: -1.000000\n",
            "ep 28: game finished, reward: -1.000000\n",
            "ep 28: game finished, reward: -1.000000\n",
            "ep 28: game finished, reward: -1.000000\n",
            "ep 28: game finished, reward: -1.000000\n",
            "ep 28: game finished, reward: -1.000000\n",
            "ep 28: game finished, reward: -1.000000\n",
            "ep 28: game finished, reward: -1.000000\n",
            "ep 28: game finished, reward: -1.000000\n",
            "ep 28: game finished, reward: -1.000000\n",
            "ep 28: game finished, reward: -1.000000\n",
            "ep 28: game finished, reward: -1.000000\n",
            "ep 28: game finished, reward: -1.000000\n",
            "ep 28: game finished, reward: -1.000000\n",
            "ep 28: game finished, reward: -1.000000\n",
            "ep 28: game finished, reward: -1.000000\n",
            "resetting env. episode reward total was -20.000000. running mean: -20.875479\n",
            "ep 29: game finished, reward: -1.000000\n",
            "ep 29: game finished, reward: -1.000000\n",
            "ep 29: game finished, reward: -1.000000\n",
            "ep 29: game finished, reward: -1.000000\n",
            "ep 29: game finished, reward: -1.000000\n",
            "ep 29: game finished, reward: -1.000000\n",
            "ep 29: game finished, reward: -1.000000\n",
            "ep 29: game finished, reward: -1.000000\n",
            "ep 29: game finished, reward: -1.000000\n",
            "ep 29: game finished, reward: -1.000000\n",
            "ep 29: game finished, reward: -1.000000\n",
            "ep 29: game finished, reward: -1.000000\n",
            "ep 29: game finished, reward: -1.000000\n",
            "ep 29: game finished, reward: -1.000000\n",
            "ep 29: game finished, reward: -1.000000\n",
            "ep 29: game finished, reward: -1.000000\n",
            "ep 29: game finished, reward: -1.000000\n",
            "ep 29: game finished, reward: -1.000000\n",
            "ep 29: game finished, reward: -1.000000\n",
            "ep 29: game finished, reward: -1.000000\n",
            "ep 29: game finished, reward: -1.000000\n",
            "resetting env. episode reward total was -21.000000. running mean: -20.876724\n",
            "ep 30: game finished, reward: -1.000000\n",
            "ep 30: game finished, reward: -1.000000\n",
            "ep 30: game finished, reward: -1.000000\n",
            "ep 30: game finished, reward: -1.000000\n",
            "ep 30: game finished, reward: -1.000000\n",
            "ep 30: game finished, reward: -1.000000\n",
            "ep 30: game finished, reward: -1.000000\n",
            "ep 30: game finished, reward: 1.000000"
          ],
          "name": "stdout"
        },
        {
          "output_type": "execute_result",
          "data": {
            "text/plain": [
              "' !!!!!!!!'"
            ]
          },
          "metadata": {
            "tags": []
          },
          "execution_count": 11
        },
        {
          "output_type": "stream",
          "text": [
            "ep 30: game finished, reward: -1.000000\n",
            "ep 30: game finished, reward: -1.000000\n",
            "ep 30: game finished, reward: -1.000000\n",
            "ep 30: game finished, reward: -1.000000\n",
            "ep 30: game finished, reward: -1.000000\n",
            "ep 30: game finished, reward: -1.000000\n",
            "ep 30: game finished, reward: -1.000000\n",
            "ep 30: game finished, reward: -1.000000\n",
            "ep 30: game finished, reward: -1.000000\n",
            "ep 30: game finished, reward: -1.000000\n",
            "ep 30: game finished, reward: -1.000000\n",
            "ep 30: game finished, reward: -1.000000\n",
            "ep 30: game finished, reward: -1.000000\n",
            "ep 30: game finished, reward: -1.000000\n",
            "resetting env. episode reward total was -20.000000. running mean: -20.867957\n",
            "ep 31: game finished, reward: -1.000000\n",
            "ep 31: game finished, reward: -1.000000\n",
            "ep 31: game finished, reward: -1.000000\n",
            "ep 31: game finished, reward: -1.000000\n",
            "ep 31: game finished, reward: -1.000000\n",
            "ep 31: game finished, reward: -1.000000\n",
            "ep 31: game finished, reward: -1.000000\n",
            "ep 31: game finished, reward: -1.000000\n",
            "ep 31: game finished, reward: -1.000000\n",
            "ep 31: game finished, reward: -1.000000\n",
            "ep 31: game finished, reward: -1.000000\n",
            "ep 31: game finished, reward: -1.000000\n",
            "ep 31: game finished, reward: -1.000000\n",
            "ep 31: game finished, reward: -1.000000\n",
            "ep 31: game finished, reward: -1.000000\n",
            "ep 31: game finished, reward: -1.000000\n",
            "ep 31: game finished, reward: -1.000000\n",
            "ep 31: game finished, reward: -1.000000\n",
            "ep 31: game finished, reward: -1.000000\n",
            "ep 31: game finished, reward: -1.000000\n",
            "ep 31: game finished, reward: -1.000000\n",
            "resetting env. episode reward total was -21.000000. running mean: -20.869277\n",
            "ep 32: game finished, reward: -1.000000\n",
            "ep 32: game finished, reward: -1.000000\n",
            "ep 32: game finished, reward: -1.000000\n",
            "ep 32: game finished, reward: -1.000000\n",
            "ep 32: game finished, reward: -1.000000\n",
            "ep 32: game finished, reward: -1.000000\n",
            "ep 32: game finished, reward: -1.000000\n",
            "ep 32: game finished, reward: -1.000000\n",
            "ep 32: game finished, reward: -1.000000\n",
            "ep 32: game finished, reward: -1.000000\n",
            "ep 32: game finished, reward: -1.000000\n",
            "ep 32: game finished, reward: -1.000000\n",
            "ep 32: game finished, reward: -1.000000\n",
            "ep 32: game finished, reward: -1.000000\n",
            "ep 32: game finished, reward: -1.000000\n",
            "ep 32: game finished, reward: -1.000000\n",
            "ep 32: game finished, reward: -1.000000\n",
            "ep 32: game finished, reward: -1.000000\n",
            "ep 32: game finished, reward: -1.000000\n",
            "ep 32: game finished, reward: -1.000000\n",
            "ep 32: game finished, reward: -1.000000\n",
            "resetting env. episode reward total was -21.000000. running mean: -20.870584\n",
            "ep 33: game finished, reward: -1.000000\n",
            "ep 33: game finished, reward: -1.000000\n",
            "ep 33: game finished, reward: -1.000000\n",
            "ep 33: game finished, reward: -1.000000\n",
            "ep 33: game finished, reward: -1.000000\n",
            "ep 33: game finished, reward: -1.000000\n",
            "ep 33: game finished, reward: -1.000000\n",
            "ep 33: game finished, reward: -1.000000\n",
            "ep 33: game finished, reward: -1.000000\n",
            "ep 33: game finished, reward: -1.000000\n",
            "ep 33: game finished, reward: -1.000000\n",
            "ep 33: game finished, reward: -1.000000\n",
            "ep 33: game finished, reward: -1.000000\n",
            "ep 33: game finished, reward: -1.000000\n",
            "ep 33: game finished, reward: -1.000000\n",
            "ep 33: game finished, reward: -1.000000\n",
            "ep 33: game finished, reward: -1.000000\n",
            "ep 33: game finished, reward: -1.000000\n",
            "ep 33: game finished, reward: -1.000000\n",
            "ep 33: game finished, reward: -1.000000\n",
            "ep 33: game finished, reward: -1.000000\n",
            "resetting env. episode reward total was -21.000000. running mean: -20.871878\n",
            "ep 34: game finished, reward: -1.000000\n",
            "ep 34: game finished, reward: -1.000000\n",
            "ep 34: game finished, reward: -1.000000\n",
            "ep 34: game finished, reward: -1.000000\n",
            "ep 34: game finished, reward: -1.000000\n",
            "ep 34: game finished, reward: -1.000000\n",
            "ep 34: game finished, reward: -1.000000\n",
            "ep 34: game finished, reward: -1.000000\n",
            "ep 34: game finished, reward: -1.000000\n",
            "ep 34: game finished, reward: -1.000000\n",
            "ep 34: game finished, reward: -1.000000\n",
            "ep 34: game finished, reward: -1.000000\n",
            "ep 34: game finished, reward: -1.000000\n",
            "ep 34: game finished, reward: -1.000000\n",
            "ep 34: game finished, reward: -1.000000\n",
            "ep 34: game finished, reward: -1.000000\n",
            "ep 34: game finished, reward: 1.000000"
          ],
          "name": "stdout"
        },
        {
          "output_type": "execute_result",
          "data": {
            "text/plain": [
              "' !!!!!!!!'"
            ]
          },
          "metadata": {
            "tags": []
          },
          "execution_count": 11
        },
        {
          "output_type": "stream",
          "text": [
            "ep 34: game finished, reward: -1.000000\n",
            "ep 34: game finished, reward: -1.000000\n",
            "ep 34: game finished, reward: -1.000000\n",
            "ep 34: game finished, reward: -1.000000\n",
            "ep 34: game finished, reward: -1.000000\n",
            "resetting env. episode reward total was -20.000000. running mean: -20.863160\n",
            "ep 35: game finished, reward: -1.000000\n",
            "ep 35: game finished, reward: -1.000000\n",
            "ep 35: game finished, reward: -1.000000\n",
            "ep 35: game finished, reward: -1.000000\n",
            "ep 35: game finished, reward: -1.000000\n",
            "ep 35: game finished, reward: -1.000000\n",
            "ep 35: game finished, reward: -1.000000\n",
            "ep 35: game finished, reward: -1.000000\n",
            "ep 35: game finished, reward: -1.000000\n",
            "ep 35: game finished, reward: -1.000000\n",
            "ep 35: game finished, reward: -1.000000\n",
            "ep 35: game finished, reward: -1.000000\n",
            "ep 35: game finished, reward: -1.000000\n",
            "ep 35: game finished, reward: -1.000000\n",
            "ep 35: game finished, reward: -1.000000\n",
            "ep 35: game finished, reward: -1.000000\n",
            "ep 35: game finished, reward: -1.000000\n",
            "ep 35: game finished, reward: -1.000000\n",
            "ep 35: game finished, reward: -1.000000\n",
            "ep 35: game finished, reward: -1.000000\n",
            "ep 35: game finished, reward: -1.000000\n",
            "resetting env. episode reward total was -21.000000. running mean: -20.864528\n",
            "ep 36: game finished, reward: -1.000000\n",
            "ep 36: game finished, reward: -1.000000\n",
            "ep 36: game finished, reward: -1.000000\n",
            "ep 36: game finished, reward: -1.000000\n",
            "ep 36: game finished, reward: -1.000000\n",
            "ep 36: game finished, reward: -1.000000\n",
            "ep 36: game finished, reward: -1.000000\n",
            "ep 36: game finished, reward: -1.000000\n",
            "ep 36: game finished, reward: -1.000000\n",
            "ep 36: game finished, reward: -1.000000\n",
            "ep 36: game finished, reward: -1.000000\n",
            "ep 36: game finished, reward: 1.000000"
          ],
          "name": "stdout"
        },
        {
          "output_type": "execute_result",
          "data": {
            "text/plain": [
              "' !!!!!!!!'"
            ]
          },
          "metadata": {
            "tags": []
          },
          "execution_count": 11
        },
        {
          "output_type": "stream",
          "text": [
            "ep 36: game finished, reward: -1.000000\n",
            "ep 36: game finished, reward: -1.000000\n",
            "ep 36: game finished, reward: -1.000000\n",
            "ep 36: game finished, reward: -1.000000\n",
            "ep 36: game finished, reward: -1.000000\n",
            "ep 36: game finished, reward: -1.000000\n",
            "ep 36: game finished, reward: -1.000000\n",
            "ep 36: game finished, reward: -1.000000\n",
            "ep 36: game finished, reward: -1.000000\n",
            "ep 36: game finished, reward: -1.000000\n",
            "resetting env. episode reward total was -20.000000. running mean: -20.855883\n",
            "ep 37: game finished, reward: -1.000000\n",
            "ep 37: game finished, reward: -1.000000\n",
            "ep 37: game finished, reward: -1.000000\n",
            "ep 37: game finished, reward: -1.000000\n",
            "ep 37: game finished, reward: -1.000000\n",
            "ep 37: game finished, reward: -1.000000\n",
            "ep 37: game finished, reward: -1.000000\n",
            "ep 37: game finished, reward: -1.000000\n",
            "ep 37: game finished, reward: -1.000000\n",
            "ep 37: game finished, reward: -1.000000\n",
            "ep 37: game finished, reward: 1.000000"
          ],
          "name": "stdout"
        },
        {
          "output_type": "execute_result",
          "data": {
            "text/plain": [
              "' !!!!!!!!'"
            ]
          },
          "metadata": {
            "tags": []
          },
          "execution_count": 11
        },
        {
          "output_type": "stream",
          "text": [
            "ep 37: game finished, reward: -1.000000\n",
            "ep 37: game finished, reward: -1.000000\n",
            "ep 37: game finished, reward: -1.000000\n",
            "ep 37: game finished, reward: -1.000000\n",
            "ep 37: game finished, reward: -1.000000\n",
            "ep 37: game finished, reward: -1.000000\n",
            "ep 37: game finished, reward: -1.000000\n",
            "ep 37: game finished, reward: -1.000000\n",
            "ep 37: game finished, reward: -1.000000\n",
            "ep 37: game finished, reward: -1.000000\n",
            "ep 37: game finished, reward: -1.000000\n",
            "resetting env. episode reward total was -20.000000. running mean: -20.847324\n",
            "ep 38: game finished, reward: -1.000000\n",
            "ep 38: game finished, reward: -1.000000\n",
            "ep 38: game finished, reward: -1.000000\n",
            "ep 38: game finished, reward: -1.000000\n",
            "ep 38: game finished, reward: -1.000000\n",
            "ep 38: game finished, reward: -1.000000\n",
            "ep 38: game finished, reward: -1.000000\n",
            "ep 38: game finished, reward: 1.000000"
          ],
          "name": "stdout"
        },
        {
          "output_type": "execute_result",
          "data": {
            "text/plain": [
              "' !!!!!!!!'"
            ]
          },
          "metadata": {
            "tags": []
          },
          "execution_count": 11
        },
        {
          "output_type": "stream",
          "text": [
            "ep 38: game finished, reward: -1.000000\n",
            "ep 38: game finished, reward: -1.000000\n",
            "ep 38: game finished, reward: -1.000000\n",
            "ep 38: game finished, reward: -1.000000\n",
            "ep 38: game finished, reward: -1.000000\n",
            "ep 38: game finished, reward: -1.000000\n",
            "ep 38: game finished, reward: -1.000000\n",
            "ep 38: game finished, reward: -1.000000\n",
            "ep 38: game finished, reward: -1.000000\n",
            "ep 38: game finished, reward: -1.000000\n",
            "ep 38: game finished, reward: -1.000000\n",
            "ep 38: game finished, reward: 1.000000"
          ],
          "name": "stdout"
        },
        {
          "output_type": "execute_result",
          "data": {
            "text/plain": [
              "' !!!!!!!!'"
            ]
          },
          "metadata": {
            "tags": []
          },
          "execution_count": 11
        },
        {
          "output_type": "stream",
          "text": [
            "ep 38: game finished, reward: -1.000000\n",
            "ep 38: game finished, reward: -1.000000\n",
            "ep 38: game finished, reward: -1.000000\n",
            "resetting env. episode reward total was -19.000000. running mean: -20.828851\n",
            "ep 39: game finished, reward: -1.000000\n",
            "ep 39: game finished, reward: -1.000000\n",
            "ep 39: game finished, reward: -1.000000\n",
            "ep 39: game finished, reward: -1.000000\n",
            "ep 39: game finished, reward: -1.000000\n",
            "ep 39: game finished, reward: -1.000000\n",
            "ep 39: game finished, reward: -1.000000\n",
            "ep 39: game finished, reward: -1.000000\n",
            "ep 39: game finished, reward: -1.000000\n",
            "ep 39: game finished, reward: -1.000000\n",
            "ep 39: game finished, reward: -1.000000\n",
            "ep 39: game finished, reward: -1.000000\n",
            "ep 39: game finished, reward: -1.000000\n",
            "ep 39: game finished, reward: -1.000000\n",
            "ep 39: game finished, reward: -1.000000\n",
            "ep 39: game finished, reward: -1.000000\n",
            "ep 39: game finished, reward: -1.000000\n",
            "ep 39: game finished, reward: -1.000000\n",
            "ep 39: game finished, reward: -1.000000\n",
            "ep 39: game finished, reward: -1.000000\n",
            "ep 39: game finished, reward: 1.000000"
          ],
          "name": "stdout"
        },
        {
          "output_type": "execute_result",
          "data": {
            "text/plain": [
              "' !!!!!!!!'"
            ]
          },
          "metadata": {
            "tags": []
          },
          "execution_count": 11
        },
        {
          "output_type": "stream",
          "text": [
            "ep 39: game finished, reward: -1.000000\n",
            "resetting env. episode reward total was -20.000000. running mean: -20.820562\n",
            "ep 40: game finished, reward: -1.000000\n",
            "ep 40: game finished, reward: -1.000000\n",
            "ep 40: game finished, reward: -1.000000\n",
            "ep 40: game finished, reward: -1.000000\n",
            "ep 40: game finished, reward: -1.000000\n",
            "ep 40: game finished, reward: -1.000000\n",
            "ep 40: game finished, reward: -1.000000\n",
            "ep 40: game finished, reward: -1.000000\n",
            "ep 40: game finished, reward: -1.000000\n",
            "ep 40: game finished, reward: -1.000000\n",
            "ep 40: game finished, reward: -1.000000\n",
            "ep 40: game finished, reward: -1.000000\n",
            "ep 40: game finished, reward: -1.000000\n",
            "ep 40: game finished, reward: -1.000000\n",
            "ep 40: game finished, reward: -1.000000\n",
            "ep 40: game finished, reward: -1.000000\n",
            "ep 40: game finished, reward: -1.000000\n",
            "ep 40: game finished, reward: -1.000000\n",
            "ep 40: game finished, reward: -1.000000\n",
            "ep 40: game finished, reward: -1.000000\n",
            "ep 40: game finished, reward: -1.000000\n",
            "resetting env. episode reward total was -21.000000. running mean: -20.822357\n",
            "ep 41: game finished, reward: -1.000000\n",
            "ep 41: game finished, reward: -1.000000\n",
            "ep 41: game finished, reward: -1.000000\n",
            "ep 41: game finished, reward: -1.000000\n",
            "ep 41: game finished, reward: -1.000000\n",
            "ep 41: game finished, reward: -1.000000\n",
            "ep 41: game finished, reward: -1.000000\n",
            "ep 41: game finished, reward: -1.000000\n",
            "ep 41: game finished, reward: -1.000000\n",
            "ep 41: game finished, reward: -1.000000\n",
            "ep 41: game finished, reward: -1.000000\n",
            "ep 41: game finished, reward: -1.000000\n",
            "ep 41: game finished, reward: -1.000000\n",
            "ep 41: game finished, reward: -1.000000\n",
            "ep 41: game finished, reward: -1.000000\n",
            "ep 41: game finished, reward: -1.000000\n",
            "ep 41: game finished, reward: -1.000000\n",
            "ep 41: game finished, reward: -1.000000\n",
            "ep 41: game finished, reward: -1.000000\n",
            "ep 41: game finished, reward: -1.000000\n",
            "ep 41: game finished, reward: -1.000000\n",
            "resetting env. episode reward total was -21.000000. running mean: -20.824133\n",
            "ep 42: game finished, reward: -1.000000\n",
            "ep 42: game finished, reward: -1.000000\n",
            "ep 42: game finished, reward: -1.000000\n",
            "ep 42: game finished, reward: -1.000000\n",
            "ep 42: game finished, reward: -1.000000\n",
            "ep 42: game finished, reward: -1.000000\n",
            "ep 42: game finished, reward: -1.000000\n",
            "ep 42: game finished, reward: -1.000000\n",
            "ep 42: game finished, reward: -1.000000\n",
            "ep 42: game finished, reward: -1.000000\n",
            "ep 42: game finished, reward: -1.000000\n",
            "ep 42: game finished, reward: -1.000000\n",
            "ep 42: game finished, reward: -1.000000\n",
            "ep 42: game finished, reward: -1.000000\n",
            "ep 42: game finished, reward: -1.000000\n",
            "ep 42: game finished, reward: -1.000000\n",
            "ep 42: game finished, reward: 1.000000"
          ],
          "name": "stdout"
        },
        {
          "output_type": "execute_result",
          "data": {
            "text/plain": [
              "' !!!!!!!!'"
            ]
          },
          "metadata": {
            "tags": []
          },
          "execution_count": 11
        },
        {
          "output_type": "stream",
          "text": [
            "ep 42: game finished, reward: -1.000000\n",
            "ep 42: game finished, reward: -1.000000\n",
            "ep 42: game finished, reward: -1.000000\n",
            "ep 42: game finished, reward: -1.000000\n",
            "ep 42: game finished, reward: -1.000000\n",
            "resetting env. episode reward total was -20.000000. running mean: -20.815892\n",
            "ep 43: game finished, reward: -1.000000\n",
            "ep 43: game finished, reward: -1.000000\n",
            "ep 43: game finished, reward: -1.000000\n",
            "ep 43: game finished, reward: -1.000000\n",
            "ep 43: game finished, reward: -1.000000\n",
            "ep 43: game finished, reward: -1.000000\n",
            "ep 43: game finished, reward: -1.000000\n",
            "ep 43: game finished, reward: -1.000000\n",
            "ep 43: game finished, reward: -1.000000\n",
            "ep 43: game finished, reward: -1.000000\n",
            "ep 43: game finished, reward: -1.000000\n",
            "ep 43: game finished, reward: -1.000000\n",
            "ep 43: game finished, reward: -1.000000\n",
            "ep 43: game finished, reward: 1.000000"
          ],
          "name": "stdout"
        },
        {
          "output_type": "execute_result",
          "data": {
            "text/plain": [
              "' !!!!!!!!'"
            ]
          },
          "metadata": {
            "tags": []
          },
          "execution_count": 11
        },
        {
          "output_type": "stream",
          "text": [
            "ep 43: game finished, reward: -1.000000\n",
            "ep 43: game finished, reward: -1.000000\n",
            "ep 43: game finished, reward: -1.000000\n",
            "ep 43: game finished, reward: -1.000000\n",
            "ep 43: game finished, reward: -1.000000\n",
            "ep 43: game finished, reward: -1.000000\n",
            "ep 43: game finished, reward: -1.000000\n",
            "ep 43: game finished, reward: -1.000000\n",
            "resetting env. episode reward total was -20.000000. running mean: -20.807733\n",
            "ep 44: game finished, reward: -1.000000\n",
            "ep 44: game finished, reward: -1.000000\n",
            "ep 44: game finished, reward: -1.000000\n",
            "ep 44: game finished, reward: -1.000000\n",
            "ep 44: game finished, reward: -1.000000\n",
            "ep 44: game finished, reward: -1.000000\n",
            "ep 44: game finished, reward: -1.000000\n",
            "ep 44: game finished, reward: -1.000000\n",
            "ep 44: game finished, reward: -1.000000\n",
            "ep 44: game finished, reward: -1.000000\n",
            "ep 44: game finished, reward: -1.000000\n",
            "ep 44: game finished, reward: -1.000000\n",
            "ep 44: game finished, reward: -1.000000\n",
            "ep 44: game finished, reward: -1.000000\n",
            "ep 44: game finished, reward: -1.000000\n",
            "ep 44: game finished, reward: -1.000000\n",
            "ep 44: game finished, reward: -1.000000\n",
            "ep 44: game finished, reward: -1.000000\n",
            "ep 44: game finished, reward: -1.000000\n",
            "ep 44: game finished, reward: -1.000000\n",
            "ep 44: game finished, reward: -1.000000\n",
            "resetting env. episode reward total was -21.000000. running mean: -20.809655\n",
            "ep 45: game finished, reward: -1.000000\n",
            "ep 45: game finished, reward: -1.000000\n",
            "ep 45: game finished, reward: -1.000000\n",
            "ep 45: game finished, reward: -1.000000\n",
            "ep 45: game finished, reward: -1.000000\n",
            "ep 45: game finished, reward: -1.000000\n",
            "ep 45: game finished, reward: -1.000000\n",
            "ep 45: game finished, reward: -1.000000\n",
            "ep 45: game finished, reward: -1.000000\n",
            "ep 45: game finished, reward: -1.000000\n",
            "ep 45: game finished, reward: -1.000000\n",
            "ep 45: game finished, reward: -1.000000\n",
            "ep 45: game finished, reward: -1.000000\n",
            "ep 45: game finished, reward: -1.000000\n",
            "ep 45: game finished, reward: -1.000000\n",
            "ep 45: game finished, reward: -1.000000\n",
            "ep 45: game finished, reward: -1.000000\n",
            "ep 45: game finished, reward: -1.000000\n",
            "ep 45: game finished, reward: -1.000000\n",
            "ep 45: game finished, reward: -1.000000\n",
            "ep 45: game finished, reward: -1.000000\n",
            "resetting env. episode reward total was -21.000000. running mean: -20.811559\n",
            "ep 46: game finished, reward: -1.000000\n",
            "ep 46: game finished, reward: -1.000000\n",
            "ep 46: game finished, reward: -1.000000\n",
            "ep 46: game finished, reward: -1.000000\n",
            "ep 46: game finished, reward: -1.000000\n",
            "ep 46: game finished, reward: -1.000000\n",
            "ep 46: game finished, reward: -1.000000\n",
            "ep 46: game finished, reward: -1.000000\n",
            "ep 46: game finished, reward: -1.000000\n",
            "ep 46: game finished, reward: -1.000000\n",
            "ep 46: game finished, reward: -1.000000\n",
            "ep 46: game finished, reward: -1.000000\n",
            "ep 46: game finished, reward: -1.000000\n",
            "ep 46: game finished, reward: -1.000000\n",
            "ep 46: game finished, reward: -1.000000\n",
            "ep 46: game finished, reward: -1.000000\n",
            "ep 46: game finished, reward: -1.000000\n",
            "ep 46: game finished, reward: -1.000000\n",
            "ep 46: game finished, reward: 1.000000"
          ],
          "name": "stdout"
        },
        {
          "output_type": "execute_result",
          "data": {
            "text/plain": [
              "' !!!!!!!!'"
            ]
          },
          "metadata": {
            "tags": []
          },
          "execution_count": 11
        },
        {
          "output_type": "stream",
          "text": [
            "ep 46: game finished, reward: -1.000000\n",
            "ep 46: game finished, reward: -1.000000\n",
            "ep 46: game finished, reward: -1.000000\n",
            "resetting env. episode reward total was -20.000000. running mean: -20.803443\n",
            "ep 47: game finished, reward: -1.000000\n",
            "ep 47: game finished, reward: -1.000000\n",
            "ep 47: game finished, reward: -1.000000\n",
            "ep 47: game finished, reward: -1.000000\n",
            "ep 47: game finished, reward: -1.000000\n",
            "ep 47: game finished, reward: -1.000000\n",
            "ep 47: game finished, reward: -1.000000\n",
            "ep 47: game finished, reward: -1.000000\n",
            "ep 47: game finished, reward: -1.000000\n",
            "ep 47: game finished, reward: -1.000000\n",
            "ep 47: game finished, reward: -1.000000\n",
            "ep 47: game finished, reward: -1.000000\n",
            "ep 47: game finished, reward: -1.000000\n",
            "ep 47: game finished, reward: -1.000000\n",
            "ep 47: game finished, reward: -1.000000\n",
            "ep 47: game finished, reward: -1.000000\n",
            "ep 47: game finished, reward: -1.000000\n",
            "ep 47: game finished, reward: -1.000000\n",
            "ep 47: game finished, reward: -1.000000\n",
            "ep 47: game finished, reward: -1.000000\n",
            "ep 47: game finished, reward: -1.000000\n",
            "resetting env. episode reward total was -21.000000. running mean: -20.805409\n",
            "ep 48: game finished, reward: -1.000000\n",
            "ep 48: game finished, reward: -1.000000\n",
            "ep 48: game finished, reward: -1.000000\n",
            "ep 48: game finished, reward: -1.000000\n",
            "ep 48: game finished, reward: -1.000000\n",
            "ep 48: game finished, reward: -1.000000\n",
            "ep 48: game finished, reward: -1.000000\n",
            "ep 48: game finished, reward: -1.000000\n",
            "ep 48: game finished, reward: -1.000000\n",
            "ep 48: game finished, reward: -1.000000\n",
            "ep 48: game finished, reward: -1.000000\n",
            "ep 48: game finished, reward: -1.000000\n",
            "ep 48: game finished, reward: -1.000000\n",
            "ep 48: game finished, reward: -1.000000\n",
            "ep 48: game finished, reward: 1.000000"
          ],
          "name": "stdout"
        },
        {
          "output_type": "execute_result",
          "data": {
            "text/plain": [
              "' !!!!!!!!'"
            ]
          },
          "metadata": {
            "tags": []
          },
          "execution_count": 11
        },
        {
          "output_type": "stream",
          "text": [
            "ep 48: game finished, reward: -1.000000\n",
            "ep 48: game finished, reward: -1.000000\n",
            "ep 48: game finished, reward: -1.000000\n",
            "ep 48: game finished, reward: -1.000000\n",
            "ep 48: game finished, reward: -1.000000\n",
            "ep 48: game finished, reward: -1.000000\n",
            "ep 48: game finished, reward: -1.000000\n",
            "resetting env. episode reward total was -20.000000. running mean: -20.797355\n",
            "ep 49: game finished, reward: -1.000000\n",
            "ep 49: game finished, reward: -1.000000\n",
            "ep 49: game finished, reward: -1.000000\n",
            "ep 49: game finished, reward: -1.000000\n",
            "ep 49: game finished, reward: -1.000000\n",
            "ep 49: game finished, reward: -1.000000\n",
            "ep 49: game finished, reward: -1.000000\n",
            "ep 49: game finished, reward: -1.000000\n",
            "ep 49: game finished, reward: -1.000000\n",
            "ep 49: game finished, reward: -1.000000\n",
            "ep 49: game finished, reward: -1.000000\n",
            "ep 49: game finished, reward: -1.000000\n",
            "ep 49: game finished, reward: -1.000000\n",
            "ep 49: game finished, reward: -1.000000\n",
            "ep 49: game finished, reward: -1.000000\n",
            "ep 49: game finished, reward: -1.000000\n",
            "ep 49: game finished, reward: -1.000000\n",
            "ep 49: game finished, reward: -1.000000\n",
            "ep 49: game finished, reward: -1.000000\n",
            "ep 49: game finished, reward: -1.000000\n",
            "ep 49: game finished, reward: -1.000000\n",
            "resetting env. episode reward total was -21.000000. running mean: -20.799381\n",
            "ep 50: game finished, reward: -1.000000\n",
            "ep 50: game finished, reward: -1.000000\n",
            "ep 50: game finished, reward: -1.000000\n",
            "ep 50: game finished, reward: -1.000000\n",
            "ep 50: game finished, reward: -1.000000\n",
            "ep 50: game finished, reward: -1.000000\n",
            "ep 50: game finished, reward: -1.000000\n",
            "ep 50: game finished, reward: -1.000000\n",
            "ep 50: game finished, reward: 1.000000"
          ],
          "name": "stdout"
        },
        {
          "output_type": "execute_result",
          "data": {
            "text/plain": [
              "' !!!!!!!!'"
            ]
          },
          "metadata": {
            "tags": []
          },
          "execution_count": 11
        },
        {
          "output_type": "stream",
          "text": [
            "ep 50: game finished, reward: -1.000000\n",
            "ep 50: game finished, reward: -1.000000\n",
            "ep 50: game finished, reward: -1.000000\n",
            "ep 50: game finished, reward: -1.000000\n",
            "ep 50: game finished, reward: -1.000000\n",
            "ep 50: game finished, reward: -1.000000\n",
            "ep 50: game finished, reward: -1.000000\n",
            "ep 50: game finished, reward: -1.000000\n",
            "ep 50: game finished, reward: -1.000000\n",
            "ep 50: game finished, reward: -1.000000\n",
            "ep 50: game finished, reward: -1.000000\n",
            "ep 50: game finished, reward: -1.000000\n",
            "ep 50: game finished, reward: -1.000000\n",
            "resetting env. episode reward total was -20.000000. running mean: -20.791387\n",
            "ep 51: game finished, reward: -1.000000\n",
            "ep 51: game finished, reward: -1.000000\n",
            "ep 51: game finished, reward: -1.000000\n",
            "ep 51: game finished, reward: -1.000000\n",
            "ep 51: game finished, reward: -1.000000\n",
            "ep 51: game finished, reward: -1.000000\n",
            "ep 51: game finished, reward: -1.000000\n",
            "ep 51: game finished, reward: -1.000000\n",
            "ep 51: game finished, reward: -1.000000\n",
            "ep 51: game finished, reward: -1.000000\n",
            "ep 51: game finished, reward: -1.000000\n",
            "ep 51: game finished, reward: -1.000000\n",
            "ep 51: game finished, reward: -1.000000\n",
            "ep 51: game finished, reward: -1.000000\n",
            "ep 51: game finished, reward: -1.000000\n",
            "ep 51: game finished, reward: -1.000000\n",
            "ep 51: game finished, reward: -1.000000\n",
            "ep 51: game finished, reward: -1.000000\n",
            "ep 51: game finished, reward: -1.000000\n",
            "ep 51: game finished, reward: -1.000000\n",
            "ep 51: game finished, reward: -1.000000\n",
            "resetting env. episode reward total was -21.000000. running mean: -20.793474\n",
            "ep 52: game finished, reward: -1.000000\n",
            "ep 52: game finished, reward: -1.000000\n",
            "ep 52: game finished, reward: -1.000000\n",
            "ep 52: game finished, reward: -1.000000\n",
            "ep 52: game finished, reward: -1.000000\n",
            "ep 52: game finished, reward: -1.000000\n",
            "ep 52: game finished, reward: -1.000000\n",
            "ep 52: game finished, reward: -1.000000\n",
            "ep 52: game finished, reward: -1.000000\n",
            "ep 52: game finished, reward: -1.000000\n",
            "ep 52: game finished, reward: -1.000000\n",
            "ep 52: game finished, reward: -1.000000\n",
            "ep 52: game finished, reward: -1.000000\n",
            "ep 52: game finished, reward: -1.000000\n",
            "ep 52: game finished, reward: -1.000000\n",
            "ep 52: game finished, reward: -1.000000\n",
            "ep 52: game finished, reward: -1.000000\n",
            "ep 52: game finished, reward: -1.000000\n",
            "ep 52: game finished, reward: -1.000000\n",
            "ep 52: game finished, reward: -1.000000\n",
            "ep 52: game finished, reward: -1.000000\n",
            "ep 52: game finished, reward: 1.000000"
          ],
          "name": "stdout"
        },
        {
          "output_type": "execute_result",
          "data": {
            "text/plain": [
              "' !!!!!!!!'"
            ]
          },
          "metadata": {
            "tags": []
          },
          "execution_count": 11
        },
        {
          "output_type": "stream",
          "text": [
            "resetting env. episode reward total was -20.000000. running mean: -20.785539\n",
            "ep 53: game finished, reward: -1.000000\n",
            "ep 53: game finished, reward: -1.000000\n",
            "ep 53: game finished, reward: -1.000000\n",
            "ep 53: game finished, reward: -1.000000\n",
            "ep 53: game finished, reward: -1.000000\n",
            "ep 53: game finished, reward: -1.000000\n",
            "ep 53: game finished, reward: -1.000000\n",
            "ep 53: game finished, reward: -1.000000\n",
            "ep 53: game finished, reward: -1.000000\n",
            "ep 53: game finished, reward: -1.000000\n",
            "ep 53: game finished, reward: -1.000000\n",
            "ep 53: game finished, reward: -1.000000\n",
            "ep 53: game finished, reward: -1.000000\n",
            "ep 53: game finished, reward: -1.000000\n",
            "ep 53: game finished, reward: -1.000000\n",
            "ep 53: game finished, reward: -1.000000\n",
            "ep 53: game finished, reward: -1.000000\n",
            "ep 53: game finished, reward: -1.000000\n",
            "ep 53: game finished, reward: -1.000000\n",
            "ep 53: game finished, reward: -1.000000\n",
            "ep 53: game finished, reward: -1.000000\n",
            "resetting env. episode reward total was -21.000000. running mean: -20.787683\n",
            "ep 54: game finished, reward: -1.000000\n",
            "ep 54: game finished, reward: -1.000000\n",
            "ep 54: game finished, reward: -1.000000\n",
            "ep 54: game finished, reward: -1.000000\n",
            "ep 54: game finished, reward: -1.000000\n",
            "ep 54: game finished, reward: -1.000000\n",
            "ep 54: game finished, reward: -1.000000\n",
            "ep 54: game finished, reward: -1.000000\n",
            "ep 54: game finished, reward: -1.000000\n",
            "ep 54: game finished, reward: -1.000000\n",
            "ep 54: game finished, reward: -1.000000\n",
            "ep 54: game finished, reward: -1.000000\n",
            "ep 54: game finished, reward: -1.000000\n",
            "ep 54: game finished, reward: -1.000000\n",
            "ep 54: game finished, reward: -1.000000\n",
            "ep 54: game finished, reward: -1.000000\n",
            "ep 54: game finished, reward: -1.000000\n",
            "ep 54: game finished, reward: -1.000000\n",
            "ep 54: game finished, reward: -1.000000\n",
            "ep 54: game finished, reward: -1.000000\n",
            "ep 54: game finished, reward: -1.000000\n",
            "resetting env. episode reward total was -21.000000. running mean: -20.789807\n",
            "ep 55: game finished, reward: -1.000000\n",
            "ep 55: game finished, reward: -1.000000\n",
            "ep 55: game finished, reward: -1.000000\n",
            "ep 55: game finished, reward: -1.000000\n",
            "ep 55: game finished, reward: -1.000000\n",
            "ep 55: game finished, reward: -1.000000\n",
            "ep 55: game finished, reward: -1.000000\n",
            "ep 55: game finished, reward: -1.000000\n",
            "ep 55: game finished, reward: -1.000000\n",
            "ep 55: game finished, reward: -1.000000\n",
            "ep 55: game finished, reward: -1.000000\n",
            "ep 55: game finished, reward: -1.000000\n",
            "ep 55: game finished, reward: -1.000000\n",
            "ep 55: game finished, reward: -1.000000\n",
            "ep 55: game finished, reward: -1.000000\n",
            "ep 55: game finished, reward: -1.000000\n",
            "ep 55: game finished, reward: -1.000000\n",
            "ep 55: game finished, reward: -1.000000\n",
            "ep 55: game finished, reward: -1.000000\n",
            "ep 55: game finished, reward: -1.000000\n",
            "ep 55: game finished, reward: -1.000000\n",
            "resetting env. episode reward total was -21.000000. running mean: -20.791908\n",
            "ep 56: game finished, reward: -1.000000\n",
            "ep 56: game finished, reward: -1.000000\n",
            "ep 56: game finished, reward: -1.000000\n",
            "ep 56: game finished, reward: -1.000000\n",
            "ep 56: game finished, reward: -1.000000\n",
            "ep 56: game finished, reward: -1.000000\n",
            "ep 56: game finished, reward: -1.000000\n",
            "ep 56: game finished, reward: -1.000000\n",
            "ep 56: game finished, reward: -1.000000\n",
            "ep 56: game finished, reward: -1.000000\n",
            "ep 56: game finished, reward: -1.000000\n",
            "ep 56: game finished, reward: -1.000000\n",
            "ep 56: game finished, reward: -1.000000\n",
            "ep 56: game finished, reward: -1.000000\n",
            "ep 56: game finished, reward: -1.000000\n",
            "ep 56: game finished, reward: -1.000000\n",
            "ep 56: game finished, reward: -1.000000\n",
            "ep 56: game finished, reward: -1.000000\n",
            "ep 56: game finished, reward: -1.000000\n",
            "ep 56: game finished, reward: -1.000000\n",
            "ep 56: game finished, reward: -1.000000\n",
            "resetting env. episode reward total was -21.000000. running mean: -20.793989\n",
            "ep 57: game finished, reward: -1.000000\n",
            "ep 57: game finished, reward: -1.000000\n",
            "ep 57: game finished, reward: -1.000000\n",
            "ep 57: game finished, reward: -1.000000\n",
            "ep 57: game finished, reward: -1.000000\n",
            "ep 57: game finished, reward: -1.000000\n",
            "ep 57: game finished, reward: -1.000000\n",
            "ep 57: game finished, reward: -1.000000\n",
            "ep 57: game finished, reward: -1.000000\n",
            "ep 57: game finished, reward: -1.000000\n",
            "ep 57: game finished, reward: -1.000000\n",
            "ep 57: game finished, reward: -1.000000\n",
            "ep 57: game finished, reward: -1.000000\n",
            "ep 57: game finished, reward: -1.000000\n",
            "ep 57: game finished, reward: -1.000000\n",
            "ep 57: game finished, reward: -1.000000\n",
            "ep 57: game finished, reward: -1.000000\n",
            "ep 57: game finished, reward: -1.000000\n",
            "ep 57: game finished, reward: -1.000000\n",
            "ep 57: game finished, reward: -1.000000\n",
            "ep 57: game finished, reward: -1.000000\n",
            "resetting env. episode reward total was -21.000000. running mean: -20.796050\n",
            "ep 58: game finished, reward: -1.000000\n",
            "ep 58: game finished, reward: -1.000000\n",
            "ep 58: game finished, reward: -1.000000\n",
            "ep 58: game finished, reward: -1.000000\n",
            "ep 58: game finished, reward: -1.000000\n",
            "ep 58: game finished, reward: -1.000000\n",
            "ep 58: game finished, reward: -1.000000\n",
            "ep 58: game finished, reward: -1.000000\n",
            "ep 58: game finished, reward: -1.000000\n",
            "ep 58: game finished, reward: -1.000000\n",
            "ep 58: game finished, reward: -1.000000\n",
            "ep 58: game finished, reward: -1.000000\n",
            "ep 58: game finished, reward: -1.000000\n",
            "ep 58: game finished, reward: -1.000000\n",
            "ep 58: game finished, reward: -1.000000\n",
            "ep 58: game finished, reward: -1.000000\n",
            "ep 58: game finished, reward: -1.000000\n",
            "ep 58: game finished, reward: -1.000000\n",
            "ep 58: game finished, reward: -1.000000\n",
            "ep 58: game finished, reward: -1.000000\n",
            "ep 58: game finished, reward: -1.000000\n",
            "resetting env. episode reward total was -21.000000. running mean: -20.798089\n",
            "ep 59: game finished, reward: -1.000000\n",
            "ep 59: game finished, reward: -1.000000\n",
            "ep 59: game finished, reward: -1.000000\n",
            "ep 59: game finished, reward: -1.000000\n",
            "ep 59: game finished, reward: -1.000000\n",
            "ep 59: game finished, reward: -1.000000\n",
            "ep 59: game finished, reward: -1.000000\n",
            "ep 59: game finished, reward: -1.000000\n",
            "ep 59: game finished, reward: -1.000000\n",
            "ep 59: game finished, reward: -1.000000\n",
            "ep 59: game finished, reward: -1.000000\n",
            "ep 59: game finished, reward: -1.000000\n",
            "ep 59: game finished, reward: -1.000000\n",
            "ep 59: game finished, reward: -1.000000\n",
            "ep 59: game finished, reward: -1.000000\n",
            "ep 59: game finished, reward: -1.000000\n",
            "ep 59: game finished, reward: -1.000000\n",
            "ep 59: game finished, reward: -1.000000\n",
            "ep 59: game finished, reward: -1.000000\n",
            "ep 59: game finished, reward: -1.000000\n",
            "ep 59: game finished, reward: -1.000000\n",
            "resetting env. episode reward total was -21.000000. running mean: -20.800108\n",
            "ep 60: game finished, reward: -1.000000\n",
            "ep 60: game finished, reward: -1.000000\n",
            "ep 60: game finished, reward: -1.000000\n",
            "ep 60: game finished, reward: -1.000000\n",
            "ep 60: game finished, reward: -1.000000\n",
            "ep 60: game finished, reward: -1.000000\n",
            "ep 60: game finished, reward: -1.000000\n",
            "ep 60: game finished, reward: -1.000000\n",
            "ep 60: game finished, reward: -1.000000\n",
            "ep 60: game finished, reward: -1.000000\n",
            "ep 60: game finished, reward: -1.000000\n",
            "ep 60: game finished, reward: -1.000000\n",
            "ep 60: game finished, reward: -1.000000\n",
            "ep 60: game finished, reward: -1.000000\n",
            "ep 60: game finished, reward: -1.000000\n",
            "ep 60: game finished, reward: -1.000000\n",
            "ep 60: game finished, reward: -1.000000\n",
            "ep 60: game finished, reward: -1.000000\n",
            "ep 60: game finished, reward: -1.000000\n",
            "ep 60: game finished, reward: -1.000000\n",
            "ep 60: game finished, reward: -1.000000\n",
            "resetting env. episode reward total was -21.000000. running mean: -20.802107\n",
            "ep 61: game finished, reward: -1.000000\n",
            "ep 61: game finished, reward: -1.000000\n",
            "ep 61: game finished, reward: -1.000000\n",
            "ep 61: game finished, reward: -1.000000\n",
            "ep 61: game finished, reward: -1.000000\n",
            "ep 61: game finished, reward: -1.000000\n",
            "ep 61: game finished, reward: -1.000000\n",
            "ep 61: game finished, reward: -1.000000\n",
            "ep 61: game finished, reward: -1.000000\n",
            "ep 61: game finished, reward: -1.000000\n",
            "ep 61: game finished, reward: -1.000000\n",
            "ep 61: game finished, reward: -1.000000\n",
            "ep 61: game finished, reward: -1.000000\n",
            "ep 61: game finished, reward: -1.000000\n",
            "ep 61: game finished, reward: -1.000000\n",
            "ep 61: game finished, reward: -1.000000\n",
            "ep 61: game finished, reward: -1.000000\n",
            "ep 61: game finished, reward: -1.000000\n",
            "ep 61: game finished, reward: -1.000000\n",
            "ep 61: game finished, reward: -1.000000\n",
            "ep 61: game finished, reward: -1.000000\n",
            "ep 61: game finished, reward: 1.000000"
          ],
          "name": "stdout"
        },
        {
          "output_type": "execute_result",
          "data": {
            "text/plain": [
              "' !!!!!!!!'"
            ]
          },
          "metadata": {
            "tags": []
          },
          "execution_count": 11
        },
        {
          "output_type": "stream",
          "text": [
            "resetting env. episode reward total was -20.000000. running mean: -20.794086\n",
            "ep 62: game finished, reward: -1.000000\n",
            "ep 62: game finished, reward: -1.000000\n",
            "ep 62: game finished, reward: -1.000000\n",
            "ep 62: game finished, reward: -1.000000\n",
            "ep 62: game finished, reward: -1.000000\n",
            "ep 62: game finished, reward: -1.000000\n",
            "ep 62: game finished, reward: -1.000000\n",
            "ep 62: game finished, reward: -1.000000\n",
            "ep 62: game finished, reward: -1.000000\n",
            "ep 62: game finished, reward: -1.000000\n",
            "ep 62: game finished, reward: -1.000000\n",
            "ep 62: game finished, reward: -1.000000\n",
            "ep 62: game finished, reward: -1.000000\n",
            "ep 62: game finished, reward: -1.000000\n",
            "ep 62: game finished, reward: -1.000000\n",
            "ep 62: game finished, reward: -1.000000\n",
            "ep 62: game finished, reward: -1.000000\n",
            "ep 62: game finished, reward: -1.000000\n",
            "ep 62: game finished, reward: -1.000000\n",
            "ep 62: game finished, reward: -1.000000\n",
            "ep 62: game finished, reward: -1.000000\n",
            "resetting env. episode reward total was -21.000000. running mean: -20.796145\n",
            "ep 63: game finished, reward: -1.000000\n",
            "ep 63: game finished, reward: -1.000000\n",
            "ep 63: game finished, reward: -1.000000\n",
            "ep 63: game finished, reward: -1.000000\n",
            "ep 63: game finished, reward: -1.000000\n",
            "ep 63: game finished, reward: -1.000000\n",
            "ep 63: game finished, reward: -1.000000\n",
            "ep 63: game finished, reward: -1.000000\n",
            "ep 63: game finished, reward: -1.000000\n",
            "ep 63: game finished, reward: -1.000000\n",
            "ep 63: game finished, reward: -1.000000\n",
            "ep 63: game finished, reward: -1.000000\n",
            "ep 63: game finished, reward: -1.000000\n",
            "ep 63: game finished, reward: -1.000000\n",
            "ep 63: game finished, reward: 1.000000"
          ],
          "name": "stdout"
        },
        {
          "output_type": "execute_result",
          "data": {
            "text/plain": [
              "' !!!!!!!!'"
            ]
          },
          "metadata": {
            "tags": []
          },
          "execution_count": 11
        },
        {
          "output_type": "stream",
          "text": [
            "ep 63: game finished, reward: -1.000000\n",
            "ep 63: game finished, reward: -1.000000\n",
            "ep 63: game finished, reward: -1.000000\n",
            "ep 63: game finished, reward: -1.000000\n",
            "ep 63: game finished, reward: 1.000000"
          ],
          "name": "stdout"
        },
        {
          "output_type": "execute_result",
          "data": {
            "text/plain": [
              "' !!!!!!!!'"
            ]
          },
          "metadata": {
            "tags": []
          },
          "execution_count": 11
        },
        {
          "output_type": "stream",
          "text": [
            "ep 63: game finished, reward: -1.000000\n",
            "ep 63: game finished, reward: -1.000000\n",
            "ep 63: game finished, reward: -1.000000\n",
            "resetting env. episode reward total was -19.000000. running mean: -20.778184\n",
            "ep 64: game finished, reward: -1.000000\n",
            "ep 64: game finished, reward: -1.000000\n",
            "ep 64: game finished, reward: -1.000000\n",
            "ep 64: game finished, reward: -1.000000\n",
            "ep 64: game finished, reward: -1.000000\n",
            "ep 64: game finished, reward: -1.000000\n",
            "ep 64: game finished, reward: -1.000000\n",
            "ep 64: game finished, reward: -1.000000\n",
            "ep 64: game finished, reward: -1.000000\n",
            "ep 64: game finished, reward: -1.000000\n",
            "ep 64: game finished, reward: -1.000000\n",
            "ep 64: game finished, reward: -1.000000\n",
            "ep 64: game finished, reward: -1.000000\n",
            "ep 64: game finished, reward: -1.000000\n",
            "ep 64: game finished, reward: -1.000000\n",
            "ep 64: game finished, reward: -1.000000\n",
            "ep 64: game finished, reward: -1.000000\n",
            "ep 64: game finished, reward: -1.000000\n",
            "ep 64: game finished, reward: -1.000000\n",
            "ep 64: game finished, reward: -1.000000\n",
            "ep 64: game finished, reward: -1.000000\n",
            "resetting env. episode reward total was -21.000000. running mean: -20.780402\n",
            "ep 65: game finished, reward: -1.000000\n",
            "ep 65: game finished, reward: -1.000000\n",
            "ep 65: game finished, reward: -1.000000\n",
            "ep 65: game finished, reward: -1.000000\n",
            "ep 65: game finished, reward: -1.000000\n",
            "ep 65: game finished, reward: -1.000000\n",
            "ep 65: game finished, reward: -1.000000\n",
            "ep 65: game finished, reward: -1.000000\n",
            "ep 65: game finished, reward: -1.000000\n",
            "ep 65: game finished, reward: -1.000000\n",
            "ep 65: game finished, reward: -1.000000\n",
            "ep 65: game finished, reward: -1.000000\n",
            "ep 65: game finished, reward: -1.000000\n",
            "ep 65: game finished, reward: -1.000000\n",
            "ep 65: game finished, reward: -1.000000\n",
            "ep 65: game finished, reward: -1.000000\n",
            "ep 65: game finished, reward: -1.000000\n",
            "ep 65: game finished, reward: -1.000000\n",
            "ep 65: game finished, reward: -1.000000\n",
            "ep 65: game finished, reward: -1.000000\n",
            "ep 65: game finished, reward: -1.000000\n",
            "resetting env. episode reward total was -21.000000. running mean: -20.782598\n",
            "ep 66: game finished, reward: -1.000000\n",
            "ep 66: game finished, reward: -1.000000\n",
            "ep 66: game finished, reward: -1.000000\n",
            "ep 66: game finished, reward: -1.000000\n",
            "ep 66: game finished, reward: -1.000000\n",
            "ep 66: game finished, reward: -1.000000\n",
            "ep 66: game finished, reward: -1.000000\n",
            "ep 66: game finished, reward: -1.000000\n",
            "ep 66: game finished, reward: -1.000000\n",
            "ep 66: game finished, reward: -1.000000\n",
            "ep 66: game finished, reward: -1.000000\n",
            "ep 66: game finished, reward: -1.000000\n",
            "ep 66: game finished, reward: -1.000000\n",
            "ep 66: game finished, reward: -1.000000\n",
            "ep 66: game finished, reward: -1.000000\n",
            "ep 66: game finished, reward: -1.000000\n",
            "ep 66: game finished, reward: -1.000000\n",
            "ep 66: game finished, reward: -1.000000\n",
            "ep 66: game finished, reward: -1.000000\n",
            "ep 66: game finished, reward: -1.000000\n",
            "ep 66: game finished, reward: -1.000000\n",
            "resetting env. episode reward total was -21.000000. running mean: -20.784772\n",
            "ep 67: game finished, reward: -1.000000\n",
            "ep 67: game finished, reward: -1.000000\n",
            "ep 67: game finished, reward: -1.000000\n",
            "ep 67: game finished, reward: -1.000000\n",
            "ep 67: game finished, reward: -1.000000\n",
            "ep 67: game finished, reward: -1.000000\n",
            "ep 67: game finished, reward: -1.000000\n",
            "ep 67: game finished, reward: -1.000000\n",
            "ep 67: game finished, reward: 1.000000"
          ],
          "name": "stdout"
        },
        {
          "output_type": "execute_result",
          "data": {
            "text/plain": [
              "' !!!!!!!!'"
            ]
          },
          "metadata": {
            "tags": []
          },
          "execution_count": 11
        },
        {
          "output_type": "stream",
          "text": [
            "ep 67: game finished, reward: -1.000000\n",
            "ep 67: game finished, reward: -1.000000\n",
            "ep 67: game finished, reward: -1.000000\n",
            "ep 67: game finished, reward: -1.000000\n",
            "ep 67: game finished, reward: -1.000000\n",
            "ep 67: game finished, reward: -1.000000\n",
            "ep 67: game finished, reward: -1.000000\n",
            "ep 67: game finished, reward: -1.000000\n",
            "ep 67: game finished, reward: -1.000000\n",
            "ep 67: game finished, reward: 1.000000"
          ],
          "name": "stdout"
        },
        {
          "output_type": "execute_result",
          "data": {
            "text/plain": [
              "' !!!!!!!!'"
            ]
          },
          "metadata": {
            "tags": []
          },
          "execution_count": 11
        },
        {
          "output_type": "stream",
          "text": [
            "ep 67: game finished, reward: -1.000000\n",
            "ep 67: game finished, reward: -1.000000\n",
            "ep 67: game finished, reward: -1.000000\n",
            "ep 67: game finished, reward: -1.000000\n",
            "resetting env. episode reward total was -19.000000. running mean: -20.766924\n",
            "ep 68: game finished, reward: -1.000000\n",
            "ep 68: game finished, reward: -1.000000\n",
            "ep 68: game finished, reward: -1.000000\n",
            "ep 68: game finished, reward: -1.000000\n",
            "ep 68: game finished, reward: -1.000000\n",
            "ep 68: game finished, reward: -1.000000\n",
            "ep 68: game finished, reward: -1.000000\n",
            "ep 68: game finished, reward: -1.000000\n",
            "ep 68: game finished, reward: -1.000000\n",
            "ep 68: game finished, reward: -1.000000\n",
            "ep 68: game finished, reward: -1.000000\n",
            "ep 68: game finished, reward: -1.000000\n",
            "ep 68: game finished, reward: -1.000000\n",
            "ep 68: game finished, reward: -1.000000\n",
            "ep 68: game finished, reward: -1.000000\n",
            "ep 68: game finished, reward: -1.000000\n",
            "ep 68: game finished, reward: -1.000000\n",
            "ep 68: game finished, reward: -1.000000\n",
            "ep 68: game finished, reward: -1.000000\n",
            "ep 68: game finished, reward: -1.000000\n",
            "ep 68: game finished, reward: -1.000000\n",
            "resetting env. episode reward total was -21.000000. running mean: -20.769255\n",
            "ep 69: game finished, reward: -1.000000\n",
            "ep 69: game finished, reward: -1.000000\n",
            "ep 69: game finished, reward: -1.000000\n",
            "ep 69: game finished, reward: -1.000000\n",
            "ep 69: game finished, reward: -1.000000\n",
            "ep 69: game finished, reward: -1.000000\n",
            "ep 69: game finished, reward: -1.000000\n",
            "ep 69: game finished, reward: -1.000000\n",
            "ep 69: game finished, reward: -1.000000\n",
            "ep 69: game finished, reward: -1.000000\n",
            "ep 69: game finished, reward: -1.000000\n",
            "ep 69: game finished, reward: -1.000000\n",
            "ep 69: game finished, reward: -1.000000\n",
            "ep 69: game finished, reward: -1.000000\n",
            "ep 69: game finished, reward: -1.000000\n",
            "ep 69: game finished, reward: -1.000000\n",
            "ep 69: game finished, reward: -1.000000\n",
            "ep 69: game finished, reward: -1.000000\n",
            "ep 69: game finished, reward: -1.000000\n",
            "ep 69: game finished, reward: -1.000000\n",
            "ep 69: game finished, reward: -1.000000\n",
            "resetting env. episode reward total was -21.000000. running mean: -20.771562\n",
            "ep 70: game finished, reward: -1.000000\n",
            "ep 70: game finished, reward: -1.000000\n",
            "ep 70: game finished, reward: -1.000000\n",
            "ep 70: game finished, reward: -1.000000\n",
            "ep 70: game finished, reward: -1.000000\n",
            "ep 70: game finished, reward: -1.000000\n",
            "ep 70: game finished, reward: -1.000000\n",
            "ep 70: game finished, reward: -1.000000\n",
            "ep 70: game finished, reward: -1.000000\n",
            "ep 70: game finished, reward: -1.000000\n",
            "ep 70: game finished, reward: -1.000000\n",
            "ep 70: game finished, reward: -1.000000\n",
            "ep 70: game finished, reward: -1.000000\n",
            "ep 70: game finished, reward: -1.000000\n",
            "ep 70: game finished, reward: -1.000000\n",
            "ep 70: game finished, reward: -1.000000\n",
            "ep 70: game finished, reward: -1.000000\n",
            "ep 70: game finished, reward: -1.000000\n",
            "ep 70: game finished, reward: -1.000000\n",
            "ep 70: game finished, reward: -1.000000\n",
            "ep 70: game finished, reward: -1.000000\n",
            "resetting env. episode reward total was -21.000000. running mean: -20.773847\n",
            "ep 71: game finished, reward: -1.000000\n",
            "ep 71: game finished, reward: -1.000000\n",
            "ep 71: game finished, reward: -1.000000\n",
            "ep 71: game finished, reward: -1.000000\n",
            "ep 71: game finished, reward: -1.000000\n",
            "ep 71: game finished, reward: -1.000000\n",
            "ep 71: game finished, reward: -1.000000\n",
            "ep 71: game finished, reward: -1.000000\n",
            "ep 71: game finished, reward: -1.000000\n",
            "ep 71: game finished, reward: -1.000000\n",
            "ep 71: game finished, reward: -1.000000\n",
            "ep 71: game finished, reward: -1.000000\n",
            "ep 71: game finished, reward: -1.000000\n",
            "ep 71: game finished, reward: -1.000000\n",
            "ep 71: game finished, reward: -1.000000\n",
            "ep 71: game finished, reward: -1.000000\n",
            "ep 71: game finished, reward: -1.000000\n",
            "ep 71: game finished, reward: -1.000000\n",
            "ep 71: game finished, reward: -1.000000\n",
            "ep 71: game finished, reward: 1.000000"
          ],
          "name": "stdout"
        },
        {
          "output_type": "execute_result",
          "data": {
            "text/plain": [
              "' !!!!!!!!'"
            ]
          },
          "metadata": {
            "tags": []
          },
          "execution_count": 11
        },
        {
          "output_type": "stream",
          "text": [
            "ep 71: game finished, reward: -1.000000\n",
            "ep 71: game finished, reward: -1.000000\n",
            "resetting env. episode reward total was -20.000000. running mean: -20.766108\n",
            "ep 72: game finished, reward: -1.000000\n",
            "ep 72: game finished, reward: 1.000000"
          ],
          "name": "stdout"
        },
        {
          "output_type": "execute_result",
          "data": {
            "text/plain": [
              "' !!!!!!!!'"
            ]
          },
          "metadata": {
            "tags": []
          },
          "execution_count": 11
        },
        {
          "output_type": "stream",
          "text": [
            "ep 72: game finished, reward: -1.000000\n",
            "ep 72: game finished, reward: -1.000000\n",
            "ep 72: game finished, reward: -1.000000\n",
            "ep 72: game finished, reward: 1.000000"
          ],
          "name": "stdout"
        },
        {
          "output_type": "execute_result",
          "data": {
            "text/plain": [
              "' !!!!!!!!'"
            ]
          },
          "metadata": {
            "tags": []
          },
          "execution_count": 11
        },
        {
          "output_type": "stream",
          "text": [
            "ep 72: game finished, reward: -1.000000\n",
            "ep 72: game finished, reward: -1.000000\n",
            "ep 72: game finished, reward: -1.000000\n",
            "ep 72: game finished, reward: -1.000000\n",
            "ep 72: game finished, reward: -1.000000\n",
            "ep 72: game finished, reward: -1.000000\n",
            "ep 72: game finished, reward: -1.000000\n",
            "ep 72: game finished, reward: -1.000000\n",
            "ep 72: game finished, reward: -1.000000\n",
            "ep 72: game finished, reward: -1.000000\n",
            "ep 72: game finished, reward: -1.000000\n",
            "ep 72: game finished, reward: -1.000000\n",
            "ep 72: game finished, reward: -1.000000\n",
            "ep 72: game finished, reward: -1.000000\n",
            "ep 72: game finished, reward: -1.000000\n",
            "ep 72: game finished, reward: -1.000000\n",
            "ep 72: game finished, reward: -1.000000\n",
            "resetting env. episode reward total was -19.000000. running mean: -20.748447\n",
            "ep 73: game finished, reward: -1.000000\n",
            "ep 73: game finished, reward: -1.000000\n",
            "ep 73: game finished, reward: -1.000000\n",
            "ep 73: game finished, reward: -1.000000\n",
            "ep 73: game finished, reward: -1.000000\n",
            "ep 73: game finished, reward: -1.000000\n",
            "ep 73: game finished, reward: -1.000000\n",
            "ep 73: game finished, reward: -1.000000\n",
            "ep 73: game finished, reward: -1.000000\n",
            "ep 73: game finished, reward: -1.000000\n",
            "ep 73: game finished, reward: -1.000000\n",
            "ep 73: game finished, reward: -1.000000\n",
            "ep 73: game finished, reward: -1.000000\n",
            "ep 73: game finished, reward: -1.000000\n",
            "ep 73: game finished, reward: -1.000000\n",
            "ep 73: game finished, reward: -1.000000\n",
            "ep 73: game finished, reward: -1.000000\n",
            "ep 73: game finished, reward: -1.000000\n",
            "ep 73: game finished, reward: -1.000000\n",
            "ep 73: game finished, reward: -1.000000\n",
            "ep 73: game finished, reward: -1.000000\n",
            "resetting env. episode reward total was -21.000000. running mean: -20.750963\n",
            "ep 74: game finished, reward: -1.000000\n",
            "ep 74: game finished, reward: 1.000000"
          ],
          "name": "stdout"
        },
        {
          "output_type": "execute_result",
          "data": {
            "text/plain": [
              "' !!!!!!!!'"
            ]
          },
          "metadata": {
            "tags": []
          },
          "execution_count": 11
        },
        {
          "output_type": "stream",
          "text": [
            "ep 74: game finished, reward: 1.000000"
          ],
          "name": "stdout"
        },
        {
          "output_type": "execute_result",
          "data": {
            "text/plain": [
              "' !!!!!!!!'"
            ]
          },
          "metadata": {
            "tags": []
          },
          "execution_count": 11
        },
        {
          "output_type": "stream",
          "text": [
            "ep 74: game finished, reward: -1.000000\n",
            "ep 74: game finished, reward: -1.000000\n",
            "ep 74: game finished, reward: -1.000000\n",
            "ep 74: game finished, reward: -1.000000\n",
            "ep 74: game finished, reward: -1.000000\n",
            "ep 74: game finished, reward: -1.000000\n",
            "ep 74: game finished, reward: -1.000000\n",
            "ep 74: game finished, reward: -1.000000\n",
            "ep 74: game finished, reward: -1.000000\n",
            "ep 74: game finished, reward: -1.000000\n",
            "ep 74: game finished, reward: -1.000000\n",
            "ep 74: game finished, reward: -1.000000\n",
            "ep 74: game finished, reward: -1.000000\n",
            "ep 74: game finished, reward: -1.000000\n",
            "ep 74: game finished, reward: -1.000000\n",
            "ep 74: game finished, reward: -1.000000\n",
            "ep 74: game finished, reward: -1.000000\n",
            "ep 74: game finished, reward: -1.000000\n",
            "ep 74: game finished, reward: -1.000000\n",
            "ep 74: game finished, reward: -1.000000\n",
            "resetting env. episode reward total was -19.000000. running mean: -20.733453\n",
            "ep 75: game finished, reward: -1.000000\n",
            "ep 75: game finished, reward: -1.000000\n",
            "ep 75: game finished, reward: -1.000000\n",
            "ep 75: game finished, reward: -1.000000\n",
            "ep 75: game finished, reward: -1.000000\n",
            "ep 75: game finished, reward: -1.000000\n",
            "ep 75: game finished, reward: -1.000000\n",
            "ep 75: game finished, reward: -1.000000\n",
            "ep 75: game finished, reward: -1.000000\n",
            "ep 75: game finished, reward: -1.000000\n",
            "ep 75: game finished, reward: -1.000000\n",
            "ep 75: game finished, reward: -1.000000\n",
            "ep 75: game finished, reward: -1.000000\n",
            "ep 75: game finished, reward: -1.000000\n",
            "ep 75: game finished, reward: -1.000000\n",
            "ep 75: game finished, reward: 1.000000"
          ],
          "name": "stdout"
        },
        {
          "output_type": "execute_result",
          "data": {
            "text/plain": [
              "' !!!!!!!!'"
            ]
          },
          "metadata": {
            "tags": []
          },
          "execution_count": 11
        },
        {
          "output_type": "stream",
          "text": [
            "ep 75: game finished, reward: -1.000000\n",
            "ep 75: game finished, reward: -1.000000\n",
            "ep 75: game finished, reward: -1.000000\n",
            "ep 75: game finished, reward: -1.000000\n",
            "ep 75: game finished, reward: -1.000000\n",
            "ep 75: game finished, reward: -1.000000\n",
            "resetting env. episode reward total was -20.000000. running mean: -20.726119\n",
            "ep 76: game finished, reward: -1.000000\n",
            "ep 76: game finished, reward: -1.000000\n",
            "ep 76: game finished, reward: -1.000000\n",
            "ep 76: game finished, reward: -1.000000\n",
            "ep 76: game finished, reward: -1.000000\n",
            "ep 76: game finished, reward: -1.000000\n",
            "ep 76: game finished, reward: -1.000000\n",
            "ep 76: game finished, reward: -1.000000\n",
            "ep 76: game finished, reward: -1.000000\n",
            "ep 76: game finished, reward: 1.000000"
          ],
          "name": "stdout"
        },
        {
          "output_type": "execute_result",
          "data": {
            "text/plain": [
              "' !!!!!!!!'"
            ]
          },
          "metadata": {
            "tags": []
          },
          "execution_count": 11
        },
        {
          "output_type": "stream",
          "text": [
            "ep 76: game finished, reward: -1.000000\n",
            "ep 76: game finished, reward: 1.000000"
          ],
          "name": "stdout"
        },
        {
          "output_type": "execute_result",
          "data": {
            "text/plain": [
              "' !!!!!!!!'"
            ]
          },
          "metadata": {
            "tags": []
          },
          "execution_count": 11
        },
        {
          "output_type": "stream",
          "text": [
            "ep 76: game finished, reward: -1.000000\n",
            "ep 76: game finished, reward: -1.000000\n",
            "ep 76: game finished, reward: -1.000000\n",
            "ep 76: game finished, reward: -1.000000\n",
            "ep 76: game finished, reward: -1.000000\n",
            "ep 76: game finished, reward: -1.000000\n",
            "ep 76: game finished, reward: -1.000000\n",
            "ep 76: game finished, reward: -1.000000\n",
            "ep 76: game finished, reward: -1.000000\n",
            "ep 76: game finished, reward: -1.000000\n",
            "ep 76: game finished, reward: -1.000000\n",
            "resetting env. episode reward total was -19.000000. running mean: -20.708857\n",
            "ep 77: game finished, reward: -1.000000\n",
            "ep 77: game finished, reward: -1.000000\n",
            "ep 77: game finished, reward: -1.000000\n",
            "ep 77: game finished, reward: -1.000000\n",
            "ep 77: game finished, reward: -1.000000\n",
            "ep 77: game finished, reward: 1.000000"
          ],
          "name": "stdout"
        },
        {
          "output_type": "execute_result",
          "data": {
            "text/plain": [
              "' !!!!!!!!'"
            ]
          },
          "metadata": {
            "tags": []
          },
          "execution_count": 11
        },
        {
          "output_type": "stream",
          "text": [
            "ep 77: game finished, reward: -1.000000\n",
            "ep 77: game finished, reward: -1.000000\n",
            "ep 77: game finished, reward: -1.000000\n",
            "ep 77: game finished, reward: -1.000000\n",
            "ep 77: game finished, reward: 1.000000"
          ],
          "name": "stdout"
        },
        {
          "output_type": "execute_result",
          "data": {
            "text/plain": [
              "' !!!!!!!!'"
            ]
          },
          "metadata": {
            "tags": []
          },
          "execution_count": 11
        },
        {
          "output_type": "stream",
          "text": [
            "ep 77: game finished, reward: -1.000000\n",
            "ep 77: game finished, reward: -1.000000\n",
            "ep 77: game finished, reward: -1.000000\n",
            "ep 77: game finished, reward: -1.000000\n",
            "ep 77: game finished, reward: -1.000000\n",
            "ep 77: game finished, reward: -1.000000\n",
            "ep 77: game finished, reward: -1.000000\n",
            "ep 77: game finished, reward: -1.000000\n",
            "ep 77: game finished, reward: -1.000000\n",
            "ep 77: game finished, reward: -1.000000\n",
            "ep 77: game finished, reward: -1.000000\n",
            "ep 77: game finished, reward: -1.000000\n",
            "resetting env. episode reward total was -19.000000. running mean: -20.691769\n",
            "ep 78: game finished, reward: -1.000000\n",
            "ep 78: game finished, reward: -1.000000\n",
            "ep 78: game finished, reward: -1.000000\n",
            "ep 78: game finished, reward: -1.000000\n",
            "ep 78: game finished, reward: -1.000000\n",
            "ep 78: game finished, reward: -1.000000\n",
            "ep 78: game finished, reward: -1.000000\n",
            "ep 78: game finished, reward: -1.000000\n",
            "ep 78: game finished, reward: -1.000000\n",
            "ep 78: game finished, reward: -1.000000\n",
            "ep 78: game finished, reward: -1.000000\n",
            "ep 78: game finished, reward: -1.000000\n",
            "ep 78: game finished, reward: -1.000000\n",
            "ep 78: game finished, reward: -1.000000\n",
            "ep 78: game finished, reward: -1.000000\n",
            "ep 78: game finished, reward: -1.000000\n",
            "ep 78: game finished, reward: -1.000000\n",
            "ep 78: game finished, reward: -1.000000\n",
            "ep 78: game finished, reward: -1.000000\n",
            "ep 78: game finished, reward: -1.000000\n",
            "ep 78: game finished, reward: -1.000000\n",
            "resetting env. episode reward total was -21.000000. running mean: -20.694851\n",
            "ep 79: game finished, reward: -1.000000\n",
            "ep 79: game finished, reward: -1.000000\n",
            "ep 79: game finished, reward: -1.000000\n",
            "ep 79: game finished, reward: -1.000000\n",
            "ep 79: game finished, reward: -1.000000\n",
            "ep 79: game finished, reward: -1.000000\n",
            "ep 79: game finished, reward: -1.000000\n",
            "ep 79: game finished, reward: -1.000000\n",
            "ep 79: game finished, reward: -1.000000\n",
            "ep 79: game finished, reward: -1.000000\n",
            "ep 79: game finished, reward: -1.000000\n",
            "ep 79: game finished, reward: -1.000000\n",
            "ep 79: game finished, reward: -1.000000\n",
            "ep 79: game finished, reward: -1.000000\n",
            "ep 79: game finished, reward: -1.000000\n",
            "ep 79: game finished, reward: -1.000000\n",
            "ep 79: game finished, reward: -1.000000\n",
            "ep 79: game finished, reward: -1.000000\n",
            "ep 79: game finished, reward: -1.000000\n",
            "ep 79: game finished, reward: 1.000000"
          ],
          "name": "stdout"
        },
        {
          "output_type": "execute_result",
          "data": {
            "text/plain": [
              "' !!!!!!!!'"
            ]
          },
          "metadata": {
            "tags": []
          },
          "execution_count": 11
        },
        {
          "output_type": "stream",
          "text": [
            "ep 79: game finished, reward: -1.000000\n",
            "ep 79: game finished, reward: -1.000000\n",
            "resetting env. episode reward total was -20.000000. running mean: -20.687903\n",
            "ep 80: game finished, reward: -1.000000\n",
            "ep 80: game finished, reward: -1.000000\n",
            "ep 80: game finished, reward: -1.000000\n",
            "ep 80: game finished, reward: -1.000000\n",
            "ep 80: game finished, reward: -1.000000\n",
            "ep 80: game finished, reward: -1.000000\n",
            "ep 80: game finished, reward: -1.000000\n",
            "ep 80: game finished, reward: -1.000000\n",
            "ep 80: game finished, reward: -1.000000\n",
            "ep 80: game finished, reward: -1.000000\n",
            "ep 80: game finished, reward: -1.000000\n",
            "ep 80: game finished, reward: -1.000000\n",
            "ep 80: game finished, reward: -1.000000\n",
            "ep 80: game finished, reward: -1.000000\n",
            "ep 80: game finished, reward: -1.000000\n",
            "ep 80: game finished, reward: -1.000000\n",
            "ep 80: game finished, reward: -1.000000\n",
            "ep 80: game finished, reward: -1.000000\n",
            "ep 80: game finished, reward: -1.000000\n",
            "ep 80: game finished, reward: -1.000000\n",
            "ep 80: game finished, reward: -1.000000\n",
            "resetting env. episode reward total was -21.000000. running mean: -20.691024\n",
            "ep 81: game finished, reward: -1.000000\n",
            "ep 81: game finished, reward: -1.000000\n",
            "ep 81: game finished, reward: -1.000000\n",
            "ep 81: game finished, reward: -1.000000\n",
            "ep 81: game finished, reward: -1.000000\n",
            "ep 81: game finished, reward: -1.000000\n",
            "ep 81: game finished, reward: -1.000000\n",
            "ep 81: game finished, reward: -1.000000\n",
            "ep 81: game finished, reward: -1.000000\n",
            "ep 81: game finished, reward: -1.000000\n",
            "ep 81: game finished, reward: 1.000000"
          ],
          "name": "stdout"
        },
        {
          "output_type": "execute_result",
          "data": {
            "text/plain": [
              "' !!!!!!!!'"
            ]
          },
          "metadata": {
            "tags": []
          },
          "execution_count": 11
        },
        {
          "output_type": "stream",
          "text": [
            "ep 81: game finished, reward: 1.000000"
          ],
          "name": "stdout"
        },
        {
          "output_type": "execute_result",
          "data": {
            "text/plain": [
              "' !!!!!!!!'"
            ]
          },
          "metadata": {
            "tags": []
          },
          "execution_count": 11
        },
        {
          "output_type": "stream",
          "text": [
            "ep 81: game finished, reward: -1.000000\n",
            "ep 81: game finished, reward: -1.000000\n",
            "ep 81: game finished, reward: -1.000000\n",
            "ep 81: game finished, reward: -1.000000\n",
            "ep 81: game finished, reward: -1.000000\n",
            "ep 81: game finished, reward: -1.000000\n",
            "ep 81: game finished, reward: -1.000000\n",
            "ep 81: game finished, reward: -1.000000\n",
            "ep 81: game finished, reward: -1.000000\n",
            "ep 81: game finished, reward: -1.000000\n",
            "ep 81: game finished, reward: 1.000000"
          ],
          "name": "stdout"
        },
        {
          "output_type": "execute_result",
          "data": {
            "text/plain": [
              "' !!!!!!!!'"
            ]
          },
          "metadata": {
            "tags": []
          },
          "execution_count": 11
        },
        {
          "output_type": "stream",
          "text": [
            "ep 81: game finished, reward: -1.000000\n",
            "resetting env. episode reward total was -18.000000. running mean: -20.664113\n",
            "ep 82: game finished, reward: -1.000000\n",
            "ep 82: game finished, reward: -1.000000\n",
            "ep 82: game finished, reward: -1.000000\n",
            "ep 82: game finished, reward: -1.000000\n",
            "ep 82: game finished, reward: -1.000000\n",
            "ep 82: game finished, reward: -1.000000\n",
            "ep 82: game finished, reward: -1.000000\n",
            "ep 82: game finished, reward: -1.000000\n",
            "ep 82: game finished, reward: -1.000000\n",
            "ep 82: game finished, reward: -1.000000\n",
            "ep 82: game finished, reward: 1.000000"
          ],
          "name": "stdout"
        },
        {
          "output_type": "execute_result",
          "data": {
            "text/plain": [
              "' !!!!!!!!'"
            ]
          },
          "metadata": {
            "tags": []
          },
          "execution_count": 11
        },
        {
          "output_type": "stream",
          "text": [
            "ep 82: game finished, reward: -1.000000\n",
            "ep 82: game finished, reward: -1.000000\n",
            "ep 82: game finished, reward: -1.000000\n",
            "ep 82: game finished, reward: -1.000000\n",
            "ep 82: game finished, reward: -1.000000\n",
            "ep 82: game finished, reward: -1.000000\n",
            "ep 82: game finished, reward: -1.000000\n",
            "ep 82: game finished, reward: -1.000000\n",
            "ep 82: game finished, reward: -1.000000\n",
            "ep 82: game finished, reward: -1.000000\n",
            "ep 82: game finished, reward: -1.000000\n",
            "resetting env. episode reward total was -20.000000. running mean: -20.657472\n",
            "ep 83: game finished, reward: -1.000000\n",
            "ep 83: game finished, reward: -1.000000\n",
            "ep 83: game finished, reward: -1.000000\n",
            "ep 83: game finished, reward: -1.000000\n",
            "ep 83: game finished, reward: -1.000000\n",
            "ep 83: game finished, reward: -1.000000\n",
            "ep 83: game finished, reward: -1.000000\n",
            "ep 83: game finished, reward: -1.000000\n",
            "ep 83: game finished, reward: -1.000000\n",
            "ep 83: game finished, reward: -1.000000\n",
            "ep 83: game finished, reward: -1.000000\n",
            "ep 83: game finished, reward: -1.000000\n",
            "ep 83: game finished, reward: -1.000000\n",
            "ep 83: game finished, reward: -1.000000\n",
            "ep 83: game finished, reward: -1.000000\n",
            "ep 83: game finished, reward: -1.000000\n",
            "ep 83: game finished, reward: -1.000000\n",
            "ep 83: game finished, reward: -1.000000\n",
            "ep 83: game finished, reward: -1.000000\n",
            "ep 83: game finished, reward: -1.000000\n",
            "ep 83: game finished, reward: -1.000000\n",
            "resetting env. episode reward total was -21.000000. running mean: -20.660897\n",
            "ep 84: game finished, reward: -1.000000\n",
            "ep 84: game finished, reward: -1.000000\n",
            "ep 84: game finished, reward: -1.000000\n",
            "ep 84: game finished, reward: -1.000000\n",
            "ep 84: game finished, reward: -1.000000\n",
            "ep 84: game finished, reward: -1.000000\n",
            "ep 84: game finished, reward: -1.000000\n",
            "ep 84: game finished, reward: -1.000000\n",
            "ep 84: game finished, reward: -1.000000\n",
            "ep 84: game finished, reward: -1.000000\n",
            "ep 84: game finished, reward: -1.000000\n",
            "ep 84: game finished, reward: -1.000000\n",
            "ep 84: game finished, reward: -1.000000\n",
            "ep 84: game finished, reward: -1.000000\n",
            "ep 84: game finished, reward: -1.000000\n",
            "ep 84: game finished, reward: -1.000000\n",
            "ep 84: game finished, reward: -1.000000\n",
            "ep 84: game finished, reward: -1.000000\n",
            "ep 84: game finished, reward: -1.000000\n",
            "ep 84: game finished, reward: -1.000000\n",
            "ep 84: game finished, reward: -1.000000\n",
            "resetting env. episode reward total was -21.000000. running mean: -20.664288\n",
            "ep 85: game finished, reward: -1.000000\n",
            "ep 85: game finished, reward: -1.000000\n",
            "ep 85: game finished, reward: -1.000000\n",
            "ep 85: game finished, reward: -1.000000\n",
            "ep 85: game finished, reward: -1.000000\n",
            "ep 85: game finished, reward: -1.000000\n",
            "ep 85: game finished, reward: -1.000000\n",
            "ep 85: game finished, reward: -1.000000\n",
            "ep 85: game finished, reward: -1.000000\n",
            "ep 85: game finished, reward: -1.000000\n",
            "ep 85: game finished, reward: -1.000000\n",
            "ep 85: game finished, reward: -1.000000\n",
            "ep 85: game finished, reward: -1.000000\n",
            "ep 85: game finished, reward: -1.000000\n",
            "ep 85: game finished, reward: -1.000000\n",
            "ep 85: game finished, reward: -1.000000\n",
            "ep 85: game finished, reward: -1.000000\n",
            "ep 85: game finished, reward: -1.000000\n",
            "ep 85: game finished, reward: -1.000000\n",
            "ep 85: game finished, reward: -1.000000\n",
            "ep 85: game finished, reward: -1.000000\n",
            "resetting env. episode reward total was -21.000000. running mean: -20.667646\n",
            "ep 86: game finished, reward: -1.000000\n",
            "ep 86: game finished, reward: -1.000000\n",
            "ep 86: game finished, reward: -1.000000\n",
            "ep 86: game finished, reward: -1.000000\n",
            "ep 86: game finished, reward: -1.000000\n",
            "ep 86: game finished, reward: -1.000000\n",
            "ep 86: game finished, reward: -1.000000\n",
            "ep 86: game finished, reward: -1.000000\n",
            "ep 86: game finished, reward: -1.000000\n",
            "ep 86: game finished, reward: -1.000000\n",
            "ep 86: game finished, reward: -1.000000\n",
            "ep 86: game finished, reward: -1.000000\n",
            "ep 86: game finished, reward: -1.000000\n",
            "ep 86: game finished, reward: -1.000000\n",
            "ep 86: game finished, reward: -1.000000\n",
            "ep 86: game finished, reward: -1.000000\n",
            "ep 86: game finished, reward: -1.000000\n",
            "ep 86: game finished, reward: -1.000000\n",
            "ep 86: game finished, reward: -1.000000\n",
            "ep 86: game finished, reward: -1.000000\n",
            "ep 86: game finished, reward: -1.000000\n",
            "resetting env. episode reward total was -21.000000. running mean: -20.670969\n",
            "ep 87: game finished, reward: -1.000000\n",
            "ep 87: game finished, reward: -1.000000\n",
            "ep 87: game finished, reward: -1.000000\n",
            "ep 87: game finished, reward: -1.000000\n",
            "ep 87: game finished, reward: -1.000000\n",
            "ep 87: game finished, reward: -1.000000\n",
            "ep 87: game finished, reward: -1.000000\n",
            "ep 87: game finished, reward: -1.000000\n",
            "ep 87: game finished, reward: -1.000000\n",
            "ep 87: game finished, reward: -1.000000\n",
            "ep 87: game finished, reward: -1.000000\n",
            "ep 87: game finished, reward: -1.000000\n",
            "ep 87: game finished, reward: -1.000000\n",
            "ep 87: game finished, reward: -1.000000\n",
            "ep 87: game finished, reward: -1.000000\n",
            "ep 87: game finished, reward: -1.000000\n",
            "ep 87: game finished, reward: -1.000000\n",
            "ep 87: game finished, reward: -1.000000\n",
            "ep 87: game finished, reward: -1.000000\n",
            "ep 87: game finished, reward: -1.000000\n",
            "ep 87: game finished, reward: -1.000000\n",
            "resetting env. episode reward total was -21.000000. running mean: -20.674259\n",
            "ep 88: game finished, reward: -1.000000\n",
            "ep 88: game finished, reward: -1.000000\n",
            "ep 88: game finished, reward: -1.000000\n",
            "ep 88: game finished, reward: -1.000000\n",
            "ep 88: game finished, reward: -1.000000\n",
            "ep 88: game finished, reward: -1.000000\n",
            "ep 88: game finished, reward: -1.000000\n",
            "ep 88: game finished, reward: -1.000000\n",
            "ep 88: game finished, reward: 1.000000"
          ],
          "name": "stdout"
        },
        {
          "output_type": "execute_result",
          "data": {
            "text/plain": [
              "' !!!!!!!!'"
            ]
          },
          "metadata": {
            "tags": []
          },
          "execution_count": 11
        },
        {
          "output_type": "stream",
          "text": [
            "ep 88: game finished, reward: -1.000000\n",
            "ep 88: game finished, reward: -1.000000\n",
            "ep 88: game finished, reward: -1.000000\n",
            "ep 88: game finished, reward: -1.000000\n",
            "ep 88: game finished, reward: -1.000000\n",
            "ep 88: game finished, reward: -1.000000\n",
            "ep 88: game finished, reward: -1.000000\n",
            "ep 88: game finished, reward: 1.000000"
          ],
          "name": "stdout"
        },
        {
          "output_type": "execute_result",
          "data": {
            "text/plain": [
              "' !!!!!!!!'"
            ]
          },
          "metadata": {
            "tags": []
          },
          "execution_count": 11
        },
        {
          "output_type": "stream",
          "text": [
            "ep 88: game finished, reward: -1.000000\n",
            "ep 88: game finished, reward: -1.000000\n",
            "ep 88: game finished, reward: -1.000000\n",
            "ep 88: game finished, reward: -1.000000\n",
            "ep 88: game finished, reward: -1.000000\n",
            "ep 88: game finished, reward: -1.000000\n",
            "resetting env. episode reward total was -19.000000. running mean: -20.657517\n",
            "ep 89: game finished, reward: -1.000000\n",
            "ep 89: game finished, reward: -1.000000\n",
            "ep 89: game finished, reward: -1.000000\n",
            "ep 89: game finished, reward: -1.000000\n",
            "ep 89: game finished, reward: -1.000000\n",
            "ep 89: game finished, reward: -1.000000\n",
            "ep 89: game finished, reward: -1.000000\n",
            "ep 89: game finished, reward: -1.000000\n",
            "ep 89: game finished, reward: -1.000000\n",
            "ep 89: game finished, reward: -1.000000\n",
            "ep 89: game finished, reward: -1.000000\n",
            "ep 89: game finished, reward: -1.000000\n",
            "ep 89: game finished, reward: -1.000000\n",
            "ep 89: game finished, reward: -1.000000\n",
            "ep 89: game finished, reward: -1.000000\n",
            "ep 89: game finished, reward: -1.000000\n",
            "ep 89: game finished, reward: -1.000000\n",
            "ep 89: game finished, reward: -1.000000\n",
            "ep 89: game finished, reward: -1.000000\n",
            "ep 89: game finished, reward: -1.000000\n",
            "ep 89: game finished, reward: -1.000000\n",
            "resetting env. episode reward total was -21.000000. running mean: -20.660942\n",
            "ep 90: game finished, reward: -1.000000\n",
            "ep 90: game finished, reward: -1.000000\n",
            "ep 90: game finished, reward: -1.000000\n",
            "ep 90: game finished, reward: -1.000000\n",
            "ep 90: game finished, reward: -1.000000\n",
            "ep 90: game finished, reward: -1.000000\n",
            "ep 90: game finished, reward: -1.000000\n",
            "ep 90: game finished, reward: -1.000000\n",
            "ep 90: game finished, reward: -1.000000\n",
            "ep 90: game finished, reward: -1.000000\n",
            "ep 90: game finished, reward: -1.000000\n",
            "ep 90: game finished, reward: -1.000000\n",
            "ep 90: game finished, reward: -1.000000\n",
            "ep 90: game finished, reward: 1.000000"
          ],
          "name": "stdout"
        },
        {
          "output_type": "execute_result",
          "data": {
            "text/plain": [
              "' !!!!!!!!'"
            ]
          },
          "metadata": {
            "tags": []
          },
          "execution_count": 11
        },
        {
          "output_type": "stream",
          "text": [
            "ep 90: game finished, reward: -1.000000\n",
            "ep 90: game finished, reward: -1.000000\n",
            "ep 90: game finished, reward: -1.000000\n",
            "ep 90: game finished, reward: -1.000000\n",
            "ep 90: game finished, reward: -1.000000\n",
            "ep 90: game finished, reward: -1.000000\n",
            "ep 90: game finished, reward: -1.000000\n",
            "ep 90: game finished, reward: -1.000000\n",
            "resetting env. episode reward total was -20.000000. running mean: -20.654332\n",
            "ep 91: game finished, reward: -1.000000\n",
            "ep 91: game finished, reward: -1.000000\n",
            "ep 91: game finished, reward: -1.000000\n",
            "ep 91: game finished, reward: -1.000000\n",
            "ep 91: game finished, reward: -1.000000\n",
            "ep 91: game finished, reward: -1.000000\n",
            "ep 91: game finished, reward: -1.000000\n",
            "ep 91: game finished, reward: -1.000000\n",
            "ep 91: game finished, reward: -1.000000\n",
            "ep 91: game finished, reward: -1.000000\n",
            "ep 91: game finished, reward: -1.000000\n",
            "ep 91: game finished, reward: -1.000000\n",
            "ep 91: game finished, reward: -1.000000\n",
            "ep 91: game finished, reward: -1.000000\n",
            "ep 91: game finished, reward: -1.000000\n",
            "ep 91: game finished, reward: -1.000000\n",
            "ep 91: game finished, reward: -1.000000\n",
            "ep 91: game finished, reward: -1.000000\n",
            "ep 91: game finished, reward: -1.000000\n",
            "ep 91: game finished, reward: -1.000000\n",
            "ep 91: game finished, reward: 1.000000"
          ],
          "name": "stdout"
        },
        {
          "output_type": "execute_result",
          "data": {
            "text/plain": [
              "' !!!!!!!!'"
            ]
          },
          "metadata": {
            "tags": []
          },
          "execution_count": 11
        },
        {
          "output_type": "stream",
          "text": [
            "ep 91: game finished, reward: -1.000000\n",
            "resetting env. episode reward total was -20.000000. running mean: -20.647789\n",
            "ep 92: game finished, reward: -1.000000\n",
            "ep 92: game finished, reward: -1.000000\n",
            "ep 92: game finished, reward: -1.000000\n",
            "ep 92: game finished, reward: -1.000000\n",
            "ep 92: game finished, reward: -1.000000\n",
            "ep 92: game finished, reward: -1.000000\n",
            "ep 92: game finished, reward: -1.000000\n",
            "ep 92: game finished, reward: -1.000000\n",
            "ep 92: game finished, reward: -1.000000\n",
            "ep 92: game finished, reward: 1.000000"
          ],
          "name": "stdout"
        },
        {
          "output_type": "execute_result",
          "data": {
            "text/plain": [
              "' !!!!!!!!'"
            ]
          },
          "metadata": {
            "tags": []
          },
          "execution_count": 11
        },
        {
          "output_type": "stream",
          "text": [
            "ep 92: game finished, reward: -1.000000\n",
            "ep 92: game finished, reward: -1.000000\n",
            "ep 92: game finished, reward: -1.000000\n",
            "ep 92: game finished, reward: -1.000000\n",
            "ep 92: game finished, reward: -1.000000\n",
            "ep 92: game finished, reward: -1.000000\n",
            "ep 92: game finished, reward: -1.000000\n",
            "ep 92: game finished, reward: -1.000000\n",
            "ep 92: game finished, reward: -1.000000\n",
            "ep 92: game finished, reward: -1.000000\n",
            "ep 92: game finished, reward: -1.000000\n",
            "ep 92: game finished, reward: 1.000000"
          ],
          "name": "stdout"
        },
        {
          "output_type": "execute_result",
          "data": {
            "text/plain": [
              "' !!!!!!!!'"
            ]
          },
          "metadata": {
            "tags": []
          },
          "execution_count": 11
        },
        {
          "output_type": "stream",
          "text": [
            "ep 92: game finished, reward: -1.000000\n",
            "resetting env. episode reward total was -19.000000. running mean: -20.631311\n",
            "ep 93: game finished, reward: -1.000000\n",
            "ep 93: game finished, reward: -1.000000\n",
            "ep 93: game finished, reward: -1.000000\n",
            "ep 93: game finished, reward: -1.000000\n",
            "ep 93: game finished, reward: -1.000000\n",
            "ep 93: game finished, reward: 1.000000"
          ],
          "name": "stdout"
        },
        {
          "output_type": "execute_result",
          "data": {
            "text/plain": [
              "' !!!!!!!!'"
            ]
          },
          "metadata": {
            "tags": []
          },
          "execution_count": 11
        },
        {
          "output_type": "stream",
          "text": [
            "ep 93: game finished, reward: -1.000000\n",
            "ep 93: game finished, reward: -1.000000\n",
            "ep 93: game finished, reward: 1.000000"
          ],
          "name": "stdout"
        },
        {
          "output_type": "execute_result",
          "data": {
            "text/plain": [
              "' !!!!!!!!'"
            ]
          },
          "metadata": {
            "tags": []
          },
          "execution_count": 11
        },
        {
          "output_type": "stream",
          "text": [
            "ep 93: game finished, reward: -1.000000\n",
            "ep 93: game finished, reward: -1.000000\n",
            "ep 93: game finished, reward: -1.000000\n",
            "ep 93: game finished, reward: -1.000000\n",
            "ep 93: game finished, reward: -1.000000\n",
            "ep 93: game finished, reward: -1.000000\n",
            "ep 93: game finished, reward: -1.000000\n",
            "ep 93: game finished, reward: -1.000000\n",
            "ep 93: game finished, reward: -1.000000\n",
            "ep 93: game finished, reward: -1.000000\n",
            "ep 93: game finished, reward: -1.000000\n",
            "ep 93: game finished, reward: -1.000000\n",
            "ep 93: game finished, reward: -1.000000\n",
            "ep 93: game finished, reward: -1.000000\n",
            "resetting env. episode reward total was -19.000000. running mean: -20.614998\n",
            "ep 94: game finished, reward: -1.000000\n",
            "ep 94: game finished, reward: -1.000000\n",
            "ep 94: game finished, reward: -1.000000\n",
            "ep 94: game finished, reward: -1.000000\n",
            "ep 94: game finished, reward: -1.000000\n",
            "ep 94: game finished, reward: -1.000000\n",
            "ep 94: game finished, reward: -1.000000\n",
            "ep 94: game finished, reward: -1.000000\n",
            "ep 94: game finished, reward: -1.000000\n",
            "ep 94: game finished, reward: -1.000000\n",
            "ep 94: game finished, reward: -1.000000\n",
            "ep 94: game finished, reward: -1.000000\n",
            "ep 94: game finished, reward: -1.000000\n",
            "ep 94: game finished, reward: -1.000000\n",
            "ep 94: game finished, reward: -1.000000\n",
            "ep 94: game finished, reward: -1.000000\n",
            "ep 94: game finished, reward: -1.000000\n",
            "ep 94: game finished, reward: -1.000000\n",
            "ep 94: game finished, reward: -1.000000\n",
            "ep 94: game finished, reward: -1.000000\n",
            "ep 94: game finished, reward: -1.000000\n",
            "resetting env. episode reward total was -21.000000. running mean: -20.618848\n",
            "ep 95: game finished, reward: -1.000000\n",
            "ep 95: game finished, reward: -1.000000\n",
            "ep 95: game finished, reward: -1.000000\n",
            "ep 95: game finished, reward: -1.000000\n",
            "ep 95: game finished, reward: -1.000000\n",
            "ep 95: game finished, reward: -1.000000\n",
            "ep 95: game finished, reward: -1.000000\n",
            "ep 95: game finished, reward: -1.000000\n",
            "ep 95: game finished, reward: -1.000000\n",
            "ep 95: game finished, reward: -1.000000\n",
            "ep 95: game finished, reward: -1.000000\n",
            "ep 95: game finished, reward: -1.000000\n",
            "ep 95: game finished, reward: -1.000000\n",
            "ep 95: game finished, reward: -1.000000\n",
            "ep 95: game finished, reward: -1.000000\n",
            "ep 95: game finished, reward: -1.000000\n",
            "ep 95: game finished, reward: -1.000000\n",
            "ep 95: game finished, reward: -1.000000\n",
            "ep 95: game finished, reward: -1.000000\n",
            "ep 95: game finished, reward: -1.000000\n",
            "ep 95: game finished, reward: -1.000000\n",
            "resetting env. episode reward total was -21.000000. running mean: -20.622659\n",
            "ep 96: game finished, reward: -1.000000\n",
            "ep 96: game finished, reward: -1.000000\n",
            "ep 96: game finished, reward: -1.000000\n",
            "ep 96: game finished, reward: -1.000000\n",
            "ep 96: game finished, reward: -1.000000\n",
            "ep 96: game finished, reward: -1.000000\n",
            "ep 96: game finished, reward: -1.000000\n",
            "ep 96: game finished, reward: -1.000000\n",
            "ep 96: game finished, reward: -1.000000\n",
            "ep 96: game finished, reward: -1.000000\n",
            "ep 96: game finished, reward: -1.000000\n",
            "ep 96: game finished, reward: -1.000000\n",
            "ep 96: game finished, reward: -1.000000\n",
            "ep 96: game finished, reward: -1.000000\n",
            "ep 96: game finished, reward: -1.000000\n",
            "ep 96: game finished, reward: -1.000000\n",
            "ep 96: game finished, reward: -1.000000\n",
            "ep 96: game finished, reward: -1.000000\n",
            "ep 96: game finished, reward: -1.000000\n",
            "ep 96: game finished, reward: -1.000000\n",
            "ep 96: game finished, reward: -1.000000\n",
            "resetting env. episode reward total was -21.000000. running mean: -20.626433\n",
            "ep 97: game finished, reward: -1.000000\n",
            "ep 97: game finished, reward: -1.000000\n",
            "ep 97: game finished, reward: -1.000000\n",
            "ep 97: game finished, reward: -1.000000\n",
            "ep 97: game finished, reward: -1.000000\n",
            "ep 97: game finished, reward: -1.000000\n",
            "ep 97: game finished, reward: -1.000000\n",
            "ep 97: game finished, reward: -1.000000\n",
            "ep 97: game finished, reward: -1.000000\n",
            "ep 97: game finished, reward: -1.000000\n",
            "ep 97: game finished, reward: -1.000000\n",
            "ep 97: game finished, reward: -1.000000\n",
            "ep 97: game finished, reward: -1.000000\n",
            "ep 97: game finished, reward: -1.000000\n",
            "ep 97: game finished, reward: -1.000000\n",
            "ep 97: game finished, reward: -1.000000\n",
            "ep 97: game finished, reward: -1.000000\n",
            "ep 97: game finished, reward: -1.000000\n",
            "ep 97: game finished, reward: -1.000000\n",
            "ep 97: game finished, reward: -1.000000\n",
            "ep 97: game finished, reward: -1.000000\n",
            "resetting env. episode reward total was -21.000000. running mean: -20.630169\n",
            "ep 98: game finished, reward: -1.000000\n",
            "ep 98: game finished, reward: -1.000000\n",
            "ep 98: game finished, reward: -1.000000\n",
            "ep 98: game finished, reward: -1.000000\n",
            "ep 98: game finished, reward: -1.000000\n",
            "ep 98: game finished, reward: -1.000000\n",
            "ep 98: game finished, reward: -1.000000\n",
            "ep 98: game finished, reward: -1.000000\n",
            "ep 98: game finished, reward: -1.000000\n",
            "ep 98: game finished, reward: -1.000000\n",
            "ep 98: game finished, reward: -1.000000\n",
            "ep 98: game finished, reward: -1.000000\n",
            "ep 98: game finished, reward: -1.000000\n",
            "ep 98: game finished, reward: -1.000000\n",
            "ep 98: game finished, reward: -1.000000\n",
            "ep 98: game finished, reward: -1.000000\n",
            "ep 98: game finished, reward: -1.000000\n",
            "ep 98: game finished, reward: -1.000000\n",
            "ep 98: game finished, reward: -1.000000\n",
            "ep 98: game finished, reward: -1.000000\n",
            "ep 98: game finished, reward: -1.000000\n",
            "resetting env. episode reward total was -21.000000. running mean: -20.633867\n",
            "ep 99: game finished, reward: -1.000000\n",
            "ep 99: game finished, reward: -1.000000\n",
            "ep 99: game finished, reward: -1.000000\n",
            "ep 99: game finished, reward: -1.000000\n",
            "ep 99: game finished, reward: -1.000000\n",
            "ep 99: game finished, reward: -1.000000\n",
            "ep 99: game finished, reward: -1.000000\n",
            "ep 99: game finished, reward: -1.000000\n",
            "ep 99: game finished, reward: -1.000000\n",
            "ep 99: game finished, reward: -1.000000\n",
            "ep 99: game finished, reward: -1.000000\n",
            "ep 99: game finished, reward: -1.000000\n",
            "ep 99: game finished, reward: -1.000000\n",
            "ep 99: game finished, reward: -1.000000\n",
            "ep 99: game finished, reward: -1.000000\n",
            "ep 99: game finished, reward: -1.000000\n",
            "ep 99: game finished, reward: -1.000000\n",
            "ep 99: game finished, reward: -1.000000\n",
            "ep 99: game finished, reward: -1.000000\n",
            "ep 99: game finished, reward: -1.000000\n",
            "ep 99: game finished, reward: -1.000000\n",
            "resetting env. episode reward total was -21.000000. running mean: -20.637528\n",
            "ep 100: game finished, reward: -1.000000\n",
            "ep 100: game finished, reward: -1.000000\n",
            "ep 100: game finished, reward: -1.000000\n",
            "ep 100: game finished, reward: -1.000000\n",
            "ep 100: game finished, reward: -1.000000\n",
            "ep 100: game finished, reward: -1.000000\n",
            "ep 100: game finished, reward: -1.000000\n",
            "ep 100: game finished, reward: -1.000000\n",
            "ep 100: game finished, reward: -1.000000\n",
            "ep 100: game finished, reward: -1.000000\n",
            "ep 100: game finished, reward: -1.000000\n",
            "ep 100: game finished, reward: -1.000000\n",
            "ep 100: game finished, reward: -1.000000\n",
            "ep 100: game finished, reward: -1.000000\n",
            "ep 100: game finished, reward: -1.000000\n",
            "ep 100: game finished, reward: -1.000000\n",
            "ep 100: game finished, reward: -1.000000\n",
            "ep 100: game finished, reward: -1.000000\n",
            "ep 100: game finished, reward: -1.000000\n",
            "ep 100: game finished, reward: -1.000000\n",
            "ep 100: game finished, reward: -1.000000\n",
            "resetting env. episode reward total was -21.000000. running mean: -20.641153\n",
            "ep 101: game finished, reward: -1.000000\n",
            "ep 101: game finished, reward: -1.000000\n",
            "ep 101: game finished, reward: -1.000000\n",
            "ep 101: game finished, reward: -1.000000\n",
            "ep 101: game finished, reward: -1.000000\n",
            "ep 101: game finished, reward: -1.000000\n",
            "ep 101: game finished, reward: -1.000000\n",
            "ep 101: game finished, reward: -1.000000\n",
            "ep 101: game finished, reward: -1.000000\n",
            "ep 101: game finished, reward: -1.000000\n",
            "ep 101: game finished, reward: -1.000000\n",
            "ep 101: game finished, reward: -1.000000\n",
            "ep 101: game finished, reward: -1.000000\n",
            "ep 101: game finished, reward: -1.000000\n",
            "ep 101: game finished, reward: -1.000000\n",
            "ep 101: game finished, reward: -1.000000\n",
            "ep 101: game finished, reward: -1.000000\n",
            "ep 101: game finished, reward: -1.000000\n",
            "ep 101: game finished, reward: -1.000000\n",
            "ep 101: game finished, reward: 1.000000"
          ],
          "name": "stdout"
        },
        {
          "output_type": "execute_result",
          "data": {
            "text/plain": [
              "' !!!!!!!!'"
            ]
          },
          "metadata": {
            "tags": []
          },
          "execution_count": 11
        },
        {
          "output_type": "stream",
          "text": [
            "ep 101: game finished, reward: -1.000000\n",
            "ep 101: game finished, reward: -1.000000\n",
            "resetting env. episode reward total was -20.000000. running mean: -20.634741\n",
            "ep 102: game finished, reward: -1.000000\n",
            "ep 102: game finished, reward: -1.000000\n",
            "ep 102: game finished, reward: -1.000000\n",
            "ep 102: game finished, reward: -1.000000\n",
            "ep 102: game finished, reward: -1.000000\n",
            "ep 102: game finished, reward: -1.000000\n",
            "ep 102: game finished, reward: -1.000000\n",
            "ep 102: game finished, reward: -1.000000\n",
            "ep 102: game finished, reward: -1.000000\n",
            "ep 102: game finished, reward: -1.000000\n",
            "ep 102: game finished, reward: -1.000000\n",
            "ep 102: game finished, reward: -1.000000\n",
            "ep 102: game finished, reward: -1.000000\n",
            "ep 102: game finished, reward: -1.000000\n",
            "ep 102: game finished, reward: -1.000000\n",
            "ep 102: game finished, reward: -1.000000\n",
            "ep 102: game finished, reward: -1.000000\n",
            "ep 102: game finished, reward: -1.000000\n",
            "ep 102: game finished, reward: -1.000000\n",
            "ep 102: game finished, reward: -1.000000\n",
            "ep 102: game finished, reward: -1.000000\n",
            "resetting env. episode reward total was -21.000000. running mean: -20.638394\n",
            "ep 103: game finished, reward: -1.000000\n",
            "ep 103: game finished, reward: -1.000000\n",
            "ep 103: game finished, reward: -1.000000\n",
            "ep 103: game finished, reward: -1.000000\n",
            "ep 103: game finished, reward: -1.000000\n",
            "ep 103: game finished, reward: -1.000000\n",
            "ep 103: game finished, reward: -1.000000\n",
            "ep 103: game finished, reward: -1.000000\n",
            "ep 103: game finished, reward: -1.000000\n",
            "ep 103: game finished, reward: -1.000000\n",
            "ep 103: game finished, reward: -1.000000\n",
            "ep 103: game finished, reward: -1.000000\n",
            "ep 103: game finished, reward: -1.000000\n",
            "ep 103: game finished, reward: -1.000000\n",
            "ep 103: game finished, reward: -1.000000\n",
            "ep 103: game finished, reward: -1.000000\n",
            "ep 103: game finished, reward: -1.000000\n",
            "ep 103: game finished, reward: -1.000000\n",
            "ep 103: game finished, reward: -1.000000\n",
            "ep 103: game finished, reward: -1.000000\n",
            "ep 103: game finished, reward: -1.000000\n",
            "resetting env. episode reward total was -21.000000. running mean: -20.642010\n",
            "ep 104: game finished, reward: -1.000000\n",
            "ep 104: game finished, reward: -1.000000\n",
            "ep 104: game finished, reward: -1.000000\n",
            "ep 104: game finished, reward: -1.000000\n",
            "ep 104: game finished, reward: -1.000000\n",
            "ep 104: game finished, reward: 1.000000"
          ],
          "name": "stdout"
        },
        {
          "output_type": "execute_result",
          "data": {
            "text/plain": [
              "' !!!!!!!!'"
            ]
          },
          "metadata": {
            "tags": []
          },
          "execution_count": 11
        },
        {
          "output_type": "stream",
          "text": [
            "ep 104: game finished, reward: -1.000000\n",
            "ep 104: game finished, reward: -1.000000\n",
            "ep 104: game finished, reward: -1.000000\n",
            "ep 104: game finished, reward: -1.000000\n",
            "ep 104: game finished, reward: -1.000000\n",
            "ep 104: game finished, reward: -1.000000\n",
            "ep 104: game finished, reward: -1.000000\n",
            "ep 104: game finished, reward: -1.000000\n",
            "ep 104: game finished, reward: -1.000000\n",
            "ep 104: game finished, reward: -1.000000\n",
            "ep 104: game finished, reward: -1.000000\n",
            "ep 104: game finished, reward: -1.000000\n",
            "ep 104: game finished, reward: 1.000000"
          ],
          "name": "stdout"
        },
        {
          "output_type": "execute_result",
          "data": {
            "text/plain": [
              "' !!!!!!!!'"
            ]
          },
          "metadata": {
            "tags": []
          },
          "execution_count": 11
        },
        {
          "output_type": "stream",
          "text": [
            "ep 104: game finished, reward: -1.000000\n",
            "ep 104: game finished, reward: -1.000000\n",
            "ep 104: game finished, reward: -1.000000\n",
            "ep 104: game finished, reward: -1.000000\n",
            "resetting env. episode reward total was -19.000000. running mean: -20.625590\n",
            "ep 105: game finished, reward: -1.000000\n",
            "ep 105: game finished, reward: -1.000000\n",
            "ep 105: game finished, reward: -1.000000\n",
            "ep 105: game finished, reward: -1.000000\n",
            "ep 105: game finished, reward: -1.000000\n",
            "ep 105: game finished, reward: -1.000000\n",
            "ep 105: game finished, reward: -1.000000\n",
            "ep 105: game finished, reward: -1.000000\n",
            "ep 105: game finished, reward: -1.000000\n",
            "ep 105: game finished, reward: -1.000000\n",
            "ep 105: game finished, reward: -1.000000\n",
            "ep 105: game finished, reward: -1.000000\n",
            "ep 105: game finished, reward: -1.000000\n",
            "ep 105: game finished, reward: -1.000000\n",
            "ep 105: game finished, reward: -1.000000\n",
            "ep 105: game finished, reward: -1.000000\n",
            "ep 105: game finished, reward: -1.000000\n",
            "ep 105: game finished, reward: -1.000000\n",
            "ep 105: game finished, reward: -1.000000\n",
            "ep 105: game finished, reward: -1.000000\n",
            "ep 105: game finished, reward: -1.000000\n",
            "resetting env. episode reward total was -21.000000. running mean: -20.629334\n",
            "ep 106: game finished, reward: -1.000000\n",
            "ep 106: game finished, reward: -1.000000\n",
            "ep 106: game finished, reward: -1.000000\n",
            "ep 106: game finished, reward: -1.000000\n",
            "ep 106: game finished, reward: -1.000000\n",
            "ep 106: game finished, reward: -1.000000\n",
            "ep 106: game finished, reward: -1.000000\n",
            "ep 106: game finished, reward: -1.000000\n",
            "ep 106: game finished, reward: -1.000000\n",
            "ep 106: game finished, reward: -1.000000\n",
            "ep 106: game finished, reward: -1.000000\n",
            "ep 106: game finished, reward: -1.000000\n",
            "ep 106: game finished, reward: -1.000000\n",
            "ep 106: game finished, reward: -1.000000\n",
            "ep 106: game finished, reward: -1.000000\n",
            "ep 106: game finished, reward: -1.000000\n",
            "ep 106: game finished, reward: -1.000000\n",
            "ep 106: game finished, reward: -1.000000\n",
            "ep 106: game finished, reward: -1.000000\n",
            "ep 106: game finished, reward: -1.000000\n",
            "ep 106: game finished, reward: -1.000000\n",
            "resetting env. episode reward total was -21.000000. running mean: -20.633041\n",
            "ep 107: game finished, reward: -1.000000\n",
            "ep 107: game finished, reward: -1.000000\n",
            "ep 107: game finished, reward: -1.000000\n",
            "ep 107: game finished, reward: -1.000000\n",
            "ep 107: game finished, reward: -1.000000\n",
            "ep 107: game finished, reward: -1.000000\n",
            "ep 107: game finished, reward: -1.000000\n",
            "ep 107: game finished, reward: -1.000000\n",
            "ep 107: game finished, reward: -1.000000\n",
            "ep 107: game finished, reward: -1.000000\n",
            "ep 107: game finished, reward: -1.000000\n",
            "ep 107: game finished, reward: -1.000000\n",
            "ep 107: game finished, reward: -1.000000\n",
            "ep 107: game finished, reward: -1.000000\n",
            "ep 107: game finished, reward: -1.000000\n",
            "ep 107: game finished, reward: -1.000000\n",
            "ep 107: game finished, reward: -1.000000\n",
            "ep 107: game finished, reward: -1.000000\n",
            "ep 107: game finished, reward: -1.000000\n",
            "ep 107: game finished, reward: -1.000000\n",
            "ep 107: game finished, reward: -1.000000\n",
            "resetting env. episode reward total was -21.000000. running mean: -20.636710\n",
            "ep 108: game finished, reward: -1.000000\n",
            "ep 108: game finished, reward: -1.000000\n",
            "ep 108: game finished, reward: -1.000000\n",
            "ep 108: game finished, reward: -1.000000\n",
            "ep 108: game finished, reward: -1.000000\n",
            "ep 108: game finished, reward: -1.000000\n",
            "ep 108: game finished, reward: -1.000000\n",
            "ep 108: game finished, reward: -1.000000\n",
            "ep 108: game finished, reward: -1.000000\n",
            "ep 108: game finished, reward: -1.000000\n",
            "ep 108: game finished, reward: -1.000000\n",
            "ep 108: game finished, reward: -1.000000\n",
            "ep 108: game finished, reward: -1.000000\n",
            "ep 108: game finished, reward: -1.000000\n",
            "ep 108: game finished, reward: -1.000000\n",
            "ep 108: game finished, reward: -1.000000\n",
            "ep 108: game finished, reward: -1.000000\n",
            "ep 108: game finished, reward: -1.000000\n",
            "ep 108: game finished, reward: -1.000000\n",
            "ep 108: game finished, reward: -1.000000\n",
            "ep 108: game finished, reward: -1.000000\n",
            "resetting env. episode reward total was -21.000000. running mean: -20.640343\n",
            "ep 109: game finished, reward: -1.000000\n",
            "ep 109: game finished, reward: -1.000000\n",
            "ep 109: game finished, reward: -1.000000\n",
            "ep 109: game finished, reward: -1.000000\n",
            "ep 109: game finished, reward: -1.000000\n",
            "ep 109: game finished, reward: -1.000000\n",
            "ep 109: game finished, reward: -1.000000\n",
            "ep 109: game finished, reward: -1.000000\n",
            "ep 109: game finished, reward: -1.000000\n",
            "ep 109: game finished, reward: -1.000000\n",
            "ep 109: game finished, reward: -1.000000\n",
            "ep 109: game finished, reward: -1.000000\n",
            "ep 109: game finished, reward: -1.000000\n",
            "ep 109: game finished, reward: -1.000000\n",
            "ep 109: game finished, reward: -1.000000\n",
            "ep 109: game finished, reward: -1.000000\n",
            "ep 109: game finished, reward: -1.000000\n",
            "ep 109: game finished, reward: -1.000000\n",
            "ep 109: game finished, reward: -1.000000\n",
            "ep 109: game finished, reward: -1.000000\n",
            "ep 109: game finished, reward: -1.000000\n",
            "resetting env. episode reward total was -21.000000. running mean: -20.643940\n",
            "ep 110: game finished, reward: -1.000000\n",
            "ep 110: game finished, reward: -1.000000\n",
            "ep 110: game finished, reward: -1.000000\n",
            "ep 110: game finished, reward: -1.000000\n",
            "ep 110: game finished, reward: -1.000000\n",
            "ep 110: game finished, reward: -1.000000\n",
            "ep 110: game finished, reward: -1.000000\n",
            "ep 110: game finished, reward: -1.000000\n",
            "ep 110: game finished, reward: -1.000000\n",
            "ep 110: game finished, reward: -1.000000\n",
            "ep 110: game finished, reward: 1.000000"
          ],
          "name": "stdout"
        },
        {
          "output_type": "execute_result",
          "data": {
            "text/plain": [
              "' !!!!!!!!'"
            ]
          },
          "metadata": {
            "tags": []
          },
          "execution_count": 11
        },
        {
          "output_type": "stream",
          "text": [
            "ep 110: game finished, reward: -1.000000\n",
            "ep 110: game finished, reward: -1.000000\n",
            "ep 110: game finished, reward: -1.000000\n",
            "ep 110: game finished, reward: -1.000000\n",
            "ep 110: game finished, reward: -1.000000\n",
            "ep 110: game finished, reward: -1.000000\n",
            "ep 110: game finished, reward: -1.000000\n",
            "ep 110: game finished, reward: -1.000000\n",
            "ep 110: game finished, reward: -1.000000\n",
            "ep 110: game finished, reward: -1.000000\n",
            "ep 110: game finished, reward: -1.000000\n",
            "resetting env. episode reward total was -20.000000. running mean: -20.637500\n",
            "ep 111: game finished, reward: -1.000000\n",
            "ep 111: game finished, reward: -1.000000\n",
            "ep 111: game finished, reward: -1.000000\n",
            "ep 111: game finished, reward: -1.000000\n",
            "ep 111: game finished, reward: -1.000000\n",
            "ep 111: game finished, reward: -1.000000\n",
            "ep 111: game finished, reward: -1.000000\n",
            "ep 111: game finished, reward: -1.000000\n",
            "ep 111: game finished, reward: -1.000000\n",
            "ep 111: game finished, reward: -1.000000\n",
            "ep 111: game finished, reward: -1.000000\n",
            "ep 111: game finished, reward: -1.000000\n",
            "ep 111: game finished, reward: -1.000000\n",
            "ep 111: game finished, reward: -1.000000\n",
            "ep 111: game finished, reward: 1.000000"
          ],
          "name": "stdout"
        },
        {
          "output_type": "execute_result",
          "data": {
            "text/plain": [
              "' !!!!!!!!'"
            ]
          },
          "metadata": {
            "tags": []
          },
          "execution_count": 11
        },
        {
          "output_type": "stream",
          "text": [
            "ep 111: game finished, reward: -1.000000\n",
            "ep 111: game finished, reward: -1.000000\n",
            "ep 111: game finished, reward: -1.000000\n",
            "ep 111: game finished, reward: -1.000000\n",
            "ep 111: game finished, reward: -1.000000\n",
            "ep 111: game finished, reward: -1.000000\n",
            "ep 111: game finished, reward: -1.000000\n",
            "ep 111: game finished, reward: 1.000000"
          ],
          "name": "stdout"
        },
        {
          "output_type": "execute_result",
          "data": {
            "text/plain": [
              "' !!!!!!!!'"
            ]
          },
          "metadata": {
            "tags": []
          },
          "execution_count": 11
        },
        {
          "output_type": "stream",
          "text": [
            "resetting env. episode reward total was -19.000000. running mean: -20.621125\n",
            "ep 112: game finished, reward: -1.000000\n",
            "ep 112: game finished, reward: -1.000000\n",
            "ep 112: game finished, reward: 1.000000"
          ],
          "name": "stdout"
        },
        {
          "output_type": "execute_result",
          "data": {
            "text/plain": [
              "' !!!!!!!!'"
            ]
          },
          "metadata": {
            "tags": []
          },
          "execution_count": 11
        },
        {
          "output_type": "stream",
          "text": [
            "ep 112: game finished, reward: 1.000000"
          ],
          "name": "stdout"
        },
        {
          "output_type": "execute_result",
          "data": {
            "text/plain": [
              "' !!!!!!!!'"
            ]
          },
          "metadata": {
            "tags": []
          },
          "execution_count": 11
        },
        {
          "output_type": "stream",
          "text": [
            "ep 112: game finished, reward: -1.000000\n",
            "ep 112: game finished, reward: -1.000000\n",
            "ep 112: game finished, reward: -1.000000\n",
            "ep 112: game finished, reward: -1.000000\n",
            "ep 112: game finished, reward: -1.000000\n",
            "ep 112: game finished, reward: -1.000000\n",
            "ep 112: game finished, reward: -1.000000\n",
            "ep 112: game finished, reward: -1.000000\n",
            "ep 112: game finished, reward: -1.000000\n",
            "ep 112: game finished, reward: -1.000000\n",
            "ep 112: game finished, reward: -1.000000\n",
            "ep 112: game finished, reward: -1.000000\n",
            "ep 112: game finished, reward: -1.000000\n",
            "ep 112: game finished, reward: -1.000000\n",
            "ep 112: game finished, reward: -1.000000\n",
            "ep 112: game finished, reward: -1.000000\n",
            "ep 112: game finished, reward: -1.000000\n",
            "ep 112: game finished, reward: -1.000000\n",
            "ep 112: game finished, reward: -1.000000\n",
            "resetting env. episode reward total was -19.000000. running mean: -20.604914\n",
            "ep 113: game finished, reward: -1.000000\n",
            "ep 113: game finished, reward: -1.000000\n",
            "ep 113: game finished, reward: -1.000000\n",
            "ep 113: game finished, reward: -1.000000\n",
            "ep 113: game finished, reward: -1.000000\n",
            "ep 113: game finished, reward: -1.000000\n",
            "ep 113: game finished, reward: -1.000000\n",
            "ep 113: game finished, reward: -1.000000\n",
            "ep 113: game finished, reward: -1.000000\n",
            "ep 113: game finished, reward: -1.000000\n",
            "ep 113: game finished, reward: -1.000000\n",
            "ep 113: game finished, reward: -1.000000\n",
            "ep 113: game finished, reward: -1.000000\n",
            "ep 113: game finished, reward: -1.000000\n",
            "ep 113: game finished, reward: -1.000000\n",
            "ep 113: game finished, reward: -1.000000\n",
            "ep 113: game finished, reward: -1.000000\n",
            "ep 113: game finished, reward: -1.000000\n",
            "ep 113: game finished, reward: -1.000000\n",
            "ep 113: game finished, reward: -1.000000\n",
            "ep 113: game finished, reward: -1.000000\n",
            "resetting env. episode reward total was -21.000000. running mean: -20.608865\n",
            "ep 114: game finished, reward: -1.000000\n",
            "ep 114: game finished, reward: -1.000000\n",
            "ep 114: game finished, reward: -1.000000\n",
            "ep 114: game finished, reward: -1.000000\n",
            "ep 114: game finished, reward: -1.000000\n",
            "ep 114: game finished, reward: -1.000000\n",
            "ep 114: game finished, reward: -1.000000\n",
            "ep 114: game finished, reward: -1.000000\n",
            "ep 114: game finished, reward: -1.000000\n",
            "ep 114: game finished, reward: -1.000000\n",
            "ep 114: game finished, reward: -1.000000\n",
            "ep 114: game finished, reward: -1.000000\n",
            "ep 114: game finished, reward: -1.000000\n",
            "ep 114: game finished, reward: -1.000000\n",
            "ep 114: game finished, reward: -1.000000\n",
            "ep 114: game finished, reward: -1.000000\n",
            "ep 114: game finished, reward: -1.000000\n",
            "ep 114: game finished, reward: -1.000000\n",
            "ep 114: game finished, reward: -1.000000\n",
            "ep 114: game finished, reward: -1.000000\n",
            "ep 114: game finished, reward: -1.000000\n",
            "resetting env. episode reward total was -21.000000. running mean: -20.612776\n",
            "ep 115: game finished, reward: -1.000000\n",
            "ep 115: game finished, reward: -1.000000\n",
            "ep 115: game finished, reward: -1.000000\n",
            "ep 115: game finished, reward: -1.000000\n",
            "ep 115: game finished, reward: -1.000000\n",
            "ep 115: game finished, reward: -1.000000\n",
            "ep 115: game finished, reward: -1.000000\n",
            "ep 115: game finished, reward: -1.000000\n",
            "ep 115: game finished, reward: -1.000000\n",
            "ep 115: game finished, reward: -1.000000\n",
            "ep 115: game finished, reward: -1.000000\n",
            "ep 115: game finished, reward: -1.000000\n",
            "ep 115: game finished, reward: -1.000000\n",
            "ep 115: game finished, reward: -1.000000\n",
            "ep 115: game finished, reward: -1.000000\n",
            "ep 115: game finished, reward: -1.000000\n",
            "ep 115: game finished, reward: -1.000000\n",
            "ep 115: game finished, reward: -1.000000\n",
            "ep 115: game finished, reward: -1.000000\n",
            "ep 115: game finished, reward: -1.000000\n",
            "ep 115: game finished, reward: -1.000000\n",
            "resetting env. episode reward total was -21.000000. running mean: -20.616649\n",
            "ep 116: game finished, reward: -1.000000\n",
            "ep 116: game finished, reward: -1.000000\n",
            "ep 116: game finished, reward: -1.000000\n",
            "ep 116: game finished, reward: -1.000000\n",
            "ep 116: game finished, reward: -1.000000\n",
            "ep 116: game finished, reward: -1.000000\n",
            "ep 116: game finished, reward: -1.000000\n",
            "ep 116: game finished, reward: -1.000000\n",
            "ep 116: game finished, reward: -1.000000\n",
            "ep 116: game finished, reward: -1.000000\n",
            "ep 116: game finished, reward: -1.000000\n",
            "ep 116: game finished, reward: -1.000000\n",
            "ep 116: game finished, reward: -1.000000\n",
            "ep 116: game finished, reward: -1.000000\n",
            "ep 116: game finished, reward: -1.000000\n",
            "ep 116: game finished, reward: -1.000000\n",
            "ep 116: game finished, reward: -1.000000\n",
            "ep 116: game finished, reward: -1.000000\n",
            "ep 116: game finished, reward: -1.000000\n",
            "ep 116: game finished, reward: -1.000000\n",
            "ep 116: game finished, reward: -1.000000\n",
            "resetting env. episode reward total was -21.000000. running mean: -20.620482\n",
            "ep 117: game finished, reward: -1.000000\n",
            "ep 117: game finished, reward: -1.000000\n",
            "ep 117: game finished, reward: -1.000000\n",
            "ep 117: game finished, reward: -1.000000\n",
            "ep 117: game finished, reward: -1.000000\n",
            "ep 117: game finished, reward: -1.000000\n",
            "ep 117: game finished, reward: -1.000000\n",
            "ep 117: game finished, reward: -1.000000\n",
            "ep 117: game finished, reward: -1.000000\n",
            "ep 117: game finished, reward: -1.000000\n",
            "ep 117: game finished, reward: -1.000000\n",
            "ep 117: game finished, reward: -1.000000\n",
            "ep 117: game finished, reward: -1.000000\n",
            "ep 117: game finished, reward: -1.000000\n",
            "ep 117: game finished, reward: -1.000000\n",
            "ep 117: game finished, reward: -1.000000\n",
            "ep 117: game finished, reward: -1.000000\n",
            "ep 117: game finished, reward: -1.000000\n",
            "ep 117: game finished, reward: -1.000000\n",
            "ep 117: game finished, reward: -1.000000\n",
            "ep 117: game finished, reward: -1.000000\n",
            "resetting env. episode reward total was -21.000000. running mean: -20.624277\n",
            "ep 118: game finished, reward: -1.000000\n",
            "ep 118: game finished, reward: -1.000000\n",
            "ep 118: game finished, reward: -1.000000\n",
            "ep 118: game finished, reward: -1.000000\n",
            "ep 118: game finished, reward: -1.000000\n",
            "ep 118: game finished, reward: -1.000000\n",
            "ep 118: game finished, reward: -1.000000\n",
            "ep 118: game finished, reward: -1.000000\n",
            "ep 118: game finished, reward: -1.000000\n",
            "ep 118: game finished, reward: -1.000000\n",
            "ep 118: game finished, reward: -1.000000\n",
            "ep 118: game finished, reward: -1.000000\n",
            "ep 118: game finished, reward: -1.000000\n",
            "ep 118: game finished, reward: -1.000000\n",
            "ep 118: game finished, reward: -1.000000\n",
            "ep 118: game finished, reward: -1.000000\n",
            "ep 118: game finished, reward: -1.000000\n",
            "ep 118: game finished, reward: -1.000000\n",
            "ep 118: game finished, reward: -1.000000\n",
            "ep 118: game finished, reward: -1.000000\n",
            "ep 118: game finished, reward: -1.000000\n",
            "resetting env. episode reward total was -21.000000. running mean: -20.628034\n",
            "ep 119: game finished, reward: -1.000000\n",
            "ep 119: game finished, reward: -1.000000\n",
            "ep 119: game finished, reward: -1.000000\n",
            "ep 119: game finished, reward: -1.000000\n",
            "ep 119: game finished, reward: -1.000000\n",
            "ep 119: game finished, reward: -1.000000\n",
            "ep 119: game finished, reward: -1.000000\n",
            "ep 119: game finished, reward: -1.000000\n",
            "ep 119: game finished, reward: -1.000000\n",
            "ep 119: game finished, reward: -1.000000\n",
            "ep 119: game finished, reward: 1.000000"
          ],
          "name": "stdout"
        },
        {
          "output_type": "execute_result",
          "data": {
            "text/plain": [
              "' !!!!!!!!'"
            ]
          },
          "metadata": {
            "tags": []
          },
          "execution_count": 11
        },
        {
          "output_type": "stream",
          "text": [
            "ep 119: game finished, reward: -1.000000\n",
            "ep 119: game finished, reward: -1.000000\n",
            "ep 119: game finished, reward: -1.000000\n",
            "ep 119: game finished, reward: -1.000000\n",
            "ep 119: game finished, reward: -1.000000\n",
            "ep 119: game finished, reward: -1.000000\n",
            "ep 119: game finished, reward: -1.000000\n",
            "ep 119: game finished, reward: -1.000000\n",
            "ep 119: game finished, reward: -1.000000\n",
            "ep 119: game finished, reward: -1.000000\n",
            "ep 119: game finished, reward: -1.000000\n",
            "resetting env. episode reward total was -20.000000. running mean: -20.621754\n",
            "ep 120: game finished, reward: -1.000000\n",
            "ep 120: game finished, reward: -1.000000\n",
            "ep 120: game finished, reward: -1.000000\n",
            "ep 120: game finished, reward: -1.000000\n",
            "ep 120: game finished, reward: -1.000000\n",
            "ep 120: game finished, reward: -1.000000\n",
            "ep 120: game finished, reward: -1.000000\n",
            "ep 120: game finished, reward: -1.000000\n",
            "ep 120: game finished, reward: -1.000000\n",
            "ep 120: game finished, reward: -1.000000\n",
            "ep 120: game finished, reward: -1.000000\n",
            "ep 120: game finished, reward: -1.000000\n",
            "ep 120: game finished, reward: -1.000000\n",
            "ep 120: game finished, reward: -1.000000\n",
            "ep 120: game finished, reward: -1.000000\n",
            "ep 120: game finished, reward: -1.000000\n",
            "ep 120: game finished, reward: -1.000000\n",
            "ep 120: game finished, reward: -1.000000\n",
            "ep 120: game finished, reward: -1.000000\n",
            "ep 120: game finished, reward: -1.000000\n",
            "ep 120: game finished, reward: -1.000000\n",
            "resetting env. episode reward total was -21.000000. running mean: -20.625537\n",
            "ep 121: game finished, reward: -1.000000\n",
            "ep 121: game finished, reward: -1.000000\n",
            "ep 121: game finished, reward: -1.000000\n",
            "ep 121: game finished, reward: -1.000000\n",
            "ep 121: game finished, reward: -1.000000\n",
            "ep 121: game finished, reward: -1.000000\n",
            "ep 121: game finished, reward: -1.000000\n",
            "ep 121: game finished, reward: -1.000000\n",
            "ep 121: game finished, reward: -1.000000\n",
            "ep 121: game finished, reward: -1.000000\n",
            "ep 121: game finished, reward: -1.000000\n",
            "ep 121: game finished, reward: -1.000000\n",
            "ep 121: game finished, reward: -1.000000\n",
            "ep 121: game finished, reward: -1.000000\n",
            "ep 121: game finished, reward: -1.000000\n",
            "ep 121: game finished, reward: -1.000000\n",
            "ep 121: game finished, reward: -1.000000\n",
            "ep 121: game finished, reward: -1.000000\n",
            "ep 121: game finished, reward: -1.000000\n",
            "ep 121: game finished, reward: -1.000000\n",
            "ep 121: game finished, reward: -1.000000\n",
            "ep 121: game finished, reward: 1.000000"
          ],
          "name": "stdout"
        },
        {
          "output_type": "execute_result",
          "data": {
            "text/plain": [
              "' !!!!!!!!'"
            ]
          },
          "metadata": {
            "tags": []
          },
          "execution_count": 11
        },
        {
          "output_type": "stream",
          "text": [
            "resetting env. episode reward total was -20.000000. running mean: -20.619281\n",
            "ep 122: game finished, reward: -1.000000\n",
            "ep 122: game finished, reward: 1.000000"
          ],
          "name": "stdout"
        },
        {
          "output_type": "execute_result",
          "data": {
            "text/plain": [
              "' !!!!!!!!'"
            ]
          },
          "metadata": {
            "tags": []
          },
          "execution_count": 11
        },
        {
          "output_type": "stream",
          "text": [
            "ep 122: game finished, reward: -1.000000\n",
            "ep 122: game finished, reward: -1.000000\n",
            "ep 122: game finished, reward: -1.000000\n",
            "ep 122: game finished, reward: -1.000000\n",
            "ep 122: game finished, reward: -1.000000\n",
            "ep 122: game finished, reward: -1.000000\n",
            "ep 122: game finished, reward: -1.000000\n",
            "ep 122: game finished, reward: -1.000000\n",
            "ep 122: game finished, reward: -1.000000\n",
            "ep 122: game finished, reward: -1.000000\n",
            "ep 122: game finished, reward: -1.000000\n",
            "ep 122: game finished, reward: -1.000000\n",
            "ep 122: game finished, reward: -1.000000\n",
            "ep 122: game finished, reward: -1.000000\n",
            "ep 122: game finished, reward: -1.000000\n",
            "ep 122: game finished, reward: -1.000000\n",
            "ep 122: game finished, reward: -1.000000\n",
            "ep 122: game finished, reward: -1.000000\n",
            "ep 122: game finished, reward: -1.000000\n",
            "ep 122: game finished, reward: -1.000000\n",
            "resetting env. episode reward total was -20.000000. running mean: -20.613088\n",
            "ep 123: game finished, reward: -1.000000\n",
            "ep 123: game finished, reward: -1.000000\n",
            "ep 123: game finished, reward: -1.000000\n",
            "ep 123: game finished, reward: -1.000000\n",
            "ep 123: game finished, reward: -1.000000\n",
            "ep 123: game finished, reward: -1.000000\n",
            "ep 123: game finished, reward: -1.000000\n",
            "ep 123: game finished, reward: -1.000000\n",
            "ep 123: game finished, reward: -1.000000\n",
            "ep 123: game finished, reward: -1.000000\n",
            "ep 123: game finished, reward: -1.000000\n",
            "ep 123: game finished, reward: -1.000000\n",
            "ep 123: game finished, reward: -1.000000\n",
            "ep 123: game finished, reward: -1.000000\n",
            "ep 123: game finished, reward: -1.000000\n",
            "ep 123: game finished, reward: -1.000000\n",
            "ep 123: game finished, reward: -1.000000\n",
            "ep 123: game finished, reward: -1.000000\n",
            "ep 123: game finished, reward: -1.000000\n",
            "ep 123: game finished, reward: -1.000000\n",
            "ep 123: game finished, reward: -1.000000\n",
            "resetting env. episode reward total was -21.000000. running mean: -20.616958\n",
            "ep 124: game finished, reward: -1.000000\n",
            "ep 124: game finished, reward: -1.000000\n",
            "ep 124: game finished, reward: -1.000000\n",
            "ep 124: game finished, reward: -1.000000\n",
            "ep 124: game finished, reward: -1.000000\n",
            "ep 124: game finished, reward: 1.000000"
          ],
          "name": "stdout"
        },
        {
          "output_type": "execute_result",
          "data": {
            "text/plain": [
              "' !!!!!!!!'"
            ]
          },
          "metadata": {
            "tags": []
          },
          "execution_count": 11
        },
        {
          "output_type": "stream",
          "text": [
            "ep 124: game finished, reward: -1.000000\n",
            "ep 124: game finished, reward: -1.000000\n",
            "ep 124: game finished, reward: -1.000000\n",
            "ep 124: game finished, reward: -1.000000\n",
            "ep 124: game finished, reward: -1.000000\n",
            "ep 124: game finished, reward: -1.000000\n",
            "ep 124: game finished, reward: -1.000000\n",
            "ep 124: game finished, reward: -1.000000\n",
            "ep 124: game finished, reward: -1.000000\n",
            "ep 124: game finished, reward: -1.000000\n",
            "ep 124: game finished, reward: -1.000000\n",
            "ep 124: game finished, reward: -1.000000\n",
            "ep 124: game finished, reward: -1.000000\n",
            "ep 124: game finished, reward: -1.000000\n",
            "ep 124: game finished, reward: -1.000000\n",
            "ep 124: game finished, reward: -1.000000\n",
            "resetting env. episode reward total was -20.000000. running mean: -20.610788\n",
            "ep 125: game finished, reward: -1.000000\n",
            "ep 125: game finished, reward: -1.000000\n",
            "ep 125: game finished, reward: -1.000000\n",
            "ep 125: game finished, reward: -1.000000\n",
            "ep 125: game finished, reward: -1.000000\n",
            "ep 125: game finished, reward: -1.000000\n",
            "ep 125: game finished, reward: -1.000000\n",
            "ep 125: game finished, reward: -1.000000\n",
            "ep 125: game finished, reward: -1.000000\n",
            "ep 125: game finished, reward: -1.000000\n",
            "ep 125: game finished, reward: -1.000000\n",
            "ep 125: game finished, reward: -1.000000\n",
            "ep 125: game finished, reward: -1.000000\n",
            "ep 125: game finished, reward: -1.000000\n",
            "ep 125: game finished, reward: -1.000000\n",
            "ep 125: game finished, reward: -1.000000\n",
            "ep 125: game finished, reward: -1.000000\n",
            "ep 125: game finished, reward: -1.000000\n",
            "ep 125: game finished, reward: -1.000000\n",
            "ep 125: game finished, reward: -1.000000\n",
            "ep 125: game finished, reward: -1.000000\n",
            "resetting env. episode reward total was -21.000000. running mean: -20.614680\n",
            "ep 126: game finished, reward: -1.000000\n",
            "ep 126: game finished, reward: -1.000000\n",
            "ep 126: game finished, reward: -1.000000\n",
            "ep 126: game finished, reward: -1.000000\n",
            "ep 126: game finished, reward: -1.000000\n",
            "ep 126: game finished, reward: -1.000000\n",
            "ep 126: game finished, reward: -1.000000\n",
            "ep 126: game finished, reward: -1.000000\n",
            "ep 126: game finished, reward: -1.000000\n",
            "ep 126: game finished, reward: -1.000000\n",
            "ep 126: game finished, reward: -1.000000\n",
            "ep 126: game finished, reward: -1.000000\n",
            "ep 126: game finished, reward: -1.000000\n",
            "ep 126: game finished, reward: -1.000000\n",
            "ep 126: game finished, reward: -1.000000\n",
            "ep 126: game finished, reward: -1.000000\n",
            "ep 126: game finished, reward: -1.000000\n",
            "ep 126: game finished, reward: -1.000000\n",
            "ep 126: game finished, reward: -1.000000\n",
            "ep 126: game finished, reward: -1.000000\n",
            "ep 126: game finished, reward: -1.000000\n",
            "resetting env. episode reward total was -21.000000. running mean: -20.618533\n",
            "ep 127: game finished, reward: -1.000000\n",
            "ep 127: game finished, reward: -1.000000\n",
            "ep 127: game finished, reward: -1.000000\n",
            "ep 127: game finished, reward: -1.000000\n",
            "ep 127: game finished, reward: -1.000000\n",
            "ep 127: game finished, reward: -1.000000\n",
            "ep 127: game finished, reward: -1.000000\n",
            "ep 127: game finished, reward: -1.000000\n",
            "ep 127: game finished, reward: -1.000000\n",
            "ep 127: game finished, reward: -1.000000\n",
            "ep 127: game finished, reward: -1.000000\n",
            "ep 127: game finished, reward: -1.000000\n",
            "ep 127: game finished, reward: 1.000000"
          ],
          "name": "stdout"
        },
        {
          "output_type": "execute_result",
          "data": {
            "text/plain": [
              "' !!!!!!!!'"
            ]
          },
          "metadata": {
            "tags": []
          },
          "execution_count": 11
        },
        {
          "output_type": "stream",
          "text": [
            "ep 127: game finished, reward: -1.000000\n",
            "ep 127: game finished, reward: -1.000000\n",
            "ep 127: game finished, reward: 1.000000"
          ],
          "name": "stdout"
        },
        {
          "output_type": "execute_result",
          "data": {
            "text/plain": [
              "' !!!!!!!!'"
            ]
          },
          "metadata": {
            "tags": []
          },
          "execution_count": 11
        },
        {
          "output_type": "stream",
          "text": [
            "ep 127: game finished, reward: -1.000000\n",
            "ep 127: game finished, reward: -1.000000\n",
            "ep 127: game finished, reward: -1.000000\n",
            "ep 127: game finished, reward: -1.000000\n",
            "ep 127: game finished, reward: -1.000000\n",
            "ep 127: game finished, reward: -1.000000\n",
            "ep 127: game finished, reward: -1.000000\n",
            "resetting env. episode reward total was -19.000000. running mean: -20.602348\n",
            "ep 128: game finished, reward: -1.000000\n",
            "ep 128: game finished, reward: -1.000000\n",
            "ep 128: game finished, reward: -1.000000\n",
            "ep 128: game finished, reward: -1.000000\n",
            "ep 128: game finished, reward: -1.000000\n",
            "ep 128: game finished, reward: -1.000000\n",
            "ep 128: game finished, reward: -1.000000\n",
            "ep 128: game finished, reward: 1.000000"
          ],
          "name": "stdout"
        },
        {
          "output_type": "execute_result",
          "data": {
            "text/plain": [
              "' !!!!!!!!'"
            ]
          },
          "metadata": {
            "tags": []
          },
          "execution_count": 11
        },
        {
          "output_type": "stream",
          "text": [
            "ep 128: game finished, reward: -1.000000\n",
            "ep 128: game finished, reward: -1.000000\n",
            "ep 128: game finished, reward: -1.000000\n",
            "ep 128: game finished, reward: -1.000000\n",
            "ep 128: game finished, reward: -1.000000\n",
            "ep 128: game finished, reward: -1.000000\n",
            "ep 128: game finished, reward: -1.000000\n",
            "ep 128: game finished, reward: 1.000000"
          ],
          "name": "stdout"
        },
        {
          "output_type": "execute_result",
          "data": {
            "text/plain": [
              "' !!!!!!!!'"
            ]
          },
          "metadata": {
            "tags": []
          },
          "execution_count": 11
        },
        {
          "output_type": "stream",
          "text": [
            "ep 128: game finished, reward: -1.000000\n",
            "ep 128: game finished, reward: -1.000000\n",
            "ep 128: game finished, reward: -1.000000\n",
            "ep 128: game finished, reward: -1.000000\n",
            "ep 128: game finished, reward: -1.000000\n",
            "ep 128: game finished, reward: -1.000000\n",
            "ep 128: game finished, reward: -1.000000\n",
            "resetting env. episode reward total was -19.000000. running mean: -20.586324\n",
            "ep 129: game finished, reward: -1.000000\n",
            "ep 129: game finished, reward: -1.000000\n",
            "ep 129: game finished, reward: -1.000000\n",
            "ep 129: game finished, reward: -1.000000\n",
            "ep 129: game finished, reward: -1.000000\n",
            "ep 129: game finished, reward: -1.000000\n",
            "ep 129: game finished, reward: -1.000000\n",
            "ep 129: game finished, reward: -1.000000\n",
            "ep 129: game finished, reward: -1.000000\n",
            "ep 129: game finished, reward: -1.000000\n",
            "ep 129: game finished, reward: -1.000000\n",
            "ep 129: game finished, reward: -1.000000\n",
            "ep 129: game finished, reward: -1.000000\n",
            "ep 129: game finished, reward: -1.000000\n",
            "ep 129: game finished, reward: -1.000000\n",
            "ep 129: game finished, reward: -1.000000\n",
            "ep 129: game finished, reward: -1.000000\n",
            "ep 129: game finished, reward: -1.000000\n",
            "ep 129: game finished, reward: -1.000000\n",
            "ep 129: game finished, reward: -1.000000\n",
            "ep 129: game finished, reward: -1.000000\n",
            "resetting env. episode reward total was -21.000000. running mean: -20.590461\n",
            "ep 130: game finished, reward: -1.000000\n",
            "ep 130: game finished, reward: -1.000000\n",
            "ep 130: game finished, reward: -1.000000\n",
            "ep 130: game finished, reward: -1.000000\n",
            "ep 130: game finished, reward: -1.000000\n",
            "ep 130: game finished, reward: -1.000000\n",
            "ep 130: game finished, reward: 1.000000"
          ],
          "name": "stdout"
        },
        {
          "output_type": "execute_result",
          "data": {
            "text/plain": [
              "' !!!!!!!!'"
            ]
          },
          "metadata": {
            "tags": []
          },
          "execution_count": 11
        },
        {
          "output_type": "stream",
          "text": [
            "ep 130: game finished, reward: -1.000000\n",
            "ep 130: game finished, reward: -1.000000\n",
            "ep 130: game finished, reward: -1.000000\n",
            "ep 130: game finished, reward: -1.000000\n",
            "ep 130: game finished, reward: -1.000000\n",
            "ep 130: game finished, reward: 1.000000"
          ],
          "name": "stdout"
        },
        {
          "output_type": "execute_result",
          "data": {
            "text/plain": [
              "' !!!!!!!!'"
            ]
          },
          "metadata": {
            "tags": []
          },
          "execution_count": 11
        },
        {
          "output_type": "stream",
          "text": [
            "ep 130: game finished, reward: -1.000000\n",
            "ep 130: game finished, reward: -1.000000\n",
            "ep 130: game finished, reward: -1.000000\n",
            "ep 130: game finished, reward: -1.000000\n",
            "ep 130: game finished, reward: -1.000000\n",
            "ep 130: game finished, reward: -1.000000\n",
            "ep 130: game finished, reward: -1.000000\n",
            "ep 130: game finished, reward: -1.000000\n",
            "ep 130: game finished, reward: -1.000000\n",
            "ep 130: game finished, reward: -1.000000\n",
            "resetting env. episode reward total was -19.000000. running mean: -20.574557\n",
            "ep 131: game finished, reward: -1.000000\n",
            "ep 131: game finished, reward: -1.000000\n",
            "ep 131: game finished, reward: -1.000000\n",
            "ep 131: game finished, reward: -1.000000\n",
            "ep 131: game finished, reward: -1.000000\n",
            "ep 131: game finished, reward: -1.000000\n",
            "ep 131: game finished, reward: -1.000000\n",
            "ep 131: game finished, reward: -1.000000\n",
            "ep 131: game finished, reward: -1.000000\n",
            "ep 131: game finished, reward: -1.000000\n",
            "ep 131: game finished, reward: -1.000000\n",
            "ep 131: game finished, reward: -1.000000\n",
            "ep 131: game finished, reward: -1.000000\n",
            "ep 131: game finished, reward: -1.000000\n",
            "ep 131: game finished, reward: -1.000000\n",
            "ep 131: game finished, reward: -1.000000\n",
            "ep 131: game finished, reward: -1.000000\n",
            "ep 131: game finished, reward: -1.000000\n",
            "ep 131: game finished, reward: -1.000000\n",
            "ep 131: game finished, reward: -1.000000\n",
            "ep 131: game finished, reward: -1.000000\n",
            "resetting env. episode reward total was -21.000000. running mean: -20.578811\n",
            "ep 132: game finished, reward: -1.000000\n",
            "ep 132: game finished, reward: -1.000000\n",
            "ep 132: game finished, reward: -1.000000\n",
            "ep 132: game finished, reward: -1.000000\n",
            "ep 132: game finished, reward: -1.000000\n",
            "ep 132: game finished, reward: -1.000000\n",
            "ep 132: game finished, reward: -1.000000\n",
            "ep 132: game finished, reward: -1.000000\n",
            "ep 132: game finished, reward: -1.000000\n",
            "ep 132: game finished, reward: -1.000000\n",
            "ep 132: game finished, reward: -1.000000\n",
            "ep 132: game finished, reward: -1.000000\n",
            "ep 132: game finished, reward: -1.000000\n",
            "ep 132: game finished, reward: -1.000000\n",
            "ep 132: game finished, reward: -1.000000\n",
            "ep 132: game finished, reward: -1.000000\n",
            "ep 132: game finished, reward: -1.000000\n",
            "ep 132: game finished, reward: -1.000000\n",
            "ep 132: game finished, reward: -1.000000\n",
            "ep 132: game finished, reward: -1.000000\n",
            "ep 132: game finished, reward: -1.000000\n",
            "resetting env. episode reward total was -21.000000. running mean: -20.583023\n",
            "ep 133: game finished, reward: -1.000000\n",
            "ep 133: game finished, reward: -1.000000\n",
            "ep 133: game finished, reward: -1.000000\n",
            "ep 133: game finished, reward: -1.000000\n",
            "ep 133: game finished, reward: -1.000000\n",
            "ep 133: game finished, reward: -1.000000\n",
            "ep 133: game finished, reward: -1.000000\n",
            "ep 133: game finished, reward: -1.000000\n",
            "ep 133: game finished, reward: -1.000000\n",
            "ep 133: game finished, reward: -1.000000\n",
            "ep 133: game finished, reward: -1.000000\n",
            "ep 133: game finished, reward: -1.000000\n",
            "ep 133: game finished, reward: -1.000000\n",
            "ep 133: game finished, reward: -1.000000\n",
            "ep 133: game finished, reward: -1.000000\n",
            "ep 133: game finished, reward: -1.000000\n",
            "ep 133: game finished, reward: -1.000000\n",
            "ep 133: game finished, reward: -1.000000\n",
            "ep 133: game finished, reward: -1.000000\n",
            "ep 133: game finished, reward: -1.000000\n",
            "ep 133: game finished, reward: -1.000000\n",
            "resetting env. episode reward total was -21.000000. running mean: -20.587193\n",
            "ep 134: game finished, reward: -1.000000\n",
            "ep 134: game finished, reward: -1.000000\n",
            "ep 134: game finished, reward: -1.000000\n",
            "ep 134: game finished, reward: -1.000000\n",
            "ep 134: game finished, reward: -1.000000\n",
            "ep 134: game finished, reward: -1.000000\n",
            "ep 134: game finished, reward: -1.000000\n",
            "ep 134: game finished, reward: -1.000000\n",
            "ep 134: game finished, reward: -1.000000\n",
            "ep 134: game finished, reward: -1.000000\n",
            "ep 134: game finished, reward: -1.000000\n",
            "ep 134: game finished, reward: -1.000000\n",
            "ep 134: game finished, reward: -1.000000\n",
            "ep 134: game finished, reward: -1.000000\n",
            "ep 134: game finished, reward: -1.000000\n",
            "ep 134: game finished, reward: -1.000000\n",
            "ep 134: game finished, reward: -1.000000\n",
            "ep 134: game finished, reward: -1.000000\n",
            "ep 134: game finished, reward: -1.000000\n",
            "ep 134: game finished, reward: -1.000000\n",
            "ep 134: game finished, reward: -1.000000\n",
            "resetting env. episode reward total was -21.000000. running mean: -20.591321\n",
            "ep 135: game finished, reward: -1.000000\n",
            "ep 135: game finished, reward: -1.000000\n",
            "ep 135: game finished, reward: -1.000000\n",
            "ep 135: game finished, reward: -1.000000\n",
            "ep 135: game finished, reward: -1.000000\n",
            "ep 135: game finished, reward: -1.000000\n",
            "ep 135: game finished, reward: -1.000000\n",
            "ep 135: game finished, reward: -1.000000\n",
            "ep 135: game finished, reward: -1.000000\n",
            "ep 135: game finished, reward: -1.000000\n",
            "ep 135: game finished, reward: -1.000000\n",
            "ep 135: game finished, reward: -1.000000\n",
            "ep 135: game finished, reward: -1.000000\n",
            "ep 135: game finished, reward: -1.000000\n",
            "ep 135: game finished, reward: -1.000000\n",
            "ep 135: game finished, reward: -1.000000\n",
            "ep 135: game finished, reward: -1.000000\n",
            "ep 135: game finished, reward: -1.000000\n",
            "ep 135: game finished, reward: -1.000000\n",
            "ep 135: game finished, reward: 1.000000"
          ],
          "name": "stdout"
        },
        {
          "output_type": "execute_result",
          "data": {
            "text/plain": [
              "' !!!!!!!!'"
            ]
          },
          "metadata": {
            "tags": []
          },
          "execution_count": 11
        },
        {
          "output_type": "stream",
          "text": [
            "ep 135: game finished, reward: -1.000000\n",
            "ep 135: game finished, reward: -1.000000\n",
            "resetting env. episode reward total was -20.000000. running mean: -20.585408\n",
            "ep 136: game finished, reward: -1.000000\n",
            "ep 136: game finished, reward: -1.000000\n",
            "ep 136: game finished, reward: -1.000000\n",
            "ep 136: game finished, reward: -1.000000\n",
            "ep 136: game finished, reward: -1.000000\n",
            "ep 136: game finished, reward: -1.000000\n",
            "ep 136: game finished, reward: -1.000000\n",
            "ep 136: game finished, reward: -1.000000\n",
            "ep 136: game finished, reward: -1.000000\n",
            "ep 136: game finished, reward: -1.000000\n",
            "ep 136: game finished, reward: -1.000000\n",
            "ep 136: game finished, reward: -1.000000\n",
            "ep 136: game finished, reward: 1.000000"
          ],
          "name": "stdout"
        },
        {
          "output_type": "execute_result",
          "data": {
            "text/plain": [
              "' !!!!!!!!'"
            ]
          },
          "metadata": {
            "tags": []
          },
          "execution_count": 11
        },
        {
          "output_type": "stream",
          "text": [
            "ep 136: game finished, reward: -1.000000\n",
            "ep 136: game finished, reward: -1.000000\n",
            "ep 136: game finished, reward: -1.000000\n",
            "ep 136: game finished, reward: -1.000000\n",
            "ep 136: game finished, reward: -1.000000\n",
            "ep 136: game finished, reward: -1.000000\n",
            "ep 136: game finished, reward: -1.000000\n",
            "ep 136: game finished, reward: -1.000000\n",
            "ep 136: game finished, reward: -1.000000\n",
            "resetting env. episode reward total was -20.000000. running mean: -20.579553\n",
            "ep 137: game finished, reward: -1.000000\n",
            "ep 137: game finished, reward: -1.000000\n",
            "ep 137: game finished, reward: -1.000000\n",
            "ep 137: game finished, reward: -1.000000\n",
            "ep 137: game finished, reward: -1.000000\n",
            "ep 137: game finished, reward: -1.000000\n",
            "ep 137: game finished, reward: -1.000000\n",
            "ep 137: game finished, reward: -1.000000\n",
            "ep 137: game finished, reward: -1.000000\n",
            "ep 137: game finished, reward: -1.000000\n",
            "ep 137: game finished, reward: -1.000000\n",
            "ep 137: game finished, reward: -1.000000\n",
            "ep 137: game finished, reward: -1.000000\n",
            "ep 137: game finished, reward: -1.000000\n",
            "ep 137: game finished, reward: -1.000000\n",
            "ep 137: game finished, reward: -1.000000\n",
            "ep 137: game finished, reward: -1.000000\n",
            "ep 137: game finished, reward: -1.000000\n",
            "ep 137: game finished, reward: -1.000000\n",
            "ep 137: game finished, reward: -1.000000\n",
            "ep 137: game finished, reward: -1.000000\n",
            "resetting env. episode reward total was -21.000000. running mean: -20.583758\n",
            "ep 138: game finished, reward: -1.000000\n",
            "ep 138: game finished, reward: -1.000000\n",
            "ep 138: game finished, reward: -1.000000\n",
            "ep 138: game finished, reward: -1.000000\n",
            "ep 138: game finished, reward: -1.000000\n",
            "ep 138: game finished, reward: -1.000000\n",
            "ep 138: game finished, reward: -1.000000\n",
            "ep 138: game finished, reward: -1.000000\n",
            "ep 138: game finished, reward: -1.000000\n",
            "ep 138: game finished, reward: -1.000000\n",
            "ep 138: game finished, reward: -1.000000\n",
            "ep 138: game finished, reward: -1.000000\n",
            "ep 138: game finished, reward: -1.000000\n",
            "ep 138: game finished, reward: -1.000000\n",
            "ep 138: game finished, reward: -1.000000\n",
            "ep 138: game finished, reward: -1.000000\n",
            "ep 138: game finished, reward: -1.000000\n",
            "ep 138: game finished, reward: -1.000000\n",
            "ep 138: game finished, reward: -1.000000\n",
            "ep 138: game finished, reward: -1.000000\n",
            "ep 138: game finished, reward: 1.000000"
          ],
          "name": "stdout"
        },
        {
          "output_type": "execute_result",
          "data": {
            "text/plain": [
              "' !!!!!!!!'"
            ]
          },
          "metadata": {
            "tags": []
          },
          "execution_count": 11
        },
        {
          "output_type": "stream",
          "text": [
            "ep 138: game finished, reward: -1.000000\n",
            "resetting env. episode reward total was -20.000000. running mean: -20.577920\n",
            "ep 139: game finished, reward: -1.000000\n",
            "ep 139: game finished, reward: -1.000000\n",
            "ep 139: game finished, reward: -1.000000\n",
            "ep 139: game finished, reward: -1.000000\n",
            "ep 139: game finished, reward: -1.000000\n",
            "ep 139: game finished, reward: -1.000000\n",
            "ep 139: game finished, reward: -1.000000\n",
            "ep 139: game finished, reward: -1.000000\n",
            "ep 139: game finished, reward: -1.000000\n",
            "ep 139: game finished, reward: -1.000000\n",
            "ep 139: game finished, reward: -1.000000\n",
            "ep 139: game finished, reward: -1.000000\n",
            "ep 139: game finished, reward: -1.000000\n",
            "ep 139: game finished, reward: -1.000000\n",
            "ep 139: game finished, reward: -1.000000\n",
            "ep 139: game finished, reward: -1.000000\n",
            "ep 139: game finished, reward: -1.000000\n",
            "ep 139: game finished, reward: -1.000000\n",
            "ep 139: game finished, reward: -1.000000\n",
            "ep 139: game finished, reward: -1.000000\n",
            "ep 139: game finished, reward: 1.000000"
          ],
          "name": "stdout"
        },
        {
          "output_type": "execute_result",
          "data": {
            "text/plain": [
              "' !!!!!!!!'"
            ]
          },
          "metadata": {
            "tags": []
          },
          "execution_count": 11
        },
        {
          "output_type": "stream",
          "text": [
            "ep 139: game finished, reward: -1.000000\n",
            "resetting env. episode reward total was -20.000000. running mean: -20.572141\n",
            "ep 140: game finished, reward: -1.000000\n",
            "ep 140: game finished, reward: -1.000000\n",
            "ep 140: game finished, reward: -1.000000\n",
            "ep 140: game finished, reward: -1.000000\n",
            "ep 140: game finished, reward: -1.000000\n",
            "ep 140: game finished, reward: -1.000000\n",
            "ep 140: game finished, reward: -1.000000\n",
            "ep 140: game finished, reward: -1.000000\n",
            "ep 140: game finished, reward: -1.000000\n",
            "ep 140: game finished, reward: -1.000000\n",
            "ep 140: game finished, reward: -1.000000\n",
            "ep 140: game finished, reward: -1.000000\n",
            "ep 140: game finished, reward: -1.000000\n",
            "ep 140: game finished, reward: -1.000000\n",
            "ep 140: game finished, reward: -1.000000\n",
            "ep 140: game finished, reward: -1.000000\n",
            "ep 140: game finished, reward: -1.000000\n",
            "ep 140: game finished, reward: -1.000000\n",
            "ep 140: game finished, reward: -1.000000\n",
            "ep 140: game finished, reward: -1.000000\n",
            "ep 140: game finished, reward: -1.000000\n",
            "resetting env. episode reward total was -21.000000. running mean: -20.576420\n",
            "ep 141: game finished, reward: -1.000000\n",
            "ep 141: game finished, reward: -1.000000\n",
            "ep 141: game finished, reward: -1.000000\n",
            "ep 141: game finished, reward: -1.000000\n",
            "ep 141: game finished, reward: -1.000000\n",
            "ep 141: game finished, reward: -1.000000\n",
            "ep 141: game finished, reward: -1.000000\n",
            "ep 141: game finished, reward: -1.000000\n",
            "ep 141: game finished, reward: -1.000000\n",
            "ep 141: game finished, reward: -1.000000\n",
            "ep 141: game finished, reward: -1.000000\n",
            "ep 141: game finished, reward: -1.000000\n",
            "ep 141: game finished, reward: -1.000000\n",
            "ep 141: game finished, reward: -1.000000\n",
            "ep 141: game finished, reward: -1.000000\n",
            "ep 141: game finished, reward: -1.000000\n",
            "ep 141: game finished, reward: -1.000000\n",
            "ep 141: game finished, reward: -1.000000\n",
            "ep 141: game finished, reward: -1.000000\n",
            "ep 141: game finished, reward: -1.000000\n",
            "ep 141: game finished, reward: -1.000000\n",
            "ep 141: game finished, reward: 1.000000"
          ],
          "name": "stdout"
        },
        {
          "output_type": "execute_result",
          "data": {
            "text/plain": [
              "' !!!!!!!!'"
            ]
          },
          "metadata": {
            "tags": []
          },
          "execution_count": 11
        },
        {
          "output_type": "stream",
          "text": [
            "resetting env. episode reward total was -20.000000. running mean: -20.570656\n",
            "ep 142: game finished, reward: -1.000000\n",
            "ep 142: game finished, reward: -1.000000\n",
            "ep 142: game finished, reward: -1.000000\n",
            "ep 142: game finished, reward: -1.000000\n",
            "ep 142: game finished, reward: -1.000000\n",
            "ep 142: game finished, reward: -1.000000\n",
            "ep 142: game finished, reward: -1.000000\n",
            "ep 142: game finished, reward: -1.000000\n",
            "ep 142: game finished, reward: -1.000000\n",
            "ep 142: game finished, reward: -1.000000\n",
            "ep 142: game finished, reward: -1.000000\n",
            "ep 142: game finished, reward: -1.000000\n",
            "ep 142: game finished, reward: -1.000000\n",
            "ep 142: game finished, reward: -1.000000\n",
            "ep 142: game finished, reward: -1.000000\n",
            "ep 142: game finished, reward: -1.000000\n",
            "ep 142: game finished, reward: -1.000000\n",
            "ep 142: game finished, reward: -1.000000\n",
            "ep 142: game finished, reward: -1.000000\n",
            "ep 142: game finished, reward: -1.000000\n",
            "ep 142: game finished, reward: -1.000000\n",
            "resetting env. episode reward total was -21.000000. running mean: -20.574949\n",
            "ep 143: game finished, reward: -1.000000\n",
            "ep 143: game finished, reward: -1.000000\n",
            "ep 143: game finished, reward: -1.000000\n",
            "ep 143: game finished, reward: -1.000000\n",
            "ep 143: game finished, reward: -1.000000\n",
            "ep 143: game finished, reward: -1.000000\n",
            "ep 143: game finished, reward: -1.000000\n",
            "ep 143: game finished, reward: -1.000000\n",
            "ep 143: game finished, reward: -1.000000\n",
            "ep 143: game finished, reward: -1.000000\n",
            "ep 143: game finished, reward: -1.000000\n",
            "ep 143: game finished, reward: -1.000000\n",
            "ep 143: game finished, reward: -1.000000\n",
            "ep 143: game finished, reward: -1.000000\n",
            "ep 143: game finished, reward: -1.000000\n",
            "ep 143: game finished, reward: -1.000000\n",
            "ep 143: game finished, reward: -1.000000\n",
            "ep 143: game finished, reward: -1.000000\n",
            "ep 143: game finished, reward: -1.000000\n",
            "ep 143: game finished, reward: -1.000000\n",
            "ep 143: game finished, reward: -1.000000\n",
            "resetting env. episode reward total was -21.000000. running mean: -20.579200\n",
            "ep 144: game finished, reward: -1.000000\n",
            "ep 144: game finished, reward: -1.000000\n",
            "ep 144: game finished, reward: -1.000000\n",
            "ep 144: game finished, reward: -1.000000\n",
            "ep 144: game finished, reward: -1.000000\n",
            "ep 144: game finished, reward: -1.000000\n",
            "ep 144: game finished, reward: -1.000000\n",
            "ep 144: game finished, reward: -1.000000\n",
            "ep 144: game finished, reward: -1.000000\n",
            "ep 144: game finished, reward: -1.000000\n",
            "ep 144: game finished, reward: -1.000000\n",
            "ep 144: game finished, reward: -1.000000\n",
            "ep 144: game finished, reward: 1.000000"
          ],
          "name": "stdout"
        },
        {
          "output_type": "execute_result",
          "data": {
            "text/plain": [
              "' !!!!!!!!'"
            ]
          },
          "metadata": {
            "tags": []
          },
          "execution_count": 11
        },
        {
          "output_type": "stream",
          "text": [
            "ep 144: game finished, reward: -1.000000\n",
            "ep 144: game finished, reward: -1.000000\n",
            "ep 144: game finished, reward: 1.000000"
          ],
          "name": "stdout"
        },
        {
          "output_type": "execute_result",
          "data": {
            "text/plain": [
              "' !!!!!!!!'"
            ]
          },
          "metadata": {
            "tags": []
          },
          "execution_count": 11
        },
        {
          "output_type": "stream",
          "text": [
            "ep 144: game finished, reward: -1.000000\n",
            "ep 144: game finished, reward: -1.000000\n",
            "ep 144: game finished, reward: -1.000000\n",
            "ep 144: game finished, reward: -1.000000\n",
            "ep 144: game finished, reward: -1.000000\n",
            "ep 144: game finished, reward: -1.000000\n",
            "ep 144: game finished, reward: -1.000000\n",
            "resetting env. episode reward total was -19.000000. running mean: -20.563408\n",
            "ep 145: game finished, reward: -1.000000\n",
            "ep 145: game finished, reward: -1.000000\n",
            "ep 145: game finished, reward: -1.000000\n",
            "ep 145: game finished, reward: -1.000000\n",
            "ep 145: game finished, reward: -1.000000\n",
            "ep 145: game finished, reward: -1.000000\n",
            "ep 145: game finished, reward: -1.000000\n",
            "ep 145: game finished, reward: -1.000000\n",
            "ep 145: game finished, reward: -1.000000\n",
            "ep 145: game finished, reward: -1.000000\n",
            "ep 145: game finished, reward: -1.000000\n",
            "ep 145: game finished, reward: 1.000000"
          ],
          "name": "stdout"
        },
        {
          "output_type": "execute_result",
          "data": {
            "text/plain": [
              "' !!!!!!!!'"
            ]
          },
          "metadata": {
            "tags": []
          },
          "execution_count": 11
        },
        {
          "output_type": "stream",
          "text": [
            "ep 145: game finished, reward: -1.000000\n",
            "ep 145: game finished, reward: -1.000000\n",
            "ep 145: game finished, reward: -1.000000\n",
            "ep 145: game finished, reward: -1.000000\n",
            "ep 145: game finished, reward: -1.000000\n",
            "ep 145: game finished, reward: -1.000000\n",
            "ep 145: game finished, reward: -1.000000\n",
            "ep 145: game finished, reward: -1.000000\n",
            "ep 145: game finished, reward: -1.000000\n",
            "ep 145: game finished, reward: -1.000000\n",
            "resetting env. episode reward total was -20.000000. running mean: -20.557773\n",
            "ep 146: game finished, reward: -1.000000\n",
            "ep 146: game finished, reward: -1.000000\n",
            "ep 146: game finished, reward: -1.000000\n",
            "ep 146: game finished, reward: -1.000000\n",
            "ep 146: game finished, reward: -1.000000\n",
            "ep 146: game finished, reward: -1.000000\n",
            "ep 146: game finished, reward: -1.000000\n",
            "ep 146: game finished, reward: -1.000000\n",
            "ep 146: game finished, reward: -1.000000\n",
            "ep 146: game finished, reward: -1.000000\n",
            "ep 146: game finished, reward: -1.000000\n",
            "ep 146: game finished, reward: -1.000000\n",
            "ep 146: game finished, reward: -1.000000\n",
            "ep 146: game finished, reward: -1.000000\n",
            "ep 146: game finished, reward: -1.000000\n",
            "ep 146: game finished, reward: 1.000000"
          ],
          "name": "stdout"
        },
        {
          "output_type": "execute_result",
          "data": {
            "text/plain": [
              "' !!!!!!!!'"
            ]
          },
          "metadata": {
            "tags": []
          },
          "execution_count": 11
        },
        {
          "output_type": "stream",
          "text": [
            "ep 146: game finished, reward: -1.000000\n",
            "ep 146: game finished, reward: -1.000000\n",
            "ep 146: game finished, reward: -1.000000\n",
            "ep 146: game finished, reward: -1.000000\n",
            "ep 146: game finished, reward: -1.000000\n",
            "ep 146: game finished, reward: -1.000000\n",
            "resetting env. episode reward total was -20.000000. running mean: -20.552196\n",
            "ep 147: game finished, reward: -1.000000\n",
            "ep 147: game finished, reward: -1.000000\n",
            "ep 147: game finished, reward: -1.000000\n",
            "ep 147: game finished, reward: -1.000000\n",
            "ep 147: game finished, reward: -1.000000\n",
            "ep 147: game finished, reward: -1.000000\n",
            "ep 147: game finished, reward: -1.000000\n",
            "ep 147: game finished, reward: -1.000000\n",
            "ep 147: game finished, reward: -1.000000\n",
            "ep 147: game finished, reward: -1.000000\n",
            "ep 147: game finished, reward: -1.000000\n",
            "ep 147: game finished, reward: -1.000000\n",
            "ep 147: game finished, reward: -1.000000\n",
            "ep 147: game finished, reward: -1.000000\n",
            "ep 147: game finished, reward: -1.000000\n",
            "ep 147: game finished, reward: -1.000000\n",
            "ep 147: game finished, reward: -1.000000\n",
            "ep 147: game finished, reward: -1.000000\n",
            "ep 147: game finished, reward: -1.000000\n",
            "ep 147: game finished, reward: -1.000000\n",
            "ep 147: game finished, reward: -1.000000\n",
            "resetting env. episode reward total was -21.000000. running mean: -20.556674\n",
            "ep 148: game finished, reward: -1.000000\n",
            "ep 148: game finished, reward: -1.000000\n",
            "ep 148: game finished, reward: -1.000000\n",
            "ep 148: game finished, reward: -1.000000\n",
            "ep 148: game finished, reward: -1.000000\n",
            "ep 148: game finished, reward: -1.000000\n",
            "ep 148: game finished, reward: -1.000000\n",
            "ep 148: game finished, reward: -1.000000\n",
            "ep 148: game finished, reward: -1.000000\n",
            "ep 148: game finished, reward: -1.000000\n",
            "ep 148: game finished, reward: -1.000000\n",
            "ep 148: game finished, reward: -1.000000\n",
            "ep 148: game finished, reward: -1.000000\n",
            "ep 148: game finished, reward: -1.000000\n",
            "ep 148: game finished, reward: -1.000000\n",
            "ep 148: game finished, reward: -1.000000\n",
            "ep 148: game finished, reward: -1.000000\n",
            "ep 148: game finished, reward: -1.000000\n",
            "ep 148: game finished, reward: -1.000000\n",
            "ep 148: game finished, reward: -1.000000\n",
            "ep 148: game finished, reward: -1.000000\n",
            "resetting env. episode reward total was -21.000000. running mean: -20.561107\n",
            "ep 149: game finished, reward: -1.000000\n",
            "ep 149: game finished, reward: -1.000000\n",
            "ep 149: game finished, reward: -1.000000\n",
            "ep 149: game finished, reward: -1.000000\n",
            "ep 149: game finished, reward: -1.000000\n",
            "ep 149: game finished, reward: -1.000000\n",
            "ep 149: game finished, reward: -1.000000\n",
            "ep 149: game finished, reward: -1.000000\n",
            "ep 149: game finished, reward: -1.000000\n",
            "ep 149: game finished, reward: -1.000000\n",
            "ep 149: game finished, reward: -1.000000\n",
            "ep 149: game finished, reward: -1.000000\n",
            "ep 149: game finished, reward: -1.000000\n",
            "ep 149: game finished, reward: -1.000000\n",
            "ep 149: game finished, reward: -1.000000\n",
            "ep 149: game finished, reward: -1.000000\n",
            "ep 149: game finished, reward: -1.000000\n",
            "ep 149: game finished, reward: -1.000000\n",
            "ep 149: game finished, reward: -1.000000\n",
            "ep 149: game finished, reward: -1.000000\n",
            "ep 149: game finished, reward: -1.000000\n",
            "resetting env. episode reward total was -21.000000. running mean: -20.565496\n",
            "ep 150: game finished, reward: -1.000000\n",
            "ep 150: game finished, reward: -1.000000\n",
            "ep 150: game finished, reward: -1.000000\n",
            "ep 150: game finished, reward: -1.000000\n",
            "ep 150: game finished, reward: -1.000000\n",
            "ep 150: game finished, reward: -1.000000\n",
            "ep 150: game finished, reward: -1.000000\n",
            "ep 150: game finished, reward: -1.000000\n",
            "ep 150: game finished, reward: -1.000000\n",
            "ep 150: game finished, reward: -1.000000\n",
            "ep 150: game finished, reward: -1.000000\n",
            "ep 150: game finished, reward: -1.000000\n",
            "ep 150: game finished, reward: -1.000000\n",
            "ep 150: game finished, reward: -1.000000\n",
            "ep 150: game finished, reward: -1.000000\n",
            "ep 150: game finished, reward: -1.000000\n",
            "ep 150: game finished, reward: -1.000000\n",
            "ep 150: game finished, reward: -1.000000\n",
            "ep 150: game finished, reward: -1.000000\n",
            "ep 150: game finished, reward: -1.000000\n",
            "ep 150: game finished, reward: -1.000000\n",
            "resetting env. episode reward total was -21.000000. running mean: -20.569841\n",
            "ep 151: game finished, reward: -1.000000\n",
            "ep 151: game finished, reward: -1.000000\n",
            "ep 151: game finished, reward: -1.000000\n",
            "ep 151: game finished, reward: -1.000000\n",
            "ep 151: game finished, reward: -1.000000\n",
            "ep 151: game finished, reward: -1.000000\n",
            "ep 151: game finished, reward: -1.000000\n",
            "ep 151: game finished, reward: -1.000000\n",
            "ep 151: game finished, reward: -1.000000\n",
            "ep 151: game finished, reward: -1.000000\n",
            "ep 151: game finished, reward: -1.000000\n",
            "ep 151: game finished, reward: -1.000000\n",
            "ep 151: game finished, reward: -1.000000\n",
            "ep 151: game finished, reward: -1.000000\n",
            "ep 151: game finished, reward: -1.000000\n",
            "ep 151: game finished, reward: -1.000000\n",
            "ep 151: game finished, reward: -1.000000\n",
            "ep 151: game finished, reward: -1.000000\n",
            "ep 151: game finished, reward: -1.000000\n",
            "ep 151: game finished, reward: -1.000000\n",
            "ep 151: game finished, reward: -1.000000\n",
            "resetting env. episode reward total was -21.000000. running mean: -20.574143\n",
            "ep 152: game finished, reward: -1.000000\n",
            "ep 152: game finished, reward: -1.000000\n",
            "ep 152: game finished, reward: -1.000000\n",
            "ep 152: game finished, reward: -1.000000\n",
            "ep 152: game finished, reward: -1.000000\n",
            "ep 152: game finished, reward: -1.000000\n",
            "ep 152: game finished, reward: -1.000000\n",
            "ep 152: game finished, reward: -1.000000\n",
            "ep 152: game finished, reward: -1.000000\n",
            "ep 152: game finished, reward: -1.000000\n",
            "ep 152: game finished, reward: -1.000000\n",
            "ep 152: game finished, reward: -1.000000\n",
            "ep 152: game finished, reward: -1.000000\n",
            "ep 152: game finished, reward: -1.000000\n",
            "ep 152: game finished, reward: -1.000000\n",
            "ep 152: game finished, reward: -1.000000\n",
            "ep 152: game finished, reward: -1.000000\n",
            "ep 152: game finished, reward: -1.000000\n",
            "ep 152: game finished, reward: -1.000000\n",
            "ep 152: game finished, reward: -1.000000\n",
            "ep 152: game finished, reward: -1.000000\n",
            "resetting env. episode reward total was -21.000000. running mean: -20.578401\n",
            "ep 153: game finished, reward: -1.000000\n",
            "ep 153: game finished, reward: -1.000000\n",
            "ep 153: game finished, reward: -1.000000\n",
            "ep 153: game finished, reward: -1.000000\n",
            "ep 153: game finished, reward: -1.000000\n",
            "ep 153: game finished, reward: -1.000000\n",
            "ep 153: game finished, reward: -1.000000\n",
            "ep 153: game finished, reward: -1.000000\n",
            "ep 153: game finished, reward: -1.000000\n",
            "ep 153: game finished, reward: -1.000000\n",
            "ep 153: game finished, reward: -1.000000\n",
            "ep 153: game finished, reward: -1.000000\n",
            "ep 153: game finished, reward: -1.000000\n",
            "ep 153: game finished, reward: -1.000000\n",
            "ep 153: game finished, reward: -1.000000\n",
            "ep 153: game finished, reward: -1.000000\n",
            "ep 153: game finished, reward: -1.000000\n",
            "ep 153: game finished, reward: -1.000000\n",
            "ep 153: game finished, reward: -1.000000\n",
            "ep 153: game finished, reward: -1.000000\n",
            "ep 153: game finished, reward: -1.000000\n",
            "resetting env. episode reward total was -21.000000. running mean: -20.582617\n",
            "ep 154: game finished, reward: -1.000000\n",
            "ep 154: game finished, reward: -1.000000\n",
            "ep 154: game finished, reward: -1.000000\n",
            "ep 154: game finished, reward: -1.000000\n",
            "ep 154: game finished, reward: -1.000000\n",
            "ep 154: game finished, reward: -1.000000\n",
            "ep 154: game finished, reward: -1.000000\n",
            "ep 154: game finished, reward: -1.000000\n",
            "ep 154: game finished, reward: -1.000000\n",
            "ep 154: game finished, reward: -1.000000\n",
            "ep 154: game finished, reward: -1.000000\n",
            "ep 154: game finished, reward: -1.000000\n",
            "ep 154: game finished, reward: -1.000000\n",
            "ep 154: game finished, reward: -1.000000\n",
            "ep 154: game finished, reward: -1.000000\n",
            "ep 154: game finished, reward: -1.000000\n",
            "ep 154: game finished, reward: -1.000000\n",
            "ep 154: game finished, reward: -1.000000\n",
            "ep 154: game finished, reward: -1.000000\n",
            "ep 154: game finished, reward: -1.000000\n",
            "ep 154: game finished, reward: -1.000000\n",
            "resetting env. episode reward total was -21.000000. running mean: -20.586791\n",
            "ep 155: game finished, reward: -1.000000\n",
            "ep 155: game finished, reward: -1.000000\n",
            "ep 155: game finished, reward: -1.000000\n",
            "ep 155: game finished, reward: -1.000000\n",
            "ep 155: game finished, reward: -1.000000\n",
            "ep 155: game finished, reward: -1.000000\n",
            "ep 155: game finished, reward: -1.000000\n",
            "ep 155: game finished, reward: -1.000000\n",
            "ep 155: game finished, reward: -1.000000\n",
            "ep 155: game finished, reward: -1.000000\n"
          ],
          "name": "stdout"
        },
        {
          "output_type": "stream",
          "text": [
            "ep 155: game finished, reward: -1.000000\n",
            "ep 155: game finished, reward: -1.000000\n",
            "ep 155: game finished, reward: -1.000000\n",
            "ep 155: game finished, reward: -1.000000\n",
            "ep 155: game finished, reward: -1.000000\n",
            "ep 155: game finished, reward: -1.000000\n",
            "ep 155: game finished, reward: -1.000000\n",
            "ep 155: game finished, reward: -1.000000\n",
            "ep 155: game finished, reward: -1.000000\n",
            "ep 155: game finished, reward: -1.000000\n",
            "ep 155: game finished, reward: -1.000000\n",
            "resetting env. episode reward total was -21.000000. running mean: -20.590923\n",
            "ep 156: game finished, reward: -1.000000\n",
            "ep 156: game finished, reward: -1.000000\n",
            "ep 156: game finished, reward: -1.000000\n",
            "ep 156: game finished, reward: -1.000000\n",
            "ep 156: game finished, reward: -1.000000\n",
            "ep 156: game finished, reward: -1.000000\n",
            "ep 156: game finished, reward: -1.000000\n",
            "ep 156: game finished, reward: -1.000000\n",
            "ep 156: game finished, reward: -1.000000\n",
            "ep 156: game finished, reward: -1.000000\n",
            "ep 156: game finished, reward: -1.000000\n",
            "ep 156: game finished, reward: -1.000000\n",
            "ep 156: game finished, reward: -1.000000\n",
            "ep 156: game finished, reward: 1.000000"
          ],
          "name": "stdout"
        },
        {
          "output_type": "execute_result",
          "data": {
            "text/plain": [
              "' !!!!!!!!'"
            ]
          },
          "metadata": {
            "tags": []
          },
          "execution_count": 11
        },
        {
          "output_type": "stream",
          "text": [
            "ep 156: game finished, reward: -1.000000\n",
            "ep 156: game finished, reward: 1.000000"
          ],
          "name": "stdout"
        },
        {
          "output_type": "execute_result",
          "data": {
            "text/plain": [
              "' !!!!!!!!'"
            ]
          },
          "metadata": {
            "tags": []
          },
          "execution_count": 11
        },
        {
          "output_type": "stream",
          "text": [
            "ep 156: game finished, reward: -1.000000\n",
            "ep 156: game finished, reward: -1.000000\n",
            "ep 156: game finished, reward: -1.000000\n",
            "ep 156: game finished, reward: -1.000000\n",
            "ep 156: game finished, reward: 1.000000"
          ],
          "name": "stdout"
        },
        {
          "output_type": "execute_result",
          "data": {
            "text/plain": [
              "' !!!!!!!!'"
            ]
          },
          "metadata": {
            "tags": []
          },
          "execution_count": 11
        },
        {
          "output_type": "stream",
          "text": [
            "ep 156: game finished, reward: 1.000000"
          ],
          "name": "stdout"
        },
        {
          "output_type": "execute_result",
          "data": {
            "text/plain": [
              "' !!!!!!!!'"
            ]
          },
          "metadata": {
            "tags": []
          },
          "execution_count": 11
        },
        {
          "output_type": "stream",
          "text": [
            "ep 156: game finished, reward: -1.000000\n",
            "ep 156: game finished, reward: 1.000000"
          ],
          "name": "stdout"
        },
        {
          "output_type": "execute_result",
          "data": {
            "text/plain": [
              "' !!!!!!!!'"
            ]
          },
          "metadata": {
            "tags": []
          },
          "execution_count": 11
        },
        {
          "output_type": "stream",
          "text": [
            "ep 156: game finished, reward: -1.000000\n",
            "ep 156: game finished, reward: -1.000000\n",
            "resetting env. episode reward total was -16.000000. running mean: -20.545014\n",
            "ep 157: game finished, reward: -1.000000\n",
            "ep 157: game finished, reward: -1.000000\n",
            "ep 157: game finished, reward: -1.000000\n",
            "ep 157: game finished, reward: -1.000000\n",
            "ep 157: game finished, reward: -1.000000\n",
            "ep 157: game finished, reward: -1.000000\n",
            "ep 157: game finished, reward: -1.000000\n",
            "ep 157: game finished, reward: -1.000000\n",
            "ep 157: game finished, reward: -1.000000\n",
            "ep 157: game finished, reward: -1.000000\n",
            "ep 157: game finished, reward: -1.000000\n",
            "ep 157: game finished, reward: -1.000000\n",
            "ep 157: game finished, reward: -1.000000\n",
            "ep 157: game finished, reward: -1.000000\n",
            "ep 157: game finished, reward: -1.000000\n",
            "ep 157: game finished, reward: -1.000000\n",
            "ep 157: game finished, reward: -1.000000\n",
            "ep 157: game finished, reward: -1.000000\n",
            "ep 157: game finished, reward: -1.000000\n",
            "ep 157: game finished, reward: -1.000000\n",
            "ep 157: game finished, reward: -1.000000\n",
            "resetting env. episode reward total was -21.000000. running mean: -20.549564\n",
            "ep 158: game finished, reward: -1.000000\n",
            "ep 158: game finished, reward: -1.000000\n",
            "ep 158: game finished, reward: -1.000000\n",
            "ep 158: game finished, reward: -1.000000\n",
            "ep 158: game finished, reward: -1.000000\n",
            "ep 158: game finished, reward: -1.000000\n",
            "ep 158: game finished, reward: -1.000000\n",
            "ep 158: game finished, reward: -1.000000\n",
            "ep 158: game finished, reward: -1.000000\n",
            "ep 158: game finished, reward: -1.000000\n",
            "ep 158: game finished, reward: -1.000000\n",
            "ep 158: game finished, reward: -1.000000\n",
            "ep 158: game finished, reward: -1.000000\n",
            "ep 158: game finished, reward: -1.000000\n",
            "ep 158: game finished, reward: -1.000000\n",
            "ep 158: game finished, reward: -1.000000\n",
            "ep 158: game finished, reward: -1.000000\n",
            "ep 158: game finished, reward: -1.000000\n",
            "ep 158: game finished, reward: -1.000000\n",
            "ep 158: game finished, reward: -1.000000\n",
            "ep 158: game finished, reward: -1.000000\n",
            "resetting env. episode reward total was -21.000000. running mean: -20.554068\n",
            "ep 159: game finished, reward: -1.000000\n",
            "ep 159: game finished, reward: -1.000000\n",
            "ep 159: game finished, reward: -1.000000\n",
            "ep 159: game finished, reward: -1.000000\n",
            "ep 159: game finished, reward: -1.000000\n",
            "ep 159: game finished, reward: -1.000000\n",
            "ep 159: game finished, reward: -1.000000\n",
            "ep 159: game finished, reward: -1.000000\n",
            "ep 159: game finished, reward: -1.000000\n",
            "ep 159: game finished, reward: -1.000000\n",
            "ep 159: game finished, reward: -1.000000\n",
            "ep 159: game finished, reward: -1.000000\n",
            "ep 159: game finished, reward: -1.000000\n",
            "ep 159: game finished, reward: -1.000000\n",
            "ep 159: game finished, reward: -1.000000\n",
            "ep 159: game finished, reward: -1.000000\n",
            "ep 159: game finished, reward: -1.000000\n",
            "ep 159: game finished, reward: -1.000000\n",
            "ep 159: game finished, reward: -1.000000\n",
            "ep 159: game finished, reward: -1.000000\n",
            "ep 159: game finished, reward: -1.000000\n",
            "resetting env. episode reward total was -21.000000. running mean: -20.558527\n",
            "ep 160: game finished, reward: -1.000000\n",
            "ep 160: game finished, reward: -1.000000\n",
            "ep 160: game finished, reward: -1.000000\n",
            "ep 160: game finished, reward: -1.000000\n",
            "ep 160: game finished, reward: -1.000000\n",
            "ep 160: game finished, reward: -1.000000\n",
            "ep 160: game finished, reward: -1.000000\n",
            "ep 160: game finished, reward: 1.000000"
          ],
          "name": "stdout"
        },
        {
          "output_type": "execute_result",
          "data": {
            "text/plain": [
              "' !!!!!!!!'"
            ]
          },
          "metadata": {
            "tags": []
          },
          "execution_count": 11
        },
        {
          "output_type": "stream",
          "text": [
            "ep 160: game finished, reward: -1.000000\n",
            "ep 160: game finished, reward: -1.000000\n",
            "ep 160: game finished, reward: -1.000000\n",
            "ep 160: game finished, reward: -1.000000\n",
            "ep 160: game finished, reward: -1.000000\n",
            "ep 160: game finished, reward: -1.000000\n",
            "ep 160: game finished, reward: -1.000000\n",
            "ep 160: game finished, reward: -1.000000\n",
            "ep 160: game finished, reward: -1.000000\n",
            "ep 160: game finished, reward: -1.000000\n",
            "ep 160: game finished, reward: -1.000000\n",
            "ep 160: game finished, reward: -1.000000\n",
            "ep 160: game finished, reward: -1.000000\n",
            "ep 160: game finished, reward: -1.000000\n",
            "resetting env. episode reward total was -20.000000. running mean: -20.552942\n",
            "ep 161: game finished, reward: -1.000000\n",
            "ep 161: game finished, reward: -1.000000\n",
            "ep 161: game finished, reward: -1.000000\n",
            "ep 161: game finished, reward: -1.000000\n",
            "ep 161: game finished, reward: -1.000000\n",
            "ep 161: game finished, reward: -1.000000\n",
            "ep 161: game finished, reward: 1.000000"
          ],
          "name": "stdout"
        },
        {
          "output_type": "execute_result",
          "data": {
            "text/plain": [
              "' !!!!!!!!'"
            ]
          },
          "metadata": {
            "tags": []
          },
          "execution_count": 11
        },
        {
          "output_type": "stream",
          "text": [
            "ep 161: game finished, reward: -1.000000\n",
            "ep 161: game finished, reward: -1.000000\n",
            "ep 161: game finished, reward: -1.000000\n",
            "ep 161: game finished, reward: -1.000000\n",
            "ep 161: game finished, reward: -1.000000\n",
            "ep 161: game finished, reward: -1.000000\n",
            "ep 161: game finished, reward: -1.000000\n",
            "ep 161: game finished, reward: -1.000000\n",
            "ep 161: game finished, reward: -1.000000\n",
            "ep 161: game finished, reward: -1.000000\n",
            "ep 161: game finished, reward: -1.000000\n",
            "ep 161: game finished, reward: -1.000000\n",
            "ep 161: game finished, reward: -1.000000\n",
            "ep 161: game finished, reward: -1.000000\n",
            "ep 161: game finished, reward: 1.000000"
          ],
          "name": "stdout"
        },
        {
          "output_type": "execute_result",
          "data": {
            "text/plain": [
              "' !!!!!!!!'"
            ]
          },
          "metadata": {
            "tags": []
          },
          "execution_count": 11
        },
        {
          "output_type": "stream",
          "text": [
            "ep 161: game finished, reward: -1.000000\n",
            "resetting env. episode reward total was -19.000000. running mean: -20.537413\n",
            "ep 162: game finished, reward: -1.000000\n",
            "ep 162: game finished, reward: -1.000000\n",
            "ep 162: game finished, reward: -1.000000\n",
            "ep 162: game finished, reward: -1.000000\n",
            "ep 162: game finished, reward: -1.000000\n",
            "ep 162: game finished, reward: -1.000000\n",
            "ep 162: game finished, reward: -1.000000\n",
            "ep 162: game finished, reward: -1.000000\n",
            "ep 162: game finished, reward: -1.000000\n",
            "ep 162: game finished, reward: -1.000000\n",
            "ep 162: game finished, reward: -1.000000\n",
            "ep 162: game finished, reward: -1.000000\n",
            "ep 162: game finished, reward: -1.000000\n",
            "ep 162: game finished, reward: -1.000000\n",
            "ep 162: game finished, reward: -1.000000\n",
            "ep 162: game finished, reward: -1.000000\n",
            "ep 162: game finished, reward: -1.000000\n",
            "ep 162: game finished, reward: -1.000000\n",
            "ep 162: game finished, reward: 1.000000"
          ],
          "name": "stdout"
        },
        {
          "output_type": "execute_result",
          "data": {
            "text/plain": [
              "' !!!!!!!!'"
            ]
          },
          "metadata": {
            "tags": []
          },
          "execution_count": 11
        },
        {
          "output_type": "stream",
          "text": [
            "ep 162: game finished, reward: -1.000000\n",
            "ep 162: game finished, reward: -1.000000\n",
            "ep 162: game finished, reward: -1.000000\n",
            "resetting env. episode reward total was -20.000000. running mean: -20.532039\n",
            "ep 163: game finished, reward: -1.000000\n",
            "ep 163: game finished, reward: -1.000000\n",
            "ep 163: game finished, reward: -1.000000\n",
            "ep 163: game finished, reward: -1.000000\n",
            "ep 163: game finished, reward: -1.000000\n",
            "ep 163: game finished, reward: -1.000000\n",
            "ep 163: game finished, reward: -1.000000\n",
            "ep 163: game finished, reward: -1.000000\n",
            "ep 163: game finished, reward: -1.000000\n",
            "ep 163: game finished, reward: -1.000000\n",
            "ep 163: game finished, reward: -1.000000\n",
            "ep 163: game finished, reward: -1.000000\n",
            "ep 163: game finished, reward: -1.000000\n",
            "ep 163: game finished, reward: -1.000000\n",
            "ep 163: game finished, reward: -1.000000\n",
            "ep 163: game finished, reward: -1.000000\n",
            "ep 163: game finished, reward: -1.000000\n",
            "ep 163: game finished, reward: 1.000000"
          ],
          "name": "stdout"
        },
        {
          "output_type": "execute_result",
          "data": {
            "text/plain": [
              "' !!!!!!!!'"
            ]
          },
          "metadata": {
            "tags": []
          },
          "execution_count": 11
        },
        {
          "output_type": "stream",
          "text": [
            "ep 163: game finished, reward: -1.000000\n",
            "ep 163: game finished, reward: -1.000000\n",
            "ep 163: game finished, reward: -1.000000\n",
            "ep 163: game finished, reward: -1.000000\n",
            "resetting env. episode reward total was -20.000000. running mean: -20.526718\n",
            "ep 164: game finished, reward: -1.000000\n",
            "ep 164: game finished, reward: -1.000000\n",
            "ep 164: game finished, reward: -1.000000\n",
            "ep 164: game finished, reward: -1.000000\n",
            "ep 164: game finished, reward: -1.000000\n",
            "ep 164: game finished, reward: -1.000000\n",
            "ep 164: game finished, reward: -1.000000\n",
            "ep 164: game finished, reward: -1.000000\n",
            "ep 164: game finished, reward: -1.000000\n",
            "ep 164: game finished, reward: -1.000000\n",
            "ep 164: game finished, reward: -1.000000\n",
            "ep 164: game finished, reward: -1.000000\n",
            "ep 164: game finished, reward: -1.000000\n",
            "ep 164: game finished, reward: 1.000000"
          ],
          "name": "stdout"
        },
        {
          "output_type": "execute_result",
          "data": {
            "text/plain": [
              "' !!!!!!!!'"
            ]
          },
          "metadata": {
            "tags": []
          },
          "execution_count": 11
        },
        {
          "output_type": "stream",
          "text": [
            "ep 164: game finished, reward: -1.000000\n",
            "ep 164: game finished, reward: -1.000000\n",
            "ep 164: game finished, reward: -1.000000\n",
            "ep 164: game finished, reward: -1.000000\n",
            "ep 164: game finished, reward: -1.000000\n",
            "ep 164: game finished, reward: -1.000000\n",
            "ep 164: game finished, reward: -1.000000\n",
            "ep 164: game finished, reward: -1.000000\n",
            "resetting env. episode reward total was -20.000000. running mean: -20.521451\n",
            "ep 165: game finished, reward: -1.000000\n",
            "ep 165: game finished, reward: -1.000000\n",
            "ep 165: game finished, reward: -1.000000\n",
            "ep 165: game finished, reward: -1.000000\n",
            "ep 165: game finished, reward: -1.000000\n",
            "ep 165: game finished, reward: -1.000000\n",
            "ep 165: game finished, reward: -1.000000\n",
            "ep 165: game finished, reward: -1.000000\n",
            "ep 165: game finished, reward: -1.000000\n",
            "ep 165: game finished, reward: -1.000000\n",
            "ep 165: game finished, reward: -1.000000\n",
            "ep 165: game finished, reward: -1.000000\n",
            "ep 165: game finished, reward: -1.000000\n",
            "ep 165: game finished, reward: -1.000000\n",
            "ep 165: game finished, reward: -1.000000\n",
            "ep 165: game finished, reward: -1.000000\n",
            "ep 165: game finished, reward: -1.000000\n",
            "ep 165: game finished, reward: -1.000000\n",
            "ep 165: game finished, reward: -1.000000\n",
            "ep 165: game finished, reward: -1.000000\n",
            "ep 165: game finished, reward: -1.000000\n",
            "resetting env. episode reward total was -21.000000. running mean: -20.526236\n",
            "ep 166: game finished, reward: -1.000000\n",
            "ep 166: game finished, reward: -1.000000\n",
            "ep 166: game finished, reward: -1.000000\n",
            "ep 166: game finished, reward: -1.000000\n",
            "ep 166: game finished, reward: -1.000000\n",
            "ep 166: game finished, reward: -1.000000\n",
            "ep 166: game finished, reward: -1.000000\n",
            "ep 166: game finished, reward: 1.000000"
          ],
          "name": "stdout"
        },
        {
          "output_type": "execute_result",
          "data": {
            "text/plain": [
              "' !!!!!!!!'"
            ]
          },
          "metadata": {
            "tags": []
          },
          "execution_count": 11
        },
        {
          "output_type": "stream",
          "text": [
            "ep 166: game finished, reward: -1.000000\n",
            "ep 166: game finished, reward: -1.000000\n",
            "ep 166: game finished, reward: -1.000000\n",
            "ep 166: game finished, reward: -1.000000\n",
            "ep 166: game finished, reward: -1.000000\n",
            "ep 166: game finished, reward: -1.000000\n",
            "ep 166: game finished, reward: -1.000000\n",
            "ep 166: game finished, reward: -1.000000\n",
            "ep 166: game finished, reward: -1.000000\n",
            "ep 166: game finished, reward: -1.000000\n",
            "ep 166: game finished, reward: -1.000000\n",
            "ep 166: game finished, reward: -1.000000\n",
            "ep 166: game finished, reward: -1.000000\n",
            "ep 166: game finished, reward: -1.000000\n",
            "resetting env. episode reward total was -20.000000. running mean: -20.520974\n",
            "ep 167: game finished, reward: -1.000000\n",
            "ep 167: game finished, reward: -1.000000\n",
            "ep 167: game finished, reward: -1.000000\n",
            "ep 167: game finished, reward: -1.000000\n",
            "ep 167: game finished, reward: -1.000000\n",
            "ep 167: game finished, reward: -1.000000\n",
            "ep 167: game finished, reward: -1.000000\n",
            "ep 167: game finished, reward: -1.000000\n",
            "ep 167: game finished, reward: -1.000000\n",
            "ep 167: game finished, reward: -1.000000\n",
            "ep 167: game finished, reward: -1.000000\n",
            "ep 167: game finished, reward: -1.000000\n",
            "ep 167: game finished, reward: -1.000000\n",
            "ep 167: game finished, reward: -1.000000\n",
            "ep 167: game finished, reward: -1.000000\n",
            "ep 167: game finished, reward: -1.000000\n",
            "ep 167: game finished, reward: -1.000000\n",
            "ep 167: game finished, reward: -1.000000\n",
            "ep 167: game finished, reward: -1.000000\n",
            "ep 167: game finished, reward: -1.000000\n",
            "ep 167: game finished, reward: -1.000000\n",
            "resetting env. episode reward total was -21.000000. running mean: -20.525764\n",
            "ep 168: game finished, reward: -1.000000\n",
            "ep 168: game finished, reward: -1.000000\n",
            "ep 168: game finished, reward: -1.000000\n",
            "ep 168: game finished, reward: -1.000000\n",
            "ep 168: game finished, reward: -1.000000\n",
            "ep 168: game finished, reward: -1.000000\n",
            "ep 168: game finished, reward: -1.000000\n",
            "ep 168: game finished, reward: -1.000000\n",
            "ep 168: game finished, reward: -1.000000\n",
            "ep 168: game finished, reward: -1.000000\n",
            "ep 168: game finished, reward: -1.000000\n",
            "ep 168: game finished, reward: -1.000000\n",
            "ep 168: game finished, reward: -1.000000\n",
            "ep 168: game finished, reward: -1.000000\n",
            "ep 168: game finished, reward: -1.000000\n",
            "ep 168: game finished, reward: -1.000000\n",
            "ep 168: game finished, reward: -1.000000\n",
            "ep 168: game finished, reward: -1.000000\n",
            "ep 168: game finished, reward: -1.000000\n",
            "ep 168: game finished, reward: -1.000000\n",
            "ep 168: game finished, reward: 1.000000"
          ],
          "name": "stdout"
        },
        {
          "output_type": "execute_result",
          "data": {
            "text/plain": [
              "' !!!!!!!!'"
            ]
          },
          "metadata": {
            "tags": []
          },
          "execution_count": 11
        },
        {
          "output_type": "stream",
          "text": [
            "ep 168: game finished, reward: -1.000000\n",
            "resetting env. episode reward total was -20.000000. running mean: -20.520507\n",
            "ep 169: game finished, reward: -1.000000\n",
            "ep 169: game finished, reward: 1.000000"
          ],
          "name": "stdout"
        },
        {
          "output_type": "execute_result",
          "data": {
            "text/plain": [
              "' !!!!!!!!'"
            ]
          },
          "metadata": {
            "tags": []
          },
          "execution_count": 11
        },
        {
          "output_type": "stream",
          "text": [
            "ep 169: game finished, reward: -1.000000\n",
            "ep 169: game finished, reward: -1.000000\n",
            "ep 169: game finished, reward: -1.000000\n",
            "ep 169: game finished, reward: -1.000000\n",
            "ep 169: game finished, reward: -1.000000\n",
            "ep 169: game finished, reward: -1.000000\n",
            "ep 169: game finished, reward: -1.000000\n",
            "ep 169: game finished, reward: -1.000000\n",
            "ep 169: game finished, reward: -1.000000\n",
            "ep 169: game finished, reward: -1.000000\n",
            "ep 169: game finished, reward: -1.000000\n",
            "ep 169: game finished, reward: -1.000000\n",
            "ep 169: game finished, reward: -1.000000\n",
            "ep 169: game finished, reward: -1.000000\n",
            "ep 169: game finished, reward: -1.000000\n",
            "ep 169: game finished, reward: -1.000000\n",
            "ep 169: game finished, reward: -1.000000\n",
            "ep 169: game finished, reward: -1.000000\n",
            "ep 169: game finished, reward: -1.000000\n",
            "ep 169: game finished, reward: -1.000000\n",
            "resetting env. episode reward total was -20.000000. running mean: -20.515302\n",
            "ep 170: game finished, reward: -1.000000\n",
            "ep 170: game finished, reward: -1.000000\n",
            "ep 170: game finished, reward: -1.000000\n",
            "ep 170: game finished, reward: -1.000000\n",
            "ep 170: game finished, reward: -1.000000\n",
            "ep 170: game finished, reward: -1.000000\n",
            "ep 170: game finished, reward: -1.000000\n",
            "ep 170: game finished, reward: -1.000000\n",
            "ep 170: game finished, reward: -1.000000\n",
            "ep 170: game finished, reward: -1.000000\n",
            "ep 170: game finished, reward: -1.000000\n",
            "ep 170: game finished, reward: -1.000000\n",
            "ep 170: game finished, reward: -1.000000\n",
            "ep 170: game finished, reward: -1.000000\n",
            "ep 170: game finished, reward: -1.000000\n",
            "ep 170: game finished, reward: -1.000000\n",
            "ep 170: game finished, reward: -1.000000\n",
            "ep 170: game finished, reward: -1.000000\n",
            "ep 170: game finished, reward: -1.000000\n",
            "ep 170: game finished, reward: -1.000000\n",
            "ep 170: game finished, reward: -1.000000\n",
            "resetting env. episode reward total was -21.000000. running mean: -20.520149\n",
            "ep 171: game finished, reward: -1.000000\n",
            "ep 171: game finished, reward: -1.000000\n",
            "ep 171: game finished, reward: -1.000000\n",
            "ep 171: game finished, reward: 1.000000"
          ],
          "name": "stdout"
        },
        {
          "output_type": "execute_result",
          "data": {
            "text/plain": [
              "' !!!!!!!!'"
            ]
          },
          "metadata": {
            "tags": []
          },
          "execution_count": 11
        },
        {
          "output_type": "stream",
          "text": [
            "ep 171: game finished, reward: 1.000000"
          ],
          "name": "stdout"
        },
        {
          "output_type": "execute_result",
          "data": {
            "text/plain": [
              "' !!!!!!!!'"
            ]
          },
          "metadata": {
            "tags": []
          },
          "execution_count": 11
        },
        {
          "output_type": "stream",
          "text": [
            "ep 171: game finished, reward: -1.000000\n",
            "ep 171: game finished, reward: -1.000000\n",
            "ep 171: game finished, reward: -1.000000\n",
            "ep 171: game finished, reward: -1.000000\n",
            "ep 171: game finished, reward: -1.000000\n",
            "ep 171: game finished, reward: -1.000000\n",
            "ep 171: game finished, reward: -1.000000\n",
            "ep 171: game finished, reward: -1.000000\n",
            "ep 171: game finished, reward: -1.000000\n",
            "ep 171: game finished, reward: -1.000000\n",
            "ep 171: game finished, reward: -1.000000\n",
            "ep 171: game finished, reward: -1.000000\n",
            "ep 171: game finished, reward: -1.000000\n",
            "ep 171: game finished, reward: -1.000000\n",
            "ep 171: game finished, reward: -1.000000\n",
            "ep 171: game finished, reward: -1.000000\n",
            "ep 171: game finished, reward: -1.000000\n",
            "ep 171: game finished, reward: -1.000000\n",
            "resetting env. episode reward total was -19.000000. running mean: -20.504947\n",
            "ep 172: game finished, reward: -1.000000\n",
            "ep 172: game finished, reward: -1.000000\n",
            "ep 172: game finished, reward: -1.000000\n",
            "ep 172: game finished, reward: -1.000000\n",
            "ep 172: game finished, reward: -1.000000\n",
            "ep 172: game finished, reward: -1.000000\n",
            "ep 172: game finished, reward: -1.000000\n",
            "ep 172: game finished, reward: -1.000000\n",
            "ep 172: game finished, reward: -1.000000\n",
            "ep 172: game finished, reward: -1.000000\n",
            "ep 172: game finished, reward: -1.000000\n",
            "ep 172: game finished, reward: -1.000000\n",
            "ep 172: game finished, reward: -1.000000\n",
            "ep 172: game finished, reward: -1.000000\n",
            "ep 172: game finished, reward: -1.000000\n",
            "ep 172: game finished, reward: -1.000000\n",
            "ep 172: game finished, reward: -1.000000\n",
            "ep 172: game finished, reward: -1.000000\n",
            "ep 172: game finished, reward: -1.000000\n",
            "ep 172: game finished, reward: -1.000000\n",
            "ep 172: game finished, reward: -1.000000\n",
            "resetting env. episode reward total was -21.000000. running mean: -20.509898\n",
            "ep 173: game finished, reward: -1.000000\n",
            "ep 173: game finished, reward: -1.000000\n",
            "ep 173: game finished, reward: -1.000000\n",
            "ep 173: game finished, reward: -1.000000\n",
            "ep 173: game finished, reward: -1.000000\n",
            "ep 173: game finished, reward: 1.000000"
          ],
          "name": "stdout"
        },
        {
          "output_type": "execute_result",
          "data": {
            "text/plain": [
              "' !!!!!!!!'"
            ]
          },
          "metadata": {
            "tags": []
          },
          "execution_count": 11
        },
        {
          "output_type": "stream",
          "text": [
            "ep 173: game finished, reward: -1.000000\n",
            "ep 173: game finished, reward: -1.000000\n",
            "ep 173: game finished, reward: -1.000000\n",
            "ep 173: game finished, reward: -1.000000\n",
            "ep 173: game finished, reward: -1.000000\n",
            "ep 173: game finished, reward: -1.000000\n",
            "ep 173: game finished, reward: -1.000000\n",
            "ep 173: game finished, reward: -1.000000\n",
            "ep 173: game finished, reward: -1.000000\n",
            "ep 173: game finished, reward: -1.000000\n",
            "ep 173: game finished, reward: -1.000000\n",
            "ep 173: game finished, reward: -1.000000\n",
            "ep 173: game finished, reward: -1.000000\n",
            "ep 173: game finished, reward: -1.000000\n",
            "ep 173: game finished, reward: -1.000000\n",
            "ep 173: game finished, reward: -1.000000\n",
            "resetting env. episode reward total was -20.000000. running mean: -20.504799\n",
            "ep 174: game finished, reward: -1.000000\n",
            "ep 174: game finished, reward: -1.000000\n",
            "ep 174: game finished, reward: -1.000000\n",
            "ep 174: game finished, reward: -1.000000\n",
            "ep 174: game finished, reward: -1.000000\n",
            "ep 174: game finished, reward: -1.000000\n",
            "ep 174: game finished, reward: -1.000000\n",
            "ep 174: game finished, reward: -1.000000\n",
            "ep 174: game finished, reward: -1.000000\n",
            "ep 174: game finished, reward: -1.000000\n",
            "ep 174: game finished, reward: -1.000000\n",
            "ep 174: game finished, reward: -1.000000\n",
            "ep 174: game finished, reward: -1.000000\n",
            "ep 174: game finished, reward: -1.000000\n",
            "ep 174: game finished, reward: -1.000000\n",
            "ep 174: game finished, reward: -1.000000\n",
            "ep 174: game finished, reward: -1.000000\n",
            "ep 174: game finished, reward: -1.000000\n",
            "ep 174: game finished, reward: -1.000000\n",
            "ep 174: game finished, reward: -1.000000\n",
            "ep 174: game finished, reward: -1.000000\n",
            "resetting env. episode reward total was -21.000000. running mean: -20.509751\n",
            "ep 175: game finished, reward: -1.000000\n",
            "ep 175: game finished, reward: -1.000000\n",
            "ep 175: game finished, reward: -1.000000\n",
            "ep 175: game finished, reward: -1.000000\n",
            "ep 175: game finished, reward: -1.000000\n",
            "ep 175: game finished, reward: -1.000000\n",
            "ep 175: game finished, reward: -1.000000\n",
            "ep 175: game finished, reward: -1.000000\n",
            "ep 175: game finished, reward: -1.000000\n",
            "ep 175: game finished, reward: -1.000000\n",
            "ep 175: game finished, reward: -1.000000\n",
            "ep 175: game finished, reward: -1.000000\n",
            "ep 175: game finished, reward: -1.000000\n",
            "ep 175: game finished, reward: -1.000000\n",
            "ep 175: game finished, reward: -1.000000\n",
            "ep 175: game finished, reward: 1.000000"
          ],
          "name": "stdout"
        },
        {
          "output_type": "execute_result",
          "data": {
            "text/plain": [
              "' !!!!!!!!'"
            ]
          },
          "metadata": {
            "tags": []
          },
          "execution_count": 11
        },
        {
          "output_type": "stream",
          "text": [
            "ep 175: game finished, reward: -1.000000\n",
            "ep 175: game finished, reward: -1.000000\n",
            "ep 175: game finished, reward: -1.000000\n",
            "ep 175: game finished, reward: -1.000000\n",
            "ep 175: game finished, reward: -1.000000\n",
            "ep 175: game finished, reward: -1.000000\n",
            "resetting env. episode reward total was -20.000000. running mean: -20.504653\n",
            "ep 176: game finished, reward: -1.000000\n",
            "ep 176: game finished, reward: -1.000000\n",
            "ep 176: game finished, reward: -1.000000\n",
            "ep 176: game finished, reward: -1.000000\n",
            "ep 176: game finished, reward: -1.000000\n",
            "ep 176: game finished, reward: -1.000000\n",
            "ep 176: game finished, reward: -1.000000\n",
            "ep 176: game finished, reward: -1.000000\n",
            "ep 176: game finished, reward: -1.000000\n",
            "ep 176: game finished, reward: -1.000000\n",
            "ep 176: game finished, reward: -1.000000\n",
            "ep 176: game finished, reward: -1.000000\n",
            "ep 176: game finished, reward: -1.000000\n",
            "ep 176: game finished, reward: -1.000000\n",
            "ep 176: game finished, reward: -1.000000\n",
            "ep 176: game finished, reward: -1.000000\n",
            "ep 176: game finished, reward: -1.000000\n",
            "ep 176: game finished, reward: -1.000000\n",
            "ep 176: game finished, reward: -1.000000\n",
            "ep 176: game finished, reward: -1.000000\n",
            "ep 176: game finished, reward: -1.000000\n",
            "resetting env. episode reward total was -21.000000. running mean: -20.509607\n",
            "ep 177: game finished, reward: -1.000000\n",
            "ep 177: game finished, reward: -1.000000\n",
            "ep 177: game finished, reward: -1.000000\n",
            "ep 177: game finished, reward: -1.000000\n",
            "ep 177: game finished, reward: -1.000000\n",
            "ep 177: game finished, reward: -1.000000\n",
            "ep 177: game finished, reward: -1.000000\n",
            "ep 177: game finished, reward: -1.000000\n",
            "ep 177: game finished, reward: -1.000000\n",
            "ep 177: game finished, reward: -1.000000\n",
            "ep 177: game finished, reward: -1.000000\n",
            "ep 177: game finished, reward: -1.000000\n",
            "ep 177: game finished, reward: -1.000000\n",
            "ep 177: game finished, reward: -1.000000\n",
            "ep 177: game finished, reward: -1.000000\n",
            "ep 177: game finished, reward: -1.000000\n",
            "ep 177: game finished, reward: -1.000000\n",
            "ep 177: game finished, reward: -1.000000\n",
            "ep 177: game finished, reward: -1.000000\n",
            "ep 177: game finished, reward: -1.000000\n",
            "ep 177: game finished, reward: -1.000000\n",
            "resetting env. episode reward total was -21.000000. running mean: -20.514511\n",
            "ep 178: game finished, reward: -1.000000\n",
            "ep 178: game finished, reward: -1.000000\n",
            "ep 178: game finished, reward: -1.000000\n",
            "ep 178: game finished, reward: -1.000000\n",
            "ep 178: game finished, reward: -1.000000\n",
            "ep 178: game finished, reward: -1.000000\n",
            "ep 178: game finished, reward: -1.000000\n",
            "ep 178: game finished, reward: -1.000000\n",
            "ep 178: game finished, reward: -1.000000\n",
            "ep 178: game finished, reward: -1.000000\n",
            "ep 178: game finished, reward: -1.000000\n",
            "ep 178: game finished, reward: 1.000000"
          ],
          "name": "stdout"
        },
        {
          "output_type": "execute_result",
          "data": {
            "text/plain": [
              "' !!!!!!!!'"
            ]
          },
          "metadata": {
            "tags": []
          },
          "execution_count": 11
        },
        {
          "output_type": "stream",
          "text": [
            "ep 178: game finished, reward: -1.000000\n",
            "ep 178: game finished, reward: -1.000000\n",
            "ep 178: game finished, reward: -1.000000\n",
            "ep 178: game finished, reward: -1.000000\n",
            "ep 178: game finished, reward: -1.000000\n",
            "ep 178: game finished, reward: -1.000000\n",
            "ep 178: game finished, reward: -1.000000\n",
            "ep 178: game finished, reward: -1.000000\n",
            "ep 178: game finished, reward: -1.000000\n",
            "ep 178: game finished, reward: -1.000000\n",
            "resetting env. episode reward total was -20.000000. running mean: -20.509365\n",
            "ep 179: game finished, reward: -1.000000\n",
            "ep 179: game finished, reward: -1.000000\n",
            "ep 179: game finished, reward: -1.000000\n",
            "ep 179: game finished, reward: -1.000000\n",
            "ep 179: game finished, reward: -1.000000\n",
            "ep 179: game finished, reward: -1.000000\n",
            "ep 179: game finished, reward: -1.000000\n",
            "ep 179: game finished, reward: -1.000000\n",
            "ep 179: game finished, reward: -1.000000\n",
            "ep 179: game finished, reward: -1.000000\n",
            "ep 179: game finished, reward: -1.000000\n",
            "ep 179: game finished, reward: -1.000000\n",
            "ep 179: game finished, reward: -1.000000\n",
            "ep 179: game finished, reward: -1.000000\n",
            "ep 179: game finished, reward: -1.000000\n",
            "ep 179: game finished, reward: -1.000000\n",
            "ep 179: game finished, reward: -1.000000\n",
            "ep 179: game finished, reward: -1.000000\n",
            "ep 179: game finished, reward: -1.000000\n",
            "ep 179: game finished, reward: -1.000000\n",
            "ep 179: game finished, reward: -1.000000\n",
            "resetting env. episode reward total was -21.000000. running mean: -20.514272\n",
            "ep 180: game finished, reward: -1.000000\n",
            "ep 180: game finished, reward: -1.000000\n",
            "ep 180: game finished, reward: -1.000000\n",
            "ep 180: game finished, reward: -1.000000\n",
            "ep 180: game finished, reward: -1.000000\n",
            "ep 180: game finished, reward: -1.000000\n",
            "ep 180: game finished, reward: -1.000000\n",
            "ep 180: game finished, reward: -1.000000\n",
            "ep 180: game finished, reward: -1.000000\n",
            "ep 180: game finished, reward: -1.000000\n",
            "ep 180: game finished, reward: -1.000000\n",
            "ep 180: game finished, reward: -1.000000\n",
            "ep 180: game finished, reward: -1.000000\n",
            "ep 180: game finished, reward: -1.000000\n",
            "ep 180: game finished, reward: -1.000000\n",
            "ep 180: game finished, reward: 1.000000"
          ],
          "name": "stdout"
        },
        {
          "output_type": "execute_result",
          "data": {
            "text/plain": [
              "' !!!!!!!!'"
            ]
          },
          "metadata": {
            "tags": []
          },
          "execution_count": 11
        },
        {
          "output_type": "stream",
          "text": [
            "ep 180: game finished, reward: -1.000000\n",
            "ep 180: game finished, reward: -1.000000\n",
            "ep 180: game finished, reward: -1.000000\n",
            "ep 180: game finished, reward: -1.000000\n",
            "ep 180: game finished, reward: -1.000000\n",
            "ep 180: game finished, reward: -1.000000\n",
            "resetting env. episode reward total was -20.000000. running mean: -20.509129\n",
            "ep 181: game finished, reward: -1.000000\n",
            "ep 181: game finished, reward: -1.000000\n",
            "ep 181: game finished, reward: -1.000000\n",
            "ep 181: game finished, reward: -1.000000\n",
            "ep 181: game finished, reward: -1.000000\n",
            "ep 181: game finished, reward: -1.000000\n",
            "ep 181: game finished, reward: -1.000000\n",
            "ep 181: game finished, reward: -1.000000\n",
            "ep 181: game finished, reward: -1.000000\n",
            "ep 181: game finished, reward: -1.000000\n",
            "ep 181: game finished, reward: -1.000000\n",
            "ep 181: game finished, reward: -1.000000\n",
            "ep 181: game finished, reward: -1.000000\n",
            "ep 181: game finished, reward: -1.000000\n",
            "ep 181: game finished, reward: -1.000000\n",
            "ep 181: game finished, reward: -1.000000\n",
            "ep 181: game finished, reward: -1.000000\n",
            "ep 181: game finished, reward: -1.000000\n",
            "ep 181: game finished, reward: -1.000000\n",
            "ep 181: game finished, reward: -1.000000\n",
            "ep 181: game finished, reward: -1.000000\n",
            "resetting env. episode reward total was -21.000000. running mean: -20.514038\n",
            "ep 182: game finished, reward: -1.000000\n",
            "ep 182: game finished, reward: -1.000000\n",
            "ep 182: game finished, reward: 1.000000"
          ],
          "name": "stdout"
        },
        {
          "output_type": "execute_result",
          "data": {
            "text/plain": [
              "' !!!!!!!!'"
            ]
          },
          "metadata": {
            "tags": []
          },
          "execution_count": 11
        },
        {
          "output_type": "stream",
          "text": [
            "ep 182: game finished, reward: -1.000000\n",
            "ep 182: game finished, reward: -1.000000\n",
            "ep 182: game finished, reward: -1.000000\n",
            "ep 182: game finished, reward: -1.000000\n",
            "ep 182: game finished, reward: -1.000000\n",
            "ep 182: game finished, reward: -1.000000\n",
            "ep 182: game finished, reward: -1.000000\n",
            "ep 182: game finished, reward: -1.000000\n",
            "ep 182: game finished, reward: -1.000000\n",
            "ep 182: game finished, reward: -1.000000\n",
            "ep 182: game finished, reward: -1.000000\n",
            "ep 182: game finished, reward: -1.000000\n",
            "ep 182: game finished, reward: -1.000000\n",
            "ep 182: game finished, reward: -1.000000\n",
            "ep 182: game finished, reward: -1.000000\n",
            "ep 182: game finished, reward: -1.000000\n",
            "ep 182: game finished, reward: -1.000000\n",
            "ep 182: game finished, reward: -1.000000\n",
            "ep 182: game finished, reward: -1.000000\n",
            "resetting env. episode reward total was -20.000000. running mean: -20.508897\n",
            "ep 183: game finished, reward: -1.000000\n",
            "ep 183: game finished, reward: -1.000000\n",
            "ep 183: game finished, reward: -1.000000\n",
            "ep 183: game finished, reward: -1.000000\n",
            "ep 183: game finished, reward: -1.000000\n",
            "ep 183: game finished, reward: -1.000000\n",
            "ep 183: game finished, reward: -1.000000\n",
            "ep 183: game finished, reward: -1.000000\n",
            "ep 183: game finished, reward: -1.000000\n",
            "ep 183: game finished, reward: -1.000000\n",
            "ep 183: game finished, reward: -1.000000\n",
            "ep 183: game finished, reward: -1.000000\n",
            "ep 183: game finished, reward: -1.000000\n",
            "ep 183: game finished, reward: -1.000000\n",
            "ep 183: game finished, reward: -1.000000\n",
            "ep 183: game finished, reward: -1.000000\n",
            "ep 183: game finished, reward: -1.000000\n",
            "ep 183: game finished, reward: -1.000000\n",
            "ep 183: game finished, reward: -1.000000\n",
            "ep 183: game finished, reward: -1.000000\n",
            "ep 183: game finished, reward: -1.000000\n",
            "resetting env. episode reward total was -21.000000. running mean: -20.513808\n",
            "ep 184: game finished, reward: -1.000000\n",
            "ep 184: game finished, reward: -1.000000\n",
            "ep 184: game finished, reward: -1.000000\n",
            "ep 184: game finished, reward: -1.000000\n",
            "ep 184: game finished, reward: -1.000000\n",
            "ep 184: game finished, reward: -1.000000\n",
            "ep 184: game finished, reward: -1.000000\n",
            "ep 184: game finished, reward: -1.000000\n",
            "ep 184: game finished, reward: -1.000000\n",
            "ep 184: game finished, reward: -1.000000\n",
            "ep 184: game finished, reward: -1.000000\n",
            "ep 184: game finished, reward: -1.000000\n",
            "ep 184: game finished, reward: -1.000000\n",
            "ep 184: game finished, reward: -1.000000\n",
            "ep 184: game finished, reward: -1.000000\n",
            "ep 184: game finished, reward: -1.000000\n",
            "ep 184: game finished, reward: -1.000000\n",
            "ep 184: game finished, reward: -1.000000\n",
            "ep 184: game finished, reward: -1.000000\n",
            "ep 184: game finished, reward: -1.000000\n",
            "ep 184: game finished, reward: -1.000000\n",
            "resetting env. episode reward total was -21.000000. running mean: -20.518670\n",
            "ep 185: game finished, reward: -1.000000\n",
            "ep 185: game finished, reward: -1.000000\n",
            "ep 185: game finished, reward: -1.000000\n",
            "ep 185: game finished, reward: -1.000000\n",
            "ep 185: game finished, reward: -1.000000\n",
            "ep 185: game finished, reward: -1.000000\n",
            "ep 185: game finished, reward: -1.000000\n",
            "ep 185: game finished, reward: -1.000000\n",
            "ep 185: game finished, reward: -1.000000\n",
            "ep 185: game finished, reward: -1.000000\n",
            "ep 185: game finished, reward: -1.000000\n",
            "ep 185: game finished, reward: -1.000000\n",
            "ep 185: game finished, reward: -1.000000\n",
            "ep 185: game finished, reward: -1.000000\n",
            "ep 185: game finished, reward: -1.000000\n",
            "ep 185: game finished, reward: -1.000000\n",
            "ep 185: game finished, reward: -1.000000\n",
            "ep 185: game finished, reward: -1.000000\n",
            "ep 185: game finished, reward: -1.000000\n",
            "ep 185: game finished, reward: -1.000000\n",
            "ep 185: game finished, reward: -1.000000\n",
            "resetting env. episode reward total was -21.000000. running mean: -20.523484\n",
            "ep 186: game finished, reward: -1.000000\n",
            "ep 186: game finished, reward: -1.000000\n",
            "ep 186: game finished, reward: -1.000000\n",
            "ep 186: game finished, reward: -1.000000\n",
            "ep 186: game finished, reward: -1.000000\n",
            "ep 186: game finished, reward: 1.000000"
          ],
          "name": "stdout"
        },
        {
          "output_type": "execute_result",
          "data": {
            "text/plain": [
              "' !!!!!!!!'"
            ]
          },
          "metadata": {
            "tags": []
          },
          "execution_count": 11
        },
        {
          "output_type": "stream",
          "text": [
            "ep 186: game finished, reward: -1.000000\n",
            "ep 186: game finished, reward: -1.000000\n",
            "ep 186: game finished, reward: -1.000000\n",
            "ep 186: game finished, reward: -1.000000\n",
            "ep 186: game finished, reward: -1.000000\n",
            "ep 186: game finished, reward: 1.000000"
          ],
          "name": "stdout"
        },
        {
          "output_type": "execute_result",
          "data": {
            "text/plain": [
              "' !!!!!!!!'"
            ]
          },
          "metadata": {
            "tags": []
          },
          "execution_count": 11
        },
        {
          "output_type": "stream",
          "text": [
            "ep 186: game finished, reward: -1.000000\n",
            "ep 186: game finished, reward: -1.000000\n",
            "ep 186: game finished, reward: -1.000000\n",
            "ep 186: game finished, reward: 1.000000"
          ],
          "name": "stdout"
        },
        {
          "output_type": "execute_result",
          "data": {
            "text/plain": [
              "' !!!!!!!!'"
            ]
          },
          "metadata": {
            "tags": []
          },
          "execution_count": 11
        },
        {
          "output_type": "stream",
          "text": [
            "ep 186: game finished, reward: -1.000000\n",
            "ep 186: game finished, reward: -1.000000\n",
            "ep 186: game finished, reward: -1.000000\n",
            "ep 186: game finished, reward: -1.000000\n",
            "ep 186: game finished, reward: -1.000000\n",
            "ep 186: game finished, reward: 1.000000"
          ],
          "name": "stdout"
        },
        {
          "output_type": "execute_result",
          "data": {
            "text/plain": [
              "' !!!!!!!!'"
            ]
          },
          "metadata": {
            "tags": []
          },
          "execution_count": 11
        },
        {
          "output_type": "stream",
          "text": [
            "ep 186: game finished, reward: -1.000000\n",
            "ep 186: game finished, reward: -1.000000\n",
            "ep 186: game finished, reward: -1.000000\n",
            "resetting env. episode reward total was -17.000000. running mean: -20.488249\n",
            "ep 187: game finished, reward: -1.000000\n",
            "ep 187: game finished, reward: -1.000000\n",
            "ep 187: game finished, reward: -1.000000\n",
            "ep 187: game finished, reward: -1.000000\n",
            "ep 187: game finished, reward: -1.000000\n",
            "ep 187: game finished, reward: -1.000000\n",
            "ep 187: game finished, reward: -1.000000\n",
            "ep 187: game finished, reward: -1.000000\n",
            "ep 187: game finished, reward: -1.000000\n",
            "ep 187: game finished, reward: -1.000000\n",
            "ep 187: game finished, reward: -1.000000\n",
            "ep 187: game finished, reward: -1.000000\n",
            "ep 187: game finished, reward: -1.000000\n",
            "ep 187: game finished, reward: -1.000000\n",
            "ep 187: game finished, reward: -1.000000\n",
            "ep 187: game finished, reward: -1.000000\n",
            "ep 187: game finished, reward: -1.000000\n",
            "ep 187: game finished, reward: -1.000000\n",
            "ep 187: game finished, reward: -1.000000\n",
            "ep 187: game finished, reward: -1.000000\n",
            "ep 187: game finished, reward: -1.000000\n",
            "resetting env. episode reward total was -21.000000. running mean: -20.493366\n",
            "ep 188: game finished, reward: -1.000000\n",
            "ep 188: game finished, reward: 1.000000"
          ],
          "name": "stdout"
        },
        {
          "output_type": "execute_result",
          "data": {
            "text/plain": [
              "' !!!!!!!!'"
            ]
          },
          "metadata": {
            "tags": []
          },
          "execution_count": 11
        },
        {
          "output_type": "stream",
          "text": [
            "ep 188: game finished, reward: -1.000000\n",
            "ep 188: game finished, reward: -1.000000\n",
            "ep 188: game finished, reward: -1.000000\n",
            "ep 188: game finished, reward: -1.000000\n",
            "ep 188: game finished, reward: -1.000000\n",
            "ep 188: game finished, reward: -1.000000\n",
            "ep 188: game finished, reward: -1.000000\n",
            "ep 188: game finished, reward: 1.000000"
          ],
          "name": "stdout"
        },
        {
          "output_type": "execute_result",
          "data": {
            "text/plain": [
              "' !!!!!!!!'"
            ]
          },
          "metadata": {
            "tags": []
          },
          "execution_count": 11
        },
        {
          "output_type": "stream",
          "text": [
            "ep 188: game finished, reward: -1.000000\n",
            "ep 188: game finished, reward: -1.000000\n",
            "ep 188: game finished, reward: -1.000000\n",
            "ep 188: game finished, reward: -1.000000\n",
            "ep 188: game finished, reward: -1.000000\n",
            "ep 188: game finished, reward: -1.000000\n",
            "ep 188: game finished, reward: -1.000000\n",
            "ep 188: game finished, reward: -1.000000\n",
            "ep 188: game finished, reward: -1.000000\n",
            "ep 188: game finished, reward: -1.000000\n",
            "ep 188: game finished, reward: -1.000000\n",
            "ep 188: game finished, reward: 1.000000"
          ],
          "name": "stdout"
        },
        {
          "output_type": "execute_result",
          "data": {
            "text/plain": [
              "' !!!!!!!!'"
            ]
          },
          "metadata": {
            "tags": []
          },
          "execution_count": 11
        },
        {
          "output_type": "stream",
          "text": [
            "ep 188: game finished, reward: 1.000000"
          ],
          "name": "stdout"
        },
        {
          "output_type": "execute_result",
          "data": {
            "text/plain": [
              "' !!!!!!!!'"
            ]
          },
          "metadata": {
            "tags": []
          },
          "execution_count": 11
        },
        {
          "output_type": "stream",
          "text": [
            "ep 188: game finished, reward: -1.000000\n",
            "ep 188: game finished, reward: -1.000000\n",
            "resetting env. episode reward total was -17.000000. running mean: -20.458433\n",
            "ep 189: game finished, reward: -1.000000\n",
            "ep 189: game finished, reward: -1.000000\n",
            "ep 189: game finished, reward: -1.000000\n",
            "ep 189: game finished, reward: -1.000000\n",
            "ep 189: game finished, reward: -1.000000\n",
            "ep 189: game finished, reward: -1.000000\n",
            "ep 189: game finished, reward: -1.000000\n",
            "ep 189: game finished, reward: -1.000000\n",
            "ep 189: game finished, reward: -1.000000\n",
            "ep 189: game finished, reward: -1.000000\n",
            "ep 189: game finished, reward: -1.000000\n",
            "ep 189: game finished, reward: -1.000000\n",
            "ep 189: game finished, reward: -1.000000\n",
            "ep 189: game finished, reward: -1.000000\n",
            "ep 189: game finished, reward: -1.000000\n",
            "ep 189: game finished, reward: -1.000000\n",
            "ep 189: game finished, reward: -1.000000\n",
            "ep 189: game finished, reward: -1.000000\n",
            "ep 189: game finished, reward: -1.000000\n",
            "ep 189: game finished, reward: -1.000000\n",
            "ep 189: game finished, reward: -1.000000\n",
            "resetting env. episode reward total was -21.000000. running mean: -20.463848\n",
            "ep 190: game finished, reward: -1.000000\n",
            "ep 190: game finished, reward: -1.000000\n",
            "ep 190: game finished, reward: -1.000000\n",
            "ep 190: game finished, reward: -1.000000\n",
            "ep 190: game finished, reward: -1.000000\n",
            "ep 190: game finished, reward: -1.000000\n",
            "ep 190: game finished, reward: -1.000000\n",
            "ep 190: game finished, reward: -1.000000\n",
            "ep 190: game finished, reward: -1.000000\n",
            "ep 190: game finished, reward: -1.000000\n",
            "ep 190: game finished, reward: -1.000000\n",
            "ep 190: game finished, reward: -1.000000\n",
            "ep 190: game finished, reward: -1.000000\n",
            "ep 190: game finished, reward: -1.000000\n",
            "ep 190: game finished, reward: 1.000000"
          ],
          "name": "stdout"
        },
        {
          "output_type": "execute_result",
          "data": {
            "text/plain": [
              "' !!!!!!!!'"
            ]
          },
          "metadata": {
            "tags": []
          },
          "execution_count": 11
        },
        {
          "output_type": "stream",
          "text": [
            "ep 190: game finished, reward: -1.000000\n",
            "ep 190: game finished, reward: -1.000000\n",
            "ep 190: game finished, reward: -1.000000\n",
            "ep 190: game finished, reward: -1.000000\n",
            "ep 190: game finished, reward: -1.000000\n",
            "ep 190: game finished, reward: -1.000000\n",
            "ep 190: game finished, reward: -1.000000\n",
            "resetting env. episode reward total was -20.000000. running mean: -20.459210\n",
            "ep 191: game finished, reward: -1.000000\n",
            "ep 191: game finished, reward: -1.000000\n",
            "ep 191: game finished, reward: -1.000000\n",
            "ep 191: game finished, reward: -1.000000\n",
            "ep 191: game finished, reward: -1.000000\n",
            "ep 191: game finished, reward: -1.000000\n",
            "ep 191: game finished, reward: -1.000000\n",
            "ep 191: game finished, reward: -1.000000\n",
            "ep 191: game finished, reward: -1.000000\n",
            "ep 191: game finished, reward: -1.000000\n",
            "ep 191: game finished, reward: -1.000000\n",
            "ep 191: game finished, reward: -1.000000\n",
            "ep 191: game finished, reward: -1.000000\n",
            "ep 191: game finished, reward: -1.000000\n",
            "ep 191: game finished, reward: -1.000000\n",
            "ep 191: game finished, reward: -1.000000\n",
            "ep 191: game finished, reward: -1.000000\n",
            "ep 191: game finished, reward: 1.000000"
          ],
          "name": "stdout"
        },
        {
          "output_type": "execute_result",
          "data": {
            "text/plain": [
              "' !!!!!!!!'"
            ]
          },
          "metadata": {
            "tags": []
          },
          "execution_count": 11
        },
        {
          "output_type": "stream",
          "text": [
            "ep 191: game finished, reward: -1.000000\n",
            "ep 191: game finished, reward: 1.000000"
          ],
          "name": "stdout"
        },
        {
          "output_type": "execute_result",
          "data": {
            "text/plain": [
              "' !!!!!!!!'"
            ]
          },
          "metadata": {
            "tags": []
          },
          "execution_count": 11
        },
        {
          "output_type": "stream",
          "text": [
            "ep 191: game finished, reward: -1.000000\n",
            "ep 191: game finished, reward: -1.000000\n",
            "ep 191: game finished, reward: -1.000000\n",
            "resetting env. episode reward total was -19.000000. running mean: -20.444618\n",
            "ep 192: game finished, reward: -1.000000\n",
            "ep 192: game finished, reward: -1.000000\n",
            "ep 192: game finished, reward: -1.000000\n",
            "ep 192: game finished, reward: -1.000000\n",
            "ep 192: game finished, reward: -1.000000\n",
            "ep 192: game finished, reward: -1.000000\n",
            "ep 192: game finished, reward: -1.000000\n",
            "ep 192: game finished, reward: -1.000000\n",
            "ep 192: game finished, reward: 1.000000"
          ],
          "name": "stdout"
        },
        {
          "output_type": "execute_result",
          "data": {
            "text/plain": [
              "' !!!!!!!!'"
            ]
          },
          "metadata": {
            "tags": []
          },
          "execution_count": 11
        },
        {
          "output_type": "stream",
          "text": [
            "ep 192: game finished, reward: -1.000000\n",
            "ep 192: game finished, reward: -1.000000\n",
            "ep 192: game finished, reward: -1.000000\n",
            "ep 192: game finished, reward: -1.000000\n",
            "ep 192: game finished, reward: -1.000000\n",
            "ep 192: game finished, reward: -1.000000\n",
            "ep 192: game finished, reward: -1.000000\n",
            "ep 192: game finished, reward: -1.000000\n",
            "ep 192: game finished, reward: -1.000000\n",
            "ep 192: game finished, reward: -1.000000\n",
            "ep 192: game finished, reward: -1.000000\n",
            "ep 192: game finished, reward: -1.000000\n",
            "ep 192: game finished, reward: -1.000000\n",
            "resetting env. episode reward total was -20.000000. running mean: -20.440172\n",
            "ep 193: game finished, reward: -1.000000\n",
            "ep 193: game finished, reward: -1.000000\n",
            "ep 193: game finished, reward: -1.000000\n",
            "ep 193: game finished, reward: -1.000000\n",
            "ep 193: game finished, reward: -1.000000\n",
            "ep 193: game finished, reward: -1.000000\n",
            "ep 193: game finished, reward: -1.000000\n",
            "ep 193: game finished, reward: -1.000000\n",
            "ep 193: game finished, reward: -1.000000\n",
            "ep 193: game finished, reward: -1.000000\n",
            "ep 193: game finished, reward: -1.000000\n",
            "ep 193: game finished, reward: -1.000000\n",
            "ep 193: game finished, reward: -1.000000\n",
            "ep 193: game finished, reward: -1.000000\n",
            "ep 193: game finished, reward: -1.000000\n",
            "ep 193: game finished, reward: -1.000000\n",
            "ep 193: game finished, reward: -1.000000\n",
            "ep 193: game finished, reward: -1.000000\n",
            "ep 193: game finished, reward: -1.000000\n",
            "ep 193: game finished, reward: -1.000000\n",
            "ep 193: game finished, reward: -1.000000\n",
            "resetting env. episode reward total was -21.000000. running mean: -20.445770\n",
            "ep 194: game finished, reward: -1.000000\n",
            "ep 194: game finished, reward: -1.000000\n",
            "ep 194: game finished, reward: -1.000000\n",
            "ep 194: game finished, reward: -1.000000\n",
            "ep 194: game finished, reward: -1.000000\n",
            "ep 194: game finished, reward: -1.000000\n",
            "ep 194: game finished, reward: -1.000000\n",
            "ep 194: game finished, reward: -1.000000\n",
            "ep 194: game finished, reward: -1.000000\n",
            "ep 194: game finished, reward: 1.000000"
          ],
          "name": "stdout"
        },
        {
          "output_type": "execute_result",
          "data": {
            "text/plain": [
              "' !!!!!!!!'"
            ]
          },
          "metadata": {
            "tags": []
          },
          "execution_count": 11
        },
        {
          "output_type": "stream",
          "text": [
            "ep 194: game finished, reward: -1.000000\n",
            "ep 194: game finished, reward: -1.000000\n",
            "ep 194: game finished, reward: -1.000000\n",
            "ep 194: game finished, reward: -1.000000\n",
            "ep 194: game finished, reward: -1.000000\n",
            "ep 194: game finished, reward: -1.000000\n",
            "ep 194: game finished, reward: -1.000000\n",
            "ep 194: game finished, reward: -1.000000\n",
            "ep 194: game finished, reward: -1.000000\n",
            "ep 194: game finished, reward: -1.000000\n",
            "ep 194: game finished, reward: -1.000000\n",
            "ep 194: game finished, reward: -1.000000\n",
            "resetting env. episode reward total was -20.000000. running mean: -20.441312\n",
            "ep 195: game finished, reward: -1.000000\n",
            "ep 195: game finished, reward: 1.000000"
          ],
          "name": "stdout"
        },
        {
          "output_type": "execute_result",
          "data": {
            "text/plain": [
              "' !!!!!!!!'"
            ]
          },
          "metadata": {
            "tags": []
          },
          "execution_count": 11
        },
        {
          "output_type": "stream",
          "text": [
            "ep 195: game finished, reward: -1.000000\n",
            "ep 195: game finished, reward: -1.000000\n",
            "ep 195: game finished, reward: -1.000000\n",
            "ep 195: game finished, reward: -1.000000\n",
            "ep 195: game finished, reward: -1.000000\n",
            "ep 195: game finished, reward: -1.000000\n",
            "ep 195: game finished, reward: -1.000000\n",
            "ep 195: game finished, reward: -1.000000\n",
            "ep 195: game finished, reward: -1.000000\n",
            "ep 195: game finished, reward: -1.000000\n",
            "ep 195: game finished, reward: -1.000000\n",
            "ep 195: game finished, reward: -1.000000\n",
            "ep 195: game finished, reward: -1.000000\n",
            "ep 195: game finished, reward: -1.000000\n",
            "ep 195: game finished, reward: -1.000000\n",
            "ep 195: game finished, reward: -1.000000\n",
            "ep 195: game finished, reward: -1.000000\n",
            "ep 195: game finished, reward: -1.000000\n",
            "ep 195: game finished, reward: -1.000000\n",
            "ep 195: game finished, reward: -1.000000\n",
            "resetting env. episode reward total was -20.000000. running mean: -20.436899\n",
            "ep 196: game finished, reward: -1.000000\n",
            "ep 196: game finished, reward: -1.000000\n",
            "ep 196: game finished, reward: -1.000000\n",
            "ep 196: game finished, reward: -1.000000\n",
            "ep 196: game finished, reward: -1.000000\n",
            "ep 196: game finished, reward: -1.000000\n",
            "ep 196: game finished, reward: -1.000000\n",
            "ep 196: game finished, reward: -1.000000\n",
            "ep 196: game finished, reward: -1.000000\n",
            "ep 196: game finished, reward: -1.000000\n",
            "ep 196: game finished, reward: -1.000000\n",
            "ep 196: game finished, reward: -1.000000\n",
            "ep 196: game finished, reward: -1.000000\n",
            "ep 196: game finished, reward: -1.000000\n",
            "ep 196: game finished, reward: -1.000000\n",
            "ep 196: game finished, reward: -1.000000\n",
            "ep 196: game finished, reward: -1.000000\n",
            "ep 196: game finished, reward: -1.000000\n",
            "ep 196: game finished, reward: -1.000000\n",
            "ep 196: game finished, reward: -1.000000\n",
            "ep 196: game finished, reward: -1.000000\n",
            "resetting env. episode reward total was -21.000000. running mean: -20.442530\n",
            "ep 197: game finished, reward: -1.000000\n",
            "ep 197: game finished, reward: -1.000000\n",
            "ep 197: game finished, reward: -1.000000\n",
            "ep 197: game finished, reward: -1.000000\n",
            "ep 197: game finished, reward: -1.000000\n",
            "ep 197: game finished, reward: -1.000000\n",
            "ep 197: game finished, reward: -1.000000\n",
            "ep 197: game finished, reward: -1.000000\n",
            "ep 197: game finished, reward: -1.000000\n",
            "ep 197: game finished, reward: -1.000000\n",
            "ep 197: game finished, reward: -1.000000\n",
            "ep 197: game finished, reward: -1.000000\n",
            "ep 197: game finished, reward: -1.000000\n",
            "ep 197: game finished, reward: -1.000000\n",
            "ep 197: game finished, reward: -1.000000\n",
            "ep 197: game finished, reward: -1.000000\n",
            "ep 197: game finished, reward: -1.000000\n",
            "ep 197: game finished, reward: -1.000000\n",
            "ep 197: game finished, reward: -1.000000\n",
            "ep 197: game finished, reward: -1.000000\n",
            "ep 197: game finished, reward: -1.000000\n",
            "resetting env. episode reward total was -21.000000. running mean: -20.448105\n",
            "ep 198: game finished, reward: -1.000000\n",
            "ep 198: game finished, reward: -1.000000\n",
            "ep 198: game finished, reward: -1.000000\n",
            "ep 198: game finished, reward: -1.000000\n",
            "ep 198: game finished, reward: -1.000000\n",
            "ep 198: game finished, reward: -1.000000\n",
            "ep 198: game finished, reward: -1.000000\n",
            "ep 198: game finished, reward: -1.000000\n",
            "ep 198: game finished, reward: -1.000000\n",
            "ep 198: game finished, reward: -1.000000\n",
            "ep 198: game finished, reward: -1.000000\n",
            "ep 198: game finished, reward: -1.000000\n",
            "ep 198: game finished, reward: -1.000000\n",
            "ep 198: game finished, reward: -1.000000\n",
            "ep 198: game finished, reward: -1.000000\n",
            "ep 198: game finished, reward: -1.000000\n",
            "ep 198: game finished, reward: -1.000000\n",
            "ep 198: game finished, reward: -1.000000\n",
            "ep 198: game finished, reward: -1.000000\n",
            "ep 198: game finished, reward: -1.000000\n",
            "ep 198: game finished, reward: -1.000000\n",
            "resetting env. episode reward total was -21.000000. running mean: -20.453624\n",
            "ep 199: game finished, reward: -1.000000\n",
            "ep 199: game finished, reward: -1.000000\n",
            "ep 199: game finished, reward: -1.000000\n",
            "ep 199: game finished, reward: -1.000000\n",
            "ep 199: game finished, reward: -1.000000\n",
            "ep 199: game finished, reward: -1.000000\n",
            "ep 199: game finished, reward: -1.000000\n",
            "ep 199: game finished, reward: -1.000000\n",
            "ep 199: game finished, reward: -1.000000\n",
            "ep 199: game finished, reward: -1.000000\n",
            "ep 199: game finished, reward: -1.000000\n",
            "ep 199: game finished, reward: -1.000000\n",
            "ep 199: game finished, reward: -1.000000\n",
            "ep 199: game finished, reward: -1.000000\n",
            "ep 199: game finished, reward: -1.000000\n",
            "ep 199: game finished, reward: -1.000000\n",
            "ep 199: game finished, reward: -1.000000\n",
            "ep 199: game finished, reward: 1.000000"
          ],
          "name": "stdout"
        },
        {
          "output_type": "execute_result",
          "data": {
            "text/plain": [
              "' !!!!!!!!'"
            ]
          },
          "metadata": {
            "tags": []
          },
          "execution_count": 11
        },
        {
          "output_type": "stream",
          "text": [
            "ep 199: game finished, reward: -1.000000\n",
            "ep 199: game finished, reward: -1.000000\n",
            "ep 199: game finished, reward: -1.000000\n",
            "ep 199: game finished, reward: -1.000000\n",
            "resetting env. episode reward total was -20.000000. running mean: -20.449088\n",
            "ep 200: game finished, reward: -1.000000\n",
            "ep 200: game finished, reward: -1.000000\n",
            "ep 200: game finished, reward: -1.000000\n",
            "ep 200: game finished, reward: -1.000000\n",
            "ep 200: game finished, reward: -1.000000\n",
            "ep 200: game finished, reward: -1.000000\n",
            "ep 200: game finished, reward: -1.000000\n",
            "ep 200: game finished, reward: -1.000000\n",
            "ep 200: game finished, reward: -1.000000\n",
            "ep 200: game finished, reward: -1.000000\n",
            "ep 200: game finished, reward: -1.000000\n",
            "ep 200: game finished, reward: -1.000000\n",
            "ep 200: game finished, reward: -1.000000\n",
            "ep 200: game finished, reward: -1.000000\n",
            "ep 200: game finished, reward: -1.000000\n",
            "ep 200: game finished, reward: -1.000000\n",
            "ep 200: game finished, reward: -1.000000\n",
            "ep 200: game finished, reward: -1.000000\n",
            "ep 200: game finished, reward: -1.000000\n",
            "ep 200: game finished, reward: -1.000000\n",
            "ep 200: game finished, reward: -1.000000\n",
            "resetting env. episode reward total was -21.000000. running mean: -20.454597\n",
            "ep 201: game finished, reward: -1.000000\n",
            "ep 201: game finished, reward: -1.000000\n",
            "ep 201: game finished, reward: -1.000000\n",
            "ep 201: game finished, reward: -1.000000\n",
            "ep 201: game finished, reward: -1.000000\n",
            "ep 201: game finished, reward: -1.000000\n",
            "ep 201: game finished, reward: -1.000000\n",
            "ep 201: game finished, reward: -1.000000\n",
            "ep 201: game finished, reward: -1.000000\n",
            "ep 201: game finished, reward: -1.000000\n",
            "ep 201: game finished, reward: -1.000000\n",
            "ep 201: game finished, reward: -1.000000\n",
            "ep 201: game finished, reward: -1.000000\n",
            "ep 201: game finished, reward: -1.000000\n",
            "ep 201: game finished, reward: -1.000000\n",
            "ep 201: game finished, reward: -1.000000\n",
            "ep 201: game finished, reward: -1.000000\n",
            "ep 201: game finished, reward: -1.000000\n",
            "ep 201: game finished, reward: -1.000000\n",
            "ep 201: game finished, reward: -1.000000\n",
            "ep 201: game finished, reward: -1.000000\n",
            "resetting env. episode reward total was -21.000000. running mean: -20.460051\n",
            "ep 202: game finished, reward: -1.000000\n",
            "ep 202: game finished, reward: -1.000000\n",
            "ep 202: game finished, reward: -1.000000\n",
            "ep 202: game finished, reward: -1.000000\n",
            "ep 202: game finished, reward: -1.000000\n",
            "ep 202: game finished, reward: -1.000000\n",
            "ep 202: game finished, reward: -1.000000\n",
            "ep 202: game finished, reward: -1.000000\n",
            "ep 202: game finished, reward: -1.000000\n",
            "ep 202: game finished, reward: -1.000000\n",
            "ep 202: game finished, reward: -1.000000\n",
            "ep 202: game finished, reward: -1.000000\n",
            "ep 202: game finished, reward: -1.000000\n",
            "ep 202: game finished, reward: -1.000000\n",
            "ep 202: game finished, reward: -1.000000\n",
            "ep 202: game finished, reward: 1.000000"
          ],
          "name": "stdout"
        },
        {
          "output_type": "execute_result",
          "data": {
            "text/plain": [
              "' !!!!!!!!'"
            ]
          },
          "metadata": {
            "tags": []
          },
          "execution_count": 11
        },
        {
          "output_type": "stream",
          "text": [
            "ep 202: game finished, reward: -1.000000\n",
            "ep 202: game finished, reward: -1.000000\n",
            "ep 202: game finished, reward: -1.000000\n",
            "ep 202: game finished, reward: -1.000000\n",
            "ep 202: game finished, reward: -1.000000\n",
            "ep 202: game finished, reward: -1.000000\n",
            "resetting env. episode reward total was -20.000000. running mean: -20.455450\n",
            "ep 203: game finished, reward: -1.000000\n",
            "ep 203: game finished, reward: -1.000000\n",
            "ep 203: game finished, reward: -1.000000\n",
            "ep 203: game finished, reward: -1.000000\n",
            "ep 203: game finished, reward: -1.000000\n",
            "ep 203: game finished, reward: -1.000000\n",
            "ep 203: game finished, reward: -1.000000\n",
            "ep 203: game finished, reward: -1.000000\n",
            "ep 203: game finished, reward: -1.000000\n",
            "ep 203: game finished, reward: -1.000000\n",
            "ep 203: game finished, reward: -1.000000\n",
            "ep 203: game finished, reward: -1.000000\n",
            "ep 203: game finished, reward: -1.000000\n",
            "ep 203: game finished, reward: -1.000000\n",
            "ep 203: game finished, reward: -1.000000\n",
            "ep 203: game finished, reward: -1.000000\n",
            "ep 203: game finished, reward: -1.000000\n",
            "ep 203: game finished, reward: -1.000000\n",
            "ep 203: game finished, reward: -1.000000\n",
            "ep 203: game finished, reward: -1.000000\n",
            "ep 203: game finished, reward: -1.000000\n",
            "resetting env. episode reward total was -21.000000. running mean: -20.460896\n",
            "ep 204: game finished, reward: -1.000000\n",
            "ep 204: game finished, reward: -1.000000\n",
            "ep 204: game finished, reward: -1.000000\n",
            "ep 204: game finished, reward: -1.000000\n",
            "ep 204: game finished, reward: -1.000000\n",
            "ep 204: game finished, reward: -1.000000\n",
            "ep 204: game finished, reward: -1.000000\n",
            "ep 204: game finished, reward: -1.000000\n",
            "ep 204: game finished, reward: -1.000000\n",
            "ep 204: game finished, reward: -1.000000\n",
            "ep 204: game finished, reward: 1.000000"
          ],
          "name": "stdout"
        },
        {
          "output_type": "execute_result",
          "data": {
            "text/plain": [
              "' !!!!!!!!'"
            ]
          },
          "metadata": {
            "tags": []
          },
          "execution_count": 11
        },
        {
          "output_type": "stream",
          "text": [
            "ep 204: game finished, reward: -1.000000\n",
            "ep 204: game finished, reward: -1.000000\n",
            "ep 204: game finished, reward: -1.000000\n",
            "ep 204: game finished, reward: -1.000000\n",
            "ep 204: game finished, reward: -1.000000\n",
            "ep 204: game finished, reward: -1.000000\n",
            "ep 204: game finished, reward: -1.000000\n",
            "ep 204: game finished, reward: -1.000000\n",
            "ep 204: game finished, reward: -1.000000\n",
            "ep 204: game finished, reward: -1.000000\n",
            "ep 204: game finished, reward: -1.000000\n",
            "resetting env. episode reward total was -20.000000. running mean: -20.456287\n",
            "ep 205: game finished, reward: -1.000000\n",
            "ep 205: game finished, reward: -1.000000\n",
            "ep 205: game finished, reward: -1.000000\n",
            "ep 205: game finished, reward: -1.000000\n",
            "ep 205: game finished, reward: -1.000000\n",
            "ep 205: game finished, reward: -1.000000\n",
            "ep 205: game finished, reward: -1.000000\n",
            "ep 205: game finished, reward: -1.000000\n",
            "ep 205: game finished, reward: -1.000000\n",
            "ep 205: game finished, reward: 1.000000"
          ],
          "name": "stdout"
        },
        {
          "output_type": "execute_result",
          "data": {
            "text/plain": [
              "' !!!!!!!!'"
            ]
          },
          "metadata": {
            "tags": []
          },
          "execution_count": 11
        },
        {
          "output_type": "stream",
          "text": [
            "ep 205: game finished, reward: -1.000000\n",
            "ep 205: game finished, reward: -1.000000\n",
            "ep 205: game finished, reward: -1.000000\n",
            "ep 205: game finished, reward: -1.000000\n",
            "ep 205: game finished, reward: -1.000000\n",
            "ep 205: game finished, reward: 1.000000"
          ],
          "name": "stdout"
        },
        {
          "output_type": "execute_result",
          "data": {
            "text/plain": [
              "' !!!!!!!!'"
            ]
          },
          "metadata": {
            "tags": []
          },
          "execution_count": 11
        },
        {
          "output_type": "stream",
          "text": [
            "ep 205: game finished, reward: -1.000000\n",
            "ep 205: game finished, reward: -1.000000\n",
            "ep 205: game finished, reward: -1.000000\n",
            "ep 205: game finished, reward: -1.000000\n",
            "ep 205: game finished, reward: -1.000000\n",
            "ep 205: game finished, reward: -1.000000\n",
            "ep 205: game finished, reward: -1.000000\n",
            "resetting env. episode reward total was -19.000000. running mean: -20.441724\n",
            "ep 206: game finished, reward: -1.000000\n",
            "ep 206: game finished, reward: -1.000000\n",
            "ep 206: game finished, reward: -1.000000\n",
            "ep 206: game finished, reward: -1.000000\n",
            "ep 206: game finished, reward: -1.000000\n",
            "ep 206: game finished, reward: -1.000000\n",
            "ep 206: game finished, reward: -1.000000\n",
            "ep 206: game finished, reward: -1.000000\n",
            "ep 206: game finished, reward: -1.000000\n",
            "ep 206: game finished, reward: -1.000000\n",
            "ep 206: game finished, reward: -1.000000\n",
            "ep 206: game finished, reward: -1.000000\n",
            "ep 206: game finished, reward: -1.000000\n",
            "ep 206: game finished, reward: -1.000000\n",
            "ep 206: game finished, reward: -1.000000\n",
            "ep 206: game finished, reward: -1.000000\n",
            "ep 206: game finished, reward: -1.000000\n",
            "ep 206: game finished, reward: -1.000000\n",
            "ep 206: game finished, reward: -1.000000\n",
            "ep 206: game finished, reward: 1.000000"
          ],
          "name": "stdout"
        },
        {
          "output_type": "execute_result",
          "data": {
            "text/plain": [
              "' !!!!!!!!'"
            ]
          },
          "metadata": {
            "tags": []
          },
          "execution_count": 11
        },
        {
          "output_type": "stream",
          "text": [
            "ep 206: game finished, reward: -1.000000\n",
            "ep 206: game finished, reward: -1.000000\n",
            "resetting env. episode reward total was -20.000000. running mean: -20.437307\n",
            "ep 207: game finished, reward: -1.000000\n",
            "ep 207: game finished, reward: -1.000000\n",
            "ep 207: game finished, reward: -1.000000\n",
            "ep 207: game finished, reward: -1.000000\n",
            "ep 207: game finished, reward: -1.000000\n",
            "ep 207: game finished, reward: -1.000000\n",
            "ep 207: game finished, reward: -1.000000\n",
            "ep 207: game finished, reward: -1.000000\n",
            "ep 207: game finished, reward: -1.000000\n",
            "ep 207: game finished, reward: -1.000000\n",
            "ep 207: game finished, reward: -1.000000\n",
            "ep 207: game finished, reward: -1.000000\n",
            "ep 207: game finished, reward: -1.000000\n",
            "ep 207: game finished, reward: -1.000000\n",
            "ep 207: game finished, reward: -1.000000\n",
            "ep 207: game finished, reward: -1.000000\n",
            "ep 207: game finished, reward: -1.000000\n",
            "ep 207: game finished, reward: -1.000000\n",
            "ep 207: game finished, reward: -1.000000\n",
            "ep 207: game finished, reward: -1.000000\n",
            "ep 207: game finished, reward: -1.000000\n",
            "resetting env. episode reward total was -21.000000. running mean: -20.442934\n",
            "ep 208: game finished, reward: -1.000000\n",
            "ep 208: game finished, reward: -1.000000\n",
            "ep 208: game finished, reward: -1.000000\n",
            "ep 208: game finished, reward: -1.000000\n",
            "ep 208: game finished, reward: -1.000000\n",
            "ep 208: game finished, reward: -1.000000\n",
            "ep 208: game finished, reward: -1.000000\n",
            "ep 208: game finished, reward: -1.000000\n",
            "ep 208: game finished, reward: -1.000000\n",
            "ep 208: game finished, reward: -1.000000\n",
            "ep 208: game finished, reward: -1.000000\n",
            "ep 208: game finished, reward: -1.000000\n",
            "ep 208: game finished, reward: -1.000000\n",
            "ep 208: game finished, reward: -1.000000\n",
            "ep 208: game finished, reward: -1.000000\n",
            "ep 208: game finished, reward: -1.000000\n",
            "ep 208: game finished, reward: -1.000000\n",
            "ep 208: game finished, reward: -1.000000\n",
            "ep 208: game finished, reward: -1.000000\n",
            "ep 208: game finished, reward: -1.000000\n",
            "ep 208: game finished, reward: -1.000000\n",
            "resetting env. episode reward total was -21.000000. running mean: -20.448504\n",
            "ep 209: game finished, reward: -1.000000\n",
            "ep 209: game finished, reward: -1.000000\n",
            "ep 209: game finished, reward: -1.000000\n",
            "ep 209: game finished, reward: -1.000000\n",
            "ep 209: game finished, reward: -1.000000\n",
            "ep 209: game finished, reward: -1.000000\n",
            "ep 209: game finished, reward: 1.000000"
          ],
          "name": "stdout"
        },
        {
          "output_type": "execute_result",
          "data": {
            "text/plain": [
              "' !!!!!!!!'"
            ]
          },
          "metadata": {
            "tags": []
          },
          "execution_count": 11
        },
        {
          "output_type": "stream",
          "text": [
            "ep 209: game finished, reward: -1.000000\n",
            "ep 209: game finished, reward: -1.000000\n",
            "ep 209: game finished, reward: -1.000000\n",
            "ep 209: game finished, reward: -1.000000\n",
            "ep 209: game finished, reward: -1.000000\n",
            "ep 209: game finished, reward: -1.000000\n",
            "ep 209: game finished, reward: -1.000000\n",
            "ep 209: game finished, reward: -1.000000\n",
            "ep 209: game finished, reward: -1.000000\n",
            "ep 209: game finished, reward: -1.000000\n",
            "ep 209: game finished, reward: -1.000000\n",
            "ep 209: game finished, reward: -1.000000\n",
            "ep 209: game finished, reward: -1.000000\n",
            "ep 209: game finished, reward: -1.000000\n",
            "ep 209: game finished, reward: -1.000000\n",
            "resetting env. episode reward total was -20.000000. running mean: -20.444019\n",
            "ep 210: game finished, reward: -1.000000\n",
            "ep 210: game finished, reward: -1.000000\n",
            "ep 210: game finished, reward: -1.000000\n",
            "ep 210: game finished, reward: -1.000000\n",
            "ep 210: game finished, reward: -1.000000\n",
            "ep 210: game finished, reward: -1.000000\n",
            "ep 210: game finished, reward: -1.000000\n",
            "ep 210: game finished, reward: -1.000000\n",
            "ep 210: game finished, reward: -1.000000\n",
            "ep 210: game finished, reward: -1.000000\n",
            "ep 210: game finished, reward: -1.000000\n",
            "ep 210: game finished, reward: -1.000000\n",
            "ep 210: game finished, reward: -1.000000\n",
            "ep 210: game finished, reward: -1.000000\n",
            "ep 210: game finished, reward: -1.000000\n",
            "ep 210: game finished, reward: -1.000000\n",
            "ep 210: game finished, reward: -1.000000\n",
            "ep 210: game finished, reward: -1.000000\n",
            "ep 210: game finished, reward: -1.000000\n",
            "ep 210: game finished, reward: -1.000000\n",
            "ep 210: game finished, reward: -1.000000\n",
            "resetting env. episode reward total was -21.000000. running mean: -20.449579\n",
            "ep 211: game finished, reward: -1.000000\n",
            "ep 211: game finished, reward: -1.000000\n",
            "ep 211: game finished, reward: -1.000000\n",
            "ep 211: game finished, reward: -1.000000\n",
            "ep 211: game finished, reward: -1.000000\n",
            "ep 211: game finished, reward: -1.000000\n",
            "ep 211: game finished, reward: -1.000000\n",
            "ep 211: game finished, reward: -1.000000\n",
            "ep 211: game finished, reward: -1.000000\n",
            "ep 211: game finished, reward: -1.000000\n",
            "ep 211: game finished, reward: -1.000000\n",
            "ep 211: game finished, reward: -1.000000\n",
            "ep 211: game finished, reward: -1.000000\n",
            "ep 211: game finished, reward: -1.000000\n",
            "ep 211: game finished, reward: -1.000000\n",
            "ep 211: game finished, reward: -1.000000\n",
            "ep 211: game finished, reward: -1.000000\n",
            "ep 211: game finished, reward: -1.000000\n",
            "ep 211: game finished, reward: -1.000000\n",
            "ep 211: game finished, reward: -1.000000\n",
            "ep 211: game finished, reward: -1.000000\n",
            "resetting env. episode reward total was -21.000000. running mean: -20.455083\n",
            "ep 212: game finished, reward: -1.000000\n",
            "ep 212: game finished, reward: -1.000000\n",
            "ep 212: game finished, reward: -1.000000\n",
            "ep 212: game finished, reward: -1.000000\n",
            "ep 212: game finished, reward: -1.000000\n",
            "ep 212: game finished, reward: -1.000000\n",
            "ep 212: game finished, reward: -1.000000\n",
            "ep 212: game finished, reward: -1.000000\n",
            "ep 212: game finished, reward: -1.000000\n",
            "ep 212: game finished, reward: -1.000000\n",
            "ep 212: game finished, reward: -1.000000\n",
            "ep 212: game finished, reward: 1.000000"
          ],
          "name": "stdout"
        },
        {
          "output_type": "execute_result",
          "data": {
            "text/plain": [
              "' !!!!!!!!'"
            ]
          },
          "metadata": {
            "tags": []
          },
          "execution_count": 11
        },
        {
          "output_type": "stream",
          "text": [
            "ep 212: game finished, reward: -1.000000\n",
            "ep 212: game finished, reward: -1.000000\n",
            "ep 212: game finished, reward: -1.000000\n",
            "ep 212: game finished, reward: -1.000000\n",
            "ep 212: game finished, reward: -1.000000\n",
            "ep 212: game finished, reward: -1.000000\n",
            "ep 212: game finished, reward: -1.000000\n",
            "ep 212: game finished, reward: -1.000000\n",
            "ep 212: game finished, reward: -1.000000\n",
            "ep 212: game finished, reward: 1.000000"
          ],
          "name": "stdout"
        },
        {
          "output_type": "execute_result",
          "data": {
            "text/plain": [
              "' !!!!!!!!'"
            ]
          },
          "metadata": {
            "tags": []
          },
          "execution_count": 11
        },
        {
          "output_type": "stream",
          "text": [
            "ep 212: game finished, reward: -1.000000\n",
            "resetting env. episode reward total was -19.000000. running mean: -20.440532\n",
            "ep 213: game finished, reward: -1.000000\n",
            "ep 213: game finished, reward: -1.000000\n",
            "ep 213: game finished, reward: -1.000000\n",
            "ep 213: game finished, reward: -1.000000\n",
            "ep 213: game finished, reward: -1.000000\n",
            "ep 213: game finished, reward: -1.000000\n",
            "ep 213: game finished, reward: -1.000000\n",
            "ep 213: game finished, reward: -1.000000\n",
            "ep 213: game finished, reward: -1.000000\n",
            "ep 213: game finished, reward: 1.000000"
          ],
          "name": "stdout"
        },
        {
          "output_type": "execute_result",
          "data": {
            "text/plain": [
              "' !!!!!!!!'"
            ]
          },
          "metadata": {
            "tags": []
          },
          "execution_count": 11
        },
        {
          "output_type": "stream",
          "text": [
            "ep 213: game finished, reward: -1.000000\n",
            "ep 213: game finished, reward: -1.000000\n",
            "ep 213: game finished, reward: -1.000000\n",
            "ep 213: game finished, reward: -1.000000\n",
            "ep 213: game finished, reward: -1.000000\n",
            "ep 213: game finished, reward: -1.000000\n",
            "ep 213: game finished, reward: -1.000000\n",
            "ep 213: game finished, reward: -1.000000\n",
            "ep 213: game finished, reward: -1.000000\n",
            "ep 213: game finished, reward: -1.000000\n",
            "ep 213: game finished, reward: -1.000000\n",
            "ep 213: game finished, reward: -1.000000\n",
            "resetting env. episode reward total was -20.000000. running mean: -20.436127\n",
            "ep 214: game finished, reward: -1.000000\n",
            "ep 214: game finished, reward: -1.000000\n",
            "ep 214: game finished, reward: -1.000000\n",
            "ep 214: game finished, reward: -1.000000\n",
            "ep 214: game finished, reward: -1.000000\n",
            "ep 214: game finished, reward: -1.000000\n",
            "ep 214: game finished, reward: -1.000000\n",
            "ep 214: game finished, reward: -1.000000\n",
            "ep 214: game finished, reward: -1.000000\n",
            "ep 214: game finished, reward: -1.000000\n",
            "ep 214: game finished, reward: -1.000000\n",
            "ep 214: game finished, reward: -1.000000\n",
            "ep 214: game finished, reward: -1.000000\n",
            "ep 214: game finished, reward: -1.000000\n",
            "ep 214: game finished, reward: -1.000000\n",
            "ep 214: game finished, reward: -1.000000\n",
            "ep 214: game finished, reward: -1.000000\n",
            "ep 214: game finished, reward: -1.000000\n",
            "ep 214: game finished, reward: -1.000000\n",
            "ep 214: game finished, reward: -1.000000\n",
            "ep 214: game finished, reward: -1.000000\n",
            "resetting env. episode reward total was -21.000000. running mean: -20.441766\n",
            "ep 215: game finished, reward: -1.000000\n",
            "ep 215: game finished, reward: -1.000000\n",
            "ep 215: game finished, reward: -1.000000\n",
            "ep 215: game finished, reward: -1.000000\n",
            "ep 215: game finished, reward: -1.000000\n",
            "ep 215: game finished, reward: -1.000000\n",
            "ep 215: game finished, reward: -1.000000\n",
            "ep 215: game finished, reward: -1.000000\n",
            "ep 215: game finished, reward: -1.000000\n",
            "ep 215: game finished, reward: -1.000000\n",
            "ep 215: game finished, reward: -1.000000\n",
            "ep 215: game finished, reward: -1.000000\n",
            "ep 215: game finished, reward: -1.000000\n",
            "ep 215: game finished, reward: -1.000000\n",
            "ep 215: game finished, reward: -1.000000\n",
            "ep 215: game finished, reward: -1.000000\n",
            "ep 215: game finished, reward: -1.000000\n",
            "ep 215: game finished, reward: -1.000000\n",
            "ep 215: game finished, reward: -1.000000\n",
            "ep 215: game finished, reward: -1.000000\n",
            "ep 215: game finished, reward: -1.000000\n",
            "resetting env. episode reward total was -21.000000. running mean: -20.447348\n",
            "ep 216: game finished, reward: -1.000000\n",
            "ep 216: game finished, reward: -1.000000\n",
            "ep 216: game finished, reward: -1.000000\n",
            "ep 216: game finished, reward: -1.000000\n",
            "ep 216: game finished, reward: -1.000000\n",
            "ep 216: game finished, reward: -1.000000\n",
            "ep 216: game finished, reward: -1.000000\n",
            "ep 216: game finished, reward: -1.000000\n",
            "ep 216: game finished, reward: -1.000000\n",
            "ep 216: game finished, reward: -1.000000\n",
            "ep 216: game finished, reward: -1.000000\n",
            "ep 216: game finished, reward: -1.000000\n",
            "ep 216: game finished, reward: -1.000000\n",
            "ep 216: game finished, reward: 1.000000"
          ],
          "name": "stdout"
        },
        {
          "output_type": "execute_result",
          "data": {
            "text/plain": [
              "' !!!!!!!!'"
            ]
          },
          "metadata": {
            "tags": []
          },
          "execution_count": 11
        },
        {
          "output_type": "stream",
          "text": [
            "ep 216: game finished, reward: -1.000000\n",
            "ep 216: game finished, reward: -1.000000\n",
            "ep 216: game finished, reward: -1.000000\n",
            "ep 216: game finished, reward: -1.000000\n",
            "ep 216: game finished, reward: -1.000000\n",
            "ep 216: game finished, reward: -1.000000\n",
            "ep 216: game finished, reward: -1.000000\n",
            "ep 216: game finished, reward: -1.000000\n",
            "resetting env. episode reward total was -20.000000. running mean: -20.442875\n",
            "ep 217: game finished, reward: -1.000000\n",
            "ep 217: game finished, reward: -1.000000\n",
            "ep 217: game finished, reward: -1.000000\n",
            "ep 217: game finished, reward: -1.000000\n",
            "ep 217: game finished, reward: -1.000000\n",
            "ep 217: game finished, reward: -1.000000\n",
            "ep 217: game finished, reward: -1.000000\n",
            "ep 217: game finished, reward: -1.000000\n",
            "ep 217: game finished, reward: -1.000000\n",
            "ep 217: game finished, reward: -1.000000\n",
            "ep 217: game finished, reward: -1.000000\n",
            "ep 217: game finished, reward: -1.000000\n",
            "ep 217: game finished, reward: 1.000000"
          ],
          "name": "stdout"
        },
        {
          "output_type": "execute_result",
          "data": {
            "text/plain": [
              "' !!!!!!!!'"
            ]
          },
          "metadata": {
            "tags": []
          },
          "execution_count": 11
        },
        {
          "output_type": "stream",
          "text": [
            "ep 217: game finished, reward: -1.000000\n",
            "ep 217: game finished, reward: -1.000000\n",
            "ep 217: game finished, reward: -1.000000\n",
            "ep 217: game finished, reward: -1.000000\n",
            "ep 217: game finished, reward: -1.000000\n",
            "ep 217: game finished, reward: -1.000000\n",
            "ep 217: game finished, reward: -1.000000\n",
            "ep 217: game finished, reward: -1.000000\n",
            "ep 217: game finished, reward: -1.000000\n",
            "resetting env. episode reward total was -20.000000. running mean: -20.438446\n",
            "ep 218: game finished, reward: -1.000000\n",
            "ep 218: game finished, reward: -1.000000\n",
            "ep 218: game finished, reward: -1.000000\n",
            "ep 218: game finished, reward: -1.000000\n",
            "ep 218: game finished, reward: -1.000000\n",
            "ep 218: game finished, reward: -1.000000\n",
            "ep 218: game finished, reward: -1.000000\n",
            "ep 218: game finished, reward: -1.000000\n",
            "ep 218: game finished, reward: -1.000000\n",
            "ep 218: game finished, reward: -1.000000\n",
            "ep 218: game finished, reward: -1.000000\n",
            "ep 218: game finished, reward: -1.000000\n",
            "ep 218: game finished, reward: -1.000000\n",
            "ep 218: game finished, reward: -1.000000\n",
            "ep 218: game finished, reward: -1.000000\n",
            "ep 218: game finished, reward: -1.000000\n",
            "ep 218: game finished, reward: -1.000000\n",
            "ep 218: game finished, reward: -1.000000\n",
            "ep 218: game finished, reward: -1.000000\n",
            "ep 218: game finished, reward: -1.000000\n",
            "ep 218: game finished, reward: -1.000000\n",
            "resetting env. episode reward total was -21.000000. running mean: -20.444061\n",
            "ep 219: game finished, reward: -1.000000\n",
            "ep 219: game finished, reward: -1.000000\n",
            "ep 219: game finished, reward: -1.000000\n",
            "ep 219: game finished, reward: -1.000000\n",
            "ep 219: game finished, reward: -1.000000\n",
            "ep 219: game finished, reward: -1.000000\n",
            "ep 219: game finished, reward: -1.000000\n",
            "ep 219: game finished, reward: -1.000000\n",
            "ep 219: game finished, reward: -1.000000\n",
            "ep 219: game finished, reward: -1.000000\n",
            "ep 219: game finished, reward: -1.000000\n",
            "ep 219: game finished, reward: -1.000000\n",
            "ep 219: game finished, reward: 1.000000"
          ],
          "name": "stdout"
        },
        {
          "output_type": "execute_result",
          "data": {
            "text/plain": [
              "' !!!!!!!!'"
            ]
          },
          "metadata": {
            "tags": []
          },
          "execution_count": 11
        },
        {
          "output_type": "stream",
          "text": [
            "ep 219: game finished, reward: -1.000000\n",
            "ep 219: game finished, reward: -1.000000\n",
            "ep 219: game finished, reward: -1.000000\n",
            "ep 219: game finished, reward: -1.000000\n",
            "ep 219: game finished, reward: -1.000000\n",
            "ep 219: game finished, reward: -1.000000\n",
            "ep 219: game finished, reward: -1.000000\n",
            "ep 219: game finished, reward: -1.000000\n",
            "ep 219: game finished, reward: -1.000000\n",
            "resetting env. episode reward total was -20.000000. running mean: -20.439621\n",
            "ep 220: game finished, reward: -1.000000\n",
            "ep 220: game finished, reward: -1.000000\n",
            "ep 220: game finished, reward: -1.000000\n",
            "ep 220: game finished, reward: -1.000000\n",
            "ep 220: game finished, reward: -1.000000\n",
            "ep 220: game finished, reward: -1.000000\n",
            "ep 220: game finished, reward: -1.000000\n",
            "ep 220: game finished, reward: -1.000000\n",
            "ep 220: game finished, reward: -1.000000\n",
            "ep 220: game finished, reward: -1.000000\n",
            "ep 220: game finished, reward: -1.000000\n",
            "ep 220: game finished, reward: -1.000000\n",
            "ep 220: game finished, reward: -1.000000\n",
            "ep 220: game finished, reward: -1.000000\n",
            "ep 220: game finished, reward: -1.000000\n",
            "ep 220: game finished, reward: -1.000000\n",
            "ep 220: game finished, reward: -1.000000\n",
            "ep 220: game finished, reward: -1.000000\n",
            "ep 220: game finished, reward: -1.000000\n",
            "ep 220: game finished, reward: -1.000000\n",
            "ep 220: game finished, reward: -1.000000\n",
            "resetting env. episode reward total was -21.000000. running mean: -20.445225\n",
            "ep 221: game finished, reward: -1.000000\n",
            "ep 221: game finished, reward: -1.000000\n",
            "ep 221: game finished, reward: -1.000000\n",
            "ep 221: game finished, reward: -1.000000\n",
            "ep 221: game finished, reward: -1.000000\n",
            "ep 221: game finished, reward: -1.000000\n",
            "ep 221: game finished, reward: -1.000000\n",
            "ep 221: game finished, reward: -1.000000\n",
            "ep 221: game finished, reward: -1.000000\n",
            "ep 221: game finished, reward: -1.000000\n",
            "ep 221: game finished, reward: -1.000000\n",
            "ep 221: game finished, reward: -1.000000\n",
            "ep 221: game finished, reward: -1.000000\n",
            "ep 221: game finished, reward: -1.000000\n",
            "ep 221: game finished, reward: -1.000000\n",
            "ep 221: game finished, reward: -1.000000\n",
            "ep 221: game finished, reward: -1.000000\n",
            "ep 221: game finished, reward: -1.000000\n",
            "ep 221: game finished, reward: -1.000000\n",
            "ep 221: game finished, reward: -1.000000\n",
            "ep 221: game finished, reward: -1.000000\n",
            "resetting env. episode reward total was -21.000000. running mean: -20.450772\n",
            "ep 222: game finished, reward: -1.000000\n",
            "ep 222: game finished, reward: -1.000000\n",
            "ep 222: game finished, reward: -1.000000\n",
            "ep 222: game finished, reward: -1.000000\n",
            "ep 222: game finished, reward: -1.000000\n",
            "ep 222: game finished, reward: -1.000000\n",
            "ep 222: game finished, reward: -1.000000\n",
            "ep 222: game finished, reward: 1.000000"
          ],
          "name": "stdout"
        },
        {
          "output_type": "execute_result",
          "data": {
            "text/plain": [
              "' !!!!!!!!'"
            ]
          },
          "metadata": {
            "tags": []
          },
          "execution_count": 11
        },
        {
          "output_type": "stream",
          "text": [
            "ep 222: game finished, reward: 1.000000"
          ],
          "name": "stdout"
        },
        {
          "output_type": "execute_result",
          "data": {
            "text/plain": [
              "' !!!!!!!!'"
            ]
          },
          "metadata": {
            "tags": []
          },
          "execution_count": 11
        },
        {
          "output_type": "stream",
          "text": [
            "ep 222: game finished, reward: -1.000000\n",
            "ep 222: game finished, reward: -1.000000\n",
            "ep 222: game finished, reward: 1.000000"
          ],
          "name": "stdout"
        },
        {
          "output_type": "execute_result",
          "data": {
            "text/plain": [
              "' !!!!!!!!'"
            ]
          },
          "metadata": {
            "tags": []
          },
          "execution_count": 11
        },
        {
          "output_type": "stream",
          "text": [
            "ep 222: game finished, reward: -1.000000\n",
            "ep 222: game finished, reward: -1.000000\n",
            "ep 222: game finished, reward: -1.000000\n",
            "ep 222: game finished, reward: -1.000000\n",
            "ep 222: game finished, reward: -1.000000\n",
            "ep 222: game finished, reward: -1.000000\n",
            "ep 222: game finished, reward: -1.000000\n",
            "ep 222: game finished, reward: -1.000000\n",
            "ep 222: game finished, reward: -1.000000\n",
            "ep 222: game finished, reward: -1.000000\n",
            "ep 222: game finished, reward: -1.000000\n",
            "ep 222: game finished, reward: -1.000000\n",
            "ep 222: game finished, reward: 1.000000"
          ],
          "name": "stdout"
        },
        {
          "output_type": "execute_result",
          "data": {
            "text/plain": [
              "' !!!!!!!!'"
            ]
          },
          "metadata": {
            "tags": []
          },
          "execution_count": 11
        },
        {
          "output_type": "stream",
          "text": [
            "resetting env. episode reward total was -17.000000. running mean: -20.416265\n",
            "ep 223: game finished, reward: -1.000000\n",
            "ep 223: game finished, reward: -1.000000\n",
            "ep 223: game finished, reward: -1.000000\n",
            "ep 223: game finished, reward: -1.000000\n",
            "ep 223: game finished, reward: -1.000000\n",
            "ep 223: game finished, reward: -1.000000\n",
            "ep 223: game finished, reward: -1.000000\n",
            "ep 223: game finished, reward: -1.000000\n",
            "ep 223: game finished, reward: -1.000000\n",
            "ep 223: game finished, reward: -1.000000\n",
            "ep 223: game finished, reward: 1.000000"
          ],
          "name": "stdout"
        },
        {
          "output_type": "execute_result",
          "data": {
            "text/plain": [
              "' !!!!!!!!'"
            ]
          },
          "metadata": {
            "tags": []
          },
          "execution_count": 11
        },
        {
          "output_type": "stream",
          "text": [
            "ep 223: game finished, reward: -1.000000\n",
            "ep 223: game finished, reward: -1.000000\n",
            "ep 223: game finished, reward: -1.000000\n",
            "ep 223: game finished, reward: -1.000000\n",
            "ep 223: game finished, reward: -1.000000\n",
            "ep 223: game finished, reward: -1.000000\n",
            "ep 223: game finished, reward: -1.000000\n",
            "ep 223: game finished, reward: -1.000000\n",
            "ep 223: game finished, reward: -1.000000\n",
            "ep 223: game finished, reward: -1.000000\n",
            "ep 223: game finished, reward: -1.000000\n",
            "resetting env. episode reward total was -20.000000. running mean: -20.412102\n",
            "ep 224: game finished, reward: -1.000000\n",
            "ep 224: game finished, reward: -1.000000\n",
            "ep 224: game finished, reward: -1.000000\n",
            "ep 224: game finished, reward: -1.000000\n",
            "ep 224: game finished, reward: -1.000000\n",
            "ep 224: game finished, reward: -1.000000\n",
            "ep 224: game finished, reward: -1.000000\n",
            "ep 224: game finished, reward: -1.000000\n",
            "ep 224: game finished, reward: -1.000000\n",
            "ep 224: game finished, reward: -1.000000\n",
            "ep 224: game finished, reward: -1.000000\n",
            "ep 224: game finished, reward: -1.000000\n",
            "ep 224: game finished, reward: 1.000000"
          ],
          "name": "stdout"
        },
        {
          "output_type": "execute_result",
          "data": {
            "text/plain": [
              "' !!!!!!!!'"
            ]
          },
          "metadata": {
            "tags": []
          },
          "execution_count": 11
        },
        {
          "output_type": "stream",
          "text": [
            "ep 224: game finished, reward: -1.000000\n",
            "ep 224: game finished, reward: -1.000000\n",
            "ep 224: game finished, reward: -1.000000\n",
            "ep 224: game finished, reward: -1.000000\n",
            "ep 224: game finished, reward: -1.000000\n",
            "ep 224: game finished, reward: -1.000000\n",
            "ep 224: game finished, reward: -1.000000\n",
            "ep 224: game finished, reward: -1.000000\n",
            "ep 224: game finished, reward: -1.000000\n",
            "resetting env. episode reward total was -20.000000. running mean: -20.407981\n",
            "ep 225: game finished, reward: -1.000000\n",
            "ep 225: game finished, reward: 1.000000"
          ],
          "name": "stdout"
        },
        {
          "output_type": "execute_result",
          "data": {
            "text/plain": [
              "' !!!!!!!!'"
            ]
          },
          "metadata": {
            "tags": []
          },
          "execution_count": 11
        },
        {
          "output_type": "stream",
          "text": [
            "ep 225: game finished, reward: -1.000000\n",
            "ep 225: game finished, reward: -1.000000\n",
            "ep 225: game finished, reward: -1.000000\n",
            "ep 225: game finished, reward: -1.000000\n",
            "ep 225: game finished, reward: -1.000000\n",
            "ep 225: game finished, reward: -1.000000\n",
            "ep 225: game finished, reward: -1.000000\n",
            "ep 225: game finished, reward: -1.000000\n",
            "ep 225: game finished, reward: -1.000000\n",
            "ep 225: game finished, reward: -1.000000\n",
            "ep 225: game finished, reward: -1.000000\n",
            "ep 225: game finished, reward: -1.000000\n",
            "ep 225: game finished, reward: -1.000000\n",
            "ep 225: game finished, reward: -1.000000\n",
            "ep 225: game finished, reward: -1.000000\n",
            "ep 225: game finished, reward: -1.000000\n",
            "ep 225: game finished, reward: 1.000000"
          ],
          "name": "stdout"
        },
        {
          "output_type": "execute_result",
          "data": {
            "text/plain": [
              "' !!!!!!!!'"
            ]
          },
          "metadata": {
            "tags": []
          },
          "execution_count": 11
        },
        {
          "output_type": "stream",
          "text": [
            "ep 225: game finished, reward: -1.000000\n",
            "ep 225: game finished, reward: -1.000000\n",
            "ep 225: game finished, reward: 1.000000"
          ],
          "name": "stdout"
        },
        {
          "output_type": "execute_result",
          "data": {
            "text/plain": [
              "' !!!!!!!!'"
            ]
          },
          "metadata": {
            "tags": []
          },
          "execution_count": 11
        },
        {
          "output_type": "stream",
          "text": [
            "ep 225: game finished, reward: -1.000000\n",
            "ep 225: game finished, reward: -1.000000\n",
            "resetting env. episode reward total was -18.000000. running mean: -20.383901\n",
            "ep 226: game finished, reward: -1.000000\n",
            "ep 226: game finished, reward: -1.000000\n",
            "ep 226: game finished, reward: -1.000000\n",
            "ep 226: game finished, reward: -1.000000\n",
            "ep 226: game finished, reward: -1.000000\n",
            "ep 226: game finished, reward: -1.000000\n",
            "ep 226: game finished, reward: -1.000000\n",
            "ep 226: game finished, reward: -1.000000\n",
            "ep 226: game finished, reward: -1.000000\n",
            "ep 226: game finished, reward: -1.000000\n",
            "ep 226: game finished, reward: -1.000000\n",
            "ep 226: game finished, reward: -1.000000\n",
            "ep 226: game finished, reward: -1.000000\n",
            "ep 226: game finished, reward: -1.000000\n",
            "ep 226: game finished, reward: -1.000000\n",
            "ep 226: game finished, reward: -1.000000\n",
            "ep 226: game finished, reward: -1.000000\n",
            "ep 226: game finished, reward: -1.000000\n",
            "ep 226: game finished, reward: -1.000000\n",
            "ep 226: game finished, reward: 1.000000"
          ],
          "name": "stdout"
        },
        {
          "output_type": "execute_result",
          "data": {
            "text/plain": [
              "' !!!!!!!!'"
            ]
          },
          "metadata": {
            "tags": []
          },
          "execution_count": 11
        },
        {
          "output_type": "stream",
          "text": [
            "ep 226: game finished, reward: -1.000000\n",
            "ep 226: game finished, reward: -1.000000\n",
            "resetting env. episode reward total was -20.000000. running mean: -20.380062\n",
            "ep 227: game finished, reward: -1.000000\n",
            "ep 227: game finished, reward: -1.000000\n",
            "ep 227: game finished, reward: -1.000000\n",
            "ep 227: game finished, reward: -1.000000\n",
            "ep 227: game finished, reward: -1.000000\n",
            "ep 227: game finished, reward: -1.000000\n",
            "ep 227: game finished, reward: -1.000000\n",
            "ep 227: game finished, reward: -1.000000\n",
            "ep 227: game finished, reward: -1.000000\n",
            "ep 227: game finished, reward: -1.000000\n",
            "ep 227: game finished, reward: -1.000000\n",
            "ep 227: game finished, reward: -1.000000\n",
            "ep 227: game finished, reward: -1.000000\n",
            "ep 227: game finished, reward: -1.000000\n",
            "ep 227: game finished, reward: -1.000000\n",
            "ep 227: game finished, reward: -1.000000\n",
            "ep 227: game finished, reward: -1.000000\n",
            "ep 227: game finished, reward: -1.000000\n",
            "ep 227: game finished, reward: -1.000000\n",
            "ep 227: game finished, reward: -1.000000\n",
            "ep 227: game finished, reward: -1.000000\n",
            "ep 227: game finished, reward: 1.000000"
          ],
          "name": "stdout"
        },
        {
          "output_type": "execute_result",
          "data": {
            "text/plain": [
              "' !!!!!!!!'"
            ]
          },
          "metadata": {
            "tags": []
          },
          "execution_count": 11
        },
        {
          "output_type": "stream",
          "text": [
            "resetting env. episode reward total was -20.000000. running mean: -20.376261\n",
            "ep 228: game finished, reward: -1.000000\n",
            "ep 228: game finished, reward: -1.000000\n",
            "ep 228: game finished, reward: -1.000000\n",
            "ep 228: game finished, reward: -1.000000\n",
            "ep 228: game finished, reward: -1.000000\n",
            "ep 228: game finished, reward: -1.000000\n",
            "ep 228: game finished, reward: -1.000000\n",
            "ep 228: game finished, reward: -1.000000\n",
            "ep 228: game finished, reward: -1.000000\n",
            "ep 228: game finished, reward: -1.000000\n",
            "ep 228: game finished, reward: -1.000000\n",
            "ep 228: game finished, reward: -1.000000\n",
            "ep 228: game finished, reward: -1.000000\n",
            "ep 228: game finished, reward: -1.000000\n",
            "ep 228: game finished, reward: -1.000000\n",
            "ep 228: game finished, reward: -1.000000\n",
            "ep 228: game finished, reward: -1.000000\n",
            "ep 228: game finished, reward: -1.000000\n",
            "ep 228: game finished, reward: -1.000000\n",
            "ep 228: game finished, reward: -1.000000\n",
            "ep 228: game finished, reward: -1.000000\n",
            "resetting env. episode reward total was -21.000000. running mean: -20.382499\n",
            "ep 229: game finished, reward: -1.000000\n",
            "ep 229: game finished, reward: 1.000000"
          ],
          "name": "stdout"
        },
        {
          "output_type": "execute_result",
          "data": {
            "text/plain": [
              "' !!!!!!!!'"
            ]
          },
          "metadata": {
            "tags": []
          },
          "execution_count": 11
        },
        {
          "output_type": "stream",
          "text": [
            "ep 229: game finished, reward: -1.000000\n",
            "ep 229: game finished, reward: -1.000000\n",
            "ep 229: game finished, reward: -1.000000\n",
            "ep 229: game finished, reward: 1.000000"
          ],
          "name": "stdout"
        },
        {
          "output_type": "execute_result",
          "data": {
            "text/plain": [
              "' !!!!!!!!'"
            ]
          },
          "metadata": {
            "tags": []
          },
          "execution_count": 11
        },
        {
          "output_type": "stream",
          "text": [
            "ep 229: game finished, reward: -1.000000\n",
            "ep 229: game finished, reward: -1.000000\n",
            "ep 229: game finished, reward: -1.000000\n",
            "ep 229: game finished, reward: -1.000000\n",
            "ep 229: game finished, reward: -1.000000\n",
            "ep 229: game finished, reward: -1.000000\n",
            "ep 229: game finished, reward: -1.000000\n",
            "ep 229: game finished, reward: -1.000000\n",
            "ep 229: game finished, reward: -1.000000\n",
            "ep 229: game finished, reward: -1.000000\n",
            "ep 229: game finished, reward: -1.000000\n",
            "ep 229: game finished, reward: -1.000000\n",
            "ep 229: game finished, reward: -1.000000\n",
            "ep 229: game finished, reward: -1.000000\n",
            "ep 229: game finished, reward: -1.000000\n",
            "ep 229: game finished, reward: -1.000000\n",
            "ep 229: game finished, reward: -1.000000\n",
            "resetting env. episode reward total was -19.000000. running mean: -20.368674\n",
            "ep 230: game finished, reward: -1.000000\n",
            "ep 230: game finished, reward: -1.000000\n",
            "ep 230: game finished, reward: -1.000000\n",
            "ep 230: game finished, reward: -1.000000\n",
            "ep 230: game finished, reward: -1.000000\n",
            "ep 230: game finished, reward: -1.000000\n",
            "ep 230: game finished, reward: -1.000000\n",
            "ep 230: game finished, reward: -1.000000\n",
            "ep 230: game finished, reward: -1.000000\n",
            "ep 230: game finished, reward: -1.000000\n",
            "ep 230: game finished, reward: -1.000000\n",
            "ep 230: game finished, reward: -1.000000\n",
            "ep 230: game finished, reward: -1.000000\n",
            "ep 230: game finished, reward: -1.000000\n",
            "ep 230: game finished, reward: -1.000000\n",
            "ep 230: game finished, reward: -1.000000\n",
            "ep 230: game finished, reward: -1.000000\n",
            "ep 230: game finished, reward: -1.000000\n",
            "ep 230: game finished, reward: -1.000000\n",
            "ep 230: game finished, reward: -1.000000\n",
            "ep 230: game finished, reward: -1.000000\n",
            "resetting env. episode reward total was -21.000000. running mean: -20.374987\n",
            "ep 231: game finished, reward: -1.000000\n",
            "ep 231: game finished, reward: -1.000000\n",
            "ep 231: game finished, reward: -1.000000\n",
            "ep 231: game finished, reward: -1.000000\n",
            "ep 231: game finished, reward: -1.000000\n",
            "ep 231: game finished, reward: -1.000000\n",
            "ep 231: game finished, reward: -1.000000\n",
            "ep 231: game finished, reward: -1.000000\n",
            "ep 231: game finished, reward: -1.000000\n",
            "ep 231: game finished, reward: -1.000000\n",
            "ep 231: game finished, reward: -1.000000\n",
            "ep 231: game finished, reward: -1.000000\n",
            "ep 231: game finished, reward: -1.000000\n",
            "ep 231: game finished, reward: -1.000000\n",
            "ep 231: game finished, reward: -1.000000\n",
            "ep 231: game finished, reward: -1.000000\n",
            "ep 231: game finished, reward: -1.000000\n",
            "ep 231: game finished, reward: -1.000000\n",
            "ep 231: game finished, reward: -1.000000\n",
            "ep 231: game finished, reward: -1.000000\n",
            "ep 231: game finished, reward: -1.000000\n",
            "resetting env. episode reward total was -21.000000. running mean: -20.381237\n",
            "ep 232: game finished, reward: -1.000000\n",
            "ep 232: game finished, reward: -1.000000\n",
            "ep 232: game finished, reward: -1.000000\n",
            "ep 232: game finished, reward: -1.000000\n",
            "ep 232: game finished, reward: -1.000000\n",
            "ep 232: game finished, reward: -1.000000\n",
            "ep 232: game finished, reward: -1.000000\n",
            "ep 232: game finished, reward: 1.000000"
          ],
          "name": "stdout"
        },
        {
          "output_type": "execute_result",
          "data": {
            "text/plain": [
              "' !!!!!!!!'"
            ]
          },
          "metadata": {
            "tags": []
          },
          "execution_count": 11
        },
        {
          "output_type": "stream",
          "text": [
            "ep 232: game finished, reward: -1.000000\n",
            "ep 232: game finished, reward: 1.000000"
          ],
          "name": "stdout"
        },
        {
          "output_type": "execute_result",
          "data": {
            "text/plain": [
              "' !!!!!!!!'"
            ]
          },
          "metadata": {
            "tags": []
          },
          "execution_count": 11
        },
        {
          "output_type": "stream",
          "text": [
            "ep 232: game finished, reward: -1.000000\n",
            "ep 232: game finished, reward: -1.000000\n",
            "ep 232: game finished, reward: -1.000000\n",
            "ep 232: game finished, reward: -1.000000\n",
            "ep 232: game finished, reward: -1.000000\n",
            "ep 232: game finished, reward: -1.000000\n",
            "ep 232: game finished, reward: -1.000000\n",
            "ep 232: game finished, reward: -1.000000\n",
            "ep 232: game finished, reward: -1.000000\n",
            "ep 232: game finished, reward: -1.000000\n",
            "ep 232: game finished, reward: -1.000000\n",
            "ep 232: game finished, reward: -1.000000\n",
            "ep 232: game finished, reward: -1.000000\n",
            "resetting env. episode reward total was -19.000000. running mean: -20.367425\n",
            "ep 233: game finished, reward: -1.000000\n",
            "ep 233: game finished, reward: -1.000000\n",
            "ep 233: game finished, reward: -1.000000\n",
            "ep 233: game finished, reward: -1.000000\n",
            "ep 233: game finished, reward: -1.000000\n",
            "ep 233: game finished, reward: -1.000000\n",
            "ep 233: game finished, reward: -1.000000\n",
            "ep 233: game finished, reward: -1.000000\n",
            "ep 233: game finished, reward: -1.000000\n",
            "ep 233: game finished, reward: -1.000000\n",
            "ep 233: game finished, reward: -1.000000\n",
            "ep 233: game finished, reward: -1.000000\n",
            "ep 233: game finished, reward: -1.000000\n",
            "ep 233: game finished, reward: -1.000000\n",
            "ep 233: game finished, reward: -1.000000\n",
            "ep 233: game finished, reward: -1.000000\n",
            "ep 233: game finished, reward: -1.000000\n",
            "ep 233: game finished, reward: -1.000000\n",
            "ep 233: game finished, reward: -1.000000\n",
            "ep 233: game finished, reward: -1.000000\n",
            "ep 233: game finished, reward: -1.000000\n",
            "resetting env. episode reward total was -21.000000. running mean: -20.373751\n",
            "ep 234: game finished, reward: -1.000000\n",
            "ep 234: game finished, reward: -1.000000\n",
            "ep 234: game finished, reward: -1.000000\n",
            "ep 234: game finished, reward: -1.000000\n",
            "ep 234: game finished, reward: -1.000000\n",
            "ep 234: game finished, reward: -1.000000\n",
            "ep 234: game finished, reward: -1.000000\n",
            "ep 234: game finished, reward: -1.000000\n",
            "ep 234: game finished, reward: -1.000000\n",
            "ep 234: game finished, reward: -1.000000\n",
            "ep 234: game finished, reward: -1.000000\n",
            "ep 234: game finished, reward: -1.000000\n",
            "ep 234: game finished, reward: -1.000000\n",
            "ep 234: game finished, reward: -1.000000\n",
            "ep 234: game finished, reward: -1.000000\n",
            "ep 234: game finished, reward: -1.000000\n",
            "ep 234: game finished, reward: -1.000000\n",
            "ep 234: game finished, reward: -1.000000\n",
            "ep 234: game finished, reward: -1.000000\n",
            "ep 234: game finished, reward: -1.000000\n",
            "ep 234: game finished, reward: -1.000000\n",
            "resetting env. episode reward total was -21.000000. running mean: -20.380013\n",
            "ep 235: game finished, reward: -1.000000\n",
            "ep 235: game finished, reward: -1.000000\n",
            "ep 235: game finished, reward: -1.000000\n",
            "ep 235: game finished, reward: -1.000000\n",
            "ep 235: game finished, reward: -1.000000\n",
            "ep 235: game finished, reward: -1.000000\n",
            "ep 235: game finished, reward: -1.000000\n",
            "ep 235: game finished, reward: -1.000000\n",
            "ep 235: game finished, reward: -1.000000\n",
            "ep 235: game finished, reward: -1.000000\n",
            "ep 235: game finished, reward: -1.000000\n",
            "ep 235: game finished, reward: -1.000000\n",
            "ep 235: game finished, reward: -1.000000\n",
            "ep 235: game finished, reward: -1.000000\n",
            "ep 235: game finished, reward: -1.000000\n",
            "ep 235: game finished, reward: -1.000000\n",
            "ep 235: game finished, reward: -1.000000\n",
            "ep 235: game finished, reward: -1.000000\n",
            "ep 235: game finished, reward: -1.000000\n",
            "ep 235: game finished, reward: -1.000000\n",
            "ep 235: game finished, reward: -1.000000\n",
            "resetting env. episode reward total was -21.000000. running mean: -20.386213\n",
            "ep 236: game finished, reward: -1.000000\n",
            "ep 236: game finished, reward: -1.000000\n",
            "ep 236: game finished, reward: -1.000000\n",
            "ep 236: game finished, reward: -1.000000\n",
            "ep 236: game finished, reward: -1.000000\n",
            "ep 236: game finished, reward: -1.000000\n",
            "ep 236: game finished, reward: -1.000000\n",
            "ep 236: game finished, reward: -1.000000\n",
            "ep 236: game finished, reward: -1.000000\n",
            "ep 236: game finished, reward: -1.000000\n",
            "ep 236: game finished, reward: -1.000000\n",
            "ep 236: game finished, reward: -1.000000\n",
            "ep 236: game finished, reward: -1.000000\n",
            "ep 236: game finished, reward: -1.000000\n",
            "ep 236: game finished, reward: -1.000000\n",
            "ep 236: game finished, reward: -1.000000\n",
            "ep 236: game finished, reward: -1.000000\n",
            "ep 236: game finished, reward: -1.000000\n",
            "ep 236: game finished, reward: -1.000000\n",
            "ep 236: game finished, reward: -1.000000\n",
            "ep 236: game finished, reward: -1.000000\n",
            "resetting env. episode reward total was -21.000000. running mean: -20.392351\n",
            "ep 237: game finished, reward: -1.000000\n",
            "ep 237: game finished, reward: -1.000000\n",
            "ep 237: game finished, reward: -1.000000\n",
            "ep 237: game finished, reward: -1.000000\n",
            "ep 237: game finished, reward: -1.000000\n",
            "ep 237: game finished, reward: -1.000000\n",
            "ep 237: game finished, reward: -1.000000\n",
            "ep 237: game finished, reward: -1.000000\n",
            "ep 237: game finished, reward: -1.000000\n",
            "ep 237: game finished, reward: -1.000000\n",
            "ep 237: game finished, reward: -1.000000\n",
            "ep 237: game finished, reward: -1.000000\n",
            "ep 237: game finished, reward: -1.000000\n",
            "ep 237: game finished, reward: -1.000000\n",
            "ep 237: game finished, reward: -1.000000\n",
            "ep 237: game finished, reward: 1.000000"
          ],
          "name": "stdout"
        },
        {
          "output_type": "execute_result",
          "data": {
            "text/plain": [
              "' !!!!!!!!'"
            ]
          },
          "metadata": {
            "tags": []
          },
          "execution_count": 11
        },
        {
          "output_type": "stream",
          "text": [
            "ep 237: game finished, reward: -1.000000\n",
            "ep 237: game finished, reward: -1.000000\n",
            "ep 237: game finished, reward: -1.000000\n",
            "ep 237: game finished, reward: -1.000000\n",
            "ep 237: game finished, reward: -1.000000\n",
            "ep 237: game finished, reward: -1.000000\n",
            "resetting env. episode reward total was -20.000000. running mean: -20.388427\n",
            "ep 238: game finished, reward: -1.000000\n",
            "ep 238: game finished, reward: -1.000000\n",
            "ep 238: game finished, reward: -1.000000\n",
            "ep 238: game finished, reward: -1.000000\n",
            "ep 238: game finished, reward: -1.000000\n",
            "ep 238: game finished, reward: -1.000000\n",
            "ep 238: game finished, reward: -1.000000\n",
            "ep 238: game finished, reward: -1.000000\n",
            "ep 238: game finished, reward: 1.000000"
          ],
          "name": "stdout"
        },
        {
          "output_type": "execute_result",
          "data": {
            "text/plain": [
              "' !!!!!!!!'"
            ]
          },
          "metadata": {
            "tags": []
          },
          "execution_count": 11
        },
        {
          "output_type": "stream",
          "text": [
            "ep 238: game finished, reward: 1.000000"
          ],
          "name": "stdout"
        },
        {
          "output_type": "execute_result",
          "data": {
            "text/plain": [
              "' !!!!!!!!'"
            ]
          },
          "metadata": {
            "tags": []
          },
          "execution_count": 11
        },
        {
          "output_type": "stream",
          "text": [
            "ep 238: game finished, reward: -1.000000\n",
            "ep 238: game finished, reward: -1.000000\n",
            "ep 238: game finished, reward: -1.000000\n",
            "ep 238: game finished, reward: -1.000000\n",
            "ep 238: game finished, reward: -1.000000\n",
            "ep 238: game finished, reward: -1.000000\n",
            "ep 238: game finished, reward: -1.000000\n",
            "ep 238: game finished, reward: -1.000000\n",
            "ep 238: game finished, reward: -1.000000\n",
            "ep 238: game finished, reward: -1.000000\n",
            "ep 238: game finished, reward: -1.000000\n",
            "ep 238: game finished, reward: -1.000000\n",
            "ep 238: game finished, reward: -1.000000\n",
            "resetting env. episode reward total was -19.000000. running mean: -20.374543\n",
            "ep 239: game finished, reward: -1.000000\n",
            "ep 239: game finished, reward: -1.000000\n",
            "ep 239: game finished, reward: -1.000000\n",
            "ep 239: game finished, reward: -1.000000\n",
            "ep 239: game finished, reward: -1.000000\n",
            "ep 239: game finished, reward: -1.000000\n",
            "ep 239: game finished, reward: -1.000000\n",
            "ep 239: game finished, reward: -1.000000\n",
            "ep 239: game finished, reward: -1.000000\n",
            "ep 239: game finished, reward: -1.000000\n",
            "ep 239: game finished, reward: -1.000000\n",
            "ep 239: game finished, reward: -1.000000\n",
            "ep 239: game finished, reward: -1.000000\n",
            "ep 239: game finished, reward: -1.000000\n",
            "ep 239: game finished, reward: -1.000000\n",
            "ep 239: game finished, reward: -1.000000\n",
            "ep 239: game finished, reward: -1.000000\n",
            "ep 239: game finished, reward: -1.000000\n",
            "ep 239: game finished, reward: -1.000000\n",
            "ep 239: game finished, reward: -1.000000\n",
            "ep 239: game finished, reward: -1.000000\n",
            "resetting env. episode reward total was -21.000000. running mean: -20.380798\n",
            "ep 240: game finished, reward: -1.000000\n",
            "ep 240: game finished, reward: -1.000000\n",
            "ep 240: game finished, reward: -1.000000\n",
            "ep 240: game finished, reward: -1.000000\n",
            "ep 240: game finished, reward: -1.000000\n",
            "ep 240: game finished, reward: -1.000000\n",
            "ep 240: game finished, reward: -1.000000\n",
            "ep 240: game finished, reward: -1.000000\n",
            "ep 240: game finished, reward: -1.000000\n",
            "ep 240: game finished, reward: -1.000000\n",
            "ep 240: game finished, reward: -1.000000\n",
            "ep 240: game finished, reward: -1.000000\n",
            "ep 240: game finished, reward: -1.000000\n",
            "ep 240: game finished, reward: 1.000000"
          ],
          "name": "stdout"
        },
        {
          "output_type": "execute_result",
          "data": {
            "text/plain": [
              "' !!!!!!!!'"
            ]
          },
          "metadata": {
            "tags": []
          },
          "execution_count": 11
        },
        {
          "output_type": "stream",
          "text": [
            "ep 240: game finished, reward: -1.000000\n",
            "ep 240: game finished, reward: -1.000000\n",
            "ep 240: game finished, reward: -1.000000\n",
            "ep 240: game finished, reward: -1.000000\n",
            "ep 240: game finished, reward: -1.000000\n",
            "ep 240: game finished, reward: -1.000000\n",
            "ep 240: game finished, reward: -1.000000\n",
            "ep 240: game finished, reward: -1.000000\n",
            "resetting env. episode reward total was -20.000000. running mean: -20.376990\n",
            "ep 241: game finished, reward: -1.000000\n",
            "ep 241: game finished, reward: -1.000000\n",
            "ep 241: game finished, reward: -1.000000\n",
            "ep 241: game finished, reward: -1.000000\n",
            "ep 241: game finished, reward: -1.000000\n",
            "ep 241: game finished, reward: -1.000000\n",
            "ep 241: game finished, reward: -1.000000\n",
            "ep 241: game finished, reward: -1.000000\n",
            "ep 241: game finished, reward: -1.000000\n",
            "ep 241: game finished, reward: -1.000000\n",
            "ep 241: game finished, reward: -1.000000\n",
            "ep 241: game finished, reward: -1.000000\n",
            "ep 241: game finished, reward: -1.000000\n",
            "ep 241: game finished, reward: -1.000000\n",
            "ep 241: game finished, reward: -1.000000\n",
            "ep 241: game finished, reward: -1.000000\n",
            "ep 241: game finished, reward: -1.000000\n",
            "ep 241: game finished, reward: -1.000000\n",
            "ep 241: game finished, reward: -1.000000\n",
            "ep 241: game finished, reward: -1.000000\n",
            "ep 241: game finished, reward: -1.000000\n",
            "resetting env. episode reward total was -21.000000. running mean: -20.383220\n",
            "ep 242: game finished, reward: -1.000000\n",
            "ep 242: game finished, reward: -1.000000\n",
            "ep 242: game finished, reward: -1.000000\n",
            "ep 242: game finished, reward: -1.000000\n",
            "ep 242: game finished, reward: -1.000000\n",
            "ep 242: game finished, reward: -1.000000\n",
            "ep 242: game finished, reward: -1.000000\n",
            "ep 242: game finished, reward: -1.000000\n",
            "ep 242: game finished, reward: -1.000000\n",
            "ep 242: game finished, reward: -1.000000\n",
            "ep 242: game finished, reward: -1.000000\n",
            "ep 242: game finished, reward: -1.000000\n",
            "ep 242: game finished, reward: -1.000000\n",
            "ep 242: game finished, reward: -1.000000\n",
            "ep 242: game finished, reward: -1.000000\n",
            "ep 242: game finished, reward: -1.000000\n",
            "ep 242: game finished, reward: -1.000000\n",
            "ep 242: game finished, reward: -1.000000\n",
            "ep 242: game finished, reward: -1.000000\n",
            "ep 242: game finished, reward: -1.000000\n",
            "ep 242: game finished, reward: -1.000000\n",
            "resetting env. episode reward total was -21.000000. running mean: -20.389388\n",
            "ep 243: game finished, reward: -1.000000\n",
            "ep 243: game finished, reward: -1.000000\n",
            "ep 243: game finished, reward: -1.000000\n",
            "ep 243: game finished, reward: -1.000000\n",
            "ep 243: game finished, reward: -1.000000\n",
            "ep 243: game finished, reward: -1.000000\n",
            "ep 243: game finished, reward: -1.000000\n",
            "ep 243: game finished, reward: -1.000000\n",
            "ep 243: game finished, reward: -1.000000\n",
            "ep 243: game finished, reward: -1.000000\n",
            "ep 243: game finished, reward: -1.000000\n",
            "ep 243: game finished, reward: -1.000000\n",
            "ep 243: game finished, reward: 1.000000"
          ],
          "name": "stdout"
        },
        {
          "output_type": "execute_result",
          "data": {
            "text/plain": [
              "' !!!!!!!!'"
            ]
          },
          "metadata": {
            "tags": []
          },
          "execution_count": 11
        },
        {
          "output_type": "stream",
          "text": [
            "ep 243: game finished, reward: -1.000000\n",
            "ep 243: game finished, reward: -1.000000\n",
            "ep 243: game finished, reward: -1.000000\n",
            "ep 243: game finished, reward: -1.000000\n",
            "ep 243: game finished, reward: -1.000000\n",
            "ep 243: game finished, reward: -1.000000\n",
            "ep 243: game finished, reward: -1.000000\n",
            "ep 243: game finished, reward: -1.000000\n",
            "ep 243: game finished, reward: -1.000000\n",
            "resetting env. episode reward total was -20.000000. running mean: -20.385494\n",
            "ep 244: game finished, reward: -1.000000\n",
            "ep 244: game finished, reward: -1.000000\n",
            "ep 244: game finished, reward: -1.000000\n",
            "ep 244: game finished, reward: -1.000000\n",
            "ep 244: game finished, reward: -1.000000\n",
            "ep 244: game finished, reward: -1.000000\n",
            "ep 244: game finished, reward: -1.000000\n",
            "ep 244: game finished, reward: -1.000000\n",
            "ep 244: game finished, reward: -1.000000\n",
            "ep 244: game finished, reward: -1.000000\n",
            "ep 244: game finished, reward: -1.000000\n",
            "ep 244: game finished, reward: -1.000000\n",
            "ep 244: game finished, reward: -1.000000\n",
            "ep 244: game finished, reward: -1.000000\n",
            "ep 244: game finished, reward: -1.000000\n",
            "ep 244: game finished, reward: -1.000000\n",
            "ep 244: game finished, reward: -1.000000\n",
            "ep 244: game finished, reward: -1.000000\n",
            "ep 244: game finished, reward: -1.000000\n",
            "ep 244: game finished, reward: -1.000000\n",
            "ep 244: game finished, reward: -1.000000\n",
            "resetting env. episode reward total was -21.000000. running mean: -20.391639\n",
            "ep 245: game finished, reward: -1.000000\n",
            "ep 245: game finished, reward: -1.000000\n",
            "ep 245: game finished, reward: -1.000000\n",
            "ep 245: game finished, reward: -1.000000\n",
            "ep 245: game finished, reward: -1.000000\n",
            "ep 245: game finished, reward: -1.000000\n",
            "ep 245: game finished, reward: -1.000000\n",
            "ep 245: game finished, reward: -1.000000\n",
            "ep 245: game finished, reward: -1.000000\n",
            "ep 245: game finished, reward: -1.000000\n",
            "ep 245: game finished, reward: -1.000000\n",
            "ep 245: game finished, reward: -1.000000\n",
            "ep 245: game finished, reward: -1.000000\n",
            "ep 245: game finished, reward: -1.000000\n",
            "ep 245: game finished, reward: -1.000000\n",
            "ep 245: game finished, reward: -1.000000\n",
            "ep 245: game finished, reward: -1.000000\n",
            "ep 245: game finished, reward: -1.000000\n",
            "ep 245: game finished, reward: -1.000000\n",
            "ep 245: game finished, reward: -1.000000\n",
            "ep 245: game finished, reward: -1.000000\n",
            "resetting env. episode reward total was -21.000000. running mean: -20.397722\n",
            "ep 246: game finished, reward: -1.000000\n",
            "ep 246: game finished, reward: -1.000000\n",
            "ep 246: game finished, reward: -1.000000\n",
            "ep 246: game finished, reward: -1.000000\n",
            "ep 246: game finished, reward: -1.000000\n",
            "ep 246: game finished, reward: -1.000000\n",
            "ep 246: game finished, reward: -1.000000\n",
            "ep 246: game finished, reward: -1.000000\n",
            "ep 246: game finished, reward: -1.000000\n",
            "ep 246: game finished, reward: -1.000000\n",
            "ep 246: game finished, reward: -1.000000\n",
            "ep 246: game finished, reward: -1.000000\n",
            "ep 246: game finished, reward: -1.000000\n",
            "ep 246: game finished, reward: -1.000000\n",
            "ep 246: game finished, reward: -1.000000\n",
            "ep 246: game finished, reward: -1.000000\n",
            "ep 246: game finished, reward: -1.000000\n",
            "ep 246: game finished, reward: -1.000000\n",
            "ep 246: game finished, reward: -1.000000\n",
            "ep 246: game finished, reward: -1.000000\n",
            "ep 246: game finished, reward: -1.000000\n",
            "resetting env. episode reward total was -21.000000. running mean: -20.403745\n",
            "ep 247: game finished, reward: -1.000000\n",
            "ep 247: game finished, reward: -1.000000\n",
            "ep 247: game finished, reward: -1.000000\n",
            "ep 247: game finished, reward: -1.000000\n",
            "ep 247: game finished, reward: -1.000000\n",
            "ep 247: game finished, reward: -1.000000\n",
            "ep 247: game finished, reward: -1.000000\n",
            "ep 247: game finished, reward: -1.000000\n",
            "ep 247: game finished, reward: -1.000000\n",
            "ep 247: game finished, reward: -1.000000\n",
            "ep 247: game finished, reward: -1.000000\n",
            "ep 247: game finished, reward: -1.000000\n",
            "ep 247: game finished, reward: -1.000000\n",
            "ep 247: game finished, reward: -1.000000\n",
            "ep 247: game finished, reward: -1.000000\n",
            "ep 247: game finished, reward: -1.000000\n",
            "ep 247: game finished, reward: -1.000000\n",
            "ep 247: game finished, reward: -1.000000\n",
            "ep 247: game finished, reward: -1.000000\n",
            "ep 247: game finished, reward: -1.000000\n",
            "ep 247: game finished, reward: -1.000000\n",
            "resetting env. episode reward total was -21.000000. running mean: -20.409708\n",
            "ep 248: game finished, reward: -1.000000\n",
            "ep 248: game finished, reward: -1.000000\n",
            "ep 248: game finished, reward: -1.000000\n",
            "ep 248: game finished, reward: -1.000000\n",
            "ep 248: game finished, reward: -1.000000\n",
            "ep 248: game finished, reward: -1.000000\n",
            "ep 248: game finished, reward: -1.000000\n",
            "ep 248: game finished, reward: -1.000000\n",
            "ep 248: game finished, reward: -1.000000\n",
            "ep 248: game finished, reward: -1.000000\n",
            "ep 248: game finished, reward: -1.000000\n",
            "ep 248: game finished, reward: -1.000000\n",
            "ep 248: game finished, reward: -1.000000\n",
            "ep 248: game finished, reward: -1.000000\n",
            "ep 248: game finished, reward: -1.000000\n",
            "ep 248: game finished, reward: -1.000000\n",
            "ep 248: game finished, reward: -1.000000\n",
            "ep 248: game finished, reward: -1.000000\n",
            "ep 248: game finished, reward: -1.000000\n",
            "ep 248: game finished, reward: -1.000000\n",
            "ep 248: game finished, reward: -1.000000\n",
            "resetting env. episode reward total was -21.000000. running mean: -20.415611\n",
            "ep 249: game finished, reward: -1.000000\n",
            "ep 249: game finished, reward: -1.000000\n",
            "ep 249: game finished, reward: -1.000000\n",
            "ep 249: game finished, reward: -1.000000\n",
            "ep 249: game finished, reward: -1.000000\n",
            "ep 249: game finished, reward: -1.000000\n",
            "ep 249: game finished, reward: -1.000000\n",
            "ep 249: game finished, reward: -1.000000\n",
            "ep 249: game finished, reward: -1.000000\n",
            "ep 249: game finished, reward: -1.000000\n",
            "ep 249: game finished, reward: -1.000000\n",
            "ep 249: game finished, reward: -1.000000\n",
            "ep 249: game finished, reward: -1.000000\n",
            "ep 249: game finished, reward: -1.000000\n",
            "ep 249: game finished, reward: -1.000000\n",
            "ep 249: game finished, reward: -1.000000\n",
            "ep 249: game finished, reward: -1.000000\n",
            "ep 249: game finished, reward: -1.000000\n",
            "ep 249: game finished, reward: -1.000000\n",
            "ep 249: game finished, reward: -1.000000\n",
            "ep 249: game finished, reward: -1.000000\n",
            "resetting env. episode reward total was -21.000000. running mean: -20.421455\n",
            "ep 250: game finished, reward: -1.000000\n",
            "ep 250: game finished, reward: -1.000000\n",
            "ep 250: game finished, reward: -1.000000\n",
            "ep 250: game finished, reward: -1.000000\n",
            "ep 250: game finished, reward: -1.000000\n",
            "ep 250: game finished, reward: 1.000000"
          ],
          "name": "stdout"
        },
        {
          "output_type": "execute_result",
          "data": {
            "text/plain": [
              "' !!!!!!!!'"
            ]
          },
          "metadata": {
            "tags": []
          },
          "execution_count": 11
        },
        {
          "output_type": "stream",
          "text": [
            "ep 250: game finished, reward: -1.000000\n",
            "ep 250: game finished, reward: -1.000000\n",
            "ep 250: game finished, reward: -1.000000\n",
            "ep 250: game finished, reward: -1.000000\n",
            "ep 250: game finished, reward: -1.000000\n",
            "ep 250: game finished, reward: -1.000000\n",
            "ep 250: game finished, reward: -1.000000\n",
            "ep 250: game finished, reward: -1.000000\n",
            "ep 250: game finished, reward: -1.000000\n",
            "ep 250: game finished, reward: -1.000000\n",
            "ep 250: game finished, reward: -1.000000\n",
            "ep 250: game finished, reward: -1.000000\n",
            "ep 250: game finished, reward: -1.000000\n",
            "ep 250: game finished, reward: -1.000000\n",
            "ep 250: game finished, reward: -1.000000\n",
            "ep 250: game finished, reward: -1.000000\n",
            "resetting env. episode reward total was -20.000000. running mean: -20.417240\n",
            "ep 251: game finished, reward: -1.000000\n",
            "ep 251: game finished, reward: -1.000000\n",
            "ep 251: game finished, reward: -1.000000\n",
            "ep 251: game finished, reward: -1.000000\n",
            "ep 251: game finished, reward: -1.000000\n",
            "ep 251: game finished, reward: -1.000000\n",
            "ep 251: game finished, reward: -1.000000\n",
            "ep 251: game finished, reward: -1.000000\n",
            "ep 251: game finished, reward: -1.000000\n",
            "ep 251: game finished, reward: -1.000000\n",
            "ep 251: game finished, reward: -1.000000\n",
            "ep 251: game finished, reward: -1.000000\n",
            "ep 251: game finished, reward: -1.000000\n",
            "ep 251: game finished, reward: -1.000000\n",
            "ep 251: game finished, reward: -1.000000\n",
            "ep 251: game finished, reward: -1.000000\n",
            "ep 251: game finished, reward: -1.000000\n",
            "ep 251: game finished, reward: -1.000000\n",
            "ep 251: game finished, reward: -1.000000\n",
            "ep 251: game finished, reward: -1.000000\n",
            "ep 251: game finished, reward: -1.000000\n",
            "resetting env. episode reward total was -21.000000. running mean: -20.423068\n",
            "ep 252: game finished, reward: -1.000000\n",
            "ep 252: game finished, reward: -1.000000\n",
            "ep 252: game finished, reward: -1.000000\n",
            "ep 252: game finished, reward: -1.000000\n",
            "ep 252: game finished, reward: -1.000000\n",
            "ep 252: game finished, reward: -1.000000\n",
            "ep 252: game finished, reward: -1.000000\n",
            "ep 252: game finished, reward: -1.000000\n",
            "ep 252: game finished, reward: -1.000000\n",
            "ep 252: game finished, reward: -1.000000\n",
            "ep 252: game finished, reward: -1.000000\n",
            "ep 252: game finished, reward: -1.000000\n",
            "ep 252: game finished, reward: -1.000000\n",
            "ep 252: game finished, reward: -1.000000\n",
            "ep 252: game finished, reward: -1.000000\n",
            "ep 252: game finished, reward: -1.000000\n",
            "ep 252: game finished, reward: -1.000000\n",
            "ep 252: game finished, reward: -1.000000\n",
            "ep 252: game finished, reward: -1.000000\n",
            "ep 252: game finished, reward: -1.000000\n",
            "ep 252: game finished, reward: -1.000000\n",
            "resetting env. episode reward total was -21.000000. running mean: -20.428837\n",
            "ep 253: game finished, reward: -1.000000\n",
            "ep 253: game finished, reward: -1.000000\n",
            "ep 253: game finished, reward: -1.000000\n",
            "ep 253: game finished, reward: -1.000000\n",
            "ep 253: game finished, reward: -1.000000\n",
            "ep 253: game finished, reward: -1.000000\n",
            "ep 253: game finished, reward: -1.000000\n",
            "ep 253: game finished, reward: -1.000000\n",
            "ep 253: game finished, reward: -1.000000\n",
            "ep 253: game finished, reward: -1.000000\n",
            "ep 253: game finished, reward: -1.000000\n",
            "ep 253: game finished, reward: -1.000000\n",
            "ep 253: game finished, reward: -1.000000\n",
            "ep 253: game finished, reward: -1.000000\n",
            "ep 253: game finished, reward: -1.000000\n",
            "ep 253: game finished, reward: -1.000000\n",
            "ep 253: game finished, reward: -1.000000\n",
            "ep 253: game finished, reward: -1.000000\n",
            "ep 253: game finished, reward: -1.000000\n",
            "ep 253: game finished, reward: -1.000000\n",
            "ep 253: game finished, reward: -1.000000\n",
            "resetting env. episode reward total was -21.000000. running mean: -20.434549\n",
            "ep 254: game finished, reward: -1.000000\n",
            "ep 254: game finished, reward: -1.000000\n",
            "ep 254: game finished, reward: -1.000000\n",
            "ep 254: game finished, reward: -1.000000\n",
            "ep 254: game finished, reward: -1.000000\n",
            "ep 254: game finished, reward: -1.000000\n",
            "ep 254: game finished, reward: -1.000000\n",
            "ep 254: game finished, reward: -1.000000\n",
            "ep 254: game finished, reward: -1.000000\n",
            "ep 254: game finished, reward: -1.000000\n",
            "ep 254: game finished, reward: -1.000000\n",
            "ep 254: game finished, reward: 1.000000"
          ],
          "name": "stdout"
        },
        {
          "output_type": "execute_result",
          "data": {
            "text/plain": [
              "' !!!!!!!!'"
            ]
          },
          "metadata": {
            "tags": []
          },
          "execution_count": 11
        },
        {
          "output_type": "stream",
          "text": [
            "ep 254: game finished, reward: -1.000000\n",
            "ep 254: game finished, reward: -1.000000\n",
            "ep 254: game finished, reward: -1.000000\n",
            "ep 254: game finished, reward: -1.000000\n",
            "ep 254: game finished, reward: -1.000000\n",
            "ep 254: game finished, reward: -1.000000\n",
            "ep 254: game finished, reward: -1.000000\n",
            "ep 254: game finished, reward: -1.000000\n",
            "ep 254: game finished, reward: -1.000000\n",
            "ep 254: game finished, reward: -1.000000\n",
            "resetting env. episode reward total was -20.000000. running mean: -20.430203\n",
            "ep 255: game finished, reward: -1.000000\n",
            "ep 255: game finished, reward: -1.000000\n",
            "ep 255: game finished, reward: -1.000000\n",
            "ep 255: game finished, reward: -1.000000\n",
            "ep 255: game finished, reward: -1.000000\n",
            "ep 255: game finished, reward: -1.000000\n",
            "ep 255: game finished, reward: -1.000000\n",
            "ep 255: game finished, reward: -1.000000\n",
            "ep 255: game finished, reward: -1.000000\n",
            "ep 255: game finished, reward: -1.000000\n",
            "ep 255: game finished, reward: -1.000000\n",
            "ep 255: game finished, reward: -1.000000\n",
            "ep 255: game finished, reward: -1.000000\n",
            "ep 255: game finished, reward: -1.000000\n",
            "ep 255: game finished, reward: -1.000000\n",
            "ep 255: game finished, reward: -1.000000\n",
            "ep 255: game finished, reward: -1.000000\n",
            "ep 255: game finished, reward: -1.000000\n",
            "ep 255: game finished, reward: -1.000000\n",
            "ep 255: game finished, reward: -1.000000\n",
            "ep 255: game finished, reward: -1.000000\n",
            "resetting env. episode reward total was -21.000000. running mean: -20.435901\n",
            "ep 256: game finished, reward: -1.000000\n",
            "ep 256: game finished, reward: -1.000000\n",
            "ep 256: game finished, reward: -1.000000\n",
            "ep 256: game finished, reward: -1.000000\n",
            "ep 256: game finished, reward: -1.000000\n",
            "ep 256: game finished, reward: -1.000000\n",
            "ep 256: game finished, reward: -1.000000\n",
            "ep 256: game finished, reward: -1.000000\n",
            "ep 256: game finished, reward: -1.000000\n",
            "ep 256: game finished, reward: -1.000000\n",
            "ep 256: game finished, reward: -1.000000\n",
            "ep 256: game finished, reward: -1.000000\n",
            "ep 256: game finished, reward: -1.000000\n",
            "ep 256: game finished, reward: -1.000000\n",
            "ep 256: game finished, reward: -1.000000\n",
            "ep 256: game finished, reward: -1.000000\n",
            "ep 256: game finished, reward: -1.000000\n",
            "ep 256: game finished, reward: -1.000000\n",
            "ep 256: game finished, reward: -1.000000\n",
            "ep 256: game finished, reward: -1.000000\n",
            "ep 256: game finished, reward: -1.000000\n",
            "resetting env. episode reward total was -21.000000. running mean: -20.441542\n",
            "ep 257: game finished, reward: -1.000000\n",
            "ep 257: game finished, reward: -1.000000\n",
            "ep 257: game finished, reward: -1.000000\n",
            "ep 257: game finished, reward: -1.000000\n",
            "ep 257: game finished, reward: -1.000000\n",
            "ep 257: game finished, reward: -1.000000\n",
            "ep 257: game finished, reward: -1.000000\n",
            "ep 257: game finished, reward: -1.000000\n",
            "ep 257: game finished, reward: -1.000000\n",
            "ep 257: game finished, reward: -1.000000\n",
            "ep 257: game finished, reward: -1.000000\n",
            "ep 257: game finished, reward: -1.000000\n",
            "ep 257: game finished, reward: 1.000000"
          ],
          "name": "stdout"
        },
        {
          "output_type": "execute_result",
          "data": {
            "text/plain": [
              "' !!!!!!!!'"
            ]
          },
          "metadata": {
            "tags": []
          },
          "execution_count": 11
        },
        {
          "output_type": "stream",
          "text": [
            "ep 257: game finished, reward: -1.000000\n",
            "ep 257: game finished, reward: -1.000000\n",
            "ep 257: game finished, reward: -1.000000\n",
            "ep 257: game finished, reward: -1.000000\n",
            "ep 257: game finished, reward: -1.000000\n",
            "ep 257: game finished, reward: -1.000000\n",
            "ep 257: game finished, reward: -1.000000\n",
            "ep 257: game finished, reward: -1.000000\n",
            "ep 257: game finished, reward: -1.000000\n",
            "resetting env. episode reward total was -20.000000. running mean: -20.437127\n",
            "ep 258: game finished, reward: -1.000000\n",
            "ep 258: game finished, reward: -1.000000\n",
            "ep 258: game finished, reward: -1.000000\n",
            "ep 258: game finished, reward: -1.000000\n",
            "ep 258: game finished, reward: -1.000000\n",
            "ep 258: game finished, reward: -1.000000\n",
            "ep 258: game finished, reward: -1.000000\n",
            "ep 258: game finished, reward: -1.000000\n",
            "ep 258: game finished, reward: -1.000000\n",
            "ep 258: game finished, reward: -1.000000\n",
            "ep 258: game finished, reward: -1.000000\n",
            "ep 258: game finished, reward: -1.000000\n",
            "ep 258: game finished, reward: -1.000000\n",
            "ep 258: game finished, reward: -1.000000\n",
            "ep 258: game finished, reward: -1.000000\n",
            "ep 258: game finished, reward: -1.000000\n",
            "ep 258: game finished, reward: -1.000000\n",
            "ep 258: game finished, reward: -1.000000\n",
            "ep 258: game finished, reward: -1.000000\n",
            "ep 258: game finished, reward: -1.000000\n",
            "ep 258: game finished, reward: -1.000000\n",
            "resetting env. episode reward total was -21.000000. running mean: -20.442755\n",
            "ep 259: game finished, reward: -1.000000\n",
            "ep 259: game finished, reward: -1.000000\n",
            "ep 259: game finished, reward: -1.000000\n",
            "ep 259: game finished, reward: -1.000000\n",
            "ep 259: game finished, reward: -1.000000\n",
            "ep 259: game finished, reward: -1.000000\n",
            "ep 259: game finished, reward: -1.000000\n",
            "ep 259: game finished, reward: -1.000000\n",
            "ep 259: game finished, reward: -1.000000\n",
            "ep 259: game finished, reward: -1.000000\n",
            "ep 259: game finished, reward: -1.000000\n",
            "ep 259: game finished, reward: -1.000000\n",
            "ep 259: game finished, reward: -1.000000\n",
            "ep 259: game finished, reward: -1.000000\n",
            "ep 259: game finished, reward: -1.000000\n",
            "ep 259: game finished, reward: -1.000000\n",
            "ep 259: game finished, reward: -1.000000\n",
            "ep 259: game finished, reward: -1.000000\n",
            "ep 259: game finished, reward: 1.000000"
          ],
          "name": "stdout"
        },
        {
          "output_type": "execute_result",
          "data": {
            "text/plain": [
              "' !!!!!!!!'"
            ]
          },
          "metadata": {
            "tags": []
          },
          "execution_count": 11
        },
        {
          "output_type": "stream",
          "text": [
            "ep 259: game finished, reward: -1.000000\n",
            "ep 259: game finished, reward: -1.000000\n",
            "ep 259: game finished, reward: -1.000000\n",
            "resetting env. episode reward total was -20.000000. running mean: -20.438328\n",
            "ep 260: game finished, reward: -1.000000\n",
            "ep 260: game finished, reward: -1.000000\n",
            "ep 260: game finished, reward: -1.000000\n",
            "ep 260: game finished, reward: -1.000000\n",
            "ep 260: game finished, reward: -1.000000\n",
            "ep 260: game finished, reward: -1.000000\n",
            "ep 260: game finished, reward: -1.000000\n",
            "ep 260: game finished, reward: -1.000000\n",
            "ep 260: game finished, reward: -1.000000\n",
            "ep 260: game finished, reward: -1.000000\n",
            "ep 260: game finished, reward: -1.000000\n",
            "ep 260: game finished, reward: -1.000000\n",
            "ep 260: game finished, reward: -1.000000\n",
            "ep 260: game finished, reward: -1.000000\n",
            "ep 260: game finished, reward: -1.000000\n",
            "ep 260: game finished, reward: -1.000000\n",
            "ep 260: game finished, reward: -1.000000\n",
            "ep 260: game finished, reward: -1.000000\n",
            "ep 260: game finished, reward: -1.000000\n",
            "ep 260: game finished, reward: -1.000000\n",
            "ep 260: game finished, reward: -1.000000\n",
            "resetting env. episode reward total was -21.000000. running mean: -20.443945\n",
            "ep 261: game finished, reward: -1.000000\n",
            "ep 261: game finished, reward: -1.000000\n"
          ],
          "name": "stdout"
        },
        {
          "output_type": "error",
          "ename": "KeyboardInterrupt",
          "evalue": "",
          "traceback": [
            "\u001b[0;31m---------------------------------------------------------------------------\u001b[0m",
            "\u001b[0;31mKeyboardInterrupt\u001b[0m                         Traceback (most recent call last)",
            "\u001b[0;32m<ipython-input-11-c3f3986531cb>\u001b[0m in \u001b[0;36m<module>\u001b[0;34m\u001b[0m\n\u001b[1;32m     21\u001b[0m \u001b[0;34m\u001b[0m\u001b[0m\n\u001b[1;32m     22\u001b[0m     \u001b[0;31m# step the environment and get new measurements\u001b[0m\u001b[0;34m\u001b[0m\u001b[0;34m\u001b[0m\u001b[0;34m\u001b[0m\u001b[0m\n\u001b[0;32m---> 23\u001b[0;31m     \u001b[0mobservation\u001b[0m\u001b[0;34m,\u001b[0m \u001b[0mreward\u001b[0m\u001b[0;34m,\u001b[0m \u001b[0mdone\u001b[0m\u001b[0;34m,\u001b[0m \u001b[0minfo\u001b[0m \u001b[0;34m=\u001b[0m \u001b[0menv\u001b[0m\u001b[0;34m.\u001b[0m\u001b[0mstep\u001b[0m\u001b[0;34m(\u001b[0m\u001b[0maction\u001b[0m\u001b[0;34m)\u001b[0m\u001b[0;34m\u001b[0m\u001b[0;34m\u001b[0m\u001b[0m\n\u001b[0m\u001b[1;32m     24\u001b[0m     \u001b[0mreward_sum\u001b[0m \u001b[0;34m+=\u001b[0m \u001b[0mreward\u001b[0m\u001b[0;34m\u001b[0m\u001b[0;34m\u001b[0m\u001b[0m\n\u001b[1;32m     25\u001b[0m \u001b[0;34m\u001b[0m\u001b[0m\n",
            "\u001b[0;32m~/anaconda3/lib/python3.6/site-packages/gym/wrappers/time_limit.py\u001b[0m in \u001b[0;36mstep\u001b[0;34m(self, action)\u001b[0m\n\u001b[1;32m     29\u001b[0m     \u001b[0;32mdef\u001b[0m \u001b[0mstep\u001b[0m\u001b[0;34m(\u001b[0m\u001b[0mself\u001b[0m\u001b[0;34m,\u001b[0m \u001b[0maction\u001b[0m\u001b[0;34m)\u001b[0m\u001b[0;34m:\u001b[0m\u001b[0;34m\u001b[0m\u001b[0;34m\u001b[0m\u001b[0m\n\u001b[1;32m     30\u001b[0m         \u001b[0;32massert\u001b[0m \u001b[0mself\u001b[0m\u001b[0;34m.\u001b[0m\u001b[0m_episode_started_at\u001b[0m \u001b[0;32mis\u001b[0m \u001b[0;32mnot\u001b[0m \u001b[0;32mNone\u001b[0m\u001b[0;34m,\u001b[0m \u001b[0;34m\"Cannot call env.step() before calling reset()\"\u001b[0m\u001b[0;34m\u001b[0m\u001b[0;34m\u001b[0m\u001b[0m\n\u001b[0;32m---> 31\u001b[0;31m         \u001b[0mobservation\u001b[0m\u001b[0;34m,\u001b[0m \u001b[0mreward\u001b[0m\u001b[0;34m,\u001b[0m \u001b[0mdone\u001b[0m\u001b[0;34m,\u001b[0m \u001b[0minfo\u001b[0m \u001b[0;34m=\u001b[0m \u001b[0mself\u001b[0m\u001b[0;34m.\u001b[0m\u001b[0menv\u001b[0m\u001b[0;34m.\u001b[0m\u001b[0mstep\u001b[0m\u001b[0;34m(\u001b[0m\u001b[0maction\u001b[0m\u001b[0;34m)\u001b[0m\u001b[0;34m\u001b[0m\u001b[0;34m\u001b[0m\u001b[0m\n\u001b[0m\u001b[1;32m     32\u001b[0m         \u001b[0mself\u001b[0m\u001b[0;34m.\u001b[0m\u001b[0m_elapsed_steps\u001b[0m \u001b[0;34m+=\u001b[0m \u001b[0;36m1\u001b[0m\u001b[0;34m\u001b[0m\u001b[0;34m\u001b[0m\u001b[0m\n\u001b[1;32m     33\u001b[0m \u001b[0;34m\u001b[0m\u001b[0m\n",
            "\u001b[0;32m~/anaconda3/lib/python3.6/site-packages/gym/envs/atari/atari_env.py\u001b[0m in \u001b[0;36mstep\u001b[0;34m(self, a)\u001b[0m\n\u001b[1;32m     75\u001b[0m             \u001b[0mnum_steps\u001b[0m \u001b[0;34m=\u001b[0m \u001b[0mself\u001b[0m\u001b[0;34m.\u001b[0m\u001b[0mnp_random\u001b[0m\u001b[0;34m.\u001b[0m\u001b[0mrandint\u001b[0m\u001b[0;34m(\u001b[0m\u001b[0mself\u001b[0m\u001b[0;34m.\u001b[0m\u001b[0mframeskip\u001b[0m\u001b[0;34m[\u001b[0m\u001b[0;36m0\u001b[0m\u001b[0;34m]\u001b[0m\u001b[0;34m,\u001b[0m \u001b[0mself\u001b[0m\u001b[0;34m.\u001b[0m\u001b[0mframeskip\u001b[0m\u001b[0;34m[\u001b[0m\u001b[0;36m1\u001b[0m\u001b[0;34m]\u001b[0m\u001b[0;34m)\u001b[0m\u001b[0;34m\u001b[0m\u001b[0;34m\u001b[0m\u001b[0m\n\u001b[1;32m     76\u001b[0m         \u001b[0;32mfor\u001b[0m \u001b[0m_\u001b[0m \u001b[0;32min\u001b[0m \u001b[0mrange\u001b[0m\u001b[0;34m(\u001b[0m\u001b[0mnum_steps\u001b[0m\u001b[0;34m)\u001b[0m\u001b[0;34m:\u001b[0m\u001b[0;34m\u001b[0m\u001b[0;34m\u001b[0m\u001b[0m\n\u001b[0;32m---> 77\u001b[0;31m             \u001b[0mreward\u001b[0m \u001b[0;34m+=\u001b[0m \u001b[0mself\u001b[0m\u001b[0;34m.\u001b[0m\u001b[0male\u001b[0m\u001b[0;34m.\u001b[0m\u001b[0mact\u001b[0m\u001b[0;34m(\u001b[0m\u001b[0maction\u001b[0m\u001b[0;34m)\u001b[0m\u001b[0;34m\u001b[0m\u001b[0;34m\u001b[0m\u001b[0m\n\u001b[0m\u001b[1;32m     78\u001b[0m         \u001b[0mob\u001b[0m \u001b[0;34m=\u001b[0m \u001b[0mself\u001b[0m\u001b[0;34m.\u001b[0m\u001b[0m_get_obs\u001b[0m\u001b[0;34m(\u001b[0m\u001b[0;34m)\u001b[0m\u001b[0;34m\u001b[0m\u001b[0;34m\u001b[0m\u001b[0m\n\u001b[1;32m     79\u001b[0m \u001b[0;34m\u001b[0m\u001b[0m\n",
            "\u001b[0;32m~/anaconda3/lib/python3.6/site-packages/atari_py/ale_python_interface.py\u001b[0m in \u001b[0;36mact\u001b[0;34m(self, action)\u001b[0m\n\u001b[1;32m    134\u001b[0m \u001b[0;34m\u001b[0m\u001b[0m\n\u001b[1;32m    135\u001b[0m     \u001b[0;32mdef\u001b[0m \u001b[0mact\u001b[0m\u001b[0;34m(\u001b[0m\u001b[0mself\u001b[0m\u001b[0;34m,\u001b[0m \u001b[0maction\u001b[0m\u001b[0;34m)\u001b[0m\u001b[0;34m:\u001b[0m\u001b[0;34m\u001b[0m\u001b[0;34m\u001b[0m\u001b[0m\n\u001b[0;32m--> 136\u001b[0;31m         \u001b[0;32mreturn\u001b[0m \u001b[0male_lib\u001b[0m\u001b[0;34m.\u001b[0m\u001b[0mact\u001b[0m\u001b[0;34m(\u001b[0m\u001b[0mself\u001b[0m\u001b[0;34m.\u001b[0m\u001b[0mobj\u001b[0m\u001b[0;34m,\u001b[0m \u001b[0mint\u001b[0m\u001b[0;34m(\u001b[0m\u001b[0maction\u001b[0m\u001b[0;34m)\u001b[0m\u001b[0;34m)\u001b[0m\u001b[0;34m\u001b[0m\u001b[0;34m\u001b[0m\u001b[0m\n\u001b[0m\u001b[1;32m    137\u001b[0m \u001b[0;34m\u001b[0m\u001b[0m\n\u001b[1;32m    138\u001b[0m     \u001b[0;32mdef\u001b[0m \u001b[0mgame_over\u001b[0m\u001b[0;34m(\u001b[0m\u001b[0mself\u001b[0m\u001b[0;34m)\u001b[0m\u001b[0;34m:\u001b[0m\u001b[0;34m\u001b[0m\u001b[0;34m\u001b[0m\u001b[0m\n",
            "\u001b[0;31mKeyboardInterrupt\u001b[0m: "
          ]
        }
      ]
    },
    {
      "metadata": {
        "id": "B4iJWPW0b6o3",
        "colab_type": "code",
        "colab": {}
      },
      "cell_type": "code",
      "source": [
        ""
      ],
      "execution_count": 0,
      "outputs": []
    }
  ]
}