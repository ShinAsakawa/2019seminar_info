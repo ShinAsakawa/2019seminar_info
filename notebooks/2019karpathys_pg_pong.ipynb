{
  "nbformat": 4,
  "nbformat_minor": 0,
  "metadata": {
    "colab": {
      "name": "2019karpathys-pg-pong.ipynb",
      "version": "0.3.2",
      "provenance": [],
      "collapsed_sections": [],
      "include_colab_link": true
    },
    "kernelspec": {
      "display_name": "Python 3",
      "language": "python",
      "name": "python3"
    }
  },
  "cells": [
    {
      "cell_type": "markdown",
      "metadata": {
        "id": "view-in-github",
        "colab_type": "text"
      },
      "source": [
        "<a href=\"https://colab.research.google.com/github/ShinAsakawa/2019seminar_info/blob/master/notebooks/2019karpathys_pg_pong.ipynb\" target=\"_parent\"><img src=\"https://colab.research.google.com/assets/colab-badge.svg\" alt=\"Open In Colab\"/></a>"
      ]
    },
    {
      "metadata": {
        "id": "0p-cTJdob6oV",
        "colab_type": "text"
      },
      "cell_type": "markdown",
      "source": [
        "# Deep Reinforcement Learning: Pong from Pixels\n",
        "\n",
        "## 方策勾配法 (Policy gradient) を用いた強化学習エージェントの学習 (OpenAI gym)\n",
        "\n",
        "- [Original `pg-pong.py`](https://gist.github.com/karpathy/a4166c7fe253700972fcbc77e4ea32c5)\n",
        "- このファイルは Andrej Karpathy の [ブログ記事](http://karpathy.github.io/2016/05/31/rl/) にあった `pg-pong.py` を Python3 で動くように修正し，かつ colaboratory で実行できるよう修正したものです。優れたブログ記事を書いた Karpathy に敬意を評します。\n",
        "\n",
        "---\n",
        "\n",
        "<center>\n",
        "<img src=\"http://karpathy.github.io/assets/rl/preview.jpeg\" style=\"width:39%;\"><br>\n",
        "<strong>市井の強化学習。左からアタリのゲームをするディープ Q ネット，アルファ碁，バークレイロボットによるレゴ積み木，四足歩行の物理シミュレーション Karpathy のブログより</strong>\n",
        "</center>\n",
        "    \n",
        "ちなみに Karpathy はこのブログの中で，最近の進歩は次の 4 点が大きいと書いています。\n",
        "\n",
        "1. 計算  (the obvious one: Moore’s Law, GPUs, ASICs),\n",
        "1. データ (in a nice form, not just out there somewhere on the internet - e.g. ImageNet),\n",
        "1. アルゴリズム (research and ideas, e.g. backprop, CNN, LSTM), and\n",
        "1. インフラ (software under you - Linux, TCP/IP, Git, ROS, PR2, AWS, AMT, TensorFlow, etc.).\n",
        "---\n",
        "\n",
        "<center>\n",
        "    <img src=\"http://karpathy.github.io/assets/rl/policy.png\" style=\"width:39%\"><br>\n",
        "    <strong>2層のポリシーネットワーク</strong>\n",
        "</center>\n",
        "\n",
        "---\n",
        "\n",
        "次の2つの図は通常の教師ありニューラルネットワークと強化学習との違いを表しています。\n",
        "\n",
        "<center>\n",
        "    <img src=\"http://karpathy.github.io/assets/rl/sl.png\" style=\"width:74%\"><br>\n",
        "    <strong>通常のニューラルネットワーク</strong>\n",
        "</center>\n",
        "\n",
        "<center>\n",
        "    <img src=\"http://karpathy.github.io/assets/rl/rl.png\" style=\"width:74%\"><br>\n",
        "    <strong>強化学習</strong>\n",
        "</center>\n",
        "\n",
        "\n",
        "\\begin{align}\n",
        "\\nabla_{\\theta} E_x[f(x)] &= \\nabla_{\\theta} \\sum_x p(x) f(x) & \\text{definition of expectation} \\\\\n",
        "& = \\sum_x \\nabla_{\\theta} p(x) f(x) & \\text{swap sum and gradient} \\\\\n",
        "& = \\sum_x p(x) \\frac{\\nabla_{\\theta} p(x)}{p(x)} f(x) & \\text{both multiply and divide by } p(x) \\\\\n",
        "& = \\sum_x p(x) \\nabla_{\\theta} \\log p(x) f(x) & \\text{use the fact that } \\nabla_{\\theta} \\log(z) = \\frac{1}{z} \\nabla_{\\theta} z \\\\\n",
        "& = E_x[f(x) \\nabla_{\\theta} \\log p(x) ] & \\text{definition of expectation}\n",
        "\\end{align}\n"
      ]
    },
    {
      "metadata": {
        "id": "237aSWxRb6oW",
        "colab_type": "code",
        "colab": {},
        "outputId": "15ab6d80-6162-44f7-dd38-03ec024d7969"
      },
      "cell_type": "code",
      "source": [
        "\"\"\" Trains an agent with (stochastic) Policy Gradients on Pong. Uses OpenAI Gym. \"\"\"\n",
        "from __future__ import print_function\n",
        "from six.moves import xrange\n",
        "from six.moves import cPickle"
      ],
      "execution_count": 0,
      "outputs": [
        {
          "output_type": "execute_result",
          "data": {
            "text/plain": [
              "' Trains an agent with (stochastic) Policy Gradients on Pong. Uses OpenAI Gym. '"
            ]
          },
          "metadata": {
            "tags": []
          },
          "execution_count": 1
        }
      ]
    },
    {
      "metadata": {
        "id": "nmpnbmk1b6od",
        "colab_type": "code",
        "colab": {}
      },
      "cell_type": "code",
      "source": [
        "import numpy as np\n",
        "#import cPickle as pickle\n",
        "import pickle\n",
        "import gym"
      ],
      "execution_count": 0,
      "outputs": []
    },
    {
      "metadata": {
        "id": "OBDGXWGIb6of",
        "colab_type": "code",
        "colab": {}
      },
      "cell_type": "code",
      "source": [
        "# hyperparameters\n",
        "H = 200 # number of hidden layer neurons\n",
        "batch_size = 10 # every how many episodes to do a param update?\n",
        "learning_rate = 1e-4\n",
        "gamma = 0.99 # discount factor for reward\n",
        "decay_rate = 0.99 # decay factor for RMSProp leaky sum of grad^2\n",
        "resume = False # resume from previous checkpoint?\n",
        "render = False"
      ],
      "execution_count": 0,
      "outputs": []
    },
    {
      "metadata": {
        "id": "0Yls6Fr3b6oi",
        "colab_type": "code",
        "colab": {}
      },
      "cell_type": "code",
      "source": [
        "# model initialization\n",
        "D = 80 * 80 # input dimensionality: 80x80 grid\n",
        "if resume:\n",
        "    model = pickle.load(open('save.p', 'rb'))\n",
        "else:\n",
        "    model = {}\n",
        "    model['W1'] = np.random.randn(H,D) / np.sqrt(D) # \"Xavier\" initialization\n",
        "    model['W2'] = np.random.randn(H) / np.sqrt(H)"
      ],
      "execution_count": 0,
      "outputs": []
    },
    {
      "metadata": {
        "id": "PNVOhSmzb6ok",
        "colab_type": "code",
        "colab": {}
      },
      "cell_type": "code",
      "source": [
        "#update buffers that add up gradients over a batch\n",
        "#grad_buffer = { k : np.zeros_like(v) for k,v in model.iteritems() } \n",
        "grad_buffer = {k:np.zeros_like(v) for k,v in model.items()}     # python 3 対応のため書き換え\n",
        "\n",
        "#rmsprop memory\n",
        "#rmsprop_cache = { k : np.zeros_like(v) for k,v in model.iteritems() }\n",
        "rmsprop_cache = {k:np.zeros_like(v) for k,v in model.items()}"
      ],
      "execution_count": 0,
      "outputs": []
    },
    {
      "metadata": {
        "id": "bsLQxvZVb6on",
        "colab_type": "code",
        "colab": {}
      },
      "cell_type": "code",
      "source": [
        "def sigmoid(x):\n",
        "    return 1.0 / (1.0 + np.exp(-x)) # sigmoid \"squashing\" function to interval [0,1]\n",
        "\n",
        "def prepro(I):\n",
        "    \"\"\" prepro 210x160x3 uint8 frame into 6400 (80x80) 1D float vector \"\"\"\n",
        "    I = I[35:195] # crop\n",
        "    I = I[::2,::2,0] # downsample by factor of 2\n",
        "    I[I == 144] = 0 # erase background (background type 1)\n",
        "    I[I == 109] = 0 # erase background (background type 2)\n",
        "    I[I != 0] = 1 # everything else (paddles, ball) just set to 1\n",
        "    return I.astype(np.float).ravel()"
      ],
      "execution_count": 0,
      "outputs": []
    },
    {
      "metadata": {
        "id": "Kcu9Z-Eib6op",
        "colab_type": "code",
        "colab": {}
      },
      "cell_type": "code",
      "source": [
        "def discount_rewards(r):\n",
        "    \"\"\" take 1D float array of rewards and compute discounted reward \"\"\"\n",
        "    discounted_r = np.zeros_like(r)\n",
        "    running_add = 0\n",
        "    for t in reversed(xrange(0, r.size)):\n",
        "        if r[t] != 0: running_add = 0 # reset the sum, since this was a game boundary (pong specific!)\n",
        "        running_add = running_add * gamma + r[t]\n",
        "        discounted_r[t] = running_add\n",
        "    return discounted_r"
      ],
      "execution_count": 0,
      "outputs": []
    },
    {
      "metadata": {
        "id": "kyswO1-1b6os",
        "colab_type": "code",
        "colab": {}
      },
      "cell_type": "code",
      "source": [
        "def policy_forward(x):\n",
        "    h = np.dot(model['W1'], x)\n",
        "    h[h<0] = 0 # ReLU nonlinearity\n",
        "    logp = np.dot(model['W2'], h)\n",
        "    p = sigmoid(logp)\n",
        "    return p, h # return probability of taking action 2, and hidden state"
      ],
      "execution_count": 0,
      "outputs": []
    },
    {
      "metadata": {
        "id": "6Auyj8-mb6ou",
        "colab_type": "code",
        "colab": {}
      },
      "cell_type": "code",
      "source": [
        "def policy_backward(eph, epdlogp):\n",
        "    \"\"\" backward pass. (eph is array of intermediate hidden states) \"\"\"\n",
        "    dW2 = np.dot(eph.T, epdlogp).ravel()\n",
        "    dh = np.outer(epdlogp, model['W2'])\n",
        "    dh[eph <= 0] = 0 # backpro prelu\n",
        "    dW1 = np.dot(dh.T, epx)\n",
        "    return {'W1':dW1, 'W2':dW2}"
      ],
      "execution_count": 0,
      "outputs": []
    },
    {
      "metadata": {
        "id": "D-sC9jofb6ox",
        "colab_type": "code",
        "colab": {}
      },
      "cell_type": "code",
      "source": [
        "env = gym.make(\"Pong-v0\")\n",
        "observation = env.reset()\n",
        "prev_x = None # used in computing the difference frame\n",
        "xs,hs,dlogps,drs = [],[],[],[]\n",
        "running_reward = None\n",
        "reward_sum = 0\n",
        "episode_number = 0"
      ],
      "execution_count": 0,
      "outputs": []
    },
    {
      "metadata": {
        "id": "MtBph2A2b6oz",
        "colab_type": "text"
      },
      "cell_type": "markdown",
      "source": [
        "---\n",
        "\n",
        "<font size=\"+2\" color=\"red\">注:以下を実行すると無限ループです。適当なところで止めてください</font>\n"
      ]
    },
    {
      "metadata": {
        "scrolled": false,
        "id": "FA41xKp6b6o0",
        "colab_type": "code",
        "colab": {}
      },
      "cell_type": "code",
      "source": [
        "while True:\n",
        "    if render: \n",
        "        env.render()\n",
        "\n",
        "    # preprocess the observation, set input to network to be difference image\n",
        "    cur_x = prepro(observation)\n",
        "    x = cur_x - prev_x if prev_x is not None else np.zeros(D)\n",
        "    prev_x = cur_x\n",
        "\n",
        "    # forward the policy network and sample an action from the returned probability\n",
        "    aprob, h = policy_forward(x)\n",
        "    action = 2 if np.random.uniform() < aprob else 3 # roll the dice!\n",
        "\n",
        "    # record various intermediates (needed later for backprop)\n",
        "    xs.append(x) # observation\n",
        "    hs.append(h) # hidden state\n",
        "    y = 1 if action == 2 else 0 # a \"fake label\"\n",
        "    dlogps.append(y - aprob) \n",
        "    # grad that encourages the action that was taken to be taken\n",
        "    #(see http://cs231n.github.io/neural-networks-2/#losses if confused)\n",
        "\n",
        "    # step the environment and get new measurements\n",
        "    observation, reward, done, info = env.step(action)\n",
        "    reward_sum += reward\n",
        "\n",
        "    drs.append(reward) # record reward (has to be done after we call step() \n",
        "                       #  to get reward for previous action)\n",
        "\n",
        "    if done: # an episode finished\n",
        "        episode_number += 1\n",
        "\n",
        "        # stack together all inputs, hidden states, action gradients, and rewards for this episode\n",
        "        epx = np.vstack(xs)\n",
        "        eph = np.vstack(hs)\n",
        "        epdlogp = np.vstack(dlogps)\n",
        "        epr = np.vstack(drs)\n",
        "        xs,hs,dlogps,drs = [],[],[],[] # reset array memory\n",
        "\n",
        "        # compute the discounted reward backwards through time\n",
        "        discounted_epr = discount_rewards(epr)\n",
        "        # standardize the rewards to be unit normal (helps control the gradient estimator variance)\n",
        "        discounted_epr -= np.mean(discounted_epr)\n",
        "        discounted_epr /= np.std(discounted_epr)\n",
        "\n",
        "        epdlogp *= discounted_epr # modulate the gradient with advantage (PG magic happens right here.)\n",
        "        grad = policy_backward(eph, epdlogp)\n",
        "        for k in model: grad_buffer[k] += grad[k] # accumulate grad over batch\n",
        "\n",
        "        # perform rmsprop parameter update every batch_size episodes\n",
        "        if episode_number % batch_size == 0:\n",
        "            for k,v in model.items():\n",
        "                g = grad_buffer[k] # gradient\n",
        "                rmsprop_cache[k] = decay_rate * rmsprop_cache[k] + (1 - decay_rate) * g**2\n",
        "                model[k] += learning_rate * g / (np.sqrt(rmsprop_cache[k]) + 1e-5)\n",
        "                grad_buffer[k] = np.zeros_like(v) # reset batch gradient buffer\n",
        "\n",
        "        # boring book-keeping\n",
        "        running_reward = reward_sum if running_reward is None else running_reward * 0.99 + reward_sum * 0.01\n",
        "        print('resetting env. episode reward total was %f. running mean: %f' % (reward_sum, running_reward))\n",
        "        if episode_number % 100 == 0: pickle.dump(model, open('save.p', 'wb'))\n",
        "        reward_sum = 0\n",
        "        observation = env.reset() # reset env\n",
        "        prev_x = None\n",
        "\n",
        "    if reward != 0: # Pong has either +1 or -1 reward exactly when game ends.\n",
        "        print('ep %d: game finished, reward: %f' % (episode_number, reward), end='')\n",
        "        print('') if reward == -1 else ' !!!!!!!!'"
      ],
      "execution_count": 0,
      "outputs": []
    },
    {
      "metadata": {
        "id": "B4iJWPW0b6o3",
        "colab_type": "code",
        "colab": {}
      },
      "cell_type": "code",
      "source": [
        ""
      ],
      "execution_count": 0,
      "outputs": []
    }
  ]
}