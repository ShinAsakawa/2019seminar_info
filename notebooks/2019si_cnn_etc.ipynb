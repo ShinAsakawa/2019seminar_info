{
  "nbformat": 4,
  "nbformat_minor": 0,
  "metadata": {
    "colab": {
      "name": "2019si_cnn_etc.ipynb",
      "version": "0.3.2",
      "provenance": [],
      "include_colab_link": true
    },
    "kernelspec": {
      "display_name": "Python 3",
      "language": "python",
      "name": "python3"
    }
  },
  "cells": [
    {
      "cell_type": "markdown",
      "metadata": {
        "id": "view-in-github",
        "colab_type": "text"
      },
      "source": [
        "<a href=\"https://colab.research.google.com/github/ShinAsakawa/2019seminar_info/blob/master/notebooks/2019si_cnn_etc.ipynb\" target=\"_parent\"><img src=\"https://colab.research.google.com/assets/colab-badge.svg\" alt=\"Open In Colab\"/></a>"
      ]
    },
    {
      "metadata": {
        "id": "JOO-sVqFqKih",
        "colab_type": "text"
      },
      "cell_type": "markdown",
      "source": [
        "# CNNを用いた画像認識の基礎"
      ]
    },
    {
      "metadata": {
        "id": "4CQZu-BGqKij",
        "colab_type": "code",
        "colab": {},
        "outputId": "df00af56-bbd5-4c93-ffdb-afe6306ff2ac"
      },
      "cell_type": "code",
      "source": [
        "!ls k*.npz"
      ],
      "execution_count": 0,
      "outputs": [
        {
          "output_type": "stream",
          "text": [
            "kmnist-test-imgs.npz    kmnist-train-imgs.npz\r\n",
            "kmnist-test-labels.npz  kmnist-train-labels.npz\r\n"
          ],
          "name": "stdout"
        }
      ]
    },
    {
      "metadata": {
        "id": "ja2PK3LeqKip",
        "colab_type": "code",
        "colab": {},
        "outputId": "54fad71e-58fc-463b-c0f0-f8f30ec929cb"
      },
      "cell_type": "code",
      "source": [
        "import numpy as np\n",
        "import matplotlib.pyplot as plt\n",
        "%matplotlib inline\n",
        "X = np.load('kmnist-test-imgs.npz')['arr_0'][0]\n",
        "print(X.shape)\n",
        "plt.imshow(X,cmap='gray')"
      ],
      "execution_count": 0,
      "outputs": [
        {
          "output_type": "stream",
          "text": [
            "(28, 28)\n"
          ],
          "name": "stdout"
        },
        {
          "output_type": "execute_result",
          "data": {
            "text/plain": [
              "<matplotlib.image.AxesImage at 0x115f90630>"
            ]
          },
          "metadata": {
            "tags": []
          },
          "execution_count": 5
        },
        {
          "output_type": "display_data",
          "data": {
            "image/png": "[encoded data removed]",
            "text/plain": [
              "<Figure size 432x288 with 1 Axes>"
            ]
          },
          "metadata": {
            "tags": [],
            "needs_background": "light"
          }
        }
      ]
    },
    {
      "metadata": {
        "id": "index",
        "colab_type": "code",
        "colab": {},
        "outputId": "26fc33d2-ae8a-48b6-e15b-fce548bac20a"
      },
      "cell_type": "code",
      "source": [
        "import numpy as np\n",
        "import matplotlib.pyplot as plt\n",
        "import urllib.request\n",
        "%matplotlib inline \n",
        "\n",
        "# ごくシンプルな畳み込み層を定義しています\n",
        "class Conv:\n",
        "    # シンプルな例を考えるため、Wは3x3で固定し、後の節で扱うstridesやpaddingは考えません\n",
        "    def __init__(self, W):\n",
        "        self.W = W\n",
        "    def f_prop(self, X):\n",
        "        out = np.zeros((X.shape[0]-2, X.shape[1]-2))\n",
        "        for i in range(out.shape[0]):\n",
        "            for j in range(out.shape[1]):\n",
        "                x = X[i:i+3, j:j+3]\n",
        "                # 要素ごとの積の合計をとっています\n",
        "                out[i,j] = np.dot(self.W.flatten(), x.flatten())\n",
        "        return out\n",
        "\n",
        "X = np.load('kmnist-test-imgs.npz')['arr_0'][0]\n",
        "print(X.shape)\n",
        "plt.title(\"The original image\", fontsize=12)\n",
        "plt.imshow(X,cmap='gray')"
      ],
      "execution_count": 0,
      "outputs": [
        {
          "output_type": "stream",
          "text": [
            "(28, 28)\n"
          ],
          "name": "stdout"
        },
        {
          "output_type": "execute_result",
          "data": {
            "text/plain": [
              "Text(0.5, 1.0, 'The original image')"
            ]
          },
          "metadata": {
            "tags": []
          },
          "execution_count": 6
        },
        {
          "output_type": "execute_result",
          "data": {
            "text/plain": [
              "<matplotlib.image.AxesImage at 0x115ff4cf8>"
            ]
          },
          "metadata": {
            "tags": []
          },
          "execution_count": 6
        },
        {
          "output_type": "display_data",
          "data": {
            "image/png": "[encoded data removed]",
            "text/plain": [
              "<Figure size 432x288 with 1 Axes>"
            ]
          },
          "metadata": {
            "tags": [],
            "needs_background": "light"
          }
        }
      ]
    },
    {
      "metadata": {
        "id": "answer",
        "scrolled": false,
        "colab_type": "code",
        "colab": {},
        "outputId": "99918181-3d96-4539-977e-1acf956f00fd"
      },
      "cell_type": "code",
      "source": [
        "import numpy as np\n",
        "import matplotlib.pyplot as plt\n",
        "import urllib.request\n",
        "%matplotlib inline\n",
        "\n",
        "# ごくシンプルな畳み込み層を定義しています\n",
        "class Conv:\n",
        "    # シンプルな例を考えるため、Wは3x3で固定し、後の節で扱うstridesやpaddingは考えません\n",
        "    def __init__(self, W):\n",
        "        self.W = W\n",
        "    def f_prop(self, X):\n",
        "        out = np.zeros((X.shape[0]-2, X.shape[1]-2))\n",
        "        for i in range(out.shape[0]):\n",
        "            for j in range(out.shape[1]):\n",
        "                x = X[i:i+3, j:j+3]\n",
        "                # 要素ごとの積の合計をとっています\n",
        "                out[i,j] = np.dot(self.W.flatten(), x.flatten())\n",
        "        return out\n",
        "\n",
        "X = np.load('kmnist-test-imgs.npz')['arr_0'][0]\n",
        "print(X.shape)\n",
        "plt.title(\"The original image\", fontsize=12)\n",
        "plt.imshow(X,cmap='gray')    \n",
        "plt.show()\n",
        "\n",
        "# カーネルを適切に設定してください\n",
        "W1 = np.array([[0,1,0],\n",
        "               [0,1,0],\n",
        "               [0,1,0]])\n",
        "W2 = np.array([[0,0,0],\n",
        "               [1,1,1],\n",
        "               [0,0,0]])\n",
        "W3 = np.array([[1,0,0],\n",
        "               [0,1,0],\n",
        "               [0,0,1]])\n",
        "W4 = np.array([[0,0,1],\n",
        "               [0,1,0],\n",
        "               [1,0,0]])\n",
        "\n",
        "plt.subplot(1,4,1); plt.imshow(W1,cmap='gray')\n",
        "plt.subplot(1,4,2); plt.imshow(W2,cmap='gray')\n",
        "plt.subplot(1,4,3); plt.imshow(W3,cmap='gray')\n",
        "plt.subplot(1,4,4); plt.imshow(W4,cmap='gray')\n",
        "plt.suptitle(\"kernel\", fontsize=12)\n",
        "plt.show()\n",
        "\n",
        "# 畳み込み\n",
        "conv1 = Conv(W1); C1 = conv1.f_prop(X)\n",
        "conv2 = Conv(W2); C2 = conv2.f_prop(X)\n",
        "conv3 = Conv(W3); C3 = conv3.f_prop(X)\n",
        "conv4 = Conv(W4); C4 = conv4.f_prop(X)\n",
        "\n",
        "plt.subplot(1,4,1); plt.imshow(C1,cmap='gray')\n",
        "plt.subplot(1,4,2); plt.imshow(C2,cmap='gray')\n",
        "plt.subplot(1,4,3); plt.imshow(C3,cmap='gray')\n",
        "plt.subplot(1,4,4); plt.imshow(C4,cmap='gray')\n",
        "plt.suptitle(\"Convolution result\", fontsize=12)\n",
        "plt.show()"
      ],
      "execution_count": 0,
      "outputs": [
        {
          "output_type": "stream",
          "text": [
            "(28, 28)\n"
          ],
          "name": "stdout"
        },
        {
          "output_type": "execute_result",
          "data": {
            "text/plain": [
              "Text(0.5, 1.0, 'The original image')"
            ]
          },
          "metadata": {
            "tags": []
          },
          "execution_count": 8
        },
        {
          "output_type": "execute_result",
          "data": {
            "text/plain": [
              "<matplotlib.image.AxesImage at 0x11611a160>"
            ]
          },
          "metadata": {
            "tags": []
          },
          "execution_count": 8
        },
        {
          "output_type": "display_data",
          "data": {
            "image/png": "[encoded data removed]",
            "text/plain": [
              "<Figure size 432x288 with 1 Axes>"
            ]
          },
          "metadata": {
            "tags": [],
            "needs_background": "light"
          }
        },
        {
          "output_type": "execute_result",
          "data": {
            "text/plain": [
              "<matplotlib.axes._subplots.AxesSubplot at 0x116129f60>"
            ]
          },
          "metadata": {
            "tags": []
          },
          "execution_count": 8
        },
        {
          "output_type": "execute_result",
          "data": {
            "text/plain": [
              "<matplotlib.image.AxesImage at 0x1162397b8>"
            ]
          },
          "metadata": {
            "tags": []
          },
          "execution_count": 8
        },
        {
          "output_type": "execute_result",
          "data": {
            "text/plain": [
              "<matplotlib.axes._subplots.AxesSubplot at 0x116239710>"
            ]
          },
          "metadata": {
            "tags": []
          },
          "execution_count": 8
        },
        {
          "output_type": "execute_result",
          "data": {
            "text/plain": [
              "<matplotlib.image.AxesImage at 0x11620d128>"
            ]
          },
          "metadata": {
            "tags": []
          },
          "execution_count": 8
        },
        {
          "output_type": "execute_result",
          "data": {
            "text/plain": [
              "<matplotlib.axes._subplots.AxesSubplot at 0x11620d3c8>"
            ]
          },
          "metadata": {
            "tags": []
          },
          "execution_count": 8
        },
        {
          "output_type": "execute_result",
          "data": {
            "text/plain": [
              "<matplotlib.image.AxesImage at 0x116225240>"
            ]
          },
          "metadata": {
            "tags": []
          },
          "execution_count": 8
        },
        {
          "output_type": "execute_result",
          "data": {
            "text/plain": [
              "<matplotlib.axes._subplots.AxesSubplot at 0x116225278>"
            ]
          },
          "metadata": {
            "tags": []
          },
          "execution_count": 8
        },
        {
          "output_type": "execute_result",
          "data": {
            "text/plain": [
              "<matplotlib.image.AxesImage at 0x1161c5ac8>"
            ]
          },
          "metadata": {
            "tags": []
          },
          "execution_count": 8
        },
        {
          "output_type": "execute_result",
          "data": {
            "text/plain": [
              "Text(0.5, 0.98, 'kernel')"
            ]
          },
          "metadata": {
            "tags": []
          },
          "execution_count": 8
        },
        {
          "output_type": "display_data",
          "data": {
            "image/png": "[encoded data removed]",
            "text/plain": [
              "<Figure size 432x288 with 4 Axes>"
            ]
          },
          "metadata": {
            "tags": [],
            "needs_background": "light"
          }
        },
        {
          "output_type": "execute_result",
          "data": {
            "text/plain": [
              "<matplotlib.axes._subplots.AxesSubplot at 0x1194db668>"
            ]
          },
          "metadata": {
            "tags": []
          },
          "execution_count": 8
        },
        {
          "output_type": "execute_result",
          "data": {
            "text/plain": [
              "<matplotlib.image.AxesImage at 0x11954a4e0>"
            ]
          },
          "metadata": {
            "tags": []
          },
          "execution_count": 8
        },
        {
          "output_type": "execute_result",
          "data": {
            "text/plain": [
              "<matplotlib.axes._subplots.AxesSubplot at 0x11954a438>"
            ]
          },
          "metadata": {
            "tags": []
          },
          "execution_count": 8
        },
        {
          "output_type": "execute_result",
          "data": {
            "text/plain": [
              "<matplotlib.image.AxesImage at 0x119573d30>"
            ]
          },
          "metadata": {
            "tags": []
          },
          "execution_count": 8
        },
        {
          "output_type": "execute_result",
          "data": {
            "text/plain": [
              "<matplotlib.axes._subplots.AxesSubplot at 0x119573c18>"
            ]
          },
          "metadata": {
            "tags": []
          },
          "execution_count": 8
        },
        {
          "output_type": "execute_result",
          "data": {
            "text/plain": [
              "<matplotlib.image.AxesImage at 0x1195a4550>"
            ]
          },
          "metadata": {
            "tags": []
          },
          "execution_count": 8
        },
        {
          "output_type": "execute_result",
          "data": {
            "text/plain": [
              "<matplotlib.axes._subplots.AxesSubplot at 0x1195a4518>"
            ]
          },
          "metadata": {
            "tags": []
          },
          "execution_count": 8
        },
        {
          "output_type": "execute_result",
          "data": {
            "text/plain": [
              "<matplotlib.image.AxesImage at 0x1195ccdd8>"
            ]
          },
          "metadata": {
            "tags": []
          },
          "execution_count": 8
        },
        {
          "output_type": "execute_result",
          "data": {
            "text/plain": [
              "Text(0.5, 0.98, 'Convolution result')"
            ]
          },
          "metadata": {
            "tags": []
          },
          "execution_count": 8
        },
        {
          "output_type": "display_data",
          "data": {
            "image/png": "[encoded data removed]",
            "text/plain": [
              "<Figure size 432x288 with 4 Axes>"
            ]
          },
          "metadata": {
            "tags": [],
            "needs_background": "light"
          }
        }
      ]
    },
    {
      "metadata": {
        "courseId": 5100,
        "exerciseId": "ByHUuOsTSf",
        "id": "code_session_name",
        "important": false,
        "isDL": false,
        "timeoutSecs": 10,
        "colab_type": "text"
      },
      "cell_type": "markdown",
      "source": [
        "### プーリング"
      ]
    }
  ]
}