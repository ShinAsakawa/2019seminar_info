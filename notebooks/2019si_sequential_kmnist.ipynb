{
  "nbformat": 4,
  "nbformat_minor": 0,
  "metadata": {
    "colab": {
      "name": "2019si_sequential-kmnist.ipynb",
      "version": "0.3.2",
      "provenance": [],
      "collapsed_sections": [],
      "include_colab_link": true
    },
    "kernelspec": {
      "display_name": "Python 3",
      "language": "python",
      "name": "python3"
    }
  },
  "cells": [
    {
      "cell_type": "markdown",
      "metadata": {
        "id": "view-in-github",
        "colab_type": "text"
      },
      "source": [
        "<a href=\"https://colab.research.google.com/github/ShinAsakawa/2019seminar_info/blob/master/notebooks/2019si_sequential_kmnist.ipynb\" target=\"_parent\"><img src=\"https://colab.research.google.com/assets/colab-badge.svg\" alt=\"Open In Colab\"/></a>"
      ]
    },
    {
      "metadata": {
        "id": "OTxuWwuzKkxg",
        "colab_type": "text"
      },
      "cell_type": "markdown",
      "source": [
        "<center>\n",
        "<h1>[Python で 超実習ディープラーニング](https://www.seminar-info.jp/entry/seminars/view/1/4174)</h1>\n",
        "<h3><strong>実践！ 強化学習・画像認識・自然言語処理・ロボティクス</strong></h3>\n",
        "</center>\n",
        "\n",
        "<center>\n",
        "![](https://www.seminar-info.jp/entry/img/logo_ov.jpg)\n",
        "</center>\n",
        "\n",
        "<div align='right'>\n",
        "<a href='mailto:asakawa@ieee.org'>Shin Aasakawa</a>, all rights reserved.<br>\n",
        "Date: 15/Mar/2019<br>\n",
        " MIT license\n",
        "</div>"
      ]
    },
    {
      "metadata": {
        "id": "cGP9bv3dKkxi",
        "colab_type": "code",
        "colab": {}
      },
      "cell_type": "code",
      "source": [
        "\"\"\"\n",
        "[Original](mnist_hierarchical_rnn.py)\n",
        "\n",
        "手書き文字データセット kmnist を系列処理とみなしてリカレントニューラルネットワークによる\n",
        "系列処理で認識精度を実習する\n",
        "\"\"\"\n",
        "import numpy as np\n",
        "import keras\n",
        "from keras.layers import Dense\n",
        "from keras.layers import LSTM\n",
        "from keras.models import Sequential\n",
        "\n",
        "# Training parameters.\n",
        "batch_size = 32\n",
        "num_classes = 10\n",
        "epochs = 5"
      ],
      "execution_count": 0,
      "outputs": []
    },
    {
      "metadata": {
        "id": "Tgt2Yq0JKkxo",
        "colab_type": "code",
        "colab": {}
      },
      "cell_type": "code",
      "source": [
        "# データの入手が未だの場合は以下の行頭の # を削除して本セルを実行してください\n",
        "#!wget http://codh.rois.ac.jp/kmnist/dataset/kmnist/kmnist-train-imgs.npz\n",
        "#!wget http://codh.rois.ac.jp/kmnist/dataset/kmnist/kmnist-train-labels.npz \n",
        "#!wget http://codh.rois.ac.jp/kmnist/dataset/kmnist/kmnist-test-imgs.npz\n",
        "#!wget http://codh.rois.ac.jp/kmnist/dataset/kmnist/kmnist-test-labels.npz"
      ],
      "execution_count": 0,
      "outputs": []
    },
    {
      "metadata": {
        "id": "-pe5KgHUKkxs",
        "colab_type": "code",
        "outputId": "687383e5-09ad-4693-db62-f5c47c18c386",
        "colab": {
          "base_uri": "https://localhost:8080/",
          "height": 34
        }
      },
      "cell_type": "code",
      "source": [
        "# 直下行の N=10000 は実習の都合で実際のデータより少なくして学習時間を短くするためです\n",
        "# 実際には全データ，すなわち N=60000 を使って評価する必要があります。\n",
        "N=10000\n",
        "X_train = np.load('kmnist-train-imgs.npz')['arr_0'][:N].reshape(-1,28,28)\n",
        "X_test = np.load('kmnist-test-imgs.npz')['arr_0'].reshape(-1,28,28)\n",
        "y_train = np.load('kmnist-train-labels.npz')['arr_0'][:N]\n",
        "y_test = np.load('kmnist-test-labels.npz')['arr_0']\n",
        "X_train.shape, y_train.shape, X_test.shape, y_test.shape"
      ],
      "execution_count": 0,
      "outputs": [
        {
          "output_type": "execute_result",
          "data": {
            "text/plain": [
              "((10000, 28, 28), (10000,), (10000, 28, 28), (10000,))"
            ]
          },
          "metadata": {
            "tags": []
          },
          "execution_count": 5
        }
      ]
    },
    {
      "metadata": {
        "id": "RA-AtUTaKkxw",
        "colab_type": "code",
        "outputId": "31839e88-7dd2-4242-b269-fca395f54a6a",
        "colab": {
          "base_uri": "https://localhost:8080/",
          "height": 68
        }
      },
      "cell_type": "code",
      "source": [
        "# 入出力を keras に入力できるように整形します\n",
        "x_train = X_train.astype('float32')\n",
        "x_test = X_test.astype('float32')\n",
        "x_train /= 255\n",
        "x_test /= 255\n",
        "print('x_train shape:', x_train.shape)\n",
        "print(x_train.shape[0], 'train samples')\n",
        "print(x_test.shape[0], 'test samples')\n",
        "\n",
        "# Converts class vectors to binary class matrices.\n",
        "y_train = keras.utils.to_categorical(y_train, num_classes)\n",
        "y_test = keras.utils.to_categorical(y_test, num_classes)"
      ],
      "execution_count": 0,
      "outputs": [
        {
          "output_type": "stream",
          "text": [
            "x_train shape: (10000, 28, 28)\n",
            "10000 train samples\n",
            "10000 test samples\n"
          ],
          "name": "stdout"
        }
      ]
    },
    {
      "metadata": {
        "id": "jt4Y4BlPKkxz",
        "colab_type": "code",
        "colab": {}
      },
      "cell_type": "code",
      "source": [
        "model = Sequential()   # モデルの作成\n",
        "model.add(LSTM(32, input_shape=(28, 28), return_sequences=True))\n",
        "model.add(LSTM(16, return_sequences=False))\n",
        "model.add(Dense(num_classes, activation='softmax'))\n",
        "model.compile(loss='categorical_crossentropy',\n",
        "              optimizer='rmsprop',\n",
        "              metrics=['accuracy'])"
      ],
      "execution_count": 0,
      "outputs": []
    },
    {
      "metadata": {
        "id": "C5TcLzchKkx1",
        "colab_type": "code",
        "outputId": "bdf36367-4973-4be1-d321-1f6acbb3b4da",
        "colab": {
          "base_uri": "https://localhost:8080/",
          "height": 238
        }
      },
      "cell_type": "code",
      "source": [
        "model.summary()  # 作成したモデルほ表示"
      ],
      "execution_count": 0,
      "outputs": [
        {
          "output_type": "stream",
          "text": [
            "_________________________________________________________________\n",
            "Layer (type)                 Output Shape              Param #   \n",
            "=================================================================\n",
            "lstm_5 (LSTM)                (None, 28, 32)            7808      \n",
            "_________________________________________________________________\n",
            "lstm_6 (LSTM)                (None, 16)                3136      \n",
            "_________________________________________________________________\n",
            "dense_2 (Dense)              (None, 10)                170       \n",
            "=================================================================\n",
            "Total params: 11,114\n",
            "Trainable params: 11,114\n",
            "Non-trainable params: 0\n",
            "_________________________________________________________________\n"
          ],
          "name": "stdout"
        }
      ]
    },
    {
      "metadata": {
        "id": "BEs6-npWKkx5",
        "colab_type": "code",
        "outputId": "45cd6d0c-449b-4b80-aa8f-3ba58d333c31",
        "colab": {
          "base_uri": "https://localhost:8080/",
          "height": 496
        }
      },
      "cell_type": "code",
      "source": [
        "# 訓練の開始\n",
        "epochs = 10\n",
        "model.fit(x_train, y_train,\n",
        "          batch_size=batch_size,\n",
        "          epochs=epochs,\n",
        "          verbose=1,\n",
        "          validation_data=(x_test, y_test))\n",
        "\n",
        "# Evaluation.\n",
        "scores = model.evaluate(x_test, y_test, verbose=True)\n",
        "print('Test loss:', scores[0])\n",
        "print('Test accuracy:', scores[1])"
      ],
      "execution_count": 0,
      "outputs": [
        {
          "output_type": "stream",
          "text": [
            "WARNING:tensorflow:From /usr/local/lib/python3.6/dist-packages/tensorflow/python/ops/math_ops.py:3066: to_int32 (from tensorflow.python.ops.math_ops) is deprecated and will be removed in a future version.\n",
            "Instructions for updating:\n",
            "Use tf.cast instead.\n",
            "Train on 10000 samples, validate on 10000 samples\n",
            "Epoch 1/10\n",
            "10000/10000 [==============================] - 13s 1ms/step - loss: 1.6350 - acc: 0.4900 - val_loss: 1.5843 - val_acc: 0.4688\n",
            "Epoch 2/10\n",
            "10000/10000 [==============================] - 11s 1ms/step - loss: 1.0421 - acc: 0.6866 - val_loss: 1.4250 - val_acc: 0.5405\n",
            "Epoch 3/10\n",
            "10000/10000 [==============================] - 11s 1ms/step - loss: 0.8423 - acc: 0.7438 - val_loss: 1.2842 - val_acc: 0.6049\n",
            "Epoch 4/10\n",
            "10000/10000 [==============================] - 12s 1ms/step - loss: 0.7212 - acc: 0.7808 - val_loss: 1.1883 - val_acc: 0.6280\n",
            "Epoch 5/10\n",
            "10000/10000 [==============================] - 11s 1ms/step - loss: 0.6391 - acc: 0.8020 - val_loss: 1.1172 - val_acc: 0.6548\n",
            "Epoch 6/10\n",
            "10000/10000 [==============================] - 11s 1ms/step - loss: 0.5761 - acc: 0.8213 - val_loss: 1.0130 - val_acc: 0.6896\n",
            "Epoch 7/10\n",
            "10000/10000 [==============================] - 12s 1ms/step - loss: 0.5287 - acc: 0.8367 - val_loss: 0.9923 - val_acc: 0.6977\n",
            "Epoch 8/10\n",
            "10000/10000 [==============================] - 11s 1ms/step - loss: 0.4855 - acc: 0.8502 - val_loss: 0.9481 - val_acc: 0.7123\n",
            "Epoch 9/10\n",
            "10000/10000 [==============================] - 11s 1ms/step - loss: 0.4493 - acc: 0.8611 - val_loss: 0.9276 - val_acc: 0.7172\n",
            "Epoch 10/10\n",
            "10000/10000 [==============================] - 12s 1ms/step - loss: 0.4118 - acc: 0.8743 - val_loss: 0.8765 - val_acc: 0.7327\n",
            "10000/10000 [==============================] - 2s 182us/step\n",
            "Test loss: 0.8765019125938416\n",
            "Test accuracy: 0.7327\n"
          ],
          "name": "stdout"
        }
      ]
    },
    {
      "metadata": {
        "id": "Xs8hkP2RKkx8",
        "colab_type": "code",
        "colab": {}
      },
      "cell_type": "code",
      "source": [
        ""
      ],
      "execution_count": 0,
      "outputs": []
    }
  ]
}