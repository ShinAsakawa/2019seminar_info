{
  "nbformat": 4,
  "nbformat_minor": 0,
  "metadata": {
    "colab": {
      "name": "2019si_miniXOR.ipynb",
      "version": "0.3.2",
      "provenance": [],
      "collapsed_sections": [],
      "include_colab_link": true
    },
    "kernelspec": {
      "display_name": "Python 3",
      "language": "python",
      "name": "python3"
    }
  },
  "cells": [
    {
      "cell_type": "markdown",
      "metadata": {
        "id": "view-in-github",
        "colab_type": "text"
      },
      "source": [
        "<a href=\"https://colab.research.google.com/github/ShinAsakawa/2019seminar_info/blob/master/notebooks/2019si_miniXOR.ipynb\" target=\"_parent\"><img src=\"https://colab.research.google.com/assets/colab-badge.svg\" alt=\"Open In Colab\"/></a>"
      ]
    },
    {
      "metadata": {
        "id": "0upLTzCTpbH6",
        "colab_type": "text"
      },
      "cell_type": "markdown",
      "source": [
        "<center>\n",
        "<h1>[Python で 超実習ディープラーニング](https://www.seminar-info.jp/entry/seminars/view/1/4174)</h1>\n",
        "<h3><strong>実践！ 強化学習・画像認識・自然言語処理・ロボティクス</strong></h3>\n",
        "</center>\n",
        "\n",
        "<center>\n",
        "![](https://www.seminar-info.jp/entry/img/logo_ov.jpg)\n",
        "</center>\n",
        "\n",
        "<div align='right'>\n",
        "<a href='mailto:asakawa@ieee.org'>Shin Aasakawa</a>, all rights reserved.<br>\n",
        "Date: 15/Mar/2019<br>\n",
        " MIT license\n",
        "</div>"
      ]
    },
    {
      "metadata": {
        "id": "_oo2wGt7m8Ci",
        "colab_type": "code",
        "outputId": "1c66c96d-04c4-4e51-a11f-52ce407715fc",
        "colab": {
          "base_uri": "https://localhost:8080/",
          "height": 102
        }
      },
      "cell_type": "code",
      "source": [
        "import numpy as np                                 # numpy ライブラリの輸入\n",
        "np.set_printoptions(precision=2)                   # 表示桁数の設定\n",
        "np.random.seed(109)                                 # 乱数系列の初期化\n",
        "X = np.array([ [0,0,1],[0,1,1],[1,0,1],[1,1,1] ])\n",
        "y = np.array([[0,1,1,0]]).T\n",
        "w0 = 2 * np.random.random((3,4)) - 1\n",
        "w1 = 2 * np.random.random((4,1)) - 1\n",
        "for i in range(500):\n",
        "    l1 = np.tanh(np.dot(X,w0))                     # tanh\n",
        "    #l1 = 1/(1+np.exp(-(np.dot(X,w0))))            # sigmoid\n",
        "    l2 = 1/(1+np.exp(-(np.dot(l1,w1))))\n",
        "    dl2 = (y - l2) * (l2 * (1 - l2))\n",
        "    dl1 = dl2.dot(w1.T) * (1 - l1 ** 2)            # tanh\n",
        "    #dl1 = dl2.dot(w1.T) * (11 * (1-l1))           # sigmoid\n",
        "    w1 += np.dot(l1.T, dl2)\n",
        "    w0 += np.dot(X.T, dl1)\n",
        "    print(l2.T) if i % 100 == 0 else None\n",
        "    #if np.sum(np.square(y - l2)) < 0.01:\n",
        "    #    print(i, l2.T)\n",
        "    #    break"
      ],
      "execution_count": 0,
      "outputs": [
        {
          "output_type": "stream",
          "text": [
            "[[0.26 0.61 0.22 0.54]]\n",
            "[[0.06 0.9  0.89 0.1 ]]\n",
            "[[0.03 0.95 0.94 0.05]]\n",
            "[[0.02 0.96 0.96 0.04]]\n",
            "[[0.02 0.97 0.97 0.03]]\n"
          ],
          "name": "stdout"
        }
      ]
    },
    {
      "metadata": {
        "id": "hZq65BSdn-I-",
        "colab_type": "code",
        "outputId": "0cd33f2a-1a54-4965-b4d1-c16b04b857fd",
        "colab": {
          "base_uri": "https://localhost:8080/",
          "height": 102
        }
      },
      "cell_type": "code",
      "source": [
        "# 上の例は中間層から出力層へ行くバイアス項が無いので修正\n",
        "import numpy as np\n",
        "np.set_printoptions(precision=2)\n",
        "np.random.seed()\n",
        "n_hid = 10\n",
        "X = np.array([ [0,0],[0,1],[1,0],[1,1]])\n",
        "y = np.array([[0,1,1,0]]).T\n",
        "b = np.ones((X.shape[0],1))\n",
        "w1 = 2 * np.random.random((X.shape[1]+1, n_hid)) - 1\n",
        "w2 = 2 * np.random.random((n_hid+1,y.shape[1])) - 1\n",
        "iter_max = 500\n",
        "for i in range(iter_max):\n",
        "    l1 = 1/(1+np.exp(-(np.dot(np.concatenate((X,b),axis=1),w1))))  # sigmoid\n",
        "    #l1 = np.tanh(np.dot(np.concatenate((X,b),axis=1),w1))           # tanh\n",
        "    l2 = 1/(1+np.exp(-(np.dot(np.concatenate((l1,b),axis=1),w2))))\n",
        "    #dl2 = (y - l2) * (l2 * (1 - l2))                               # sigmoid\n",
        "    dl2 = (y - l2) * (l2 - l2 **2)                                  # tanh\n",
        "    dl1 = np.dot(dl2, w2.T) * (np.concatenate((l1,b),axis=1) * (1-np.concatenate((l1,b),axis=1)))\n",
        "    w2 += np.dot(np.concatenate((l1,b),axis=1).T, dl2)\n",
        "    w1 += np.dot(np.concatenate((X,b),axis=1).T, dl1[:,:-1])\n",
        "    print(l2.T) if i % 100 == 0 else None\n",
        "#print(l2.T)"
      ],
      "execution_count": 0,
      "outputs": [
        {
          "output_type": "stream",
          "text": [
            "[[0.86 0.84 0.84 0.82]]\n",
            "[[0.45 0.52 0.55 0.49]]\n",
            "[[0.22 0.7  0.73 0.34]]\n",
            "[[0.11 0.86 0.87 0.16]]\n",
            "[[0.07 0.91 0.91 0.1 ]]\n"
          ],
          "name": "stdout"
        }
      ]
    },
    {
      "metadata": {
        "id": "_lLKYgGAz9PW",
        "colab_type": "text"
      },
      "cell_type": "markdown",
      "source": [
        "----\n",
        "\n",
        "他の手法を使うとどうなるか？\n",
        "\n",
        "## ロジスティック回帰の場合"
      ]
    },
    {
      "metadata": {
        "id": "g53m_MFjnDby",
        "colab_type": "code",
        "outputId": "195dd0de-89c2-44f6-f323-5f19b054fd12",
        "colab": {
          "base_uri": "https://localhost:8080/",
          "height": 122
        }
      },
      "cell_type": "code",
      "source": [
        "from sklearn.linear_model import LogisticRegression\n",
        "\n",
        "model = LogisticRegression()\n",
        "model.fit(X,y)\n",
        "model.score(X,y)\n",
        "model.predict(X)"
      ],
      "execution_count": 0,
      "outputs": [
        {
          "output_type": "stream",
          "text": [
            "/usr/local/lib/python3.6/dist-packages/sklearn/linear_model/logistic.py:433: FutureWarning: Default solver will be changed to 'lbfgs' in 0.22. Specify a solver to silence this warning.\n",
            "  FutureWarning)\n",
            "/usr/local/lib/python3.6/dist-packages/sklearn/utils/validation.py:761: DataConversionWarning: A column-vector y was passed when a 1d array was expected. Please change the shape of y to (n_samples, ), for example using ravel().\n",
            "  y = column_or_1d(y, warn=True)\n"
          ],
          "name": "stderr"
        },
        {
          "output_type": "execute_result",
          "data": {
            "text/plain": [
              "array([0, 0, 0, 0])"
            ]
          },
          "metadata": {
            "tags": []
          },
          "execution_count": 2
        }
      ]
    },
    {
      "metadata": {
        "id": "_uJ2JstM0NIq",
        "colab_type": "text"
      },
      "cell_type": "markdown",
      "source": [
        "---\n",
        "\n",
        "## ランダムフォレストの場合\n"
      ]
    },
    {
      "metadata": {
        "id": "x5HkRzVm0K2B",
        "colab_type": "code",
        "outputId": "7174049c-e960-4be8-9fb4-f45dbdc8c64c",
        "colab": {
          "base_uri": "https://localhost:8080/",
          "height": 122
        }
      },
      "cell_type": "code",
      "source": [
        "from sklearn.ensemble import RandomForestClassifier\n",
        "model = RandomForestClassifier()\n",
        "model.fit(X,y)\n",
        "model.score(X,y)\n",
        "model.predict(X)"
      ],
      "execution_count": 0,
      "outputs": [
        {
          "output_type": "stream",
          "text": [
            "/usr/local/lib/python3.6/dist-packages/sklearn/ensemble/forest.py:246: FutureWarning: The default value of n_estimators will change from 10 in version 0.20 to 100 in 0.22.\n",
            "  \"10 in version 0.20 to 100 in 0.22.\", FutureWarning)\n",
            "/usr/local/lib/python3.6/dist-packages/ipykernel_launcher.py:3: DataConversionWarning: A column-vector y was passed when a 1d array was expected. Please change the shape of y to (n_samples,), for example using ravel().\n",
            "  This is separate from the ipykernel package so we can avoid doing imports until\n"
          ],
          "name": "stderr"
        },
        {
          "output_type": "execute_result",
          "data": {
            "text/plain": [
              "array([0, 1, 1, 0])"
            ]
          },
          "metadata": {
            "tags": []
          },
          "execution_count": 3
        }
      ]
    },
    {
      "metadata": {
        "id": "FVX7jrrM0XXI",
        "colab_type": "text"
      },
      "cell_type": "markdown",
      "source": [
        "---\n",
        "\n",
        "## SVM の場合\n"
      ]
    },
    {
      "metadata": {
        "id": "tXjTER680WRI",
        "colab_type": "code",
        "outputId": "aa74478e-9ee9-459d-ffc0-e7bf4c078bc9",
        "colab": {
          "base_uri": "https://localhost:8080/",
          "height": 122
        }
      },
      "cell_type": "code",
      "source": [
        "from sklearn.svm import SVC\n",
        "model = SVC(kernel='rbf')\n",
        "model.fit(X,y)\n",
        "model.score(X,y)\n",
        "model.predict(X)"
      ],
      "execution_count": 0,
      "outputs": [
        {
          "output_type": "stream",
          "text": [
            "/usr/local/lib/python3.6/dist-packages/sklearn/utils/validation.py:761: DataConversionWarning: A column-vector y was passed when a 1d array was expected. Please change the shape of y to (n_samples, ), for example using ravel().\n",
            "  y = column_or_1d(y, warn=True)\n",
            "/usr/local/lib/python3.6/dist-packages/sklearn/svm/base.py:196: FutureWarning: The default value of gamma will change from 'auto' to 'scale' in version 0.22 to account better for unscaled features. Set gamma explicitly to 'auto' or 'scale' to avoid this warning.\n",
            "  \"avoid this warning.\", FutureWarning)\n"
          ],
          "name": "stderr"
        },
        {
          "output_type": "execute_result",
          "data": {
            "text/plain": [
              "array([0, 1, 1, 0])"
            ]
          },
          "metadata": {
            "tags": []
          },
          "execution_count": 4
        }
      ]
    },
    {
      "metadata": {
        "id": "1HTC6dyD0gKz",
        "colab_type": "text"
      },
      "cell_type": "markdown",
      "source": [
        "---\n",
        "\n",
        "### SVM の場合(2)"
      ]
    },
    {
      "metadata": {
        "id": "6i1a1RQR0eBm",
        "colab_type": "code",
        "outputId": "5146327e-98a5-45bc-fc6c-09d8658f1c42",
        "colab": {
          "base_uri": "https://localhost:8080/",
          "height": 122
        }
      },
      "cell_type": "code",
      "source": [
        "model = SVC(kernel='sigmoid')\n",
        "model.fit(X,y)\n",
        "model.score(X,y)\n",
        "model.predict(X)"
      ],
      "execution_count": 0,
      "outputs": [
        {
          "output_type": "stream",
          "text": [
            "/usr/local/lib/python3.6/dist-packages/sklearn/utils/validation.py:761: DataConversionWarning: A column-vector y was passed when a 1d array was expected. Please change the shape of y to (n_samples, ), for example using ravel().\n",
            "  y = column_or_1d(y, warn=True)\n",
            "/usr/local/lib/python3.6/dist-packages/sklearn/svm/base.py:196: FutureWarning: The default value of gamma will change from 'auto' to 'scale' in version 0.22 to account better for unscaled features. Set gamma explicitly to 'auto' or 'scale' to avoid this warning.\n",
            "  \"avoid this warning.\", FutureWarning)\n"
          ],
          "name": "stderr"
        },
        {
          "output_type": "execute_result",
          "data": {
            "text/plain": [
              "array([1, 1, 1, 1])"
            ]
          },
          "metadata": {
            "tags": []
          },
          "execution_count": 5
        }
      ]
    },
    {
      "metadata": {
        "id": "2lF_2a7O0oX_",
        "colab_type": "code",
        "colab": {}
      },
      "cell_type": "code",
      "source": [
        ""
      ],
      "execution_count": 0,
      "outputs": []
    }
  ]
}