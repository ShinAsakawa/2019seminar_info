{
  "nbformat": 4,
  "nbformat_minor": 0,
  "metadata": {
    "colab": {
      "name": "2019si_image_recognition_demo.ipynb",
      "version": "0.3.2",
      "provenance": [],
      "private_outputs": true,
      "collapsed_sections": [],
      "include_colab_link": true
    },
    "kernelspec": {
      "name": "python3",
      "display_name": "Python 3"
    }
  },
  "cells": [
    {
      "cell_type": "markdown",
      "metadata": {
        "id": "view-in-github",
        "colab_type": "text"
      },
      "source": [
        "<a href=\"https://colab.research.google.com/github/ShinAsakawa/2019seminar_info/blob/master/notebooks/2019si_image_recognition_demo.ipynb\" target=\"_parent\"><img src=\"https://colab.research.google.com/assets/colab-badge.svg\" alt=\"Open In Colab\"/></a>"
      ]
    },
    {
      "metadata": {
        "id": "XwV30-w9p4hK",
        "colab_type": "text"
      },
      "cell_type": "markdown",
      "source": [
        "<center>\n",
        "<h1>[Python で 超実習ディープラーニング](https://www.seminar-info.jp/entry/seminars/view/1/4174)</h1>\n",
        "<h3><strong>実践！ 強化学習・画像認識・自然言語処理・ロボティクス</strong></h3>\n",
        "</center>\n",
        "\n",
        "<center>\n",
        "![](https://www.seminar-info.jp/entry/img/logo_ov.jpg)\n",
        "</center>\n",
        "\n",
        "<div align='right'>\n",
        "<a href='mailto:asakawa@ieee.org'>Shin Aasakawa</a>, all rights reserved.<br>\n",
        "Date: 15/Mar/2019<br>\n",
        " MIT license\n",
        "</div>"
      ]
    },
    {
      "metadata": {
        "id": "qkSIv_KkS3L1",
        "colab_type": "code",
        "colab": {}
      },
      "cell_type": "code",
      "source": [
        "import numpy as np\n",
        "from keras.applications.resnet50 import ResNet50\n",
        "from keras.preprocessing import image\n",
        "from keras.applications.resnet50 import preprocess_input, decode_predictions\n",
        "\n",
        "def recognize(image_path='cat.jpg'):\n",
        "    model = ResNet50(weights='imagenet')\n",
        "    img = image.load_img(image_path, target_size=(224, 224))\n",
        "    x = image.img_to_array(img)\n",
        "    x = np.expand_dims(x, axis=0)\n",
        "    x = preprocess_input(x)\n",
        "\n",
        "    preds = model.predict(x)\n",
        "    p = decode_predictions(preds)\n",
        "    for pp in p:\n",
        "        for pp2 in pp:\n",
        "            print('{0}:{1:.05f}'.format(pp2[1],pp2[2]))"
      ],
      "execution_count": 0,
      "outputs": []
    },
    {
      "metadata": {
        "id": "wtWh4vtvb5o_",
        "colab_type": "code",
        "colab": {}
      },
      "cell_type": "code",
      "source": [
        "!wget http://img.bikebros.co.jp/vb_img/photo/topics/180213/img/07.jpg"
      ],
      "execution_count": 0,
      "outputs": []
    },
    {
      "metadata": {
        "id": "gs5Hdw-teeVe",
        "colab_type": "code",
        "colab": {}
      },
      "cell_type": "code",
      "source": [
        "recognize('07.jpg')"
      ],
      "execution_count": 0,
      "outputs": []
    },
    {
      "metadata": {
        "id": "s80NL9JNe3bu",
        "colab_type": "code",
        "colab": {}
      },
      "cell_type": "code",
      "source": [
        "!wget https://d1uzk9o9cg136f.cloudfront.net/f/16782548/rc/2018/02/26/e3b74a91b86c308f357c391a9ef88791927ef9ad_xlarge.jpg"
      ],
      "execution_count": 0,
      "outputs": []
    },
    {
      "metadata": {
        "id": "pCFai-KAfhQb",
        "colab_type": "code",
        "colab": {}
      },
      "cell_type": "code",
      "source": [
        "recognize('e3b74a91b86c308f357c391a9ef88791927ef9ad_xlarge.jpg')"
      ],
      "execution_count": 0,
      "outputs": []
    },
    {
      "metadata": {
        "id": "gX1rHfH3srIr",
        "colab_type": "code",
        "colab": {}
      },
      "cell_type": "code",
      "source": [
        ""
      ],
      "execution_count": 0,
      "outputs": []
    }
  ]
}